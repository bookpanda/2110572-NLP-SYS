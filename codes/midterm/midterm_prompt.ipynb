{
  "cells": [
    {
      "cell_type": "markdown",
      "metadata": {
        "id": "XbZWAbxnQSAy"
      },
      "source": [
        "# Setup"
      ]
    },
    {
      "cell_type": "code",
      "execution_count": 2,
      "metadata": {
        "colab": {
          "base_uri": "https://localhost:8080/"
        },
        "id": "5opS4ImR71fB",
        "outputId": "a582ec0f-00fc-42ee-9c9c-15d32390a919"
      },
      "outputs": [
        {
          "name": "stdout",
          "output_type": "stream",
          "text": [
            "Requirement already satisfied: ratelimit in /Users/idhibhatpankam/Code/courses/NLP-SYS/.venv/lib/python3.12/site-packages (2.2.1)\n",
            "\n",
            "\u001b[1m[\u001b[0m\u001b[34;49mnotice\u001b[0m\u001b[1;39;49m]\u001b[0m\u001b[39;49m A new release of pip is available: \u001b[0m\u001b[31;49m24.2\u001b[0m\u001b[39;49m -> \u001b[0m\u001b[32;49m25.0.1\u001b[0m\n",
            "\u001b[1m[\u001b[0m\u001b[34;49mnotice\u001b[0m\u001b[1;39;49m]\u001b[0m\u001b[39;49m To update, run: \u001b[0m\u001b[32;49mpip install --upgrade pip\u001b[0m\n"
          ]
        }
      ],
      "source": [
        "!pip install ratelimit"
      ]
    },
    {
      "cell_type": "code",
      "execution_count": 1,
      "metadata": {},
      "outputs": [],
      "source": [
        "import google.generativeai as genai\n",
        "from ratelimit import limits, sleep_and_retry\n",
        "from tqdm import tqdm\n",
        "from sklearn.metrics import accuracy_score\n",
        "import pandas as pd\n",
        "import re"
      ]
    },
    {
      "cell_type": "markdown",
      "metadata": {},
      "source": [
        "# Translating\n",
        "the data will be translated from TH -> EN to improve the accuracy when used on LLMs."
      ]
    },
    {
      "cell_type": "code",
      "execution_count": null,
      "metadata": {},
      "outputs": [],
      "source": [
        "# import os\n",
        "# from google.cloud import translate_v2 as translate\n",
        "\n",
        "# os.environ[\"GOOGLE_APPLICATION_CREDENTIALS\"] = \"./gcp-key.json\"\n",
        "# client = translate.Client()"
      ]
    },
    {
      "cell_type": "code",
      "execution_count": null,
      "metadata": {},
      "outputs": [],
      "source": [
        "# train_df = pd.read_csv('train.csv')\n",
        "# test_df = pd.read_csv('test.csv')\n",
        "\n",
        "# answers_train = train_df[['ID', 'answer']]\n",
        "# answers_test = test_df[['ID', 'answer']]"
      ]
    },
    {
      "cell_type": "code",
      "execution_count": null,
      "metadata": {},
      "outputs": [],
      "source": [
        "# answers_train['answer'] = answers_train['answer'].apply(lambda x: client.translate(x, source_language='th', target_language='en')['translatedText'])\n",
        "# answers_test['answer'] = answers_test['answer'].apply(lambda x: client.translate(x, source_language='th', target_language='en')['translatedText'])"
      ]
    },
    {
      "cell_type": "code",
      "execution_count": null,
      "metadata": {},
      "outputs": [],
      "source": [
        "# print(answers_train.shape, answers_test.shape, train_df.shape, test_df.shape)\n",
        "# train_df['answer'] = answers_train['answer']\n",
        "# test_df['answer'] = answers_test['answer']\n",
        "\n",
        "# train_df.to_csv('train_EN.csv', index=False)\n",
        "# test_df.to_csv('test_EN.csv', index=False)"
      ]
    },
    {
      "cell_type": "markdown",
      "metadata": {
        "id": "raYLIOwaQPhV"
      },
      "source": [
        "# Prompting"
      ]
    },
    {
      "cell_type": "code",
      "execution_count": 3,
      "metadata": {
        "id": "Xynb-zTZ_FC1"
      },
      "outputs": [],
      "source": [
        "# from google.colab import userdata\n",
        "# api_key = userdata.get('gemini_api_key')\n",
        "\n",
        "import os\n",
        "from dotenv import load_dotenv\n",
        "\n",
        "load_dotenv()\n",
        "api_key = os.getenv(\"GEMINI_API_KEY\")"
      ]
    },
    {
      "cell_type": "code",
      "execution_count": 181,
      "metadata": {
        "id": "pTdKNGXkMwDT"
      },
      "outputs": [],
      "source": [
        "genai.configure(api_key=api_key)\n",
        "generation_config = genai.GenerationConfig(\n",
        "        temperature=0.2,\n",
        ")\n",
        "\n",
        "# rate limit: 15 RPM\n",
        "# rate_limit = 15 - 1\n",
        "# model = genai.GenerativeModel(\"gemini-2.0-flash-001\", generation_config=generation_config)\n",
        "\n",
        "# rate limit: 30 RPM\n",
        "rate_limit = 30 - 1\n",
        "model = genai.GenerativeModel(\"gemini-2.0-flash-lite\", generation_config=generation_config)\n",
        "\n",
        "\n",
        "# rate limit: 10 RPM\n",
        "# rate_limit = 10 - 1\n",
        "# model = genai.GenerativeModel(\"gemini-2.0-flash-thinking-exp-01-21\", generation_config=generation_config)"
      ]
    },
    {
      "cell_type": "code",
      "execution_count": 182,
      "metadata": {
        "id": "9ruRGCHW9N1H"
      },
      "outputs": [],
      "source": [
        "@sleep_and_retry\n",
        "@limits(calls=rate_limit, period=65)\n",
        "def generate_content_with_rate_limit(prompt):\n",
        "  response = model.generate_content(prompt)\n",
        "  print(response.text)\n",
        "\n",
        "  if response.candidates:\n",
        "        return response.text\n",
        "  else:\n",
        "      raise ValueError(\"No valid candidates returned.\")"
      ]
    },
    {
      "cell_type": "code",
      "execution_count": 183,
      "metadata": {},
      "outputs": [],
      "source": [
        "train_df = pd.read_csv('train_EN.csv')\n",
        "test_df = pd.read_csv('test_EN.csv')"
      ]
    },
    {
      "cell_type": "code",
      "execution_count": 184,
      "metadata": {},
      "outputs": [
        {
          "data": {
            "text/html": [
              "<div>\n",
              "<style scoped>\n",
              "    .dataframe tbody tr th:only-of-type {\n",
              "        vertical-align: middle;\n",
              "    }\n",
              "\n",
              "    .dataframe tbody tr th {\n",
              "        vertical-align: top;\n",
              "    }\n",
              "\n",
              "    .dataframe thead th {\n",
              "        text-align: right;\n",
              "    }\n",
              "</style>\n",
              "<table border=\"1\" class=\"dataframe\">\n",
              "  <thead>\n",
              "    <tr style=\"text-align: right;\">\n",
              "      <th></th>\n",
              "      <th>ID</th>\n",
              "      <th>set</th>\n",
              "      <th>question</th>\n",
              "      <th>answer</th>\n",
              "      <th>score</th>\n",
              "    </tr>\n",
              "  </thead>\n",
              "  <tbody>\n",
              "    <tr>\n",
              "      <th>0</th>\n",
              "      <td>0</td>\n",
              "      <td>Q2</td>\n",
              "      <td>Hamtube is an online video viewing platform th...</td>\n",
              "      <td>The granularity should be low because we want ...</td>\n",
              "      <td>0.0</td>\n",
              "    </tr>\n",
              "    <tr>\n",
              "      <th>1</th>\n",
              "      <td>1</td>\n",
              "      <td>Q3</td>\n",
              "      <td>Hamtube is an online video viewing platform th...</td>\n",
              "      <td>Agree because it is collecting data from multi...</td>\n",
              "      <td>5.0</td>\n",
              "    </tr>\n",
              "    <tr>\n",
              "      <th>2</th>\n",
              "      <td>2</td>\n",
              "      <td>Q2</td>\n",
              "      <td>Hamtube is an online video viewing platform th...</td>\n",
              "      <td>Granularity should be #checkout events/ #cooki...</td>\n",
              "      <td>5.0</td>\n",
              "    </tr>\n",
              "    <tr>\n",
              "      <th>3</th>\n",
              "      <td>3</td>\n",
              "      <td>Q3</td>\n",
              "      <td>Hamtube is an online video viewing platform th...</td>\n",
              "      <td>Agree. Let X~Binomial(N,p), where p is the rat...</td>\n",
              "      <td>2.0</td>\n",
              "    </tr>\n",
              "    <tr>\n",
              "      <th>4</th>\n",
              "      <td>4</td>\n",
              "      <td>Q1</td>\n",
              "      <td>Hamtube is an online video viewing platform th...</td>\n",
              "      <td>Agreed, because A/B Testing is an effective wa...</td>\n",
              "      <td>4.5</td>\n",
              "    </tr>\n",
              "  </tbody>\n",
              "</table>\n",
              "</div>"
            ],
            "text/plain": [
              "   ID set                                           question  \\\n",
              "0   0  Q2  Hamtube is an online video viewing platform th...   \n",
              "1   1  Q3  Hamtube is an online video viewing platform th...   \n",
              "2   2  Q2  Hamtube is an online video viewing platform th...   \n",
              "3   3  Q3  Hamtube is an online video viewing platform th...   \n",
              "4   4  Q1  Hamtube is an online video viewing platform th...   \n",
              "\n",
              "                                              answer  score  \n",
              "0  The granularity should be low because we want ...    0.0  \n",
              "1  Agree because it is collecting data from multi...    5.0  \n",
              "2  Granularity should be #checkout events/ #cooki...    5.0  \n",
              "3  Agree. Let X~Binomial(N,p), where p is the rat...    2.0  \n",
              "4  Agreed, because A/B Testing is an effective wa...    4.5  "
            ]
          },
          "execution_count": 184,
          "metadata": {},
          "output_type": "execute_result"
        }
      ],
      "source": [
        "train_df.head()"
      ]
    },
    {
      "cell_type": "code",
      "execution_count": 185,
      "metadata": {},
      "outputs": [
        {
          "data": {
            "text/html": [
              "<div>\n",
              "<style scoped>\n",
              "    .dataframe tbody tr th:only-of-type {\n",
              "        vertical-align: middle;\n",
              "    }\n",
              "\n",
              "    .dataframe tbody tr th {\n",
              "        vertical-align: top;\n",
              "    }\n",
              "\n",
              "    .dataframe thead th {\n",
              "        text-align: right;\n",
              "    }\n",
              "</style>\n",
              "<table border=\"1\" class=\"dataframe\">\n",
              "  <thead>\n",
              "    <tr style=\"text-align: right;\">\n",
              "      <th></th>\n",
              "      <th>ID</th>\n",
              "      <th>set</th>\n",
              "      <th>question</th>\n",
              "      <th>answer</th>\n",
              "    </tr>\n",
              "  </thead>\n",
              "  <tbody>\n",
              "    <tr>\n",
              "      <th>0</th>\n",
              "      <td>362</td>\n",
              "      <td>Q3</td>\n",
              "      <td>Hamtube is an online video viewing platform th...</td>\n",
              "      <td>Yes, because in this problem, the variable is ...</td>\n",
              "    </tr>\n",
              "    <tr>\n",
              "      <th>1</th>\n",
              "      <td>363</td>\n",
              "      <td>Q4</td>\n",
              "      <td>Hamtube is an online video viewing platform th...</td>\n",
              "      <td>50/50 has the advantage of being able to colle...</td>\n",
              "    </tr>\n",
              "    <tr>\n",
              "      <th>2</th>\n",
              "      <td>364</td>\n",
              "      <td>Q2</td>\n",
              "      <td>Hamtube is an online video viewing platform th...</td>\n",
              "      <td>1. Number of views 2. Number of ad clicks 3. T...</td>\n",
              "    </tr>\n",
              "    <tr>\n",
              "      <th>3</th>\n",
              "      <td>365</td>\n",
              "      <td>Q3</td>\n",
              "      <td>Hamtube is an online video viewing platform th...</td>\n",
              "      <td>Agree, because a click can have two possible o...</td>\n",
              "    </tr>\n",
              "    <tr>\n",
              "      <th>4</th>\n",
              "      <td>366</td>\n",
              "      <td>Q4</td>\n",
              "      <td>Hamtube is an online video viewing platform th...</td>\n",
              "      <td>50/50 - It will take less time to collect data...</td>\n",
              "    </tr>\n",
              "  </tbody>\n",
              "</table>\n",
              "</div>"
            ],
            "text/plain": [
              "    ID set                                           question  \\\n",
              "0  362  Q3  Hamtube is an online video viewing platform th...   \n",
              "1  363  Q4  Hamtube is an online video viewing platform th...   \n",
              "2  364  Q2  Hamtube is an online video viewing platform th...   \n",
              "3  365  Q3  Hamtube is an online video viewing platform th...   \n",
              "4  366  Q4  Hamtube is an online video viewing platform th...   \n",
              "\n",
              "                                              answer  \n",
              "0  Yes, because in this problem, the variable is ...  \n",
              "1  50/50 has the advantage of being able to colle...  \n",
              "2  1. Number of views 2. Number of ad clicks 3. T...  \n",
              "3  Agree, because a click can have two possible o...  \n",
              "4  50/50 - It will take less time to collect data...  "
            ]
          },
          "execution_count": 185,
          "metadata": {},
          "output_type": "execute_result"
        }
      ],
      "source": [
        "test_df.head()"
      ]
    },
    {
      "cell_type": "code",
      "execution_count": 186,
      "metadata": {},
      "outputs": [
        {
          "data": {
            "text/plain": [
              "score\n",
              "5.00    150\n",
              "1.00     58\n",
              "0.00     50\n",
              "3.00     26\n",
              "2.00     20\n",
              "4.00     15\n",
              "0.50     10\n",
              "4.50      9\n",
              "3.50      8\n",
              "1.50      8\n",
              "2.50      5\n",
              "4.25      1\n",
              "0.75      1\n",
              "4.75      1\n",
              "Name: count, dtype: int64"
            ]
          },
          "execution_count": 186,
          "metadata": {},
          "output_type": "execute_result"
        }
      ],
      "source": [
        "train_df['score'].value_counts()"
      ]
    },
    {
      "cell_type": "code",
      "execution_count": 187,
      "metadata": {},
      "outputs": [],
      "source": [
        "# sorting sucks\n",
        "# Q1_train = train_df[train_df['set'] == 'Q1'].sort_values('score', ascending=False).reset_index(drop=True)\n",
        "# Q2_train = train_df[train_df['set'] == 'Q2'].sort_values('score', ascending=False).reset_index(drop=True)\n",
        "# Q3_train = train_df[train_df['set'] == 'Q3'].sort_values('score', ascending=False).reset_index(drop=True)\n",
        "# Q4_train = train_df[train_df['set'] == 'Q4'].sort_values('score', ascending=False).reset_index(drop=True)\n",
        "\n",
        "Q1_train = train_df[train_df['set'] == 'Q1']\n",
        "Q2_train = train_df[train_df['set'] == 'Q2']\n",
        "Q3_train = train_df[train_df['set'] == 'Q3']\n",
        "Q4_train = train_df[train_df['set'] == 'Q4']\n",
        "\n",
        "Q1_test = test_df[test_df['set'] == 'Q1']\n",
        "Q2_test = test_df[test_df['set'] == 'Q2']\n",
        "Q3_test = test_df[test_df['set'] == 'Q3']\n",
        "Q4_test = test_df[test_df['set'] == 'Q4']"
      ]
    },
    {
      "cell_type": "code",
      "execution_count": 188,
      "metadata": {},
      "outputs": [],
      "source": [
        "def get_score_counts(df: pd.DataFrame) -> pd.DataFrame:\n",
        "    q1_counts = Q1_train['score'].value_counts().reset_index()\n",
        "    q1_counts.columns = ['score', 'count_q1']\n",
        "    q2_counts = Q2_train['score'].value_counts().reset_index()\n",
        "    q2_counts.columns = ['score', 'count_q2']\n",
        "    q3_counts = Q3_train['score'].value_counts().reset_index()\n",
        "    q3_counts.columns = ['score', 'count_q3']\n",
        "    q4_counts = Q4_train['score'].value_counts().reset_index()\n",
        "    q4_counts.columns = ['score', 'count_q4']\n",
        "\n",
        "    # merge both DataFrames on the 'score' column\n",
        "    merged_counts = (\n",
        "        q1_counts\n",
        "        .merge(q2_counts, on='score', how='outer')\n",
        "        .merge(q3_counts, on='score', how='outer')\n",
        "        .merge(q4_counts, on='score', how='outer')\n",
        "        .fillna(0)  # Replace NaN with 0\n",
        "    )\n",
        "\n",
        "    merged_counts[['count_q1', 'count_q2', 'count_q3', 'count_q4']] = merged_counts[['count_q1', 'count_q2', 'count_q3', 'count_q4']].astype(int)\n",
        "\n",
        "    return merged_counts"
      ]
    },
    {
      "cell_type": "code",
      "execution_count": 189,
      "metadata": {},
      "outputs": [
        {
          "data": {
            "text/html": [
              "<div>\n",
              "<style scoped>\n",
              "    .dataframe tbody tr th:only-of-type {\n",
              "        vertical-align: middle;\n",
              "    }\n",
              "\n",
              "    .dataframe tbody tr th {\n",
              "        vertical-align: top;\n",
              "    }\n",
              "\n",
              "    .dataframe thead th {\n",
              "        text-align: right;\n",
              "    }\n",
              "</style>\n",
              "<table border=\"1\" class=\"dataframe\">\n",
              "  <thead>\n",
              "    <tr style=\"text-align: right;\">\n",
              "      <th></th>\n",
              "      <th>score</th>\n",
              "      <th>count_q1</th>\n",
              "      <th>count_q2</th>\n",
              "      <th>count_q3</th>\n",
              "      <th>count_q4</th>\n",
              "    </tr>\n",
              "  </thead>\n",
              "  <tbody>\n",
              "    <tr>\n",
              "      <th>0</th>\n",
              "      <td>0.00</td>\n",
              "      <td>2</td>\n",
              "      <td>43</td>\n",
              "      <td>4</td>\n",
              "      <td>1</td>\n",
              "    </tr>\n",
              "    <tr>\n",
              "      <th>1</th>\n",
              "      <td>0.50</td>\n",
              "      <td>7</td>\n",
              "      <td>1</td>\n",
              "      <td>0</td>\n",
              "      <td>2</td>\n",
              "    </tr>\n",
              "    <tr>\n",
              "      <th>2</th>\n",
              "      <td>0.75</td>\n",
              "      <td>0</td>\n",
              "      <td>1</td>\n",
              "      <td>0</td>\n",
              "      <td>0</td>\n",
              "    </tr>\n",
              "    <tr>\n",
              "      <th>3</th>\n",
              "      <td>1.00</td>\n",
              "      <td>39</td>\n",
              "      <td>0</td>\n",
              "      <td>9</td>\n",
              "      <td>10</td>\n",
              "    </tr>\n",
              "    <tr>\n",
              "      <th>4</th>\n",
              "      <td>1.50</td>\n",
              "      <td>7</td>\n",
              "      <td>1</td>\n",
              "      <td>0</td>\n",
              "      <td>0</td>\n",
              "    </tr>\n",
              "    <tr>\n",
              "      <th>5</th>\n",
              "      <td>2.00</td>\n",
              "      <td>8</td>\n",
              "      <td>1</td>\n",
              "      <td>10</td>\n",
              "      <td>1</td>\n",
              "    </tr>\n",
              "    <tr>\n",
              "      <th>6</th>\n",
              "      <td>2.50</td>\n",
              "      <td>1</td>\n",
              "      <td>4</td>\n",
              "      <td>0</td>\n",
              "      <td>0</td>\n",
              "    </tr>\n",
              "    <tr>\n",
              "      <th>7</th>\n",
              "      <td>3.00</td>\n",
              "      <td>10</td>\n",
              "      <td>3</td>\n",
              "      <td>1</td>\n",
              "      <td>12</td>\n",
              "    </tr>\n",
              "    <tr>\n",
              "      <th>8</th>\n",
              "      <td>3.50</td>\n",
              "      <td>0</td>\n",
              "      <td>8</td>\n",
              "      <td>0</td>\n",
              "      <td>0</td>\n",
              "    </tr>\n",
              "    <tr>\n",
              "      <th>9</th>\n",
              "      <td>4.00</td>\n",
              "      <td>3</td>\n",
              "      <td>5</td>\n",
              "      <td>0</td>\n",
              "      <td>7</td>\n",
              "    </tr>\n",
              "    <tr>\n",
              "      <th>10</th>\n",
              "      <td>4.25</td>\n",
              "      <td>0</td>\n",
              "      <td>1</td>\n",
              "      <td>0</td>\n",
              "      <td>0</td>\n",
              "    </tr>\n",
              "    <tr>\n",
              "      <th>11</th>\n",
              "      <td>4.50</td>\n",
              "      <td>5</td>\n",
              "      <td>2</td>\n",
              "      <td>0</td>\n",
              "      <td>2</td>\n",
              "    </tr>\n",
              "    <tr>\n",
              "      <th>12</th>\n",
              "      <td>4.75</td>\n",
              "      <td>0</td>\n",
              "      <td>1</td>\n",
              "      <td>0</td>\n",
              "      <td>0</td>\n",
              "    </tr>\n",
              "    <tr>\n",
              "      <th>13</th>\n",
              "      <td>5.00</td>\n",
              "      <td>9</td>\n",
              "      <td>19</td>\n",
              "      <td>66</td>\n",
              "      <td>56</td>\n",
              "    </tr>\n",
              "  </tbody>\n",
              "</table>\n",
              "</div>"
            ],
            "text/plain": [
              "    score  count_q1  count_q2  count_q3  count_q4\n",
              "0    0.00         2        43         4         1\n",
              "1    0.50         7         1         0         2\n",
              "2    0.75         0         1         0         0\n",
              "3    1.00        39         0         9        10\n",
              "4    1.50         7         1         0         0\n",
              "5    2.00         8         1        10         1\n",
              "6    2.50         1         4         0         0\n",
              "7    3.00        10         3         1        12\n",
              "8    3.50         0         8         0         0\n",
              "9    4.00         3         5         0         7\n",
              "10   4.25         0         1         0         0\n",
              "11   4.50         5         2         0         2\n",
              "12   4.75         0         1         0         0\n",
              "13   5.00         9        19        66        56"
            ]
          },
          "execution_count": 189,
          "metadata": {},
          "output_type": "execute_result"
        }
      ],
      "source": [
        "score_counts = get_score_counts(train_df)\n",
        "score_counts"
      ]
    },
    {
      "cell_type": "code",
      "execution_count": 190,
      "metadata": {},
      "outputs": [],
      "source": [
        "def limit_samples_by_scores(df: pd.DataFrame, limit: int):\n",
        "  return df.groupby('score').head(limit)"
      ]
    },
    {
      "cell_type": "code",
      "execution_count": 191,
      "metadata": {},
      "outputs": [],
      "source": [
        "Q1_train = limit_samples_by_scores(Q1_train, 40)\n",
        "Q2_train = limit_samples_by_scores(Q2_train, 40)\n",
        "Q3_train = limit_samples_by_scores(Q3_train, 40)\n",
        "Q4_train = limit_samples_by_scores(Q4_train, 40)"
      ]
    },
    {
      "cell_type": "code",
      "execution_count": 192,
      "metadata": {},
      "outputs": [
        {
          "data": {
            "text/html": [
              "<div>\n",
              "<style scoped>\n",
              "    .dataframe tbody tr th:only-of-type {\n",
              "        vertical-align: middle;\n",
              "    }\n",
              "\n",
              "    .dataframe tbody tr th {\n",
              "        vertical-align: top;\n",
              "    }\n",
              "\n",
              "    .dataframe thead th {\n",
              "        text-align: right;\n",
              "    }\n",
              "</style>\n",
              "<table border=\"1\" class=\"dataframe\">\n",
              "  <thead>\n",
              "    <tr style=\"text-align: right;\">\n",
              "      <th></th>\n",
              "      <th>score</th>\n",
              "      <th>count_q1</th>\n",
              "      <th>count_q2</th>\n",
              "      <th>count_q3</th>\n",
              "      <th>count_q4</th>\n",
              "    </tr>\n",
              "  </thead>\n",
              "  <tbody>\n",
              "    <tr>\n",
              "      <th>0</th>\n",
              "      <td>0.00</td>\n",
              "      <td>2</td>\n",
              "      <td>40</td>\n",
              "      <td>4</td>\n",
              "      <td>1</td>\n",
              "    </tr>\n",
              "    <tr>\n",
              "      <th>1</th>\n",
              "      <td>0.50</td>\n",
              "      <td>7</td>\n",
              "      <td>1</td>\n",
              "      <td>0</td>\n",
              "      <td>2</td>\n",
              "    </tr>\n",
              "    <tr>\n",
              "      <th>2</th>\n",
              "      <td>0.75</td>\n",
              "      <td>0</td>\n",
              "      <td>1</td>\n",
              "      <td>0</td>\n",
              "      <td>0</td>\n",
              "    </tr>\n",
              "    <tr>\n",
              "      <th>3</th>\n",
              "      <td>1.00</td>\n",
              "      <td>39</td>\n",
              "      <td>0</td>\n",
              "      <td>9</td>\n",
              "      <td>10</td>\n",
              "    </tr>\n",
              "    <tr>\n",
              "      <th>4</th>\n",
              "      <td>1.50</td>\n",
              "      <td>7</td>\n",
              "      <td>1</td>\n",
              "      <td>0</td>\n",
              "      <td>0</td>\n",
              "    </tr>\n",
              "    <tr>\n",
              "      <th>5</th>\n",
              "      <td>2.00</td>\n",
              "      <td>8</td>\n",
              "      <td>1</td>\n",
              "      <td>10</td>\n",
              "      <td>1</td>\n",
              "    </tr>\n",
              "    <tr>\n",
              "      <th>6</th>\n",
              "      <td>2.50</td>\n",
              "      <td>1</td>\n",
              "      <td>4</td>\n",
              "      <td>0</td>\n",
              "      <td>0</td>\n",
              "    </tr>\n",
              "    <tr>\n",
              "      <th>7</th>\n",
              "      <td>3.00</td>\n",
              "      <td>10</td>\n",
              "      <td>3</td>\n",
              "      <td>1</td>\n",
              "      <td>12</td>\n",
              "    </tr>\n",
              "    <tr>\n",
              "      <th>8</th>\n",
              "      <td>3.50</td>\n",
              "      <td>0</td>\n",
              "      <td>8</td>\n",
              "      <td>0</td>\n",
              "      <td>0</td>\n",
              "    </tr>\n",
              "    <tr>\n",
              "      <th>9</th>\n",
              "      <td>4.00</td>\n",
              "      <td>3</td>\n",
              "      <td>5</td>\n",
              "      <td>0</td>\n",
              "      <td>7</td>\n",
              "    </tr>\n",
              "    <tr>\n",
              "      <th>10</th>\n",
              "      <td>4.25</td>\n",
              "      <td>0</td>\n",
              "      <td>1</td>\n",
              "      <td>0</td>\n",
              "      <td>0</td>\n",
              "    </tr>\n",
              "    <tr>\n",
              "      <th>11</th>\n",
              "      <td>4.50</td>\n",
              "      <td>5</td>\n",
              "      <td>2</td>\n",
              "      <td>0</td>\n",
              "      <td>2</td>\n",
              "    </tr>\n",
              "    <tr>\n",
              "      <th>12</th>\n",
              "      <td>4.75</td>\n",
              "      <td>0</td>\n",
              "      <td>1</td>\n",
              "      <td>0</td>\n",
              "      <td>0</td>\n",
              "    </tr>\n",
              "    <tr>\n",
              "      <th>13</th>\n",
              "      <td>5.00</td>\n",
              "      <td>9</td>\n",
              "      <td>19</td>\n",
              "      <td>40</td>\n",
              "      <td>40</td>\n",
              "    </tr>\n",
              "  </tbody>\n",
              "</table>\n",
              "</div>"
            ],
            "text/plain": [
              "    score  count_q1  count_q2  count_q3  count_q4\n",
              "0    0.00         2        40         4         1\n",
              "1    0.50         7         1         0         2\n",
              "2    0.75         0         1         0         0\n",
              "3    1.00        39         0         9        10\n",
              "4    1.50         7         1         0         0\n",
              "5    2.00         8         1        10         1\n",
              "6    2.50         1         4         0         0\n",
              "7    3.00        10         3         1        12\n",
              "8    3.50         0         8         0         0\n",
              "9    4.00         3         5         0         7\n",
              "10   4.25         0         1         0         0\n",
              "11   4.50         5         2         0         2\n",
              "12   4.75         0         1         0         0\n",
              "13   5.00         9        19        40        40"
            ]
          },
          "execution_count": 192,
          "metadata": {},
          "output_type": "execute_result"
        }
      ],
      "source": [
        "score_counts = get_score_counts(train_df)\n",
        "score_counts"
      ]
    },
    {
      "cell_type": "code",
      "execution_count": 193,
      "metadata": {},
      "outputs": [
        {
          "data": {
            "text/html": [
              "<div>\n",
              "<style scoped>\n",
              "    .dataframe tbody tr th:only-of-type {\n",
              "        vertical-align: middle;\n",
              "    }\n",
              "\n",
              "    .dataframe tbody tr th {\n",
              "        vertical-align: top;\n",
              "    }\n",
              "\n",
              "    .dataframe thead th {\n",
              "        text-align: right;\n",
              "    }\n",
              "</style>\n",
              "<table border=\"1\" class=\"dataframe\">\n",
              "  <thead>\n",
              "    <tr style=\"text-align: right;\">\n",
              "      <th></th>\n",
              "      <th>ID</th>\n",
              "      <th>set</th>\n",
              "      <th>question</th>\n",
              "      <th>answer</th>\n",
              "      <th>score</th>\n",
              "    </tr>\n",
              "  </thead>\n",
              "  <tbody>\n",
              "    <tr>\n",
              "      <th>4</th>\n",
              "      <td>4</td>\n",
              "      <td>Q1</td>\n",
              "      <td>Hamtube is an online video viewing platform th...</td>\n",
              "      <td>Agreed, because A/B Testing is an effective wa...</td>\n",
              "      <td>4.5</td>\n",
              "    </tr>\n",
              "    <tr>\n",
              "      <th>5</th>\n",
              "      <td>5</td>\n",
              "      <td>Q1</td>\n",
              "      <td>Hamtube is an online video viewing platform th...</td>\n",
              "      <td>Hamtaro should use A/B testing for testing bec...</td>\n",
              "      <td>1.0</td>\n",
              "    </tr>\n",
              "    <tr>\n",
              "      <th>8</th>\n",
              "      <td>8</td>\n",
              "      <td>Q1</td>\n",
              "      <td>Hamtube is an online video viewing platform th...</td>\n",
              "      <td>Because A/B testing is about comparing the res...</td>\n",
              "      <td>1.0</td>\n",
              "    </tr>\n",
              "    <tr>\n",
              "      <th>11</th>\n",
              "      <td>11</td>\n",
              "      <td>Q1</td>\n",
              "      <td>Hamtube is an online video viewing platform th...</td>\n",
              "      <td>A/B testing is useful for Hamtaro to test ad p...</td>\n",
              "      <td>5.0</td>\n",
              "    </tr>\n",
              "    <tr>\n",
              "      <th>13</th>\n",
              "      <td>13</td>\n",
              "      <td>Q1</td>\n",
              "      <td>Hamtube is an online video viewing platform th...</td>\n",
              "      <td>Hamtaro should use A/B testing because A/B tes...</td>\n",
              "      <td>1.0</td>\n",
              "    </tr>\n",
              "    <tr>\n",
              "      <th>...</th>\n",
              "      <td>...</td>\n",
              "      <td>...</td>\n",
              "      <td>...</td>\n",
              "      <td>...</td>\n",
              "      <td>...</td>\n",
              "    </tr>\n",
              "    <tr>\n",
              "      <th>338</th>\n",
              "      <td>338</td>\n",
              "      <td>Q1</td>\n",
              "      <td>Hamtube is an online video viewing platform th...</td>\n",
              "      <td>Agreed because the two situations are differen...</td>\n",
              "      <td>1.0</td>\n",
              "    </tr>\n",
              "    <tr>\n",
              "      <th>345</th>\n",
              "      <td>345</td>\n",
              "      <td>Q1</td>\n",
              "      <td>Hamtube is an online video viewing platform th...</td>\n",
              "      <td>Agree, because what Hamtaro wants to test is a...</td>\n",
              "      <td>1.0</td>\n",
              "    </tr>\n",
              "    <tr>\n",
              "      <th>352</th>\n",
              "      <td>352</td>\n",
              "      <td>Q1</td>\n",
              "      <td>Hamtube is an online video viewing platform th...</td>\n",
              "      <td>It should be used because it allows Hamtaro to...</td>\n",
              "      <td>4.0</td>\n",
              "    </tr>\n",
              "    <tr>\n",
              "      <th>355</th>\n",
              "      <td>355</td>\n",
              "      <td>Q1</td>\n",
              "      <td>Hamtube is an online video viewing platform th...</td>\n",
              "      <td>It should be used to test the hypothesis that ...</td>\n",
              "      <td>1.0</td>\n",
              "    </tr>\n",
              "    <tr>\n",
              "      <th>361</th>\n",
              "      <td>361</td>\n",
              "      <td>Q1</td>\n",
              "      <td>Hamtube is an online video viewing platform th...</td>\n",
              "      <td>It is used because it is a scientific method t...</td>\n",
              "      <td>3.0</td>\n",
              "    </tr>\n",
              "  </tbody>\n",
              "</table>\n",
              "<p>91 rows × 5 columns</p>\n",
              "</div>"
            ],
            "text/plain": [
              "      ID set                                           question  \\\n",
              "4      4  Q1  Hamtube is an online video viewing platform th...   \n",
              "5      5  Q1  Hamtube is an online video viewing platform th...   \n",
              "8      8  Q1  Hamtube is an online video viewing platform th...   \n",
              "11    11  Q1  Hamtube is an online video viewing platform th...   \n",
              "13    13  Q1  Hamtube is an online video viewing platform th...   \n",
              "..   ...  ..                                                ...   \n",
              "338  338  Q1  Hamtube is an online video viewing platform th...   \n",
              "345  345  Q1  Hamtube is an online video viewing platform th...   \n",
              "352  352  Q1  Hamtube is an online video viewing platform th...   \n",
              "355  355  Q1  Hamtube is an online video viewing platform th...   \n",
              "361  361  Q1  Hamtube is an online video viewing platform th...   \n",
              "\n",
              "                                                answer  score  \n",
              "4    Agreed, because A/B Testing is an effective wa...    4.5  \n",
              "5    Hamtaro should use A/B testing for testing bec...    1.0  \n",
              "8    Because A/B testing is about comparing the res...    1.0  \n",
              "11   A/B testing is useful for Hamtaro to test ad p...    5.0  \n",
              "13   Hamtaro should use A/B testing because A/B tes...    1.0  \n",
              "..                                                 ...    ...  \n",
              "338  Agreed because the two situations are differen...    1.0  \n",
              "345  Agree, because what Hamtaro wants to test is a...    1.0  \n",
              "352  It should be used because it allows Hamtaro to...    4.0  \n",
              "355  It should be used to test the hypothesis that ...    1.0  \n",
              "361  It is used because it is a scientific method t...    3.0  \n",
              "\n",
              "[91 rows x 5 columns]"
            ]
          },
          "execution_count": 193,
          "metadata": {},
          "output_type": "execute_result"
        }
      ],
      "source": [
        "Q1_train"
      ]
    },
    {
      "cell_type": "code",
      "execution_count": 194,
      "metadata": {},
      "outputs": [
        {
          "data": {
            "text/html": [
              "<div>\n",
              "<style scoped>\n",
              "    .dataframe tbody tr th:only-of-type {\n",
              "        vertical-align: middle;\n",
              "    }\n",
              "\n",
              "    .dataframe tbody tr th {\n",
              "        vertical-align: top;\n",
              "    }\n",
              "\n",
              "    .dataframe thead th {\n",
              "        text-align: right;\n",
              "    }\n",
              "</style>\n",
              "<table border=\"1\" class=\"dataframe\">\n",
              "  <thead>\n",
              "    <tr style=\"text-align: right;\">\n",
              "      <th></th>\n",
              "      <th>ID</th>\n",
              "      <th>set</th>\n",
              "      <th>question</th>\n",
              "      <th>answer</th>\n",
              "    </tr>\n",
              "  </thead>\n",
              "  <tbody>\n",
              "    <tr>\n",
              "      <th>10</th>\n",
              "      <td>372</td>\n",
              "      <td>Q1</td>\n",
              "      <td>Hamtube is an online video viewing platform th...</td>\n",
              "      <td>Agree because AB Testing will clearly show the...</td>\n",
              "    </tr>\n",
              "    <tr>\n",
              "      <th>12</th>\n",
              "      <td>374</td>\n",
              "      <td>Q1</td>\n",
              "      <td>Hamtube is an online video viewing platform th...</td>\n",
              "      <td>If it is a test in 2 different locations, if H...</td>\n",
              "    </tr>\n",
              "    <tr>\n",
              "      <th>13</th>\n",
              "      <td>375</td>\n",
              "      <td>Q1</td>\n",
              "      <td>Hamtube is an online video viewing platform th...</td>\n",
              "      <td>A/B testing should be used because Hamtaro can...</td>\n",
              "    </tr>\n",
              "    <tr>\n",
              "      <th>19</th>\n",
              "      <td>381</td>\n",
              "      <td>Q1</td>\n",
              "      <td>Hamtube is an online video viewing platform th...</td>\n",
              "      <td>1. It can be divided into many experiments tha...</td>\n",
              "    </tr>\n",
              "    <tr>\n",
              "      <th>28</th>\n",
              "      <td>390</td>\n",
              "      <td>Q1</td>\n",
              "      <td>Hamtube is an online video viewing platform th...</td>\n",
              "      <td>You can test whether placing ads in the same p...</td>\n",
              "    </tr>\n",
              "    <tr>\n",
              "      <th>33</th>\n",
              "      <td>395</td>\n",
              "      <td>Q1</td>\n",
              "      <td>Hamtube is an online video viewing platform th...</td>\n",
              "      <td>A/B testing should be used because it is an ef...</td>\n",
              "    </tr>\n",
              "    <tr>\n",
              "      <th>39</th>\n",
              "      <td>401</td>\n",
              "      <td>Q1</td>\n",
              "      <td>Hamtube is an online video viewing platform th...</td>\n",
              "      <td>It should be used because it is a method of ex...</td>\n",
              "    </tr>\n",
              "    <tr>\n",
              "      <th>40</th>\n",
              "      <td>402</td>\n",
              "      <td>Q1</td>\n",
              "      <td>Hamtube is an online video viewing platform th...</td>\n",
              "      <td>A/B testing helps Hamtaro gain accurate data a...</td>\n",
              "    </tr>\n",
              "    <tr>\n",
              "      <th>41</th>\n",
              "      <td>403</td>\n",
              "      <td>Q1</td>\n",
              "      <td>Hamtube is an online video viewing platform th...</td>\n",
              "      <td>Hamtaro should use A/B testing because it allo...</td>\n",
              "    </tr>\n",
              "    <tr>\n",
              "      <th>43</th>\n",
              "      <td>405</td>\n",
              "      <td>Q1</td>\n",
              "      <td>Hamtube is an online video viewing platform th...</td>\n",
              "      <td>It should be used because there is randomness ...</td>\n",
              "    </tr>\n",
              "    <tr>\n",
              "      <th>51</th>\n",
              "      <td>413</td>\n",
              "      <td>Q1</td>\n",
              "      <td>Hamtube is an online video viewing platform th...</td>\n",
              "      <td>(Not sure what ad position means, but assume i...</td>\n",
              "    </tr>\n",
              "    <tr>\n",
              "      <th>59</th>\n",
              "      <td>421</td>\n",
              "      <td>Q1</td>\n",
              "      <td>Hamtube is an online video viewing platform th...</td>\n",
              "      <td>It is appropriate because it creates randomnes...</td>\n",
              "    </tr>\n",
              "    <tr>\n",
              "      <th>60</th>\n",
              "      <td>422</td>\n",
              "      <td>Q1</td>\n",
              "      <td>Hamtube is an online video viewing platform th...</td>\n",
              "      <td>Hamtaro should use A/B Testing because it is a...</td>\n",
              "    </tr>\n",
              "    <tr>\n",
              "      <th>62</th>\n",
              "      <td>424</td>\n",
              "      <td>Q1</td>\n",
              "      <td>Hamtube is an online video viewing platform th...</td>\n",
              "      <td>A/B Testing makes sense because it&amp;#39;s great...</td>\n",
              "    </tr>\n",
              "    <tr>\n",
              "      <th>64</th>\n",
              "      <td>426</td>\n",
              "      <td>Q1</td>\n",
              "      <td>Hamtube is an online video viewing platform th...</td>\n",
              "      <td>Agree because it is a test to find the differe...</td>\n",
              "    </tr>\n",
              "    <tr>\n",
              "      <th>68</th>\n",
              "      <td>430</td>\n",
              "      <td>Q1</td>\n",
              "      <td>Hamtube is an online video viewing platform th...</td>\n",
              "      <td>1. Helps to support decision making by compari...</td>\n",
              "    </tr>\n",
              "    <tr>\n",
              "      <th>75</th>\n",
              "      <td>437</td>\n",
              "      <td>Q1</td>\n",
              "      <td>Hamtube is an online video viewing platform th...</td>\n",
              "      <td>A/B testing is ideal because by comparing the ...</td>\n",
              "    </tr>\n",
              "    <tr>\n",
              "      <th>80</th>\n",
              "      <td>442</td>\n",
              "      <td>Q1</td>\n",
              "      <td>Hamtube is an online video viewing platform th...</td>\n",
              "      <td>A/B testing is a good idea because it allows h...</td>\n",
              "    </tr>\n",
              "    <tr>\n",
              "      <th>84</th>\n",
              "      <td>446</td>\n",
              "      <td>Q1</td>\n",
              "      <td>Hamtube is an online video viewing platform th...</td>\n",
              "      <td>A/B testing is recommended because it allows y...</td>\n",
              "    </tr>\n",
              "    <tr>\n",
              "      <th>86</th>\n",
              "      <td>448</td>\n",
              "      <td>Q1</td>\n",
              "      <td>Hamtube is an online video viewing platform th...</td>\n",
              "      <td>It is advisable to use A/B testing because the...</td>\n",
              "    </tr>\n",
              "    <tr>\n",
              "      <th>87</th>\n",
              "      <td>449</td>\n",
              "      <td>Q1</td>\n",
              "      <td>Hamtube is an online video viewing platform th...</td>\n",
              "      <td>- Using A/B testing will give Hamtaro data to ...</td>\n",
              "    </tr>\n",
              "    <tr>\n",
              "      <th>88</th>\n",
              "      <td>450</td>\n",
              "      <td>Q1</td>\n",
              "      <td>Hamtube is an online video viewing platform th...</td>\n",
              "      <td>Agree because 1. You can divide the testers in...</td>\n",
              "    </tr>\n",
              "  </tbody>\n",
              "</table>\n",
              "</div>"
            ],
            "text/plain": [
              "     ID set                                           question  \\\n",
              "10  372  Q1  Hamtube is an online video viewing platform th...   \n",
              "12  374  Q1  Hamtube is an online video viewing platform th...   \n",
              "13  375  Q1  Hamtube is an online video viewing platform th...   \n",
              "19  381  Q1  Hamtube is an online video viewing platform th...   \n",
              "28  390  Q1  Hamtube is an online video viewing platform th...   \n",
              "33  395  Q1  Hamtube is an online video viewing platform th...   \n",
              "39  401  Q1  Hamtube is an online video viewing platform th...   \n",
              "40  402  Q1  Hamtube is an online video viewing platform th...   \n",
              "41  403  Q1  Hamtube is an online video viewing platform th...   \n",
              "43  405  Q1  Hamtube is an online video viewing platform th...   \n",
              "51  413  Q1  Hamtube is an online video viewing platform th...   \n",
              "59  421  Q1  Hamtube is an online video viewing platform th...   \n",
              "60  422  Q1  Hamtube is an online video viewing platform th...   \n",
              "62  424  Q1  Hamtube is an online video viewing platform th...   \n",
              "64  426  Q1  Hamtube is an online video viewing platform th...   \n",
              "68  430  Q1  Hamtube is an online video viewing platform th...   \n",
              "75  437  Q1  Hamtube is an online video viewing platform th...   \n",
              "80  442  Q1  Hamtube is an online video viewing platform th...   \n",
              "84  446  Q1  Hamtube is an online video viewing platform th...   \n",
              "86  448  Q1  Hamtube is an online video viewing platform th...   \n",
              "87  449  Q1  Hamtube is an online video viewing platform th...   \n",
              "88  450  Q1  Hamtube is an online video viewing platform th...   \n",
              "\n",
              "                                               answer  \n",
              "10  Agree because AB Testing will clearly show the...  \n",
              "12  If it is a test in 2 different locations, if H...  \n",
              "13  A/B testing should be used because Hamtaro can...  \n",
              "19  1. It can be divided into many experiments tha...  \n",
              "28  You can test whether placing ads in the same p...  \n",
              "33  A/B testing should be used because it is an ef...  \n",
              "39  It should be used because it is a method of ex...  \n",
              "40  A/B testing helps Hamtaro gain accurate data a...  \n",
              "41  Hamtaro should use A/B testing because it allo...  \n",
              "43  It should be used because there is randomness ...  \n",
              "51  (Not sure what ad position means, but assume i...  \n",
              "59  It is appropriate because it creates randomnes...  \n",
              "60  Hamtaro should use A/B Testing because it is a...  \n",
              "62  A/B Testing makes sense because it&#39;s great...  \n",
              "64  Agree because it is a test to find the differe...  \n",
              "68  1. Helps to support decision making by compari...  \n",
              "75  A/B testing is ideal because by comparing the ...  \n",
              "80  A/B testing is a good idea because it allows h...  \n",
              "84  A/B testing is recommended because it allows y...  \n",
              "86  It is advisable to use A/B testing because the...  \n",
              "87  - Using A/B testing will give Hamtaro data to ...  \n",
              "88  Agree because 1. You can divide the testers in...  "
            ]
          },
          "execution_count": 194,
          "metadata": {},
          "output_type": "execute_result"
        }
      ],
      "source": [
        "Q1_test"
      ]
    },
    {
      "cell_type": "code",
      "execution_count": 195,
      "metadata": {},
      "outputs": [
        {
          "data": {
            "text/plain": [
              "'Hamtube is an online video viewing platform that allows users to upload, share, and watch videos. Hamtaro is the head of Hamtube’s marketing team, and he wants to know if moving the placement of ads will increase sales (more users clicking on ads). So he decides to conduct A/B testing. Explain why Hamtaro should use A/B testing in his experiments, or offer a counter-argument if you disagree, and explain why.'"
            ]
          },
          "execution_count": 195,
          "metadata": {},
          "output_type": "execute_result"
        }
      ],
      "source": [
        "Q1_train['question'].iloc[0]"
      ]
    },
    {
      "cell_type": "code",
      "execution_count": 196,
      "metadata": {},
      "outputs": [
        {
          "data": {
            "text/plain": [
              "3.5"
            ]
          },
          "execution_count": 196,
          "metadata": {},
          "output_type": "execute_result"
        }
      ],
      "source": [
        "def extract_valid_score(response: str) -> float:\n",
        "    allowed_scores = {i * 0.5 for i in range(11)}  # {0, 0.5, 1, ..., 5}\n",
        "    # extract the first valid number from the response\n",
        "    match = re.search(r\"\\d+(\\.\\d+)?\", response.strip())\n",
        "    \n",
        "    if match:\n",
        "        num = float(match.group())\n",
        "        \n",
        "        # round to nearest 0.5\n",
        "        rounded_num = round(num * 2) / 2  # ensure 0.5 intervals\n",
        "        if rounded_num in allowed_scores:\n",
        "            return rounded_num\n",
        "    \n",
        "    return 0.0\n",
        "\n",
        "extract_valid_score(\"The answer is 3.5\")"
      ]
    },
    {
      "cell_type": "code",
      "execution_count": 197,
      "metadata": {},
      "outputs": [],
      "source": [
        "def generate_prediction(train_df: pd.DataFrame, answer: str) -> pd.DataFrame:\n",
        "    prompt = f\"\"\"\n",
        "You are a text regression model. Given an answer to a question, predict a numerical score between 0 and 5, with intervals of 0.5.\n",
        "The question is: \"{train_df['question'].iloc[0]}\".\n",
        "Here are some examples to help you get started:\\n\\n\"\"\"\n",
        "    for i, row in train_df.iterrows():\n",
        "        prompt += f\"Answer: {row['answer']}\\nScore: {row['score']}\\n\\n\"\n",
        "    # print(prompt)\n",
        "    \n",
        "    prompt_with_test = f\"{prompt}What score would you give to the following answer?\\n\\n{answer}\\n\\n\"\n",
        "    response: str = generate_content_with_rate_limit(prompt_with_test)\n",
        "    score = extract_valid_score(response)\n",
        "\n",
        "    return score\n"
      ]
    },
    {
      "cell_type": "code",
      "execution_count": 198,
      "metadata": {},
      "outputs": [],
      "source": [
        "def generate_predictions_cot(train_df: pd.DataFrame, test_df: pd.DataFrame) -> pd.DataFrame:\n",
        "    prompt = f\"\"\"\n",
        "You are a text regression model. Given an answer to a question, predict a numerical score between 0 and 5, with intervals of 0.5.\n",
        "The question is: \"{train_df['question'].iloc[0]}\".\n",
        "Here are some examples:\\n\\n\"\"\"\n",
        "    \n",
        "    for i, row in train_df.iterrows():\n",
        "        prompt += f\"Answer: {row['answer']}\\nScore: {row['score']}\\n\\n\"\n",
        "\n",
        "    predictions = pd.DataFrame(columns=['ID', 'score'])\n",
        "\n",
        "    for i, row in tqdm(test_df.iterrows(), total=test_df.shape[0]):\n",
        "        # **Simplified CoT Prompting**\n",
        "        prompt_with_test = f\"\"\"{prompt}\n",
        "Now, analyze the following answer and determine a fair score.\n",
        "Answer: {row['answer']}\n",
        "\n",
        "Explanation: (Briefly justify the score)\n",
        "Predicted Score: (Provide a number between 0 and 5 in 0.5 increments)\n",
        "\"\"\"\n",
        "        response: str = generate_content_with_rate_limit(prompt_with_test)\n",
        "        \n",
        "        # Extract score reliably\n",
        "        score = extract_valid_score(response)  # Ensure extraction works well\n",
        "        predictions.loc[len(predictions)] = [row['ID'], score]\n",
        "\n",
        "    return predictions\n"
      ]
    },
    {
      "cell_type": "code",
      "execution_count": 199,
      "metadata": {},
      "outputs": [],
      "source": [
        "predictions = pd.DataFrame(columns=['ID', 'score'])\n",
        "all_test_df = pd.concat([Q1_test, Q2_test, Q3_test, Q4_test])"
      ]
    },
    {
      "cell_type": "code",
      "execution_count": 200,
      "metadata": {},
      "outputs": [
        {
          "data": {
            "text/plain": [
              "(0, 2)"
            ]
          },
          "execution_count": 200,
          "metadata": {},
          "output_type": "execute_result"
        }
      ],
      "source": [
        "predictions.shape"
      ]
    },
    {
      "cell_type": "code",
      "execution_count": 201,
      "metadata": {},
      "outputs": [
        {
          "data": {
            "text/html": [
              "<div>\n",
              "<style scoped>\n",
              "    .dataframe tbody tr th:only-of-type {\n",
              "        vertical-align: middle;\n",
              "    }\n",
              "\n",
              "    .dataframe tbody tr th {\n",
              "        vertical-align: top;\n",
              "    }\n",
              "\n",
              "    .dataframe thead th {\n",
              "        text-align: right;\n",
              "    }\n",
              "</style>\n",
              "<table border=\"1\" class=\"dataframe\">\n",
              "  <thead>\n",
              "    <tr style=\"text-align: right;\">\n",
              "      <th></th>\n",
              "      <th>ID</th>\n",
              "      <th>score</th>\n",
              "    </tr>\n",
              "  </thead>\n",
              "  <tbody>\n",
              "  </tbody>\n",
              "</table>\n",
              "</div>"
            ],
            "text/plain": [
              "Empty DataFrame\n",
              "Columns: [ID, score]\n",
              "Index: []"
            ]
          },
          "execution_count": 201,
          "metadata": {},
          "output_type": "execute_result"
        }
      ],
      "source": [
        "predictions.head()"
      ]
    },
    {
      "cell_type": "code",
      "execution_count": 202,
      "metadata": {},
      "outputs": [
        {
          "name": "stderr",
          "output_type": "stream",
          "text": [
            "  1%|          | 1/90 [00:03<04:27,  3.00s/it]"
          ]
        },
        {
          "name": "stdout",
          "output_type": "stream",
          "text": [
            "Score: 4.0\n",
            "\n"
          ]
        },
        {
          "name": "stderr",
          "output_type": "stream",
          "text": [
            "  2%|▏         | 2/90 [00:04<03:22,  2.30s/it]"
          ]
        },
        {
          "name": "stdout",
          "output_type": "stream",
          "text": [
            "Score: 1.0\n",
            "\n"
          ]
        },
        {
          "name": "stderr",
          "output_type": "stream",
          "text": [
            "  3%|▎         | 3/90 [00:06<03:02,  2.10s/it]"
          ]
        },
        {
          "name": "stdout",
          "output_type": "stream",
          "text": [
            "Score: 1.0\n",
            "\n"
          ]
        },
        {
          "name": "stderr",
          "output_type": "stream",
          "text": [
            "  4%|▍         | 4/90 [00:08<02:53,  2.02s/it]"
          ]
        },
        {
          "name": "stdout",
          "output_type": "stream",
          "text": [
            "Score: 2.0\n",
            "\n"
          ]
        },
        {
          "name": "stderr",
          "output_type": "stream",
          "text": [
            "  6%|▌         | 5/90 [00:10<02:42,  1.91s/it]"
          ]
        },
        {
          "name": "stdout",
          "output_type": "stream",
          "text": [
            "Score: 1.0\n",
            "\n"
          ]
        },
        {
          "name": "stderr",
          "output_type": "stream",
          "text": [
            "  7%|▋         | 6/90 [00:12<02:36,  1.86s/it]"
          ]
        },
        {
          "name": "stdout",
          "output_type": "stream",
          "text": [
            "4.  0\n",
            "\n"
          ]
        },
        {
          "name": "stderr",
          "output_type": "stream",
          "text": [
            "  8%|▊         | 7/90 [00:13<02:36,  1.88s/it]"
          ]
        },
        {
          "name": "stdout",
          "output_type": "stream",
          "text": [
            "Score: 1.0\n",
            "\n"
          ]
        },
        {
          "name": "stderr",
          "output_type": "stream",
          "text": [
            "  9%|▉         | 8/90 [00:15<02:34,  1.88s/it]"
          ]
        },
        {
          "name": "stdout",
          "output_type": "stream",
          "text": [
            "Score: 4.0\n",
            "\n"
          ]
        },
        {
          "name": "stderr",
          "output_type": "stream",
          "text": [
            " 10%|█         | 9/90 [00:17<02:29,  1.85s/it]"
          ]
        },
        {
          "name": "stdout",
          "output_type": "stream",
          "text": [
            "Score: 4.5\n",
            "\n"
          ]
        },
        {
          "name": "stderr",
          "output_type": "stream",
          "text": [
            " 11%|█         | 10/90 [00:19<02:27,  1.84s/it]"
          ]
        },
        {
          "name": "stdout",
          "output_type": "stream",
          "text": [
            "Score: 1.0\n",
            "\n"
          ]
        },
        {
          "name": "stderr",
          "output_type": "stream",
          "text": [
            " 12%|█▏        | 11/90 [00:20<02:17,  1.73s/it]"
          ]
        },
        {
          "name": "stdout",
          "output_type": "stream",
          "text": [
            "Score: 1.0\n",
            "\n"
          ]
        },
        {
          "name": "stderr",
          "output_type": "stream",
          "text": [
            " 13%|█▎        | 12/90 [00:22<02:08,  1.65s/it]"
          ]
        },
        {
          "name": "stdout",
          "output_type": "stream",
          "text": [
            "Score: 0.0\n",
            "\n"
          ]
        },
        {
          "name": "stderr",
          "output_type": "stream",
          "text": [
            " 14%|█▍        | 13/90 [00:23<02:03,  1.61s/it]"
          ]
        },
        {
          "name": "stdout",
          "output_type": "stream",
          "text": [
            "Score: 1.0\n",
            "\n"
          ]
        },
        {
          "name": "stderr",
          "output_type": "stream",
          "text": [
            " 16%|█▌        | 14/90 [00:25<01:58,  1.56s/it]"
          ]
        },
        {
          "name": "stdout",
          "output_type": "stream",
          "text": [
            "Score: 1.0\n",
            "\n"
          ]
        },
        {
          "name": "stderr",
          "output_type": "stream",
          "text": [
            " 17%|█▋        | 15/90 [00:26<01:55,  1.55s/it]"
          ]
        },
        {
          "name": "stdout",
          "output_type": "stream",
          "text": [
            "Score: 1.0\n",
            "\n"
          ]
        },
        {
          "name": "stderr",
          "output_type": "stream",
          "text": [
            " 18%|█▊        | 16/90 [00:28<01:49,  1.48s/it]"
          ]
        },
        {
          "name": "stdout",
          "output_type": "stream",
          "text": [
            "Score: 5.0\n",
            "\n"
          ]
        },
        {
          "name": "stderr",
          "output_type": "stream",
          "text": [
            " 19%|█▉        | 17/90 [00:29<01:47,  1.48s/it]"
          ]
        },
        {
          "name": "stdout",
          "output_type": "stream",
          "text": [
            "Score: 4.5\n",
            "\n"
          ]
        },
        {
          "name": "stderr",
          "output_type": "stream",
          "text": [
            " 20%|██        | 18/90 [00:31<01:46,  1.48s/it]"
          ]
        },
        {
          "name": "stdout",
          "output_type": "stream",
          "text": [
            "Score: 3.5\n",
            "\n"
          ]
        },
        {
          "name": "stderr",
          "output_type": "stream",
          "text": [
            " 21%|██        | 19/90 [00:32<01:45,  1.49s/it]"
          ]
        },
        {
          "name": "stdout",
          "output_type": "stream",
          "text": [
            "Score: 1.0\n",
            "\n"
          ]
        },
        {
          "name": "stderr",
          "output_type": "stream",
          "text": [
            " 22%|██▏       | 20/90 [00:34<01:42,  1.47s/it]"
          ]
        },
        {
          "name": "stdout",
          "output_type": "stream",
          "text": [
            "Score: 1.0\n",
            "\n"
          ]
        },
        {
          "name": "stderr",
          "output_type": "stream",
          "text": [
            " 23%|██▎       | 21/90 [00:35<01:40,  1.46s/it]"
          ]
        },
        {
          "name": "stdout",
          "output_type": "stream",
          "text": [
            "Score: 1.0\n",
            "\n"
          ]
        },
        {
          "name": "stderr",
          "output_type": "stream",
          "text": [
            " 24%|██▍       | 22/90 [00:37<01:41,  1.50s/it]"
          ]
        },
        {
          "name": "stdout",
          "output_type": "stream",
          "text": [
            "Score: 3.0\n",
            "\n"
          ]
        },
        {
          "name": "stderr",
          "output_type": "stream",
          "text": [
            " 26%|██▌       | 23/90 [00:38<01:38,  1.48s/it]"
          ]
        },
        {
          "name": "stdout",
          "output_type": "stream",
          "text": [
            "Score: 0.0\n",
            "\n"
          ]
        },
        {
          "name": "stderr",
          "output_type": "stream",
          "text": [
            " 27%|██▋       | 24/90 [00:40<01:38,  1.49s/it]"
          ]
        },
        {
          "name": "stdout",
          "output_type": "stream",
          "text": [
            "Score: 4.0\n",
            "\n"
          ]
        },
        {
          "name": "stderr",
          "output_type": "stream",
          "text": [
            " 28%|██▊       | 25/90 [00:41<01:37,  1.49s/it]"
          ]
        },
        {
          "name": "stdout",
          "output_type": "stream",
          "text": [
            "Score: 3.5\n",
            "\n"
          ]
        },
        {
          "name": "stderr",
          "output_type": "stream",
          "text": [
            " 29%|██▉       | 26/90 [00:43<01:34,  1.48s/it]"
          ]
        },
        {
          "name": "stdout",
          "output_type": "stream",
          "text": [
            "Score: 0.0\n",
            "\n"
          ]
        },
        {
          "name": "stderr",
          "output_type": "stream",
          "text": [
            " 30%|███       | 27/90 [00:44<01:29,  1.42s/it]"
          ]
        },
        {
          "name": "stdout",
          "output_type": "stream",
          "text": [
            "Score: 0.0\n",
            "\n"
          ]
        },
        {
          "name": "stderr",
          "output_type": "stream",
          "text": [
            " 31%|███       | 28/90 [00:45<01:30,  1.45s/it]"
          ]
        },
        {
          "name": "stdout",
          "output_type": "stream",
          "text": [
            "Score: 5.0\n",
            "\n",
            "Score: 0.0\n",
            "\n"
          ]
        },
        {
          "name": "stderr",
          "output_type": "stream",
          "text": [
            " 33%|███▎      | 30/90 [01:02<05:22,  5.37s/it]"
          ]
        },
        {
          "name": "stdout",
          "output_type": "stream",
          "text": [
            "Score: 4.0\n",
            "\n"
          ]
        },
        {
          "name": "stderr",
          "output_type": "stream",
          "text": [
            " 34%|███▍      | 31/90 [01:03<04:08,  4.22s/it]"
          ]
        },
        {
          "name": "stdout",
          "output_type": "stream",
          "text": [
            "Score: 2.5\n",
            "\n"
          ]
        },
        {
          "name": "stderr",
          "output_type": "stream",
          "text": [
            " 36%|███▌      | 32/90 [01:05<03:16,  3.38s/it]"
          ]
        },
        {
          "name": "stdout",
          "output_type": "stream",
          "text": [
            "Score: 0.0\n",
            "\n"
          ]
        },
        {
          "name": "stderr",
          "output_type": "stream",
          "text": [
            " 37%|███▋      | 33/90 [01:06<02:40,  2.82s/it]"
          ]
        },
        {
          "name": "stdout",
          "output_type": "stream",
          "text": [
            "Score: 4.0\n",
            "\n"
          ]
        },
        {
          "name": "stderr",
          "output_type": "stream",
          "text": [
            " 38%|███▊      | 34/90 [01:08<02:14,  2.40s/it]"
          ]
        },
        {
          "name": "stdout",
          "output_type": "stream",
          "text": [
            "Score: 0.0\n",
            "\n"
          ]
        },
        {
          "name": "stderr",
          "output_type": "stream",
          "text": [
            " 39%|███▉      | 35/90 [01:09<01:56,  2.12s/it]"
          ]
        },
        {
          "name": "stdout",
          "output_type": "stream",
          "text": [
            "Score: 2.5\n",
            "\n"
          ]
        },
        {
          "name": "stderr",
          "output_type": "stream",
          "text": [
            " 40%|████      | 36/90 [01:11<01:45,  1.95s/it]"
          ]
        },
        {
          "name": "stdout",
          "output_type": "stream",
          "text": [
            "Score: 4.0\n",
            "\n"
          ]
        },
        {
          "name": "stderr",
          "output_type": "stream",
          "text": [
            " 41%|████      | 37/90 [01:12<01:35,  1.80s/it]"
          ]
        },
        {
          "name": "stdout",
          "output_type": "stream",
          "text": [
            "Score: 4.75\n",
            "\n"
          ]
        },
        {
          "name": "stderr",
          "output_type": "stream",
          "text": [
            " 42%|████▏     | 38/90 [01:13<01:25,  1.65s/it]"
          ]
        },
        {
          "name": "stdout",
          "output_type": "stream",
          "text": [
            "Score: 5.0\n",
            "\n"
          ]
        },
        {
          "name": "stderr",
          "output_type": "stream",
          "text": [
            " 43%|████▎     | 39/90 [01:15<01:20,  1.58s/it]"
          ]
        },
        {
          "name": "stdout",
          "output_type": "stream",
          "text": [
            "Score: 3.5\n",
            "\n"
          ]
        },
        {
          "name": "stderr",
          "output_type": "stream",
          "text": [
            " 44%|████▍     | 40/90 [01:16<01:16,  1.52s/it]"
          ]
        },
        {
          "name": "stdout",
          "output_type": "stream",
          "text": [
            "Score: 4.5\n",
            "\n"
          ]
        },
        {
          "name": "stderr",
          "output_type": "stream",
          "text": [
            " 46%|████▌     | 41/90 [01:18<01:14,  1.51s/it]"
          ]
        },
        {
          "name": "stdout",
          "output_type": "stream",
          "text": [
            "Score: 4.0\n",
            "\n"
          ]
        },
        {
          "name": "stderr",
          "output_type": "stream",
          "text": [
            " 47%|████▋     | 42/90 [01:19<01:10,  1.48s/it]"
          ]
        },
        {
          "name": "stdout",
          "output_type": "stream",
          "text": [
            "Score: 0.0\n",
            "\n"
          ]
        },
        {
          "name": "stderr",
          "output_type": "stream",
          "text": [
            " 48%|████▊     | 43/90 [01:20<01:09,  1.47s/it]"
          ]
        },
        {
          "name": "stdout",
          "output_type": "stream",
          "text": [
            "Score: 5.0\n",
            "\n"
          ]
        },
        {
          "name": "stderr",
          "output_type": "stream",
          "text": [
            " 49%|████▉     | 44/90 [01:22<01:08,  1.50s/it]"
          ]
        },
        {
          "name": "stdout",
          "output_type": "stream",
          "text": [
            "Score: 4.0\n",
            "\n"
          ]
        },
        {
          "name": "stderr",
          "output_type": "stream",
          "text": [
            " 50%|█████     | 45/90 [01:23<01:04,  1.43s/it]"
          ]
        },
        {
          "name": "stdout",
          "output_type": "stream",
          "text": [
            "Score: 4.5\n",
            "\n"
          ]
        },
        {
          "name": "stderr",
          "output_type": "stream",
          "text": [
            " 51%|█████     | 46/90 [01:25<01:03,  1.43s/it]"
          ]
        },
        {
          "name": "stdout",
          "output_type": "stream",
          "text": [
            "Score: 5.0\n",
            "\n"
          ]
        },
        {
          "name": "stderr",
          "output_type": "stream",
          "text": [
            " 52%|█████▏    | 47/90 [01:26<01:01,  1.44s/it]"
          ]
        },
        {
          "name": "stdout",
          "output_type": "stream",
          "text": [
            "Score: 5.0\n",
            "\n"
          ]
        },
        {
          "name": "stderr",
          "output_type": "stream",
          "text": [
            " 53%|█████▎    | 48/90 [01:28<01:02,  1.48s/it]"
          ]
        },
        {
          "name": "stdout",
          "output_type": "stream",
          "text": [
            "Score: 5.0\n",
            "\n"
          ]
        },
        {
          "name": "stderr",
          "output_type": "stream",
          "text": [
            " 54%|█████▍    | 49/90 [01:29<01:01,  1.50s/it]"
          ]
        },
        {
          "name": "stdout",
          "output_type": "stream",
          "text": [
            "Score: 5.0\n",
            "\n"
          ]
        },
        {
          "name": "stderr",
          "output_type": "stream",
          "text": [
            " 56%|█████▌    | 50/90 [01:31<00:59,  1.49s/it]"
          ]
        },
        {
          "name": "stdout",
          "output_type": "stream",
          "text": [
            "Score: 1.0\n",
            "\n"
          ]
        },
        {
          "name": "stderr",
          "output_type": "stream",
          "text": [
            " 57%|█████▋    | 51/90 [01:32<00:57,  1.47s/it]"
          ]
        },
        {
          "name": "stdout",
          "output_type": "stream",
          "text": [
            "Score: 1.0\n",
            "\n"
          ]
        },
        {
          "name": "stderr",
          "output_type": "stream",
          "text": [
            " 58%|█████▊    | 52/90 [01:34<00:56,  1.48s/it]"
          ]
        },
        {
          "name": "stdout",
          "output_type": "stream",
          "text": [
            "Score: 1.0\n",
            "\n"
          ]
        },
        {
          "name": "stderr",
          "output_type": "stream",
          "text": [
            " 59%|█████▉    | 53/90 [01:35<00:55,  1.49s/it]"
          ]
        },
        {
          "name": "stdout",
          "output_type": "stream",
          "text": [
            "5.0\n",
            "\n"
          ]
        },
        {
          "name": "stderr",
          "output_type": "stream",
          "text": [
            " 60%|██████    | 54/90 [01:37<00:53,  1.48s/it]"
          ]
        },
        {
          "name": "stdout",
          "output_type": "stream",
          "text": [
            "Score: 1.0\n",
            "\n"
          ]
        },
        {
          "name": "stderr",
          "output_type": "stream",
          "text": [
            " 61%|██████    | 55/90 [01:38<00:51,  1.46s/it]"
          ]
        },
        {
          "name": "stdout",
          "output_type": "stream",
          "text": [
            "Score: 5.0\n",
            "\n"
          ]
        },
        {
          "name": "stderr",
          "output_type": "stream",
          "text": [
            " 62%|██████▏   | 56/90 [01:40<00:51,  1.52s/it]"
          ]
        },
        {
          "name": "stdout",
          "output_type": "stream",
          "text": [
            "Score: 5.0\n",
            "\n"
          ]
        },
        {
          "name": "stderr",
          "output_type": "stream",
          "text": [
            " 63%|██████▎   | 57/90 [01:41<00:50,  1.52s/it]"
          ]
        },
        {
          "name": "stdout",
          "output_type": "stream",
          "text": [
            "Score: 5.0\n",
            "\n"
          ]
        },
        {
          "name": "stderr",
          "output_type": "stream",
          "text": [
            " 64%|██████▍   | 58/90 [01:43<00:47,  1.49s/it]"
          ]
        },
        {
          "name": "stdout",
          "output_type": "stream",
          "text": [
            "Score: 5.0\n",
            "\n"
          ]
        },
        {
          "name": "stderr",
          "output_type": "stream",
          "text": [
            " 66%|██████▌   | 59/90 [02:07<04:14,  8.21s/it]"
          ]
        },
        {
          "name": "stdout",
          "output_type": "stream",
          "text": [
            "Score: 5.0\n",
            "\n"
          ]
        },
        {
          "name": "stderr",
          "output_type": "stream",
          "text": [
            " 67%|██████▋   | 60/90 [02:08<03:06,  6.20s/it]"
          ]
        },
        {
          "name": "stdout",
          "output_type": "stream",
          "text": [
            "Score: 1.0\n",
            "\n"
          ]
        },
        {
          "name": "stderr",
          "output_type": "stream",
          "text": [
            " 68%|██████▊   | 61/90 [02:10<02:19,  4.81s/it]"
          ]
        },
        {
          "name": "stdout",
          "output_type": "stream",
          "text": [
            "Score: 5.0\n",
            "\n"
          ]
        },
        {
          "name": "stderr",
          "output_type": "stream",
          "text": [
            " 69%|██████▉   | 62/90 [02:11<01:47,  3.82s/it]"
          ]
        },
        {
          "name": "stdout",
          "output_type": "stream",
          "text": [
            "Score: 5.0\n",
            "\n"
          ]
        },
        {
          "name": "stderr",
          "output_type": "stream",
          "text": [
            " 70%|███████   | 63/90 [02:13<01:25,  3.17s/it]"
          ]
        },
        {
          "name": "stdout",
          "output_type": "stream",
          "text": [
            "Score: 5.0\n",
            "\n"
          ]
        },
        {
          "name": "stderr",
          "output_type": "stream",
          "text": [
            " 71%|███████   | 64/90 [02:14<01:08,  2.64s/it]"
          ]
        },
        {
          "name": "stdout",
          "output_type": "stream",
          "text": [
            "Score: 5.0\n",
            "\n"
          ]
        },
        {
          "name": "stderr",
          "output_type": "stream",
          "text": [
            " 72%|███████▏  | 65/90 [02:16<00:56,  2.27s/it]"
          ]
        },
        {
          "name": "stdout",
          "output_type": "stream",
          "text": [
            "Score: 5.0\n",
            "\n"
          ]
        },
        {
          "name": "stderr",
          "output_type": "stream",
          "text": [
            " 73%|███████▎  | 66/90 [02:17<00:48,  2.04s/it]"
          ]
        },
        {
          "name": "stdout",
          "output_type": "stream",
          "text": [
            "Score: 5.0\n",
            "\n"
          ]
        },
        {
          "name": "stderr",
          "output_type": "stream",
          "text": [
            " 74%|███████▍  | 67/90 [02:19<00:43,  1.88s/it]"
          ]
        },
        {
          "name": "stdout",
          "output_type": "stream",
          "text": [
            "Score: 5.0\n",
            "\n"
          ]
        },
        {
          "name": "stderr",
          "output_type": "stream",
          "text": [
            " 76%|███████▌  | 68/90 [02:20<00:38,  1.77s/it]"
          ]
        },
        {
          "name": "stdout",
          "output_type": "stream",
          "text": [
            "Score: 1.0\n",
            "\n"
          ]
        },
        {
          "name": "stderr",
          "output_type": "stream",
          "text": [
            " 77%|███████▋  | 69/90 [02:21<00:34,  1.63s/it]"
          ]
        },
        {
          "name": "stdout",
          "output_type": "stream",
          "text": [
            "Score: 5.0\n",
            "\n"
          ]
        },
        {
          "name": "stderr",
          "output_type": "stream",
          "text": [
            " 78%|███████▊  | 70/90 [02:23<00:31,  1.58s/it]"
          ]
        },
        {
          "name": "stdout",
          "output_type": "stream",
          "text": [
            "Score: 5.0\n",
            "\n"
          ]
        },
        {
          "name": "stderr",
          "output_type": "stream",
          "text": [
            " 79%|███████▉  | 71/90 [02:24<00:28,  1.48s/it]"
          ]
        },
        {
          "name": "stdout",
          "output_type": "stream",
          "text": [
            "Score: 5.0\n",
            "\n"
          ]
        },
        {
          "name": "stderr",
          "output_type": "stream",
          "text": [
            " 80%|████████  | 72/90 [02:25<00:25,  1.43s/it]"
          ]
        },
        {
          "name": "stdout",
          "output_type": "stream",
          "text": [
            "Score: 1.0\n",
            "\n"
          ]
        },
        {
          "name": "stderr",
          "output_type": "stream",
          "text": [
            " 81%|████████  | 73/90 [02:27<00:23,  1.41s/it]"
          ]
        },
        {
          "name": "stdout",
          "output_type": "stream",
          "text": [
            "Score: 5.0\n",
            "\n"
          ]
        },
        {
          "name": "stderr",
          "output_type": "stream",
          "text": [
            " 82%|████████▏ | 74/90 [02:28<00:22,  1.40s/it]"
          ]
        },
        {
          "name": "stdout",
          "output_type": "stream",
          "text": [
            "Score: 5.0\n",
            "\n"
          ]
        },
        {
          "name": "stderr",
          "output_type": "stream",
          "text": [
            " 83%|████████▎ | 75/90 [02:30<00:21,  1.42s/it]"
          ]
        },
        {
          "name": "stdout",
          "output_type": "stream",
          "text": [
            "Score: 5.0\n",
            "\n"
          ]
        },
        {
          "name": "stderr",
          "output_type": "stream",
          "text": [
            " 84%|████████▍ | 76/90 [02:31<00:20,  1.44s/it]"
          ]
        },
        {
          "name": "stdout",
          "output_type": "stream",
          "text": [
            "Score: 5.0\n",
            "\n"
          ]
        },
        {
          "name": "stderr",
          "output_type": "stream",
          "text": [
            " 86%|████████▌ | 77/90 [02:33<00:18,  1.43s/it]"
          ]
        },
        {
          "name": "stdout",
          "output_type": "stream",
          "text": [
            "Score: 5.0\n",
            "\n"
          ]
        },
        {
          "name": "stderr",
          "output_type": "stream",
          "text": [
            " 87%|████████▋ | 78/90 [02:34<00:17,  1.46s/it]"
          ]
        },
        {
          "name": "stdout",
          "output_type": "stream",
          "text": [
            "Score: 4.5\n",
            "\n"
          ]
        },
        {
          "name": "stderr",
          "output_type": "stream",
          "text": [
            " 88%|████████▊ | 79/90 [02:35<00:15,  1.37s/it]"
          ]
        },
        {
          "name": "stdout",
          "output_type": "stream",
          "text": [
            "Score: 1.0\n",
            "\n"
          ]
        },
        {
          "name": "stderr",
          "output_type": "stream",
          "text": [
            " 89%|████████▉ | 80/90 [02:37<00:13,  1.40s/it]"
          ]
        },
        {
          "name": "stdout",
          "output_type": "stream",
          "text": [
            "Score: 5.0\n",
            "\n"
          ]
        },
        {
          "name": "stderr",
          "output_type": "stream",
          "text": [
            " 90%|█████████ | 81/90 [02:38<00:12,  1.40s/it]"
          ]
        },
        {
          "name": "stdout",
          "output_type": "stream",
          "text": [
            "Score: 5.0\n",
            "\n"
          ]
        },
        {
          "name": "stderr",
          "output_type": "stream",
          "text": [
            " 91%|█████████ | 82/90 [02:40<00:11,  1.42s/it]"
          ]
        },
        {
          "name": "stdout",
          "output_type": "stream",
          "text": [
            "Score: 1.0\n",
            "\n"
          ]
        },
        {
          "name": "stderr",
          "output_type": "stream",
          "text": [
            " 92%|█████████▏| 83/90 [02:41<00:09,  1.36s/it]"
          ]
        },
        {
          "name": "stdout",
          "output_type": "stream",
          "text": [
            "Score: 5.0\n",
            "\n"
          ]
        },
        {
          "name": "stderr",
          "output_type": "stream",
          "text": [
            " 93%|█████████▎| 84/90 [02:42<00:08,  1.37s/it]"
          ]
        },
        {
          "name": "stdout",
          "output_type": "stream",
          "text": [
            "Score: 5.0\n",
            "\n"
          ]
        },
        {
          "name": "stderr",
          "output_type": "stream",
          "text": [
            " 94%|█████████▍| 85/90 [02:43<00:06,  1.33s/it]"
          ]
        },
        {
          "name": "stdout",
          "output_type": "stream",
          "text": [
            "3.  0\n",
            "\n"
          ]
        },
        {
          "name": "stderr",
          "output_type": "stream",
          "text": [
            " 96%|█████████▌| 86/90 [02:45<00:05,  1.31s/it]"
          ]
        },
        {
          "name": "stdout",
          "output_type": "stream",
          "text": [
            "Score: 5.0\n",
            "\n"
          ]
        },
        {
          "name": "stderr",
          "output_type": "stream",
          "text": [
            " 97%|█████████▋| 87/90 [02:46<00:04,  1.36s/it]"
          ]
        },
        {
          "name": "stdout",
          "output_type": "stream",
          "text": [
            "Score: 5.0\n",
            "\n"
          ]
        },
        {
          "name": "stderr",
          "output_type": "stream",
          "text": [
            " 98%|█████████▊| 88/90 [03:11<00:16,  8.48s/it]"
          ]
        },
        {
          "name": "stdout",
          "output_type": "stream",
          "text": [
            "Score: 5.0\n",
            "\n"
          ]
        },
        {
          "name": "stderr",
          "output_type": "stream",
          "text": [
            " 99%|█████████▉| 89/90 [03:12<00:06,  6.29s/it]"
          ]
        },
        {
          "name": "stdout",
          "output_type": "stream",
          "text": [
            "Score: 5.0\n",
            "\n"
          ]
        },
        {
          "name": "stderr",
          "output_type": "stream",
          "text": [
            "100%|██████████| 90/90 [03:14<00:00,  2.16s/it]"
          ]
        },
        {
          "name": "stdout",
          "output_type": "stream",
          "text": [
            "Score: 5.0\n",
            "\n"
          ]
        },
        {
          "name": "stderr",
          "output_type": "stream",
          "text": [
            "\n"
          ]
        }
      ],
      "source": [
        "for _ in tqdm(range(len(all_test_df)), total=len(all_test_df)):\n",
        "    # limit = 30\n",
        "    # count = 0\n",
        "    row = all_test_df.iloc[0]  # first row\n",
        "    score = generate_prediction(train_df, row['answer'])\n",
        "    predictions.loc[len(predictions)] = [row['ID'], score]\n",
        "    \n",
        "    all_test_df = all_test_df.iloc[1:].reset_index(drop=True)\n",
        "    # count += 1\n",
        "    # if count == limit:\n",
        "    #     break"
      ]
    },
    {
      "cell_type": "code",
      "execution_count": 203,
      "metadata": {},
      "outputs": [],
      "source": [
        "pred_df = predictions.sort_values(by='ID')\n",
        "# remove .0 from ID\n",
        "pred_df['ID'] = pred_df['ID'].astype(int)\n",
        "pred_df.to_csv('predictions.csv', index=False)"
      ]
    },
    {
      "cell_type": "code",
      "execution_count": 204,
      "metadata": {},
      "outputs": [
        {
          "data": {
            "text/html": [
              "<div>\n",
              "<style scoped>\n",
              "    .dataframe tbody tr th:only-of-type {\n",
              "        vertical-align: middle;\n",
              "    }\n",
              "\n",
              "    .dataframe tbody tr th {\n",
              "        vertical-align: top;\n",
              "    }\n",
              "\n",
              "    .dataframe thead th {\n",
              "        text-align: right;\n",
              "    }\n",
              "</style>\n",
              "<table border=\"1\" class=\"dataframe\">\n",
              "  <thead>\n",
              "    <tr style=\"text-align: right;\">\n",
              "      <th></th>\n",
              "      <th>ID</th>\n",
              "      <th>score</th>\n",
              "    </tr>\n",
              "  </thead>\n",
              "  <tbody>\n",
              "    <tr>\n",
              "      <th>45</th>\n",
              "      <td>362</td>\n",
              "      <td>5.0</td>\n",
              "    </tr>\n",
              "    <tr>\n",
              "      <th>68</th>\n",
              "      <td>363</td>\n",
              "      <td>5.0</td>\n",
              "    </tr>\n",
              "    <tr>\n",
              "      <th>22</th>\n",
              "      <td>364</td>\n",
              "      <td>0.0</td>\n",
              "    </tr>\n",
              "    <tr>\n",
              "      <th>46</th>\n",
              "      <td>365</td>\n",
              "      <td>5.0</td>\n",
              "    </tr>\n",
              "    <tr>\n",
              "      <th>69</th>\n",
              "      <td>366</td>\n",
              "      <td>5.0</td>\n",
              "    </tr>\n",
              "    <tr>\n",
              "      <th>...</th>\n",
              "      <td>...</td>\n",
              "      <td>...</td>\n",
              "    </tr>\n",
              "    <tr>\n",
              "      <th>67</th>\n",
              "      <td>447</td>\n",
              "      <td>1.0</td>\n",
              "    </tr>\n",
              "    <tr>\n",
              "      <th>19</th>\n",
              "      <td>448</td>\n",
              "      <td>1.0</td>\n",
              "    </tr>\n",
              "    <tr>\n",
              "      <th>20</th>\n",
              "      <td>449</td>\n",
              "      <td>1.0</td>\n",
              "    </tr>\n",
              "    <tr>\n",
              "      <th>21</th>\n",
              "      <td>450</td>\n",
              "      <td>3.0</td>\n",
              "    </tr>\n",
              "    <tr>\n",
              "      <th>89</th>\n",
              "      <td>451</td>\n",
              "      <td>5.0</td>\n",
              "    </tr>\n",
              "  </tbody>\n",
              "</table>\n",
              "<p>90 rows × 2 columns</p>\n",
              "</div>"
            ],
            "text/plain": [
              "     ID  score\n",
              "45  362    5.0\n",
              "68  363    5.0\n",
              "22  364    0.0\n",
              "46  365    5.0\n",
              "69  366    5.0\n",
              "..  ...    ...\n",
              "67  447    1.0\n",
              "19  448    1.0\n",
              "20  449    1.0\n",
              "21  450    3.0\n",
              "89  451    5.0\n",
              "\n",
              "[90 rows x 2 columns]"
            ]
          },
          "execution_count": 204,
          "metadata": {},
          "output_type": "execute_result"
        }
      ],
      "source": [
        "pred_df"
      ]
    },
    {
      "cell_type": "code",
      "execution_count": 205,
      "metadata": {
        "id": "1MkAmuGVaub5"
      },
      "outputs": [],
      "source": [
        "base_predictions = pd.read_csv('./predictions/predictions_base.csv')\n",
        "pred_cot1 = pd.read_csv('./predictions/predictions_cot1.csv')\n",
        "pred_sorted = pd.read_csv('./predictions/predictions_sorted.csv')\n",
        "pred_limit10 = pd.read_csv('./predictions/predictions_limit10.csv')\n",
        "pred_limit18 = pd.read_csv('./predictions/predictions_limit18.csv')\n",
        "pred_limit25 = pd.read_csv('./predictions/predictions_limit25.csv')\n",
        "pred_limit40 = pd.read_csv('./predictions/predictions_limit40.csv')\n",
        "pred_limit40_lite = pd.read_csv('./predictions/predictions_limit40_lite.csv')\n",
        "pred_limit40_t02 = pd.read_csv('./predictions/predictions_limit40_t0.2.csv')\n",
        "pred_limit45 = pd.read_csv('./predictions/predictions_limit45.csv')"
      ]
    },
    {
      "cell_type": "code",
      "execution_count": 206,
      "metadata": {},
      "outputs": [
        {
          "name": "stdout",
          "output_type": "stream",
          "text": [
            "Average difference between base and limit40 predictions: 0.18888888888888888\n",
            "Average difference between limit40 and limit40_lite predictions: 0.5111111111111111\n"
          ]
        }
      ],
      "source": [
        "def avg_diff(a: pd.DataFrame, b: pd.DataFrame) -> float:\n",
        "    merged = pd.merge(a, b, on='ID', how='inner')\n",
        "    merged['score_diff'] = abs(merged['score_x'] - merged['score_y'])\n",
        "    avg_difference = merged['score_diff'].mean()\n",
        "\n",
        "    return avg_difference\n",
        "\n",
        "# print(f\"Average difference between base and limit25 predictions: {avg_diff(base_predictions, pred_limit25)}\")\n",
        "# print(f\"Average difference between base and limit18 predictions: {avg_diff(base_predictions, pred_limit18)}\")\n",
        "# print(f\"Average difference between base and limit10 predictions: {avg_diff(base_predictions, pred_limit10)}\")\n",
        "# print(f\"Average difference between base and sorted predictions: {avg_diff(base_predictions, pred_sorted)}\")\n",
        "print(f\"Average difference between base and limit40 predictions: {avg_diff(base_predictions, pred_limit40)}\")\n",
        "# print(f\"Average difference between limit40 and limit40_t02 predictions: {avg_diff(pred_limit40, pred_limit40_t02)}\")\n",
        "print(f\"Average difference between limit40 and limit40_lite predictions: {avg_diff(pred_limit40, pred_limit40_lite)}\")\n",
        "# print(f\"Average difference between base and limit45 predictions: {avg_diff(base_predictions, pred_limit45)}\")\n",
        "# print(f\"Average difference between limit40 and limit45 predictions: {avg_diff(pred_limit40, pred_limit45)}\")\n"
      ]
    },
    {
      "cell_type": "code",
      "execution_count": null,
      "metadata": {},
      "outputs": [
        {
          "data": {
            "image/png": "[encoded data removed]",
            "text/plain": [
              "<Figure size 1000x600 with 1 Axes>"
            ]
          },
          "metadata": {},
          "output_type": "display_data"
        }
      ],
      "source": [
        "import matplotlib.pyplot as plt\n",
        "\n",
        "plt.figure(figsize=(10, 6))\n",
        "# plt.plot(base_predictions['ID'], base_predictions['score'], label='Base Predictions')\n",
        "# plt.plot(pred_sorted['ID'], pred_sorted['score'], label='pred_sorted')\n",
        "# plt.plot(pred_cot1['ID'], pred_cot1['score'], label='pred_cot1')\n",
        "# plt.plot(pred_limit10['ID'], pred_limit10['score'], label='pred_limit10')\n",
        "# plt.plot(pred_limit18['ID'], pred_limit18['score'], label='pred_limit18')\n",
        "# plt.plot(pred_limit40_t02['ID'], pred_limit40_t02['score'], label='pred_limit40_t02')\n",
        "plt.plot(pred_limit40['ID'], pred_limit40_lite['score'], label='pred_limit40')\n",
        "plt.plot(pred_limit40['ID'], pred_limit40['score'], label='pred_limit40')\n",
        "# plt.plot(pred_limit45['ID'], pred_limit45['score'], label='pred_limit45')\n",
        "plt.xlabel('ID')\n",
        "plt.ylabel('Score')\n",
        "plt.legend()\n",
        "plt.title('Base Predictions vs Prediction A')\n",
        "plt.show()"
      ]
    },
    {
      "cell_type": "code",
      "execution_count": null,
      "metadata": {},
      "outputs": [],
      "source": []
    }
  ],
  "metadata": {
    "colab": {
      "provenance": []
    },
    "kernelspec": {
      "display_name": ".venv",
      "language": "python",
      "name": "python3"
    },
    "language_info": {
      "codemirror_mode": {
        "name": "ipython",
        "version": 3
      },
      "file_extension": ".py",
      "mimetype": "text/x-python",
      "name": "python",
      "nbconvert_exporter": "python",
      "pygments_lexer": "ipython3",
      "version": "3.12.5"
    }
  },
  "nbformat": 4,
  "nbformat_minor": 0
}

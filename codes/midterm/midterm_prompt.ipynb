{
  "cells": [
    {
      "cell_type": "markdown",
      "metadata": {
        "id": "XbZWAbxnQSAy"
      },
      "source": [
        "# Setup"
      ]
    },
    {
      "cell_type": "code",
      "execution_count": 1,
      "metadata": {
        "colab": {
          "base_uri": "https://localhost:8080/"
        },
        "id": "5opS4ImR71fB",
        "outputId": "a582ec0f-00fc-42ee-9c9c-15d32390a919"
      },
      "outputs": [
        {
          "name": "stdout",
          "output_type": "stream",
          "text": [
            "Requirement already satisfied: ratelimit in /Users/idhibhatpankam/Code/courses/NLP-SYS/.venv/lib/python3.12/site-packages (2.2.1)\n",
            "\n",
            "\u001b[1m[\u001b[0m\u001b[34;49mnotice\u001b[0m\u001b[1;39;49m]\u001b[0m\u001b[39;49m A new release of pip is available: \u001b[0m\u001b[31;49m24.2\u001b[0m\u001b[39;49m -> \u001b[0m\u001b[32;49m25.0.1\u001b[0m\n",
            "\u001b[1m[\u001b[0m\u001b[34;49mnotice\u001b[0m\u001b[1;39;49m]\u001b[0m\u001b[39;49m To update, run: \u001b[0m\u001b[32;49mpip install --upgrade pip\u001b[0m\n"
          ]
        }
      ],
      "source": [
        "!pip install ratelimit"
      ]
    },
    {
      "cell_type": "code",
      "execution_count": 2,
      "metadata": {},
      "outputs": [],
      "source": [
        "import google.generativeai as genai\n",
        "from ratelimit import limits, sleep_and_retry\n",
        "from tqdm import tqdm\n",
        "from sklearn.metrics import accuracy_score\n",
        "import pandas as pd\n",
        "import re"
      ]
    },
    {
      "cell_type": "markdown",
      "metadata": {},
      "source": [
        "# Translating\n",
        "the data will be translated from TH -> EN to improve the accuracy when used on LLMs."
      ]
    },
    {
      "cell_type": "code",
      "execution_count": null,
      "metadata": {},
      "outputs": [],
      "source": [
        "# import os\n",
        "# from google.cloud import translate_v2 as translate\n",
        "\n",
        "# os.environ[\"GOOGLE_APPLICATION_CREDENTIALS\"] = \"./gcp-key.json\"\n",
        "# client = translate.Client()"
      ]
    },
    {
      "cell_type": "code",
      "execution_count": null,
      "metadata": {},
      "outputs": [],
      "source": [
        "# train_df = pd.read_csv('train.csv')\n",
        "# test_df = pd.read_csv('test.csv')\n",
        "\n",
        "# answers_train = train_df[['ID', 'answer']]\n",
        "# answers_test = test_df[['ID', 'answer']]"
      ]
    },
    {
      "cell_type": "code",
      "execution_count": null,
      "metadata": {},
      "outputs": [],
      "source": [
        "# answers_train['answer'] = answers_train['answer'].apply(lambda x: client.translate(x, source_language='th', target_language='en')['translatedText'])\n",
        "# answers_test['answer'] = answers_test['answer'].apply(lambda x: client.translate(x, source_language='th', target_language='en')['translatedText'])"
      ]
    },
    {
      "cell_type": "code",
      "execution_count": null,
      "metadata": {},
      "outputs": [],
      "source": [
        "# print(answers_train.shape, answers_test.shape, train_df.shape, test_df.shape)\n",
        "# train_df['answer'] = answers_train['answer']\n",
        "# test_df['answer'] = answers_test['answer']\n",
        "\n",
        "# train_df.to_csv('train_EN.csv', index=False)\n",
        "# test_df.to_csv('test_EN.csv', index=False)"
      ]
    },
    {
      "cell_type": "markdown",
      "metadata": {
        "id": "raYLIOwaQPhV"
      },
      "source": [
        "# Prompting"
      ]
    },
    {
      "cell_type": "code",
      "execution_count": 3,
      "metadata": {
        "id": "Xynb-zTZ_FC1"
      },
      "outputs": [],
      "source": [
        "# from google.colab import userdata\n",
        "# api_key = userdata.get('gemini_api_key')\n",
        "\n",
        "import os\n",
        "from dotenv import load_dotenv\n",
        "\n",
        "load_dotenv()\n",
        "api_key = os.getenv(\"GEMINI_API_KEY\")"
      ]
    },
    {
      "cell_type": "code",
      "execution_count": 4,
      "metadata": {
        "id": "pTdKNGXkMwDT"
      },
      "outputs": [],
      "source": [
        "genai.configure(api_key=api_key)\n",
        "generation_config = genai.GenerationConfig(\n",
        "        temperature=0,\n",
        ")\n",
        "model = genai.GenerativeModel(\"gemini-2.0-flash-001\", generation_config=generation_config)"
      ]
    },
    {
      "cell_type": "code",
      "execution_count": 5,
      "metadata": {
        "id": "9ruRGCHW9N1H"
      },
      "outputs": [],
      "source": [
        "@sleep_and_retry\n",
        "@limits(calls=15, period=60)\n",
        "def generate_content_with_rate_limit(prompt):\n",
        "  return model.generate_content(prompt).text"
      ]
    },
    {
      "cell_type": "code",
      "execution_count": 6,
      "metadata": {},
      "outputs": [],
      "source": [
        "train_df = pd.read_csv('train_EN.csv')\n",
        "test_df = pd.read_csv('test_EN.csv')"
      ]
    },
    {
      "cell_type": "code",
      "execution_count": 7,
      "metadata": {},
      "outputs": [
        {
          "data": {
            "text/html": [
              "<div>\n",
              "<style scoped>\n",
              "    .dataframe tbody tr th:only-of-type {\n",
              "        vertical-align: middle;\n",
              "    }\n",
              "\n",
              "    .dataframe tbody tr th {\n",
              "        vertical-align: top;\n",
              "    }\n",
              "\n",
              "    .dataframe thead th {\n",
              "        text-align: right;\n",
              "    }\n",
              "</style>\n",
              "<table border=\"1\" class=\"dataframe\">\n",
              "  <thead>\n",
              "    <tr style=\"text-align: right;\">\n",
              "      <th></th>\n",
              "      <th>ID</th>\n",
              "      <th>set</th>\n",
              "      <th>question</th>\n",
              "      <th>answer</th>\n",
              "      <th>score</th>\n",
              "    </tr>\n",
              "  </thead>\n",
              "  <tbody>\n",
              "    <tr>\n",
              "      <th>0</th>\n",
              "      <td>0</td>\n",
              "      <td>Q2</td>\n",
              "      <td>Hamtube is an online video viewing platform th...</td>\n",
              "      <td>The granularity should be low because we want ...</td>\n",
              "      <td>0.0</td>\n",
              "    </tr>\n",
              "    <tr>\n",
              "      <th>1</th>\n",
              "      <td>1</td>\n",
              "      <td>Q3</td>\n",
              "      <td>Hamtube is an online video viewing platform th...</td>\n",
              "      <td>Agree because it is collecting data from multi...</td>\n",
              "      <td>5.0</td>\n",
              "    </tr>\n",
              "    <tr>\n",
              "      <th>2</th>\n",
              "      <td>2</td>\n",
              "      <td>Q2</td>\n",
              "      <td>Hamtube is an online video viewing platform th...</td>\n",
              "      <td>Granularity should be #checkout events/ #cooki...</td>\n",
              "      <td>5.0</td>\n",
              "    </tr>\n",
              "    <tr>\n",
              "      <th>3</th>\n",
              "      <td>3</td>\n",
              "      <td>Q3</td>\n",
              "      <td>Hamtube is an online video viewing platform th...</td>\n",
              "      <td>Agree. Let X~Binomial(N,p), where p is the rat...</td>\n",
              "      <td>2.0</td>\n",
              "    </tr>\n",
              "    <tr>\n",
              "      <th>4</th>\n",
              "      <td>4</td>\n",
              "      <td>Q1</td>\n",
              "      <td>Hamtube is an online video viewing platform th...</td>\n",
              "      <td>Agreed, because A/B Testing is an effective wa...</td>\n",
              "      <td>4.5</td>\n",
              "    </tr>\n",
              "  </tbody>\n",
              "</table>\n",
              "</div>"
            ],
            "text/plain": [
              "   ID set                                           question  \\\n",
              "0   0  Q2  Hamtube is an online video viewing platform th...   \n",
              "1   1  Q3  Hamtube is an online video viewing platform th...   \n",
              "2   2  Q2  Hamtube is an online video viewing platform th...   \n",
              "3   3  Q3  Hamtube is an online video viewing platform th...   \n",
              "4   4  Q1  Hamtube is an online video viewing platform th...   \n",
              "\n",
              "                                              answer  score  \n",
              "0  The granularity should be low because we want ...    0.0  \n",
              "1  Agree because it is collecting data from multi...    5.0  \n",
              "2  Granularity should be #checkout events/ #cooki...    5.0  \n",
              "3  Agree. Let X~Binomial(N,p), where p is the rat...    2.0  \n",
              "4  Agreed, because A/B Testing is an effective wa...    4.5  "
            ]
          },
          "execution_count": 7,
          "metadata": {},
          "output_type": "execute_result"
        }
      ],
      "source": [
        "train_df.head()"
      ]
    },
    {
      "cell_type": "code",
      "execution_count": 8,
      "metadata": {},
      "outputs": [
        {
          "data": {
            "text/html": [
              "<div>\n",
              "<style scoped>\n",
              "    .dataframe tbody tr th:only-of-type {\n",
              "        vertical-align: middle;\n",
              "    }\n",
              "\n",
              "    .dataframe tbody tr th {\n",
              "        vertical-align: top;\n",
              "    }\n",
              "\n",
              "    .dataframe thead th {\n",
              "        text-align: right;\n",
              "    }\n",
              "</style>\n",
              "<table border=\"1\" class=\"dataframe\">\n",
              "  <thead>\n",
              "    <tr style=\"text-align: right;\">\n",
              "      <th></th>\n",
              "      <th>ID</th>\n",
              "      <th>set</th>\n",
              "      <th>question</th>\n",
              "      <th>answer</th>\n",
              "    </tr>\n",
              "  </thead>\n",
              "  <tbody>\n",
              "    <tr>\n",
              "      <th>0</th>\n",
              "      <td>362</td>\n",
              "      <td>Q3</td>\n",
              "      <td>Hamtube is an online video viewing platform th...</td>\n",
              "      <td>Yes, because in this problem, the variable is ...</td>\n",
              "    </tr>\n",
              "    <tr>\n",
              "      <th>1</th>\n",
              "      <td>363</td>\n",
              "      <td>Q4</td>\n",
              "      <td>Hamtube is an online video viewing platform th...</td>\n",
              "      <td>50/50 has the advantage of being able to colle...</td>\n",
              "    </tr>\n",
              "    <tr>\n",
              "      <th>2</th>\n",
              "      <td>364</td>\n",
              "      <td>Q2</td>\n",
              "      <td>Hamtube is an online video viewing platform th...</td>\n",
              "      <td>1. Number of views 2. Number of ad clicks 3. T...</td>\n",
              "    </tr>\n",
              "    <tr>\n",
              "      <th>3</th>\n",
              "      <td>365</td>\n",
              "      <td>Q3</td>\n",
              "      <td>Hamtube is an online video viewing platform th...</td>\n",
              "      <td>Agree, because a click can have two possible o...</td>\n",
              "    </tr>\n",
              "    <tr>\n",
              "      <th>4</th>\n",
              "      <td>366</td>\n",
              "      <td>Q4</td>\n",
              "      <td>Hamtube is an online video viewing platform th...</td>\n",
              "      <td>50/50 - It will take less time to collect data...</td>\n",
              "    </tr>\n",
              "  </tbody>\n",
              "</table>\n",
              "</div>"
            ],
            "text/plain": [
              "    ID set                                           question  \\\n",
              "0  362  Q3  Hamtube is an online video viewing platform th...   \n",
              "1  363  Q4  Hamtube is an online video viewing platform th...   \n",
              "2  364  Q2  Hamtube is an online video viewing platform th...   \n",
              "3  365  Q3  Hamtube is an online video viewing platform th...   \n",
              "4  366  Q4  Hamtube is an online video viewing platform th...   \n",
              "\n",
              "                                              answer  \n",
              "0  Yes, because in this problem, the variable is ...  \n",
              "1  50/50 has the advantage of being able to colle...  \n",
              "2  1. Number of views 2. Number of ad clicks 3. T...  \n",
              "3  Agree, because a click can have two possible o...  \n",
              "4  50/50 - It will take less time to collect data...  "
            ]
          },
          "execution_count": 8,
          "metadata": {},
          "output_type": "execute_result"
        }
      ],
      "source": [
        "test_df.head()"
      ]
    },
    {
      "cell_type": "code",
      "execution_count": 9,
      "metadata": {},
      "outputs": [
        {
          "data": {
            "text/plain": [
              "score\n",
              "5.00    150\n",
              "1.00     58\n",
              "0.00     50\n",
              "3.00     26\n",
              "2.00     20\n",
              "4.00     15\n",
              "0.50     10\n",
              "4.50      9\n",
              "3.50      8\n",
              "1.50      8\n",
              "2.50      5\n",
              "4.25      1\n",
              "0.75      1\n",
              "4.75      1\n",
              "Name: count, dtype: int64"
            ]
          },
          "execution_count": 9,
          "metadata": {},
          "output_type": "execute_result"
        }
      ],
      "source": [
        "train_df['score'].value_counts()"
      ]
    },
    {
      "cell_type": "code",
      "execution_count": 10,
      "metadata": {},
      "outputs": [],
      "source": [
        "Q1_train = train_df[train_df['set'] == 'Q1']\n",
        "Q2_train = train_df[train_df['set'] == 'Q2']\n",
        "Q3_train = train_df[train_df['set'] == 'Q3']\n",
        "Q4_train = train_df[train_df['set'] == 'Q4']\n",
        "\n",
        "Q1_test = test_df[test_df['set'] == 'Q1']\n",
        "Q2_test = test_df[test_df['set'] == 'Q2']\n",
        "Q3_test = test_df[test_df['set'] == 'Q3']\n",
        "Q4_test = test_df[test_df['set'] == 'Q4']"
      ]
    },
    {
      "cell_type": "code",
      "execution_count": 11,
      "metadata": {},
      "outputs": [
        {
          "data": {
            "text/plain": [
              "'Hamtube is an online video viewing platform that allows users to upload, share, and watch videos. Hamtaro is the head of Hamtube’s marketing team, and he wants to know if moving the placement of ads will increase sales (more users clicking on ads). So he decides to conduct A/B testing. Explain why Hamtaro should use A/B testing in his experiments, or offer a counter-argument if you disagree, and explain why.'"
            ]
          },
          "execution_count": 11,
          "metadata": {},
          "output_type": "execute_result"
        }
      ],
      "source": [
        "Q1_train['question'].iloc[0]"
      ]
    },
    {
      "cell_type": "code",
      "execution_count": 12,
      "metadata": {},
      "outputs": [],
      "source": [
        "def extract_valid_score(response: str) -> float:\n",
        "    allowed_scores = {i * 0.5 for i in range(11)}  # {0, 0.5, 1, ..., 5}\n",
        "    # extract the first valid number from the response\n",
        "    match = re.search(r\"\\d+(\\.\\d+)?\", response.strip())\n",
        "    \n",
        "    if match:\n",
        "        num = float(match.group())\n",
        "        \n",
        "        # round to nearest 0.5\n",
        "        rounded_num = round(num * 2) / 2  # ensure 0.5 intervals\n",
        "        if rounded_num in allowed_scores:\n",
        "            return rounded_num\n",
        "    \n",
        "    return 0.0"
      ]
    },
    {
      "cell_type": "code",
      "execution_count": 13,
      "metadata": {},
      "outputs": [
        {
          "data": {
            "text/plain": [
              "3.5"
            ]
          },
          "execution_count": 13,
          "metadata": {},
          "output_type": "execute_result"
        }
      ],
      "source": [
        "extract_valid_score(\"The answer is 3.5\")"
      ]
    },
    {
      "cell_type": "code",
      "execution_count": 27,
      "metadata": {},
      "outputs": [],
      "source": [
        "def generate_predictions(train_df: pd.DataFrame, test_df: pd.DataFrame) -> pd.DataFrame:\n",
        "    prompt = f\"\"\"\n",
        "You are a text regression model. Given an answer to a question, predict a numerical score between 0 and 5, with intervals of 0.5.\n",
        "The question is: \"{train_df['question'].iloc[0]}\".\n",
        "Here are some examples to help you get started:\\n\\n\"\"\"\n",
        "    for i, row in train_df.iterrows():\n",
        "        prompt += f\"Answer: {row['answer']}\\nScore: {row['score']}\\n\\n\"\n",
        "    \n",
        "    # print(prompt)\n",
        "    predictions = pd.DataFrame(columns=['ID', 'score'])\n",
        "    # limit = 30\n",
        "    # count = 0\n",
        "    for i, row in tqdm(test_df.iterrows(), total=test_df.shape[0]):\n",
        "        # add chain of thoughts here\n",
        "        prompt_with_test = f\"{prompt}What score would you give to the following answer?\\n\\n{row['answer']}\\n\\n\"\n",
        "        response: str = generate_content_with_rate_limit(prompt_with_test)\n",
        "        # print(response)\n",
        "        score = extract_valid_score(response)\n",
        "        predictions.loc[len(predictions)] = [row['ID'], score]\n",
        "        # count += 1\n",
        "        # if count == limit:\n",
        "        #     break\n",
        "\n",
        "    return predictions\n"
      ]
    },
    {
      "cell_type": "code",
      "execution_count": 35,
      "metadata": {},
      "outputs": [],
      "source": [
        "def generate_predictions_cot(train_df: pd.DataFrame, test_df: pd.DataFrame) -> pd.DataFrame:\n",
        "    prompt = f\"\"\"\n",
        "You are a text regression model. Given an answer to a question, predict a numerical score between 0 and 5, with intervals of 0.5.\n",
        "The question is: \"{train_df['question'].iloc[0]}\".\n",
        "Here are some examples:\\n\\n\"\"\"\n",
        "    \n",
        "    for i, row in train_df.iterrows():\n",
        "        prompt += f\"Answer: {row['answer']}\\nScore: {row['score']}\\n\\n\"\n",
        "\n",
        "    predictions = pd.DataFrame(columns=['ID', 'score'])\n",
        "\n",
        "    for i, row in tqdm(test_df.iterrows(), total=test_df.shape[0]):\n",
        "        # **Simplified CoT Prompting**\n",
        "        prompt_with_test = f\"\"\"{prompt}\n",
        "Now, analyze the following answer and determine a fair score.\n",
        "Answer: {row['answer']}\n",
        "\n",
        "Explanation: (Briefly justify the score)\n",
        "Predicted Score: (Provide a number between 0 and 5 in 0.5 increments)\n",
        "\"\"\"\n",
        "        response: str = generate_content_with_rate_limit(prompt_with_test)\n",
        "        \n",
        "        # Extract score reliably\n",
        "        score = extract_valid_score(response)  # Ensure extraction works well\n",
        "        predictions.loc[len(predictions)] = [row['ID'], score]\n",
        "\n",
        "    return predictions\n"
      ]
    },
    {
      "cell_type": "code",
      "execution_count": 36,
      "metadata": {},
      "outputs": [
        {
          "name": "stderr",
          "output_type": "stream",
          "text": [
            "100%|██████████| 22/22 [01:08<00:00,  3.12s/it]\n"
          ]
        }
      ],
      "source": [
        "# pred_Q1 = generate_predictions(Q1_train, Q1_test)\n",
        "pred_Q1 = generate_predictions_cot(Q1_train, Q1_test)"
      ]
    },
    {
      "cell_type": "code",
      "execution_count": 37,
      "metadata": {},
      "outputs": [
        {
          "name": "stderr",
          "output_type": "stream",
          "text": [
            "100%|██████████| 23/23 [01:20<00:00,  3.50s/it]\n"
          ]
        }
      ],
      "source": [
        "# pred_Q2 = generate_predictions(Q2_train, Q2_test)\n",
        "pred_Q2 = generate_predictions_cot(Q2_train, Q2_test)"
      ]
    },
    {
      "cell_type": "code",
      "execution_count": 38,
      "metadata": {},
      "outputs": [
        {
          "name": "stderr",
          "output_type": "stream",
          "text": [
            "100%|██████████| 23/23 [01:43<00:00,  4.48s/it]\n"
          ]
        }
      ],
      "source": [
        "# pred_Q3 = generate_predictions(Q3_train, Q3_test)\n",
        "pred_Q3 = generate_predictions_cot(Q3_train, Q3_test)"
      ]
    },
    {
      "cell_type": "code",
      "execution_count": 39,
      "metadata": {},
      "outputs": [
        {
          "name": "stderr",
          "output_type": "stream",
          "text": [
            "100%|██████████| 22/22 [01:08<00:00,  3.10s/it]\n"
          ]
        }
      ],
      "source": [
        "# pred_Q4 = generate_predictions(Q4_train, Q4_test)\n",
        "pred_Q4 = generate_predictions_cot(Q4_train, Q4_test)"
      ]
    },
    {
      "cell_type": "code",
      "execution_count": 40,
      "metadata": {},
      "outputs": [],
      "source": [
        "pred_df = pd.concat([pred_Q1, pred_Q2, pred_Q3, pred_Q4])\n",
        "pred_df = pred_df.sort_values(by='ID')\n",
        "# remove .0 from ID\n",
        "pred_df['ID'] = pred_df['ID'].astype(int)\n",
        "pred_df.to_csv('predictions.csv', index=False)"
      ]
    },
    {
      "cell_type": "code",
      "execution_count": null,
      "metadata": {},
      "outputs": [
        {
          "data": {
            "text/html": [
              "<div>\n",
              "<style scoped>\n",
              "    .dataframe tbody tr th:only-of-type {\n",
              "        vertical-align: middle;\n",
              "    }\n",
              "\n",
              "    .dataframe tbody tr th {\n",
              "        vertical-align: top;\n",
              "    }\n",
              "\n",
              "    .dataframe thead th {\n",
              "        text-align: right;\n",
              "    }\n",
              "</style>\n",
              "<table border=\"1\" class=\"dataframe\">\n",
              "  <thead>\n",
              "    <tr style=\"text-align: right;\">\n",
              "      <th></th>\n",
              "      <th>ID</th>\n",
              "      <th>score</th>\n",
              "    </tr>\n",
              "  </thead>\n",
              "  <tbody>\n",
              "    <tr>\n",
              "      <th>0</th>\n",
              "      <td>362</td>\n",
              "      <td>5.0</td>\n",
              "    </tr>\n",
              "    <tr>\n",
              "      <th>0</th>\n",
              "      <td>363</td>\n",
              "      <td>0.0</td>\n",
              "    </tr>\n",
              "    <tr>\n",
              "      <th>0</th>\n",
              "      <td>364</td>\n",
              "      <td>1.0</td>\n",
              "    </tr>\n",
              "    <tr>\n",
              "      <th>1</th>\n",
              "      <td>365</td>\n",
              "      <td>5.0</td>\n",
              "    </tr>\n",
              "    <tr>\n",
              "      <th>1</th>\n",
              "      <td>366</td>\n",
              "      <td>0.0</td>\n",
              "    </tr>\n",
              "    <tr>\n",
              "      <th>...</th>\n",
              "      <td>...</td>\n",
              "      <td>...</td>\n",
              "    </tr>\n",
              "    <tr>\n",
              "      <th>22</th>\n",
              "      <td>447</td>\n",
              "      <td>2.0</td>\n",
              "    </tr>\n",
              "    <tr>\n",
              "      <th>19</th>\n",
              "      <td>448</td>\n",
              "      <td>1.0</td>\n",
              "    </tr>\n",
              "    <tr>\n",
              "      <th>20</th>\n",
              "      <td>449</td>\n",
              "      <td>1.0</td>\n",
              "    </tr>\n",
              "    <tr>\n",
              "      <th>21</th>\n",
              "      <td>450</td>\n",
              "      <td>1.0</td>\n",
              "    </tr>\n",
              "    <tr>\n",
              "      <th>21</th>\n",
              "      <td>451</td>\n",
              "      <td>0.0</td>\n",
              "    </tr>\n",
              "  </tbody>\n",
              "</table>\n",
              "<p>90 rows × 2 columns</p>\n",
              "</div>"
            ],
            "text/plain": [
              "     ID  score\n",
              "0   362    5.0\n",
              "0   363    0.0\n",
              "0   364    1.0\n",
              "1   365    5.0\n",
              "1   366    0.0\n",
              "..  ...    ...\n",
              "22  447    2.0\n",
              "19  448    1.0\n",
              "20  449    1.0\n",
              "21  450    1.0\n",
              "21  451    0.0\n",
              "\n",
              "[90 rows x 2 columns]"
            ]
          },
          "execution_count": 26,
          "metadata": {},
          "output_type": "execute_result"
        }
      ],
      "source": [
        "pred_df"
      ]
    },
    {
      "cell_type": "code",
      "execution_count": 45,
      "metadata": {
        "id": "1MkAmuGVaub5"
      },
      "outputs": [],
      "source": [
        "base_predictions = pd.read_csv('./predictions/predictions_base.csv')\n",
        "pred_cot1 = pd.read_csv('./predictions/predictions_cot1.csv')\n",
        "pred_1 = pd.read_csv('./predictions/predictions_1.csv')"
      ]
    },
    {
      "cell_type": "code",
      "execution_count": 50,
      "metadata": {},
      "outputs": [
        {
          "data": {
            "image/png": "[encoded data removed]",
            "text/plain": [
              "<Figure size 1000x600 with 1 Axes>"
            ]
          },
          "metadata": {},
          "output_type": "display_data"
        }
      ],
      "source": [
        "import matplotlib.pyplot as plt\n",
        "\n",
        "plt.figure(figsize=(10, 6))\n",
        "plt.plot(base_predictions['ID'], base_predictions['score'], label='Base Predictions')\n",
        "# plt.plot(pred_1['ID'], pred_1['score'], label='pred_1')\n",
        "plt.plot(pred_cot1['ID'], pred_cot1['score'], label='pred_cot1')\n",
        "plt.xlabel('ID')\n",
        "plt.ylabel('Score')\n",
        "plt.legend()\n",
        "plt.title('Base Predictions vs Prediction A')\n",
        "plt.show()"
      ]
    },
    {
      "cell_type": "code",
      "execution_count": 43,
      "metadata": {},
      "outputs": [
        {
          "data": {
            "text/html": [
              "<div>\n",
              "<style scoped>\n",
              "    .dataframe tbody tr th:only-of-type {\n",
              "        vertical-align: middle;\n",
              "    }\n",
              "\n",
              "    .dataframe tbody tr th {\n",
              "        vertical-align: top;\n",
              "    }\n",
              "\n",
              "    .dataframe thead th {\n",
              "        text-align: right;\n",
              "    }\n",
              "</style>\n",
              "<table border=\"1\" class=\"dataframe\">\n",
              "  <thead>\n",
              "    <tr style=\"text-align: right;\">\n",
              "      <th></th>\n",
              "      <th>ID</th>\n",
              "      <th>score</th>\n",
              "    </tr>\n",
              "  </thead>\n",
              "  <tbody>\n",
              "    <tr>\n",
              "      <th>0</th>\n",
              "      <td>362</td>\n",
              "      <td>5.0</td>\n",
              "    </tr>\n",
              "    <tr>\n",
              "      <th>1</th>\n",
              "      <td>363</td>\n",
              "      <td>0.0</td>\n",
              "    </tr>\n",
              "    <tr>\n",
              "      <th>2</th>\n",
              "      <td>364</td>\n",
              "      <td>1.0</td>\n",
              "    </tr>\n",
              "    <tr>\n",
              "      <th>3</th>\n",
              "      <td>365</td>\n",
              "      <td>5.0</td>\n",
              "    </tr>\n",
              "    <tr>\n",
              "      <th>4</th>\n",
              "      <td>366</td>\n",
              "      <td>0.0</td>\n",
              "    </tr>\n",
              "    <tr>\n",
              "      <th>...</th>\n",
              "      <td>...</td>\n",
              "      <td>...</td>\n",
              "    </tr>\n",
              "    <tr>\n",
              "      <th>85</th>\n",
              "      <td>447</td>\n",
              "      <td>2.0</td>\n",
              "    </tr>\n",
              "    <tr>\n",
              "      <th>86</th>\n",
              "      <td>448</td>\n",
              "      <td>1.0</td>\n",
              "    </tr>\n",
              "    <tr>\n",
              "      <th>87</th>\n",
              "      <td>449</td>\n",
              "      <td>1.0</td>\n",
              "    </tr>\n",
              "    <tr>\n",
              "      <th>88</th>\n",
              "      <td>450</td>\n",
              "      <td>1.0</td>\n",
              "    </tr>\n",
              "    <tr>\n",
              "      <th>89</th>\n",
              "      <td>451</td>\n",
              "      <td>0.0</td>\n",
              "    </tr>\n",
              "  </tbody>\n",
              "</table>\n",
              "<p>90 rows × 2 columns</p>\n",
              "</div>"
            ],
            "text/plain": [
              "     ID  score\n",
              "0   362    5.0\n",
              "1   363    0.0\n",
              "2   364    1.0\n",
              "3   365    5.0\n",
              "4   366    0.0\n",
              "..  ...    ...\n",
              "85  447    2.0\n",
              "86  448    1.0\n",
              "87  449    1.0\n",
              "88  450    1.0\n",
              "89  451    0.0\n",
              "\n",
              "[90 rows x 2 columns]"
            ]
          },
          "execution_count": 43,
          "metadata": {},
          "output_type": "execute_result"
        }
      ],
      "source": [
        "prediction_a"
      ]
    },
    {
      "cell_type": "code",
      "execution_count": null,
      "metadata": {},
      "outputs": [],
      "source": []
    }
  ],
  "metadata": {
    "colab": {
      "provenance": []
    },
    "kernelspec": {
      "display_name": ".venv",
      "language": "python",
      "name": "python3"
    },
    "language_info": {
      "codemirror_mode": {
        "name": "ipython",
        "version": 3
      },
      "file_extension": ".py",
      "mimetype": "text/x-python",
      "name": "python",
      "nbconvert_exporter": "python",
      "pygments_lexer": "ipython3",
      "version": "3.12.5"
    }
  },
  "nbformat": 4,
  "nbformat_minor": 0
}

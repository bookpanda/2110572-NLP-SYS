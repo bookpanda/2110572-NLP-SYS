{
 "cells": [
  {
   "cell_type": "code",
   "execution_count": 1,
   "metadata": {},
   "outputs": [],
   "source": [
    "import pandas as pd\n",
    "import numpy as np"
   ]
  },
  {
   "cell_type": "code",
   "execution_count": 4,
   "metadata": {},
   "outputs": [],
   "source": [
    "file_path = \"predictions.csv\"  # Change this to your actual path\n",
    "df = pd.read_csv(file_path)\n",
    "\n",
    "# Round scores to the nearest 0.5 with custom rounding rules\n",
    "def custom_round(x):\n",
    "    base = np.floor(x)  # Get the integer part\n",
    "    decimal = x - base   # Get the decimal part\n",
    "\n",
    "    if decimal <= 0.25:   # 0.0 - 0.25 → round down to 0.0\n",
    "        return base\n",
    "    elif decimal <= 0.75: # 0.26 - 0.75 → round to 0.5\n",
    "        return base + 0.5\n",
    "    else:                 # 0.76 - 0.99 → round up to 1.0\n",
    "        return base + 1.0\n",
    "\n",
    "df[\"score\"] = df[\"score\"].apply(custom_round).clip(0, 5)\n",
    "\n",
    "# Save adjusted predictions\n",
    "df.to_csv(\"predictions_rounded.csv\", index=False)"
   ]
  },
  {
   "cell_type": "code",
   "execution_count": null,
   "metadata": {},
   "outputs": [],
   "source": []
  }
 ],
 "metadata": {
  "kernelspec": {
   "display_name": ".venv",
   "language": "python",
   "name": "python3"
  },
  "language_info": {
   "codemirror_mode": {
    "name": "ipython",
    "version": 3
   },
   "file_extension": ".py",
   "mimetype": "text/x-python",
   "name": "python",
   "nbconvert_exporter": "python",
   "pygments_lexer": "ipython3",
   "version": "3.12.5"
  }
 },
 "nbformat": 4,
 "nbformat_minor": 2
}

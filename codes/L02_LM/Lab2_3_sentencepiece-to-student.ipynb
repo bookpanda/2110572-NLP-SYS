{
 "cells": [
  {
   "cell_type": "markdown",
   "metadata": {
    "id": "iU5fRQwhEdJy"
   },
   "source": [
    "# Subword Tokenization\n",
    "\n",
    "In this exercise, we will learn how to train our own subword tokenizers with different algorithms: BPE and Unigram. We will use `sentencepiece`, a library from Google to help create our tokenizers.\n",
    "\n",
    "## Ref:\n",
    "\n",
    "https://github.com/google/sentencepiece/blob/master/python\n"
   ]
  },
  {
   "cell_type": "markdown",
   "metadata": {
    "id": "pI9gRZlUE80g"
   },
   "source": [
    "## Setup\n"
   ]
  },
  {
   "cell_type": "code",
   "execution_count": 1,
   "metadata": {
    "id": "1pOsV-jaW975"
   },
   "outputs": [
    {
     "name": "stdout",
     "output_type": "stream",
     "text": [
      "--2025-01-15 13:41:32--  https://github.com/Knight-H/thai-lm/raw/refs/heads/master/data/pra-apai-manee-ch1-50.txt\n",
      "Resolving github.com (github.com)... 20.205.243.166\n",
      "Connecting to github.com (github.com)|20.205.243.166|:443... connected.\n",
      "HTTP request sent, awaiting response... 302 Found\n",
      "Location: https://raw.githubusercontent.com/Knight-H/thai-lm/refs/heads/master/data/pra-apai-manee-ch1-50.txt [following]\n",
      "--2025-01-15 13:41:33--  https://raw.githubusercontent.com/Knight-H/thai-lm/refs/heads/master/data/pra-apai-manee-ch1-50.txt\n",
      "Resolving raw.githubusercontent.com (raw.githubusercontent.com)... 185.199.111.133, 185.199.110.133, 185.199.108.133, ...\n",
      "Connecting to raw.githubusercontent.com (raw.githubusercontent.com)|185.199.111.133|:443... connected.\n",
      "HTTP request sent, awaiting response... 200 OK\n",
      "Length: 3231076 (3.1M) [application/octet-stream]\n",
      "Saving to: ‘pra-apai-manee-ch1-50.txt’\n",
      "\n",
      "pra-apai-manee-ch1- 100%[===================>]   3.08M  7.11MB/s    in 0.4s    \n",
      "\n",
      "2025-01-15 13:41:34 (7.11 MB/s) - ‘pra-apai-manee-ch1-50.txt’ saved [3231076/3231076]\n",
      "\n",
      "--2025-01-15 13:41:34--  https://github.com/Knight-H/thai-lm/raw/refs/heads/master/data/kratoo-40000000-40002000.jsonl\n",
      "Resolving github.com (github.com)... 20.205.243.166\n",
      "Connecting to github.com (github.com)|20.205.243.166|:443... connected.\n",
      "HTTP request sent, awaiting response... 302 Found\n",
      "Location: https://raw.githubusercontent.com/Knight-H/thai-lm/refs/heads/master/data/kratoo-40000000-40002000.jsonl [following]\n",
      "--2025-01-15 13:41:35--  https://raw.githubusercontent.com/Knight-H/thai-lm/refs/heads/master/data/kratoo-40000000-40002000.jsonl\n",
      "Resolving raw.githubusercontent.com (raw.githubusercontent.com)... 185.199.110.133, 185.199.108.133, 185.199.109.133, ...\n",
      "Connecting to raw.githubusercontent.com (raw.githubusercontent.com)|185.199.110.133|:443... connected.\n",
      "HTTP request sent, awaiting response... 200 OK\n",
      "Length: 2968483 (2.8M) [text/plain]\n",
      "Saving to: ‘kratoo-40000000-40002000.jsonl’\n",
      "\n",
      "kratoo-40000000-400 100%[===================>]   2.83M  8.44MB/s    in 0.3s    \n",
      "\n",
      "2025-01-15 13:41:37 (8.44 MB/s) - ‘kratoo-40000000-40002000.jsonl’ saved [2968483/2968483]\n",
      "\n"
     ]
    }
   ],
   "source": [
    "!wget https://github.com/Knight-H/thai-lm/raw/refs/heads/master/data/pra-apai-manee-ch1-50.txt\n",
    "!wget https://github.com/Knight-H/thai-lm/raw/refs/heads/master/data/kratoo-40000000-40002000.jsonl"
   ]
  },
  {
   "cell_type": "markdown",
   "metadata": {
    "id": "CSiDpG9WE-cT"
   },
   "source": [
    "## Code\n"
   ]
  },
  {
   "cell_type": "code",
   "execution_count": 12,
   "metadata": {
    "id": "OQd7M6gLWPLN"
   },
   "outputs": [],
   "source": [
    "import sentencepiece as spm\n",
    "import io\n",
    "import json"
   ]
  },
  {
   "cell_type": "markdown",
   "metadata": {
    "id": "OifbmMIstzs8"
   },
   "source": [
    "Load data\n"
   ]
  },
  {
   "cell_type": "code",
   "execution_count": 13,
   "metadata": {
    "id": "-FnIDvb1lMuh"
   },
   "outputs": [
    {
     "data": {
      "text/plain": [
       "1060318"
      ]
     },
     "execution_count": 13,
     "metadata": {},
     "output_type": "execute_result"
    }
   ],
   "source": [
    "pantip_text = []\n",
    "with open(\"kratoo-40000000-40002000.jsonl\", \"r\") as json_file:\n",
    "    json_list = list(json_file)\n",
    "    for json_str in json_list:\n",
    "        result = json.loads(json_str)\n",
    "        pantip_text.append(f\"{result['title']}\\n{result['content']}\\n\")\n",
    "sum([len(t) for t in pantip_text])"
   ]
  },
  {
   "cell_type": "code",
   "execution_count": 14,
   "metadata": {
    "id": "yaaQVXZ8A0j1"
   },
   "outputs": [
    {
     "data": {
      "text/plain": [
       "1100605"
      ]
     },
     "execution_count": 14,
     "metadata": {},
     "output_type": "execute_result"
    }
   ],
   "source": [
    "with open(\"pra-apai-manee-ch1-50.txt\") as f:\n",
    "    pra_apai_manee_data = f.readlines()\n",
    "sum([len(t) for t in pra_apai_manee_data])"
   ]
  },
  {
   "cell_type": "code",
   "execution_count": 15,
   "metadata": {
    "id": "RbdfkF-vAoie"
   },
   "outputs": [],
   "source": [
    "pantip_train_text = pantip_text[: int(len(pantip_text) * 0.8)]\n",
    "pantip_test_text = pantip_text[int(len(pantip_text) * 0.8) :]\n",
    "\n",
    "pam_train_text = pra_apai_manee_data[\n",
    "    : int(len(pra_apai_manee_data) * 0.8)\n",
    "]  # pam = pra_apai_manee\n",
    "pam_test_text = pra_apai_manee_data[int(len(pra_apai_manee_data) * 0.8) :]"
   ]
  },
  {
   "cell_type": "markdown",
   "metadata": {
    "id": "BhwcH0Aot1XI"
   },
   "source": [
    "## Run tokenizer training\n",
    "\n",
    "The Python wrapper provides multiple APIs for training our tokenizers\n",
    "\n",
    "1. `spm.SentencePieceTrainer.train(input='input.txt', model_prefix='m', vocab_size=vocab_size, model_type=model_type)`\n",
    "   <br> This will output the tokenizer files `m.model` and `m.vocab` that can be later loaded into `SentencePieceProcessor`.\n",
    "   <br><br>\n",
    "2. `spm.SentencePieceTrainer.train(sentence_iterator=iterator, model_writer=obj_with_write_method, vocab_size=vocab_size, model_type=model_type)`\n",
    "   <br> This method will require a file object e.g. `obj_with_write_method = io.BytesIO()`. The advantage of this method is you can run sentencepiece on environments that have limited access to the local file system. But you will still have to save the model file if you want to re-use the model else you will have to train it again.\n",
    "   <br><br>\n",
    "3. `spm.SentencePieceTrainer.train('--input=input.txt --model_prefix=m --vocab_size=vocab_size --model_type=model_type')`\n",
    "   <br> Same as no.1\n"
   ]
  },
  {
   "cell_type": "markdown",
   "metadata": {
    "id": "c3XeFFYw-T_0"
   },
   "source": [
    "### Unigram tokenizer\n",
    "\n",
    "We are going to start with training a unigram tokenizer. You can use any method of training one. Make sure to set vocab_size to 1000.\n"
   ]
  },
  {
   "cell_type": "code",
   "execution_count": 16,
   "metadata": {},
   "outputs": [],
   "source": [
    "train_text = pantip_train_text + pam_train_text\n",
    "test_text = pantip_test_text + pam_test_text\n",
    "\n",
    "train_corpus = \"\\n\".join(train_text)\n",
    "test_corpus = \"\\n\".join(test_text)"
   ]
  },
  {
   "cell_type": "code",
   "execution_count": 17,
   "metadata": {},
   "outputs": [],
   "source": [
    "with open(\"train_corpus.txt\", \"w\") as f:\n",
    "    f.write(train_corpus)"
   ]
  },
  {
   "cell_type": "code",
   "execution_count": 23,
   "metadata": {},
   "outputs": [],
   "source": [
    "## Train\n",
    "spm.SentencePieceTrainer.train(\n",
    "    input=\"train_corpus.txt\",\n",
    "    model_prefix=\"unigram\",\n",
    "    vocab_size=1000,\n",
    "    model_type=\"unigram\",\n",
    ")"
   ]
  },
  {
   "cell_type": "markdown",
   "metadata": {
    "id": "gdXPaoW3_v2T"
   },
   "source": [
    "### Q1 MCV\n",
    "\n",
    "How many tokens did you get when tokenizing the following sentence with your unigram tokenizer: <br>\n",
    "'อรุณสวัสดิ์ ฉันเอามเหสีมาหาม สวัสดี ประเทศไทยสบายดีไหม'\n"
   ]
  },
  {
   "cell_type": "code",
   "execution_count": 19,
   "metadata": {},
   "outputs": [],
   "source": [
    "sp_pam = spm.SentencePieceProcessor(model_file='unigram.model')"
   ]
  },
  {
   "cell_type": "code",
   "execution_count": 20,
   "metadata": {
    "id": "J1bO3s-z-PLb"
   },
   "outputs": [
    {
     "data": {
      "text/plain": [
       "20"
      ]
     },
     "execution_count": 20,
     "metadata": {},
     "output_type": "execute_result"
    }
   ],
   "source": [
    "len(sp_pam.encode(\"อรุณสวัสดิ์ ฉันเอามเหสีมาหาม สวัสดี ประเทศไทยสบายดีไหม\", out_type=str))"
   ]
  },
  {
   "cell_type": "markdown",
   "metadata": {
    "id": "tKkc1D-hAFxl"
   },
   "source": [
    "### BPE Tokenizer\n",
    "\n",
    "Now try training a BPE tokenizer.\n"
   ]
  },
  {
   "cell_type": "code",
   "execution_count": 24,
   "metadata": {
    "id": "AiXj57rh-PIv"
   },
   "outputs": [],
   "source": [
    "## Train\n",
    "spm.SentencePieceTrainer.train(\n",
    "    input=\"train_corpus.txt\",\n",
    "    model_prefix=\"bpe\",\n",
    "    vocab_size=1000,\n",
    "    model_type=\"bpe\",\n",
    ")"
   ]
  },
  {
   "cell_type": "markdown",
   "metadata": {
    "id": "nrQwGmL5AMXc"
   },
   "source": [
    "### Q2 MCV\n",
    "\n",
    "How many tokens did you get when tokenizing the following sentence with your BPE tokenizer: <br>\n",
    "'อรุณสวัสดิ์ ฉันเอามเหสีมาหาม สวัสดี ประเทศไทยสบายดีไหม'\n"
   ]
  },
  {
   "cell_type": "code",
   "execution_count": 25,
   "metadata": {},
   "outputs": [],
   "source": [
    "bpe = spm.SentencePieceProcessor(model_file='bpe.model')"
   ]
  },
  {
   "cell_type": "code",
   "execution_count": 26,
   "metadata": {
    "id": "0AXuzyaN-PEr"
   },
   "outputs": [
    {
     "data": {
      "text/plain": [
       "27"
      ]
     },
     "execution_count": 26,
     "metadata": {},
     "output_type": "execute_result"
    }
   ],
   "source": [
    "len(bpe.encode(\"อรุณสวัสดิ์ ฉันเอามเหสีมาหาม สวัสดี ประเทศไทยสบายดีไหม\", out_type=str))"
   ]
  },
  {
   "cell_type": "markdown",
   "metadata": {
    "id": "rbb6C6-IS_Ly"
   },
   "source": [
    "These are some of your vocabs. Note that you will see \"▁\" (U+2581) in every type of tokenizer in SentencePiece since it makes it possible to perform detokenization \\(unsplit your sentences\\) without relying on language-specific resources.\n"
   ]
  },
  {
   "cell_type": "code",
   "execution_count": 27,
   "metadata": {
    "id": "Aa9j6XrTKjyA"
   },
   "outputs": [
    {
     "data": {
      "text/plain": [
       "'<unk> | <s> | </s> | ▁ | น | บ | ก | ม | า | เ | ล | ง | ย | ส | ด | มา | ที่ | ว | อ | ค | ร | จะ | ท | ห | ไป | ให้ | ว่า | ป | เป็น | ต | แ | จ | ไม่ | ได้ | ช | ุ | โ | ก็ | มี | ิ | พ | การ | . | ใน | เรา | ู | ั | ่ | ์ | ้ | e | ้า | ะ | ใจ | ี | อยู่ | แล้ว | t | กัน | คน | ศ | รา | นี้ | พระ | หา | a | ๆ | ทํา | ความ | ประ | ▁ฯ | อง | ๏ | เข้า | ไ | o | i | ข | s | ดี | ด้วย | กับ | ของ | ตาม | เลย | ถึง | ัน | ่า | ลา | ถ | ีย | ซ | แต่ | ผ | ▁จะ | ▁แต่ | ญ | ดู | ครับ | ต้อง | ยา | เขา | ▁แล้ว | ัง | เหมือน | คิด | รับ | อน | เห็น | ัด | ค่ะ | ตัว | ระ | ัก | ่ง | เจ้า | กระ | จาก | - | ิน | วัน | หน้า | คร | มัน | ฉ | ออก | l | ริ | นาง | ละ | นา | มาก | เก | ▁พระ | ษ | 3 | นั้น | ขึ้น | ่อ | รี | หน | ณ | c | ภ | 5 | กล | d | พา | ลง | มิ | ผม | ทั้ง | ธ | ี่ | อยาก | ลูก | วิ | อด | 1 | ทุก | พี่ | จน | วน | 6 | วง | น้อง | ึก | 4 | ็ | รัก | พล | ทาง | m | ฟ | ่น | ใช้ | หรือ | เส | คํา | บ้าง | กลับ | p | h | u | ยัง | น้ํา | ) | ใคร | อย่า | 2 | รู้ | ตร | ข้า | 9 | ฝ | / | สุด | เอา | แม่ | ทรง | 8 | ือ | ▁จึง | ไว้ | ช่วย | w | ต่าง | องค์ | เสีย | ▁นาง | คะ | ้น | กร | ไหน | ้ม | วา | สม | พร | เรื่อง | r | ที | หลัง | ผู้ | อย่าง | ผล | สอบ | เท | ▁พอ | อะไร | ขอ | ดา | รุ | นั่ง | ื่อ | อม | ฟัง | ▁ไม่ | ั่น | เข | อา | ้ง | 0 | เวลา | สุ | ปี | บอก | งาน | พอ | ▁ให้ | นิ | ▁1 | ตั้ง | ถาม | ไม่ได้ | พวก | ตา | และ | เล | เห | เว | ลี | S | สา | 7 | ดัง | เมื่อ | ▁ทั้ง | ข้าง | วัง | y | พิ | แล | ั่ง | g | วย | ▁( | บาท | คือ | ▁ฝ่าย | ? | นะ | น้อย | ลิ | ่าย | สั่ง | รั | ▁เรา | ั้น | ▁2 | ทัพ | ต่อ | สิ | จํา | ติ | แบบ | k | เสียง | จง | ▁และ | , | ย์ | แห | นาย | หม | บ้าน | สอง | รบ | ไร | น่า | อีก | ▁เห็น | ติด | เคย | ํา | เพื่อน | พร้อม | ก่อน | ส่ง | กว่า | ราย | ชอบ | อั | b | เร | ▁หรือ | ื้อ | เมือง | ส่วน | จริง | รอ | ใหญ่ | ใ | ไม่มี | พ่อ | ื | จิต | ข้อ | ตี | ขา | รถ | เรียน | ควร | f | หาย | ไหม | ชา | สาม | เพ | จัด | หมาย | เงิน | n | เพราะ | เม | กิน | จึง | เดิน | ึ | แจ้ง | ▁ถ้า | ตาย | T | ึง | นี่ | ▁ซึ่ง | ถือ | เดือน | A | B | ชี | ค่อย | เครื่อง | ฉัน | ร์ | เหลือ | คา | นึก | กา | ชื่อ | ้อม | เรือ | ทูล | หลาย | M | อก | on | ลาย | เด | C | ท่าน | ตอบ | ถูก | กษัตริย์ | an | เน | นัก | แนวข้อสอบ | โดย | ฝรั่ง | เฝ้า | ยิ่ง | ศรี | บรร | ร้อย | กลาง | ห้อง | กํา | er | ▁คือ | ใส่ | ▁เพราะ | เที่ยว | คง | เล่น | ตอน | แสน | สาว | หน่อย | ลม | ชม | คุณ | ยุ | ▁ขอ | เค้า | E | อุ | สาย | ยก | อ่าน | : | ตรง | กลัว | สะ | หมอ | รูป | ซื้อ | ดับ | เล่า | สาร | ▁อัน | in | ู่ | พลาง | สี | กาย | หนี | P | แฟน | จะได้ | ศึก | ยังไง | ผ่าน | ๊ | ตรา | \" | ถ้า | พูด | 00 | เนื้อ | ฮ | ไฟ | พัน | * | สามารถ | ชาย | ค่า | หนัก | จับ | v | กําลัง | ขัด | ราช | ครั้ง | ใด | อร์ | ลํา | ตรัส | ลังกา | ก็ไม่ | คอย | ผิด | มือ | เช่น | สิ้น | ไทย | 20 | แม้ | หัว | เปิด | หนึ่ง | พบ | ้ว | ลด | นอน | ชาว | ่ํา | รู้สึก | ุม | ใช่ | พระอภัย'"
      ]
     },
     "execution_count": 27,
     "metadata": {},
     "output_type": "execute_result"
    }
   ],
   "source": [
    "unigram_vocabs = [sp_pam.id_to_piece(id) for id in range(sp_pam.get_piece_size())]\n",
    "\" | \".join(unigram_vocabs[:500])"
   ]
  },
  {
   "cell_type": "code",
   "execution_count": 28,
   "metadata": {
    "id": "2TsXA0UqN5LN"
   },
   "outputs": [
    {
     "data": {
      "text/plain": [
       "'<unk> | <s> | </s> | ่า | ้า | อง | ํา | รา | ี่ | ระ | มา | อย | ับ | ▁เ | ัน | ม่ | ือ | จะ | ้ว | ัง | ่ง | ไม่ | าม | ที่ | ็น | ให | าย | ▁แ | ้น | ีย | าร | หน | คร | ่อ | ว่า | ให้ | าง | ้อ | ัก | ได | ไป | ้ง | เป | กล | ได้ | ่น | เล | หล | ิด | าก | ้อง | อบ | ล้ว | ▁พ | ก็ | ี้ | หม | าน | ึง | มี | ิน | เข | อก | เป็น | ตร | การ | ั้ง | เร | ประ | ต่ | ู้ | คว | ู่ | ใน | ทํา | ่ว | เรา | ัว | เส | ัด | ื่อ | ▁ส | นี้ | ่าง | ใจ | อน | ละ | พระ | เพ | ั่ง | ึก | ทร | คน | ความ | ือน | เก | อา | อยู่ | ค่ | ัย | หร | ▁จ | กัน | ้าง | ดี | แล้ว | ลา | ▁จะ | กับ | ิง | ▁น | ่อง | ั้น | ▁ฯ | เห | ้วย | ทั้ง | ▁๏ | เด | เจ | ค์ | กร | สุ | ตาม | ด้วย | ของ | เค | ถึง | เม | พร | ูก | าว | ียง | ลง | ุก | เลย | ▁แล้ว | ่าน | ครับ | เข้า | หา | ย์ | ▁แต่ | วิ | ▁พระ | รร | ้ํา | ต้อง | ตัว | สม | ไร | ▁ข | กระ | เช | ดู | ▁อ | สอบ | วัน | วน | รู้ | ่าย | หมือน | คิด | สน | วง | ยัง | หรือ | พล | ื่อง | รี | เท | .. | ▁ไม่ | แต่ | ค่ะ | ื้อ | คะ | ่อน | รับ | อด | ยว | มาก | ้อย | ข้อ | ัญ | ใช | ▁บ | ้าน | าท | ่ม | เห็น | เว | มัน | ึ่ง | ▁ค | หน้า | ทุก | ณ์ | องค์ | เน | ึ้น | ้ม | พรา | ิต | จาก | อยาก | เหมือน | ติ | บบ | ▁ต | ▁1 | รัก | แน | เจ้า | ผม | ช่ว | สง | ิ่ง | ื่น | คุ | ผู้ | ข้า | ุด | อะ | อม | ทรง | ใคร | ้อม | อย่าง | ▁ให้ | คล | พี่ | ทาง | นา | คํา | ั่น | เขา | สํา | ยง | ียน | สา | ้าย | ขึ้น | กํา | ออก | ืน | นั้น | ัส | หว | แก | มิ | ▁เรา | นาง | ไว | ปล | ริ | กลับ | ่อย | ือง | ▁2 | ถาม | มาร | ▁นาง | ลูก | จร | อย่า | ▁จึง | ภา | รง | ใช้ | อร | ยา | พา | เหล | ▁โ | ลัง | ชา | เย | ถ้า | ัพ | ช่วย | บอก | ไหน | าด | สุด | น้ํา | ปรา | นะ | วก | ▁ทั้ง | งาน | เสีย | ชี | ไว้ | ▁เป | ฝ่าย | น้อง | หลัง | ื่อน | ีก | ▁พอ | บุ | สิ | 00 | สาร | ศรี | ษา | ฟัง | แบบ | ▁เห | รู | กา | เอ | ตา | ▁ช | ปร | เง | ูล | อะไร | เรื่อง | แม่ | ▁เป็น | ไข | ▁ที่ | ผล | สอง | หาร | ่วน | ▁มี | ▁มา | ▁เห็น | เคย | ไหม | รุ | ดัง | จริง | ▁( | จน | นั่ง | ดา | ▁ซ | เปล | ▁และ | ▁ฝ่าย | ที | ียว | หย | แจ | ปี | พอ | รบ | ราช | และ | บ้าง | ขว | มาย | ็จ | ตั้ง | คุณ | -- | แล | ไม่ได้ | แต | ข้าง | ัตร | ้อน | ุน | ▁หรือ | กว่า | คา | ข้อสอบ | จํา | ▁ก็ | ไม | ัต | ราะ | เอา | สว | คือ | ใหญ | พิ | ▁ก | ทัพ | เวลา | เมื่อ | เบ | สั่ง | ตอบ | ขอ | ต่อ | เคร | หาย | in | เต | ลม | บ้าน | แท | ▁ทํา | กษ | นว | ิก | ▁ถึง | ภัย | ือก | สาม | รถ | an | ใส | ติด | ต่าง | ใหญ่ | ▁ท | ูด | ไง | สร | จิต | ชาย | ▁ถ้า | ื้น | ควร | ราบ | หมาย | สัย | เมือง | ี่ยว | นัก | ชอบ | ราย | หญ | นํา | ิ่ม | ▁แม | หมณ์ | ▁ซึ่ง | 55 | ่าว | สะ | เรียน | ตาย | อุ | ▁ย | อร์ | ถูก | ุง | เอง | ▁ประ | ฉัน | วัง | เงิน | ไพร | ค่อย | ิ์ | ▁คือ | ดย | วาย | ส่ง | ▁เล | น้อย | พราะ | ไท | จัด | ถือ | ▁เพราะ | พราหมณ์ | ▁3 | เพื่อน | จึง | หลาย | แจ้ง | เพราะ | โย | ไม่มี | on | ฟน | ▁ร | ตอน | ศึก | ตรี | วรร | ้ไข | ญา | ตี | เดิน | ทธ | ี่ย | โฉ | ไล | หญิง | น์ | าะ | ิย์ | ตุ | ัตริย์ | ฝร | ลัย | เฉ | er | ฝรั่ง | พูด | เสียง'"
      ]
     },
     "execution_count": 28,
     "metadata": {},
     "output_type": "execute_result"
    }
   ],
   "source": [
    "bpe_vocabs = [bpe.id_to_piece(id) for id in range(bpe.get_piece_size())]\n",
    "\" | \".join(bpe_vocabs[:500])"
   ]
  },
  {
   "cell_type": "markdown",
   "metadata": {
    "id": "eu6QnnRfQyFj"
   },
   "source": [
    "### User-defined symbols\n",
    "\n",
    "Another important concept to know of is User-defined symbols. These special symbols are reserved for a special purpose \\(e.g.\\, the \\<MASK\\> token used in BERT) and will always be tokenized into one token.\n",
    "\n",
    "Refer to the documentation for ways to add these special tokens to your tokenizer.\n",
    "\n",
    "https://github.com/google/sentencepiece/blob/master/python\n"
   ]
  },
  {
   "cell_type": "markdown",
   "metadata": {
    "id": "QEFOj62ZEdzT"
   },
   "source": [
    "## Train another tokenizer on another domain\n",
    "\n",
    "Now try training another unigram tokenizer on `pantip_text` and we will use it to compare with the unigram tokenizer we trained earlier.\n"
   ]
  },
  {
   "cell_type": "code",
   "execution_count": 29,
   "metadata": {},
   "outputs": [],
   "source": [
    "train_corpus_pantip = \"\\n\".join(pantip_train_text)\n",
    "test_corpus_pantip = \"\\n\".join(pantip_test_text)\n",
    "\n",
    "with open(\"train_corpus_pantip.txt\", \"w\") as f:\n",
    "    f.write(train_corpus_pantip)"
   ]
  },
  {
   "cell_type": "code",
   "execution_count": null,
   "metadata": {
    "id": "O7-QkA1eMZFf"
   },
   "outputs": [],
   "source": [
    "## Train\n",
    "spm.SentencePieceTrainer.train(\n",
    "    input=\"train_corpus_pantip.txt\",\n",
    "    model_prefix=\"unigram_pantip\",\n",
    "    vocab_size=1000,\n",
    "    model_type=\"unigram\",\n",
    ")"
   ]
  },
  {
   "cell_type": "markdown",
   "metadata": {
    "id": "R5WOVMbONnYv"
   },
   "source": [
    "## Analyse top tokens on different datasets\n",
    "\n",
    "Use your tokenizers to tokenize the datasets and analyse your most common vocabularies (try 300-400 vocabs with len>1). Hint: tokenize your data and count the tokens.\n"
   ]
  },
  {
   "cell_type": "code",
   "execution_count": null,
   "metadata": {
    "id": "wbfkGcsUrPYS"
   },
   "outputs": [],
   "source": []
  },
  {
   "cell_type": "markdown",
   "metadata": {
    "id": "Qz0GdZ-5YYM9"
   },
   "source": [
    "### To answer\n",
    "\n",
    "What are some notable differences you see between the two vocabs?\n",
    "\n",
    "Write your answer below.\n"
   ]
  },
  {
   "cell_type": "code",
   "execution_count": null,
   "metadata": {
    "id": "QxxYr0QLbDoU"
   },
   "outputs": [],
   "source": []
  },
  {
   "cell_type": "markdown",
   "metadata": {
    "id": "ipjO87HPYl4N"
   },
   "source": [
    "## Using tokenizer across domains\n",
    "\n",
    "One problem you may face is your dataset is very specialized. In that case the tokenizer trained on a general domain may not perform as good as it should when used on your dataset.\n",
    "\n",
    "Next you will try using tokenizers trained on one general domain (on Pantip) and use it on a specialized domain (พระอภัยมณี) and vice versa.\n"
   ]
  },
  {
   "cell_type": "markdown",
   "metadata": {
    "id": "I4_6JG_l5BXh"
   },
   "source": [
    "### Q3 MCV\n",
    "\n",
    "What percentage increase do you observe when tokenizing the whole พระอภัยมณี dataset with a tokenizer trained on Pantip compared to the one trained on พระอภัยมณี.\n"
   ]
  },
  {
   "cell_type": "code",
   "execution_count": null,
   "metadata": {
    "id": "3tCh1RaZrTAM"
   },
   "outputs": [],
   "source": []
  },
  {
   "cell_type": "markdown",
   "metadata": {
    "id": "duaCJRO96SX1"
   },
   "source": [
    "### Q4 MCV\n",
    "\n",
    "What percentage increase do you observe when tokenizing the whole Pantip dataset with a tokenizer trained on พระอภัยมณี compared to the one trained on Pantip.\n"
   ]
  },
  {
   "cell_type": "code",
   "execution_count": null,
   "metadata": {
    "id": "axk9gOIgrTYd"
   },
   "outputs": [],
   "source": []
  },
  {
   "cell_type": "markdown",
   "metadata": {
    "id": "yZYKuamv7-wI"
   },
   "source": [
    "### To answer\n",
    "\n",
    "Why do you think the number of tokens tokenized by the general tokenizer (the one trained on Pantip) has a higher percentage increase compared to the number of tokens tokenized by the specialized tokenizer? (Hint: we fixed vocab size.)\n"
   ]
  },
  {
   "cell_type": "code",
   "execution_count": null,
   "metadata": {
    "id": "gh9a6d7Q8ivJ"
   },
   "outputs": [],
   "source": []
  },
  {
   "cell_type": "markdown",
   "metadata": {
    "id": "O7j_Cc0p9-5S"
   },
   "source": [
    "## The effect on language models\n",
    "\n",
    "Next, we will see the effect of using \"cross-domain\" tokenizers on Language models.\n"
   ]
  },
  {
   "cell_type": "markdown",
   "metadata": {
    "id": "KiWztANvohhn"
   },
   "source": [
    "### Setup\n",
    "\n",
    "We are going to reuse the code from the last assignment\n"
   ]
  },
  {
   "cell_type": "code",
   "execution_count": null,
   "metadata": {
    "id": "7pVtSbmVpwOo"
   },
   "outputs": [],
   "source": [
    "!pip install lightning"
   ]
  },
  {
   "cell_type": "code",
   "execution_count": null,
   "metadata": {
    "id": "JMt5GzLrW4x3"
   },
   "outputs": [],
   "source": [
    "import itertools\n",
    "import torch\n",
    "import torch.nn as nn\n",
    "from torch.utils.data import Dataset, DataLoader\n",
    "import torch.optim as optim\n",
    "import lightning as L\n",
    "from tqdm import tqdm\n",
    "import numpy as np"
   ]
  },
  {
   "cell_type": "code",
   "execution_count": null,
   "metadata": {
    "id": "0OIs_VS_oo1M"
   },
   "outputs": [],
   "source": [
    "class TextDataset(Dataset):\n",
    "    def __init__(self, data, tokenizer, seq_len=128):\n",
    "\n",
    "        token_ids = [tokenizer.encode(d, add_bos=True, add_eos=True) for d in data]\n",
    "        flatten_token_ids = list(itertools.chain(*token_ids))\n",
    "        encoded = torch.LongTensor(flatten_token_ids)\n",
    "\n",
    "        left_over = len(encoded) % seq_len\n",
    "        encoded = encoded[: len(encoded) - left_over]\n",
    "        self.encoded = encoded.view(-1, seq_len)\n",
    "\n",
    "    def __getitem__(self, idx):\n",
    "        return self.encoded[idx]\n",
    "\n",
    "    def __len__(self):\n",
    "        return len(self.encoded)"
   ]
  },
  {
   "cell_type": "code",
   "execution_count": null,
   "metadata": {
    "id": "hk6vEPiMq34n"
   },
   "outputs": [],
   "source": [
    "class LSTM(L.LightningModule):\n",
    "    def __init__(\n",
    "        self,\n",
    "        vocab_size,\n",
    "        embedding_dim,\n",
    "        hidden_dim,\n",
    "        num_layers,\n",
    "        dropout_rate,\n",
    "        learning_rate,\n",
    "        criterion,\n",
    "    ):\n",
    "\n",
    "        super().__init__()\n",
    "\n",
    "        self.num_layers = num_layers\n",
    "        self.hidden_dim = hidden_dim\n",
    "        self.embedding_dim = embedding_dim\n",
    "        self.vocab_size = vocab_size\n",
    "\n",
    "        self.embedding = nn.Embedding(vocab_size, embedding_dim)\n",
    "        self.lstm = nn.LSTM(\n",
    "            embedding_dim,\n",
    "            hidden_dim,\n",
    "            num_layers=num_layers,\n",
    "            dropout=dropout_rate,\n",
    "            batch_first=True,\n",
    "        )\n",
    "        self.dropout = nn.Dropout(dropout_rate)\n",
    "        self.fc = nn.Linear(hidden_dim, vocab_size)\n",
    "        self.learning_rate = learning_rate\n",
    "        self.criterion = criterion\n",
    "\n",
    "    def forward(self, src):\n",
    "        pass\n",
    "\n",
    "    def training_step(self, batch, batch_idx):\n",
    "\n",
    "        src = batch[:, :-1]\n",
    "        target = batch[:, 1:]\n",
    "        prediction = self(src)\n",
    "        prediction = prediction.reshape(-1, self.vocab_size)\n",
    "        target = target.reshape(-1)\n",
    "        loss = self.criterion(prediction, target)\n",
    "        self.log(\"train_loss\", loss)\n",
    "        return loss\n",
    "\n",
    "    def test_step(self, batch, batch_idx, dataloader_idx=0):\n",
    "\n",
    "        src = batch[:, :-1]\n",
    "        target = batch[:, 1:]\n",
    "        with torch.no_grad():\n",
    "            prediction = self(src)\n",
    "        prediction = prediction.reshape(-1, self.vocab_size)\n",
    "        target = target.reshape(-1)\n",
    "        loss = self.criterion(prediction, target)\n",
    "        self.log(\"test_loss\", loss)\n",
    "        return loss\n",
    "\n",
    "    def configure_optimizers(self):\n",
    "        return optim.Adam(self.parameters(), lr=self.learning_rate)"
   ]
  },
  {
   "cell_type": "code",
   "execution_count": null,
   "metadata": {
    "id": "oKhuOygixndB"
   },
   "outputs": [],
   "source": [
    "vocab_size = sp_pam.get_piece_size()\n",
    "embedding_dim = 200\n",
    "hidden_dim = 512\n",
    "num_layers = 3\n",
    "dropout_rate = 0.2\n",
    "lr = 1e-3\n",
    "criterion = nn.CrossEntropyLoss()\n",
    "train_batch_size = 64\n",
    "test_batch_size = 128"
   ]
  },
  {
   "cell_type": "markdown",
   "metadata": {
    "id": "kOtOE7mr-heY"
   },
   "source": [
    "### Training\n"
   ]
  },
  {
   "cell_type": "markdown",
   "metadata": {
    "id": "g8-x9HiPDcpE"
   },
   "source": [
    "<a name=\"no1\"></a>\n",
    "\n",
    "#### 1. Training on Pantip data with Pantip tokenizer\n"
   ]
  },
  {
   "cell_type": "code",
   "execution_count": null,
   "metadata": {
    "id": "oUv_A4MTx0Ob"
   },
   "outputs": [],
   "source": [
    "trainer = L.Trainer(max_epochs=10, deterministic=True)\n",
    "model = LSTM(\n",
    "    vocab_size, embedding_dim, hidden_dim, num_layers, dropout_rate, lr, criterion\n",
    ")\n",
    "\n",
    "pantip_train_dataset = TextDataset(pantip_train_text, sp_pantip)\n",
    "pantip_train_loader = DataLoader(\n",
    "    pantip_train_dataset, batch_size=train_batch_size, shuffle=True\n",
    ")\n",
    "\n",
    "pantip_test_dataset = TextDataset(pantip_test_text, sp_pantip)\n",
    "pantip_test_loader = DataLoader(\n",
    "    pantip_test_dataset, batch_size=test_batch_size, shuffle=False\n",
    ")\n",
    "\n",
    "pam_train_dataset = TextDataset(pam_train_text, sp_pantip)\n",
    "pam_train_loader = DataLoader(\n",
    "    pam_train_dataset, batch_size=train_batch_size, shuffle=True\n",
    ")\n",
    "\n",
    "pam_test_dataset = TextDataset(pam_test_text, sp_pantip)\n",
    "pam_test_loader = DataLoader(\n",
    "    pam_test_dataset, batch_size=test_batch_size, shuffle=False\n",
    ")\n",
    "\n",
    "trainer.fit(model, train_dataloaders=pantip_train_loader)"
   ]
  },
  {
   "cell_type": "code",
   "execution_count": null,
   "metadata": {
    "id": "1e-Y1_GYy65g"
   },
   "outputs": [],
   "source": [
    "test_result = trainer.test(\n",
    "    model,\n",
    "    dataloaders=[\n",
    "        pantip_train_loader,\n",
    "        pam_train_loader,\n",
    "        pantip_test_loader,\n",
    "        pam_test_loader,\n",
    "    ],\n",
    "    verbose=False,\n",
    ")\n",
    "\n",
    "print(\n",
    "    f\"Perplexity on Pantip train set is:\\t{np.exp(test_result[0]['test_loss/dataloader_idx_0'])}\"\n",
    ")\n",
    "print(\n",
    "    f\"Perplexity on Pra apai manee train set is:\\t{np.exp(test_result[1]['test_loss/dataloader_idx_1'])}\"\n",
    ")\n",
    "print(\n",
    "    f\"Perplexity on Pantip test set is:\\t{np.exp(test_result[2]['test_loss/dataloader_idx_2'])}\"\n",
    ")\n",
    "print(\n",
    "    f\"Perplexity on Pra apai manee test set is:\\t{np.exp(test_result[3]['test_loss/dataloader_idx_3'])}\"\n",
    ")"
   ]
  },
  {
   "cell_type": "markdown",
   "metadata": {
    "id": "7s3AmE4nDjmL"
   },
   "source": [
    "<a name=\"no2\"></a>\n",
    "\n",
    "#### 2. Training on Pantip data with Pra apai manee tokenizer\n"
   ]
  },
  {
   "cell_type": "code",
   "execution_count": null,
   "metadata": {
    "id": "vfRdW3m1Dmj_"
   },
   "outputs": [],
   "source": [
    "trainer = L.Trainer(max_epochs=10, deterministic=True)\n",
    "model = LSTM(\n",
    "    vocab_size, embedding_dim, hidden_dim, num_layers, dropout_rate, lr, criterion\n",
    ")\n",
    "\n",
    "pantip_train_dataset = TextDataset(pantip_train_text, sp_pam)\n",
    "pantip_train_loader = DataLoader(\n",
    "    pantip_train_dataset, batch_size=train_batch_size, shuffle=True\n",
    ")\n",
    "\n",
    "pantip_test_dataset = TextDataset(pantip_test_text, sp_pam)\n",
    "pantip_test_loader = DataLoader(\n",
    "    pantip_test_dataset, batch_size=test_batch_size, shuffle=False\n",
    ")\n",
    "\n",
    "pam_train_dataset = TextDataset(pam_train_text, sp_pam)\n",
    "pam_train_loader = DataLoader(\n",
    "    pam_train_dataset, batch_size=train_batch_size, shuffle=True\n",
    ")\n",
    "\n",
    "pam_test_dataset = TextDataset(pam_test_text, sp_pam)\n",
    "pam_test_loader = DataLoader(\n",
    "    pam_test_dataset, batch_size=test_batch_size, shuffle=False\n",
    ")\n",
    "\n",
    "trainer.fit(model, train_dataloaders=pantip_train_loader)"
   ]
  },
  {
   "cell_type": "code",
   "execution_count": null,
   "metadata": {
    "id": "xwLN1IarD3g9"
   },
   "outputs": [],
   "source": [
    "test_result = trainer.test(\n",
    "    model,\n",
    "    dataloaders=[\n",
    "        pantip_train_loader,\n",
    "        pam_train_loader,\n",
    "        pantip_test_loader,\n",
    "        pam_test_loader,\n",
    "    ],\n",
    "    verbose=False,\n",
    ")\n",
    "\n",
    "print(\n",
    "    f\"Perplexity on Pantip train set is:\\t{np.exp(test_result[0]['test_loss/dataloader_idx_0'])}\"\n",
    ")\n",
    "print(\n",
    "    f\"Perplexity on Pra apai manee train set is:\\t{np.exp(test_result[1]['test_loss/dataloader_idx_1'])}\"\n",
    ")\n",
    "print(\n",
    "    f\"Perplexity on Pantip test set is:\\t{np.exp(test_result[2]['test_loss/dataloader_idx_2'])}\"\n",
    ")\n",
    "print(\n",
    "    f\"Perplexity on Pra apai manee test set is:\\t{np.exp(test_result[3]['test_loss/dataloader_idx_3'])}\"\n",
    ")"
   ]
  },
  {
   "cell_type": "markdown",
   "metadata": {
    "id": "NB8zqptTWcA6"
   },
   "source": [
    "#### To answer\n",
    "\n",
    "The perplexity numbers should indicate that:\n",
    "\n",
    "1. Training the LM with Pra apai manee tokenizer on Pantip (no. [2](#no2)) results in overfitting to Pantip and poor generalization to the Pra apai manee dataset.\n",
    "2. However using the Pantip tokenizer (no. [1](#no1)) results in a much better generalization.\n",
    "\n",
    "Try and come up with some reasons for the results above. <br>\n",
    "Hint:\n",
    "\n",
    "1. think about \"general\" vocabs and domain-specific vocabs.\n",
    "2. what do you think happens to the model when the token ids become longer.\n"
   ]
  },
  {
   "cell_type": "code",
   "execution_count": null,
   "metadata": {
    "id": "TmHGQf2saPj_"
   },
   "outputs": [],
   "source": []
  },
  {
   "cell_type": "markdown",
   "metadata": {
    "id": "y8VPMm7pLdSl"
   },
   "source": [
    "<a name=\"no3\"></a>\n",
    "\n",
    "#### 3. Training on Pra apai manee data with Pantip tokenizer\n"
   ]
  },
  {
   "cell_type": "code",
   "execution_count": null,
   "metadata": {
    "id": "oR5fp-YCLnnU"
   },
   "outputs": [],
   "source": [
    "trainer = L.Trainer(max_epochs=10, deterministic=True)\n",
    "model = LSTM(\n",
    "    vocab_size, embedding_dim, hidden_dim, num_layers, dropout_rate, lr, criterion\n",
    ")\n",
    "\n",
    "pantip_train_dataset = TextDataset(pantip_train_text, sp_pantip)\n",
    "pantip_train_loader = DataLoader(\n",
    "    pantip_train_dataset, batch_size=train_batch_size, shuffle=True\n",
    ")\n",
    "\n",
    "pantip_test_dataset = TextDataset(pantip_test_text, sp_pantip)\n",
    "pantip_test_loader = DataLoader(\n",
    "    pantip_test_dataset, batch_size=test_batch_size, shuffle=False\n",
    ")\n",
    "\n",
    "pam_train_dataset = TextDataset(pam_train_text, sp_pantip)\n",
    "pam_train_loader = DataLoader(\n",
    "    pam_train_dataset, batch_size=train_batch_size, shuffle=True\n",
    ")\n",
    "\n",
    "pam_test_dataset = TextDataset(pam_test_text, sp_pantip)\n",
    "pam_test_loader = DataLoader(\n",
    "    pam_test_dataset, batch_size=test_batch_size, shuffle=False\n",
    ")\n",
    "\n",
    "trainer.fit(model, train_dataloaders=pam_train_loader)"
   ]
  },
  {
   "cell_type": "code",
   "execution_count": null,
   "metadata": {
    "id": "f_LhF7w7Lxwo"
   },
   "outputs": [],
   "source": [
    "test_result = trainer.test(\n",
    "    model,\n",
    "    dataloaders=[\n",
    "        pantip_train_loader,\n",
    "        pam_train_loader,\n",
    "        pantip_test_loader,\n",
    "        pam_test_loader,\n",
    "    ],\n",
    "    verbose=False,\n",
    ")\n",
    "\n",
    "print(\n",
    "    f\"Perplexity on Pantip train set is:\\t{np.exp(test_result[0]['test_loss/dataloader_idx_0'])}\"\n",
    ")\n",
    "print(\n",
    "    f\"Perplexity on Pra apai manee train set is:\\t{np.exp(test_result[1]['test_loss/dataloader_idx_1'])}\"\n",
    ")\n",
    "print(\n",
    "    f\"Perplexity on Pantip test set is:\\t{np.exp(test_result[2]['test_loss/dataloader_idx_2'])}\"\n",
    ")\n",
    "print(\n",
    "    f\"Perplexity on Pra apai manee test set is:\\t{np.exp(test_result[3]['test_loss/dataloader_idx_3'])}\"\n",
    ")"
   ]
  },
  {
   "cell_type": "markdown",
   "metadata": {
    "id": "apk9crJjMLoW"
   },
   "source": [
    "<a name=\"no4\"></a>\n",
    "\n",
    "#### 4. Training on Pra apai manee data with Pra apai manee tokenizer\n"
   ]
  },
  {
   "cell_type": "code",
   "execution_count": null,
   "metadata": {
    "id": "_G7GMBIKLzGK"
   },
   "outputs": [],
   "source": [
    "trainer = L.Trainer(max_epochs=10, deterministic=True)\n",
    "model = LSTM(\n",
    "    vocab_size, embedding_dim, hidden_dim, num_layers, dropout_rate, lr, criterion\n",
    ")\n",
    "\n",
    "pantip_train_dataset = TextDataset(pantip_train_text, sp_pam)\n",
    "pantip_train_loader = DataLoader(\n",
    "    pantip_train_dataset, batch_size=train_batch_size, shuffle=True\n",
    ")\n",
    "\n",
    "pantip_test_dataset = TextDataset(pantip_test_text, sp_pam)\n",
    "pantip_test_loader = DataLoader(\n",
    "    pantip_test_dataset, batch_size=test_batch_size, shuffle=False\n",
    ")\n",
    "\n",
    "pam_train_dataset = TextDataset(pam_train_text, sp_pam)\n",
    "pam_train_loader = DataLoader(\n",
    "    pam_train_dataset, batch_size=train_batch_size, shuffle=True\n",
    ")\n",
    "\n",
    "pam_test_dataset = TextDataset(pam_test_text, sp_pam)\n",
    "pam_test_loader = DataLoader(\n",
    "    pam_test_dataset, batch_size=test_batch_size, shuffle=False\n",
    ")\n",
    "\n",
    "trainer.fit(model, train_dataloaders=pam_train_loader)"
   ]
  },
  {
   "cell_type": "code",
   "execution_count": null,
   "metadata": {
    "id": "9H753o_JMRFw"
   },
   "outputs": [],
   "source": [
    "test_result = trainer.test(\n",
    "    model,\n",
    "    dataloaders=[\n",
    "        pantip_train_loader,\n",
    "        pam_train_loader,\n",
    "        pantip_test_loader,\n",
    "        pam_test_loader,\n",
    "    ],\n",
    "    verbose=False,\n",
    ")\n",
    "\n",
    "print(\n",
    "    f\"Perplexity on Pantip train set is:\\t{np.exp(test_result[0]['test_loss/dataloader_idx_0'])}\"\n",
    ")\n",
    "print(\n",
    "    f\"Perplexity on Pra apai manee train set is:\\t{np.exp(test_result[1]['test_loss/dataloader_idx_1'])}\"\n",
    ")\n",
    "print(\n",
    "    f\"Perplexity on Pantip test set is:\\t{np.exp(test_result[2]['test_loss/dataloader_idx_2'])}\"\n",
    ")\n",
    "print(\n",
    "    f\"Perplexity on Pra apai manee test set is:\\t{np.exp(test_result[3]['test_loss/dataloader_idx_3'])}\"\n",
    ")"
   ]
  },
  {
   "cell_type": "markdown",
   "metadata": {
    "id": "en9Lmmj4dZ-1"
   },
   "source": [
    "#### To answer\n",
    "\n",
    "The perplexity numbers should indicate that:\n",
    "\n",
    "1. Both LM overfits on Pra apai manee data and performs really bad on Pantip data.\n",
    "2. However using the Pra apai manee tokenizer (no. [4](#no4)) results in a better generalization than the Pantip tokenizer(no. [3](#no3)).\n",
    "\n",
    "Try and come up with some reasons for the results above. <br>\n"
   ]
  },
  {
   "cell_type": "code",
   "execution_count": null,
   "metadata": {
    "id": "HlE-mWSMfbv3"
   },
   "outputs": [],
   "source": []
  }
 ],
 "metadata": {
  "accelerator": "GPU",
  "colab": {
   "gpuType": "T4",
   "provenance": [],
   "toc_visible": true
  },
  "kernelspec": {
   "display_name": ".venv",
   "language": "python",
   "name": "python3"
  },
  "language_info": {
   "codemirror_mode": {
    "name": "ipython",
    "version": 3
   },
   "file_extension": ".py",
   "mimetype": "text/x-python",
   "name": "python",
   "nbconvert_exporter": "python",
   "pygments_lexer": "ipython3",
   "version": "3.12.5"
  }
 },
 "nbformat": 4,
 "nbformat_minor": 0
}

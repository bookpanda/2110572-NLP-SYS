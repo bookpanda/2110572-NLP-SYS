{
  "cells": [
    {
      "cell_type": "markdown",
      "metadata": {
        "id": "nIEiktiOzhZw"
      },
      "source": [
        "# Build a BOW Sentiment Classifier\n",
        "\n",
        "This demo is a notebook with references from [CMU CS11-711 Advanced NLP](http://phontron.com/class/anlp2024/),  that trains a sentiment classifier based on data. Specifically, it uses a bag-of-words to extract features, and the structured perceptron algorithm to train the classifier.\n",
        "\n",
        "It will take in a text `X` and return a `label` of \\\"1\\\" if the sentiment of the text is positive, \\\"-1\\\" if the sentiment of the text is negative, and \\\"0\\\" if the sentiment of the text is neutral. You can test the accuracy of your classifier on the [Stanford Sentiment Treebank](http://nlp.stanford.edu/sentiment/index.html) by running the notebook all the way to end."
      ]
    },
    {
      "cell_type": "code",
      "execution_count": 9,
      "metadata": {},
      "outputs": [],
      "source": [
        "import random\n",
        "import tqdm"
      ]
    },
    {
      "cell_type": "code",
      "execution_count": null,
      "metadata": {
        "id": "M4yfJuKEOIpV"
      },
      "outputs": [
        {
          "name": "stdout",
          "output_type": "stream",
          "text": [
            "--2025-01-06 10:35:04--  https://github.com/neubig/anlp-code/raw/refs/heads/main/data/sst-sentiment-text-threeclass/train.txt\n",
            "Resolving github.com (github.com)... 20.205.243.166\n",
            "Connecting to github.com (github.com)|20.205.243.166|:443... connected.\n",
            "HTTP request sent, awaiting response... 302 Found\n",
            "Location: https://raw.githubusercontent.com/neubig/anlp-code/refs/heads/main/data/sst-sentiment-text-threeclass/train.txt [following]\n",
            "--2025-01-06 10:35:04--  https://raw.githubusercontent.com/neubig/anlp-code/refs/heads/main/data/sst-sentiment-text-threeclass/train.txt\n",
            "Resolving raw.githubusercontent.com (raw.githubusercontent.com)... 185.199.110.133, 185.199.111.133, 185.199.109.133, ...\n",
            "Connecting to raw.githubusercontent.com (raw.githubusercontent.com)|185.199.110.133|:443... connected.\n",
            "HTTP request sent, awaiting response... 200 OK\n",
            "Length: 940304 (918K) [text/plain]\n",
            "Saving to: ‘train.txt.1’\n",
            "\n",
            "train.txt.1         100%[===================>] 918.27K  2.77MB/s    in 0.3s    \n",
            "\n",
            "2025-01-06 10:35:05 (2.77 MB/s) - ‘train.txt.1’ saved [940304/940304]\n",
            "\n",
            "--2025-01-06 10:35:06--  https://github.com/neubig/anlp-code/raw/refs/heads/main/data/sst-sentiment-text-threeclass/dev.txt\n",
            "Resolving github.com (github.com)... 20.205.243.166\n",
            "Connecting to github.com (github.com)|20.205.243.166|:443... connected.\n",
            "HTTP request sent, awaiting response... 302 Found\n",
            "Location: https://raw.githubusercontent.com/neubig/anlp-code/refs/heads/main/data/sst-sentiment-text-threeclass/dev.txt [following]\n",
            "--2025-01-06 10:35:06--  https://raw.githubusercontent.com/neubig/anlp-code/refs/heads/main/data/sst-sentiment-text-threeclass/dev.txt\n",
            "Resolving raw.githubusercontent.com (raw.githubusercontent.com)... 185.199.111.133, 185.199.109.133, 185.199.108.133, ...\n",
            "Connecting to raw.githubusercontent.com (raw.githubusercontent.com)|185.199.111.133|:443... connected.\n",
            "HTTP request sent, awaiting response... 200 OK\n",
            "Length: 122071 (119K) [text/plain]\n",
            "Saving to: ‘dev.txt.1’\n",
            "\n",
            "dev.txt.1           100%[===================>] 119.21K  --.-KB/s    in 0.08s   \n",
            "\n",
            "2025-01-06 10:35:07 (1.42 MB/s) - ‘dev.txt.1’ saved [122071/122071]\n",
            "\n"
          ]
        }
      ],
      "source": [
        "!wget https://github.com/neubig/anlp-code/raw/refs/heads/main/data/sst-sentiment-text-threeclass/train.txt\n",
        "!wget https://github.com/neubig/anlp-code/raw/refs/heads/main/data/sst-sentiment-text-threeclass/dev.txt"
      ]
    },
    {
      "cell_type": "markdown",
      "metadata": {
        "id": "au6GSwmyOO5n"
      },
      "source": [
        "## Feature Extraction\n",
        "\n",
        "Feature extraction code, how do we get the features we use in training? By default we just use every word."
      ]
    },
    {
      "cell_type": "code",
      "execution_count": 3,
      "metadata": {
        "id": "jTFd8XPHza2N"
      },
      "outputs": [],
      "source": [
        "def extract_features(x: str) -> dict[str, float]:\n",
        "    features = {}\n",
        "    x_split = x.split(' ')\n",
        "    for x in x_split:\n",
        "        features[x] = features.get(x, 0) + 1.0\n",
        "    return features"
      ]
    },
    {
      "cell_type": "markdown",
      "metadata": {
        "id": "XpRODZxMOWiO"
      },
      "source": [
        "Also, initialize the feature weights to zero."
      ]
    },
    {
      "cell_type": "code",
      "execution_count": 4,
      "metadata": {
        "id": "k_GfGFMiOW6u"
      },
      "outputs": [],
      "source": [
        "feature_weights = {}"
      ]
    },
    {
      "cell_type": "markdown",
      "metadata": {
        "id": "0dqddog6z5lY"
      },
      "source": [
        "## Data Reading\n",
        "\n",
        "Read in the data from the training and dev (or finally test) sets"
      ]
    },
    {
      "cell_type": "code",
      "execution_count": 5,
      "metadata": {
        "id": "3s6uFooCz4fJ"
      },
      "outputs": [],
      "source": [
        "def read_xy_data(filename: str) -> tuple[list[str], list[int]]:\n",
        "    x_data = []\n",
        "    y_data = []\n",
        "    with open(filename, 'r') as f:\n",
        "        for line in f:\n",
        "            label, text = line.strip().split(' ||| ')\n",
        "            x_data.append(text)\n",
        "            y_data.append(int(label))\n",
        "    return x_data, y_data"
      ]
    },
    {
      "cell_type": "code",
      "execution_count": 6,
      "metadata": {
        "id": "TeiAsJlvz9ep"
      },
      "outputs": [],
      "source": [
        "x_train, y_train = read_xy_data('train.txt')\n",
        "x_dev, y_dev = read_xy_data('dev.txt')"
      ]
    },
    {
      "cell_type": "code",
      "execution_count": 7,
      "metadata": {
        "id": "D4rWjl930NtC"
      },
      "outputs": [
        {
          "name": "stdout",
          "output_type": "stream",
          "text": [
            "The Rock is destined to be the 21st Century 's new `` Conan '' and that he 's going to make a splash even greater than Arnold Schwarzenegger , Jean-Claud Van Damme or Steven Segal .\n",
            "1\n"
          ]
        }
      ],
      "source": [
        "print(x_train[0])\n",
        "print(y_train[0])"
      ]
    },
    {
      "cell_type": "markdown",
      "metadata": {
        "id": "AiepngMO0kU-"
      },
      "source": [
        "## Inference Code\n",
        "\n",
        "How we run the classifier."
      ]
    },
    {
      "cell_type": "code",
      "execution_count": 8,
      "metadata": {
        "id": "DLjPYH_Q0iss"
      },
      "outputs": [],
      "source": [
        "def run_classifier(features: dict[str, float]) -> int:\n",
        "    score = 0\n",
        "    for feat_name, feat_value in features.items():\n",
        "        score = score + feat_value * feature_weights.get(feat_name, 0)\n",
        "    if score > 0:\n",
        "        return 1\n",
        "    elif score < 0:\n",
        "        return -1\n",
        "    else:\n",
        "        return 0"
      ]
    },
    {
      "cell_type": "code",
      "execution_count": 12,
      "metadata": {},
      "outputs": [
        {
          "name": "stdout",
          "output_type": "stream",
          "text": [
            "0\n"
          ]
        }
      ],
      "source": [
        "feat = extract_features(x_train[0])\n",
        "pred = run_classifier(feat) \n",
        "print(pred)"
      ]
    },
    {
      "cell_type": "markdown",
      "metadata": {
        "id": "ChhGdauNOjhQ"
      },
      "source": [
        "## Training Code\n",
        "\n",
        "Learn the weights of the classifier."
      ]
    },
    {
      "cell_type": "code",
      "execution_count": 21,
      "metadata": {},
      "outputs": [],
      "source": [
        "feature_weights = {}"
      ]
    },
    {
      "cell_type": "code",
      "execution_count": 22,
      "metadata": {
        "id": "w2jske9BOjRg"
      },
      "outputs": [
        {
          "name": "stderr",
          "output_type": "stream",
          "text": [
            "Epoch 1: 100%|██████████| 8544/8544 [00:00<00:00, 9156.49it/s]\n",
            "Epoch 2: 100%|██████████| 8544/8544 [00:00<00:00, 101194.85it/s]\n",
            "Epoch 3: 100%|██████████| 8544/8544 [00:00<00:00, 137263.75it/s]\n",
            "Epoch 4: 100%|██████████| 8544/8544 [00:00<00:00, 148624.88it/s]\n",
            "Epoch 5: 100%|██████████| 8544/8544 [00:00<00:00, 166267.50it/s]\n"
          ]
        }
      ],
      "source": [
        "NUM_EPOCHS = 5\n",
        "for epoch in range(1, NUM_EPOCHS+1):\n",
        "    # Shuffle the order of the data\n",
        "    data_ids = list(range(len(x_train)))\n",
        "    random.shuffle(data_ids)\n",
        "    # Run over all data points\n",
        "    for data_id in tqdm.tqdm(data_ids, desc=f'Epoch {epoch}'):\n",
        "        x = x_train[data_id]\n",
        "        y = y_train[data_id]\n",
        "        # We will skip neutral examples\n",
        "        if y == 0:\n",
        "            continue\n",
        "        # Make a prediction\n",
        "        features = extract_features(x)\n",
        "        predicted_y = run_classifier(features)\n",
        "        # Update the weights if the prediction is wrong\n",
        "        if predicted_y != y:\n",
        "            for feature in features:\n",
        "                feature_weights[feature] = feature_weights.get(feature, 0) + y * features[feature]"
      ]
    },
    {
      "cell_type": "code",
      "execution_count": 23,
      "metadata": {
        "id": "4-O4jaxUPtYI"
      },
      "outputs": [
        {
          "name": "stdout",
          "output_type": "stream",
          "text": [
            "Total features 13224\n",
            "Too\t\t-5.0\n",
            "daft\t\t3.0\n",
            "by\t\t-3.0\n",
            "half\t\t-2.0\n",
            "...\t\t-3.0\n",
            "but\t\t1.0\n",
            "supremely\t\t2.0\n",
            "good\t\t7.0\n",
            "natured\t\t0.0\n",
            ".\t\t2.0\n",
            "Two\t\t3.0\n",
            "hours\t\t-4.0\n",
            "of\t\t-1.0\n",
            "junk\t\t-6.0\n",
            "An\t\t4.0\n",
            "emotionally\t\t-2.0\n",
            "and\t\t4.0\n",
            "spiritually\t\t1.0\n",
            "compelling\t\t5.0\n",
            "journey\t\t5.0\n",
            "seen\t\t1.0\n",
            "through\t\t-2.0\n"
          ]
        }
      ],
      "source": [
        "print(f\"Total features {len(feature_weights.keys())}\")\n",
        "for i,(k,v) in enumerate(feature_weights.items()):\n",
        "  print(f\"{k}\\t\\t{v}\")\n",
        "  if i>20:\n",
        "    break"
      ]
    },
    {
      "cell_type": "markdown",
      "metadata": {
        "id": "pnzOQPnaOpyo"
      },
      "source": [
        "## Evaluation Code\n",
        "\n",
        "How we evaluate the classifier:"
      ]
    },
    {
      "cell_type": "code",
      "execution_count": 24,
      "metadata": {
        "id": "WWgzO83o0qDM"
      },
      "outputs": [],
      "source": [
        "def calculate_accuracy(x_data: list[str], y_data: list[int]) -> float:\n",
        "    total_number = 0\n",
        "    correct_number = 0\n",
        "    for x, y in zip(x_data, y_data):\n",
        "        y_pred = run_classifier(extract_features(x))\n",
        "        total_number += 1\n",
        "        if y == y_pred:\n",
        "            correct_number += 1\n",
        "    return correct_number / float(total_number)"
      ]
    },
    {
      "cell_type": "code",
      "execution_count": 25,
      "metadata": {
        "id": "zdTZgDya0rMc"
      },
      "outputs": [
        {
          "name": "stdout",
          "output_type": "stream",
          "text": [
            "{1: 444, 0: 229, -1: 428}\n"
          ]
        }
      ],
      "source": [
        "label_count = {}\n",
        "for y in y_dev:\n",
        "    if y not in label_count:\n",
        "        label_count[y] = 0\n",
        "    label_count[y] += 1\n",
        "print(label_count)"
      ]
    },
    {
      "cell_type": "code",
      "execution_count": 26,
      "metadata": {
        "id": "RlijPYzW0tGl"
      },
      "outputs": [
        {
          "name": "stdout",
          "output_type": "stream",
          "text": [
            "Train accuracy: 0.7542134831460674\n",
            "Dev/test accuracy: 0.5885558583106267\n"
          ]
        }
      ],
      "source": [
        "train_accuracy = calculate_accuracy(x_train, y_train)\n",
        "test_accuracy = calculate_accuracy(x_dev, y_dev)\n",
        "print(f'Train accuracy: {train_accuracy}')\n",
        "print(f'Dev/test accuracy: {test_accuracy}')"
      ]
    },
    {
      "cell_type": "markdown",
      "metadata": {
        "id": "SwcAYHU80x7l"
      },
      "source": [
        "## Error Analysis\n",
        "\n",
        "An important part of improving any system is figuring out where it goes wrong. The following two functions allow you to randomly observe some mistaken examples, which may help you improve the classifier. Feel free to write more sophisticated methods for error analysis as well."
      ]
    },
    {
      "cell_type": "code",
      "execution_count": 27,
      "metadata": {
        "id": "I7pOe7qN0xtF"
      },
      "outputs": [],
      "source": [
        "def find_errors(x_data, y_data):\n",
        "    error_ids = []\n",
        "    y_preds = []\n",
        "    for i, (x, y) in enumerate(zip(x_data, y_data)):\n",
        "        y_preds.append(run_classifier(extract_features(x)))\n",
        "        if y != y_preds[-1]:\n",
        "            error_ids.append(i)\n",
        "    for _ in range(5):\n",
        "        my_id = random.choice(error_ids)\n",
        "        x, y, y_pred = x_data[my_id], y_data[my_id], y_preds[my_id]\n",
        "        print(f'{x}\\ntrue label: {y}\\npredicted label: {y_pred}\\n')"
      ]
    },
    {
      "cell_type": "code",
      "execution_count": 29,
      "metadata": {
        "id": "3QVPOQJA0uqF"
      },
      "outputs": [
        {
          "name": "stdout",
          "output_type": "stream",
          "text": [
            "Cool ?\n",
            "true label: 1\n",
            "predicted label: -1\n",
            "\n",
            "Overall very good for what it 's trying to do .\n",
            "true label: 1\n",
            "predicted label: -1\n",
            "\n",
            "Preaches to two completely different choirs at the same time , which is a pretty amazing accomplishment .\n",
            "true label: 1\n",
            "predicted label: -1\n",
            "\n",
            "Jacquot 's rendering of Puccini 's tale of devotion and double-cross is more than just a filmed opera .\n",
            "true label: 0\n",
            "predicted label: -1\n",
            "\n",
            "Creepy , authentic and dark .\n",
            "true label: 0\n",
            "predicted label: 1\n",
            "\n"
          ]
        }
      ],
      "source": [
        "find_errors(x_dev, y_dev)"
      ]
    },
    {
      "cell_type": "code",
      "execution_count": null,
      "metadata": {},
      "outputs": [],
      "source": []
    }
  ],
  "metadata": {
    "colab": {
      "provenance": [],
      "toc_visible": true
    },
    "kernelspec": {
      "display_name": ".venv",
      "language": "python",
      "name": "python3"
    },
    "language_info": {
      "codemirror_mode": {
        "name": "ipython",
        "version": 3
      },
      "file_extension": ".py",
      "mimetype": "text/x-python",
      "name": "python",
      "nbconvert_exporter": "python",
      "pygments_lexer": "ipython3",
      "version": "3.12.5"
    }
  },
  "nbformat": 4,
  "nbformat_minor": 0
}

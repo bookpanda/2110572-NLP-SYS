{
  "cells": [
    {
      "cell_type": "markdown",
      "id": "pDRbfJqgPfdr",
      "metadata": {
        "id": "pDRbfJqgPfdr"
      },
      "source": [
        "# HW7: Beam Search Decoding - News Headline Generation"
      ]
    },
    {
      "cell_type": "markdown",
      "id": "fSDxXAqSPeBB",
      "metadata": {
        "id": "fSDxXAqSPeBB"
      },
      "source": [
        "In this exercise, you are going to learn and implement decoding techniques for sequence generation. Usually, the sequence is generated word-by-word from a model. In each step, the model predicted the most likely word based on the predicted words in previous steps (this is called auto-regressive decoding).\n",
        "\n",
        "As such, it is very important how you decide on what to predicted at each step, as it will be conditioned on to predicted all of the following steps. We will implement two of main decoding techniques introduced in the lecture: **Greedy Decoding** and **Beam Search Decoding**. Greedy Decoding immediately chooses the word with best score at each step, while Beam Search Decoding focuses on the sequence that give the best score overall.\n",
        "\n",
        "To complete this exercise, you will need to complete the methods for decoding for a text generation model trained on [New York Times Comments and Headlines dataset](https://www.kaggle.com/aashita/nyt-comments). The model is trained to predict a headline for the news given seed text. You do not need to train any model model in this exercise as we provide both the pretrained model and dictionary.\n"
      ]
    },
    {
      "cell_type": "markdown",
      "id": "YFlSAvCfiZXf",
      "metadata": {
        "id": "YFlSAvCfiZXf"
      },
      "source": [
        "## Download model and vocab and setup"
      ]
    },
    {
      "cell_type": "code",
      "execution_count": 7,
      "id": "q5gRmwtdiYjp",
      "metadata": {
        "id": "q5gRmwtdiYjp"
      },
      "outputs": [
        {
          "name": "stdout",
          "output_type": "stream",
          "text": [
            "zsh:1: command not found: wget\n",
            "zsh:1: command not found: wget\n"
          ]
        }
      ],
      "source": [
        "!wget -O vocab.txt \"https://www.dropbox.com/scl/fi/ht12ua9vpkep6l8/hw9_vocab.txt?dl=0\"\n",
        "!wget -O model.bin \"https://www.dropbox.com/s/okmri7cnd729rr5/hw9_model.bin?dl=0\""
      ]
    },
    {
      "cell_type": "code",
      "execution_count": 2,
      "id": "i9ITxmo5i-s6",
      "metadata": {
        "id": "i9ITxmo5i-s6"
      },
      "outputs": [],
      "source": [
        "import torch\n",
        "import torch.nn as nn\n",
        "from tokenizers import Tokenizer\n",
        "from tokenizers.models import WordLevel\n",
        "from tokenizers.pre_tokenizers import Whitespace\n",
        "from tqdm import tqdm\n",
        "import math\n",
        "import numpy as np"
      ]
    },
    {
      "cell_type": "code",
      "execution_count": 3,
      "id": "VcDZCYkEi0b4",
      "metadata": {
        "id": "VcDZCYkEi0b4"
      },
      "outputs": [],
      "source": [
        "class RNNmodel(nn.Module):\n",
        "    def __init__(self, vocab_size, embedding_dim, dropout_rate):\n",
        "\n",
        "        super().__init__()\n",
        "        self.embedding_dim = embedding_dim\n",
        "\n",
        "        self.embedding = nn.Embedding(vocab_size, embedding_dim)\n",
        "        self.rnn = nn.LSTM(embedding_dim, 128, num_layers=2,\n",
        "                     batch_first=True)\n",
        "        self.dropout = nn.Dropout(dropout_rate)\n",
        "        self.fc2 = nn.Linear(128, vocab_size)\n",
        "\n",
        "    def forward(self, src):\n",
        "        embedding = self.embedding(src)\n",
        "        output,_ = self.rnn(embedding)\n",
        "        output = self.dropout(output)\n",
        "        prediction = self.fc2(output)\n",
        "        return prediction"
      ]
    },
    {
      "cell_type": "code",
      "execution_count": 4,
      "id": "6bZt9R0JjL8l",
      "metadata": {
        "id": "6bZt9R0JjL8l"
      },
      "outputs": [
        {
          "name": "stderr",
          "output_type": "stream",
          "text": [
            "/var/folders/27/0_8pjdb52g91gmnzbtgblvgc0000gn/T/ipykernel_17063/3839689483.py:7: FutureWarning: You are using `torch.load` with `weights_only=False` (the current default value), which uses the default pickle module implicitly. It is possible to construct malicious pickle data which will execute arbitrary code during unpickling (See https://github.com/pytorch/pytorch/blob/main/SECURITY.md#untrusted-models for more details). In a future release, the default value for `weights_only` will be flipped to `True`. This limits the functions that could be executed during unpickling. Arbitrary objects will no longer be allowed to be loaded via this mode unless they are explicitly allowlisted by the user via `torch.serialization.add_safe_globals`. We recommend you start setting `weights_only=True` for any use case where you don't have full control of the loaded file. Please open an issue on GitHub for any issues related to this experimental feature.\n",
            "  model.load_state_dict(torch.load(\"model.bin\",map_location='cpu'))\n"
          ]
        },
        {
          "data": {
            "text/plain": [
              "RNNmodel(\n",
              "  (embedding): Embedding(10054, 64)\n",
              "  (rnn): LSTM(64, 128, num_layers=2, batch_first=True)\n",
              "  (dropout): Dropout(p=0.2, inplace=False)\n",
              "  (fc2): Linear(in_features=128, out_features=10054, bias=True)\n",
              ")"
            ]
          },
          "execution_count": 4,
          "metadata": {},
          "output_type": "execute_result"
        }
      ],
      "source": [
        "with open(\"vocab.txt\") as f:\n",
        "  vocab_file = f.readlines()\n",
        "embedding_dim = 64\n",
        "dropout_rate = 0.2\n",
        "\n",
        "model = RNNmodel(len(vocab_file), embedding_dim, dropout_rate)\n",
        "model.load_state_dict(torch.load(\"model.bin\",map_location='cpu'))\n",
        "model.eval()"
      ]
    },
    {
      "cell_type": "code",
      "execution_count": 5,
      "id": "mOEWXsXzjpn6",
      "metadata": {
        "id": "mOEWXsXzjpn6"
      },
      "outputs": [
        {
          "name": "stdout",
          "output_type": "stream",
          "text": [
            "Vocab Size: 10054\n"
          ]
        },
        {
          "data": {
            "text/plain": [
              "['<unk>', '<pad>', '<eos>', 'the', 'a', 'to', 'of', 's', 'in', 'for']"
            ]
          },
          "execution_count": 5,
          "metadata": {},
          "output_type": "execute_result"
        }
      ],
      "source": [
        "vocab = [v.strip() for v in vocab_file]\n",
        "vocab_size = len(vocab)\n",
        "print(f\"Vocab Size: {vocab_size}\")\n",
        "vocab[:10]"
      ]
    },
    {
      "cell_type": "code",
      "execution_count": 6,
      "id": "sem3jbjoF_d8",
      "metadata": {
        "id": "sem3jbjoF_d8"
      },
      "outputs": [
        {
          "name": "stdout",
          "output_type": "stream",
          "text": [
            "Encoding(num_tokens=5, attributes=[ids, type_ids, tokens, offsets, attention_mask, special_tokens_mask, overflowing])\n",
            "[3, 4, 6, 5, 0]\n",
            "['the', 'a', 'of', 'to', '<unk>']\n",
            "the a of to <unk>\n"
          ]
        }
      ],
      "source": [
        "stoi = { ch:i for i,ch in enumerate(vocab) }\n",
        "tokenizer = Tokenizer(WordLevel(stoi, unk_token=\"<unk>\"))\n",
        "tokenizer.pre_tokenizer = Whitespace()\n",
        "tokenized_text = tokenizer.encode(\"the a of to unknowns\")\n",
        "print(tokenized_text)\n",
        "print(tokenized_text.ids)\n",
        "print(tokenized_text.tokens)\n",
        "print(tokenizer.decode(tokenized_text.ids))"
      ]
    },
    {
      "cell_type": "code",
      "execution_count": 7,
      "id": "89caf5c8",
      "metadata": {},
      "outputs": [
        {
          "data": {
            "text/plain": [
              "[3, 4, 6, 5, 0]"
            ]
          },
          "execution_count": 7,
          "metadata": {},
          "output_type": "execute_result"
        }
      ],
      "source": [
        "tokenized_text.ids\n",
        "# tokenizer.decode(tokenized_text.ids)"
      ]
    },
    {
      "cell_type": "code",
      "execution_count": 8,
      "id": "3f3cf492",
      "metadata": {},
      "outputs": [
        {
          "name": "stdout",
          "output_type": "stream",
          "text": [
            "tensor([[3, 4, 6, 5, 0]])\n",
            "torch.Size([1, 5, 10054])\n",
            "torch.Size([5, 10054])\n",
            "torch.Size([5, 5]) torch.Size([5, 5])\n",
            "of and for on in\n"
          ]
        }
      ],
      "source": [
        "ids = torch.tensor(tokenized_text.ids).unsqueeze(0)\n",
        "print(ids)\n",
        "result = model(ids)\n",
        "print(result.shape)\n",
        "\n",
        "# pass the result tensor to softmax to get the probabilities\n",
        "probs = nn.functional.softmax(result[0], dim=-1)\n",
        "print(probs.shape)\n",
        "\n",
        "# get the top 5 probabilities\n",
        "top5_probs, top5_token_ids = torch.topk(probs, 5)\n",
        "print(top5_probs.shape, top5_token_ids.shape)\n",
        "\n",
        "# convert the top 5 token ids to tokens\n",
        "# top5_tokens = [vocab[i] for i in top5_token_ids[-1]]\n",
        "top5_tokens = tokenizer.decode(top5_token_ids[-1].tolist())\n",
        "print(top5_tokens)"
      ]
    },
    {
      "cell_type": "markdown",
      "id": "rSt1yuR19co-",
      "metadata": {
        "id": "rSt1yuR19co-"
      },
      "source": [
        "## 1. TODO: Greedy decode\n",
        "Normally, in sequence generation task, the model will continue generating tokens until an end-of-sequence symbol appear or the maximum length is reached. For this task:\n",
        "- The end-of-sequence symbol is \"< eos >\" and its index is 2\n",
        "- Use the maximum generation length of 15"
      ]
    },
    {
      "cell_type": "code",
      "execution_count": 9,
      "id": "oUCajb2BvKnN",
      "metadata": {
        "id": "oUCajb2BvKnN"
      },
      "outputs": [],
      "source": [
        "eos_token = '<eos>'\n",
        "eos_id = vocab.index(eos_token)\n",
        "max_gen_length = 15"
      ]
    },
    {
      "cell_type": "code",
      "execution_count": 24,
      "id": "e6638613",
      "metadata": {
        "id": "e6638613"
      },
      "outputs": [],
      "source": [
        "def greedy_decode(seed_text: str, tokenizer: Tokenizer, max_gen_length = 15):\n",
        "    \"\"\"Greedy decodes with seed text.\n",
        "\n",
        "        Args:\n",
        "        seed_text: The seed string to be used as initial input to the model.\n",
        "        tokenizer: The tokenizer for converting word to index and back.\n",
        "\n",
        "        Your code should do the followings:\n",
        "          1. Convert current_text to sequences of indices\n",
        "          2. Predict the next token using the model and choose the token with the highest score as output\n",
        "          3. Append the predicted index to current_text\n",
        "          4. Loop until completion\n",
        "          5. Return text prediction and a list of probabilities of each step\n",
        "\n",
        "        You do not need to stop early when end-of-sequence token is generated and can continue decoding\n",
        "        until max_gen_length is reached. We can filter the eos token out later.\n",
        "    \"\"\"\n",
        "    probs = []\n",
        "    current_text = torch.Tensor(tokenizer.encode(seed_text).ids).unsqueeze(0).long()\n",
        "    is_eos = False\n",
        "\n",
        "    while len(current_text[0]) < max_gen_length:\n",
        "        prediction = model(current_text)\n",
        "        pred_probs = nn.functional.softmax(prediction[0], dim=-1)\n",
        "\n",
        "        top_probs, top_token_ids = torch.topk(pred_probs, 1)\n",
        "        top_probs.squeeze_(1)\n",
        "        top_token_ids.squeeze_(1)\n",
        "        # print(top_token_ids, top_token_ids.shape)\n",
        "        # original_text = tokenizer.decode(current_text[0].tolist())\n",
        "        # top_tokens = tokenizer.decode(top_token_ids.tolist())\n",
        "        # print(f\"text: {original_text}, top_tokens: {top_tokens}, top_token_ids: {top_token_ids}\")\n",
        "        if not is_eos:\n",
        "            probs.append(top_probs[-1].item())\n",
        "            \n",
        "        if top_token_ids[-1].item() == eos_id:\n",
        "            is_eos = True\n",
        "\n",
        "\n",
        "        current_text = torch.cat((current_text, torch.tensor([[top_token_ids[-1]]])), dim=1)\n",
        "\n",
        "    # output = tokenizer.decode(current_text[0].tolist())\n",
        "    output = current_text[0].tolist()\n",
        "\n",
        "    return output,probs"
      ]
    },
    {
      "cell_type": "code",
      "execution_count": 11,
      "id": "9f78f6c8",
      "metadata": {
        "id": "9f78f6c8"
      },
      "outputs": [],
      "source": [
        "def clean_output(token_ids, eos_token_id) -> str:\n",
        "    \"\"\"Drop eos_token and every words that follow\"\"\"\n",
        "    # token_ids = tokenizer.encode(text).ids\n",
        "    # print(token_ids)\n",
        "    if eos_token_id in token_ids:\n",
        "        eos_index = token_ids.index(eos_token_id)\n",
        "        token_ids = token_ids[:eos_index]\n",
        "    \n",
        "    # print(token_ids)\n",
        "    return tokenizer.decode(token_ids)"
      ]
    },
    {
      "cell_type": "code",
      "execution_count": 12,
      "id": "bdd42c8a",
      "metadata": {
        "id": "bdd42c8a"
      },
      "outputs": [
        {
          "name": "stdout",
          "output_type": "stream",
          "text": [
            "Seed: to\n",
            "Output: to encourage creativity in the new york bill\n",
            "\n",
            "probs: [0.04071051627397537, 0.26613038778305054, 0.2581597864627838, 0.2311645746231079, 0.07794328778982162, 0.06978005170822144, 0.22445201873779297, 0.06381556391716003]\n",
            "Seed: america\n",
            "Output: america s lethal export\n",
            "\n",
            "probs: [0.44965478777885437, 0.046399738639593124, 0.7206958532333374, 0.9869425296783447]\n",
            "Seed: people\n",
            "Output: people to balloon to make a criminal with a dog with a callous rival\n",
            "\n",
            "probs: [0.35848456621170044, 0.039465807378292084, 0.26952916383743286, 0.033772896975278854, 0.28156718611717224, 0.030896630138158798, 0.3262553811073303, 0.32244089245796204, 0.034891147166490555, 0.2229834347963333, 0.5808281898498535, 0.04674489051103592, 0.2661653459072113, 0.9633656740188599]\n",
            "Seed: next\n",
            "Output: next phenom english clubs 2 call another deal in the same arrivals\n",
            "\n",
            "probs: [0.17242354154586792, 0.23235617578029633, 0.7396268844604492, 0.07888376712799072, 0.04404294118285179, 0.057693492621183395, 0.03296952694654465, 0.33040058612823486, 0.6040371060371399, 0.031745944172143936, 0.07468772679567337, 0.9989269375801086]\n",
            "Seed: picture\n",
            "Output: picture perfect chapter a spot of view of banning care\n",
            "\n",
            "probs: [0.2500000298023224, 0.017607493326067924, 0.02598319575190544, 0.0538189560174942, 0.310665488243103, 0.040469054132699966, 0.24898767471313477, 0.04575805366039276, 0.08654478192329407, 0.6452388167381287]\n",
            "Seed: on\n",
            "Output: on the catwalk in saudi arabia\n",
            "\n",
            "probs: [0.3077567517757416, 0.022049693390727043, 0.24775096774101257, 0.18319866061210632, 0.7695567607879639, 0.9782568216323853]\n"
          ]
        }
      ],
      "source": [
        "sample_seeds = [\"to\", \"america\", \"people\", \"next\", \"picture\", \"on\"]\n",
        "for seed in sample_seeds:\n",
        "    output_text, probs = greedy_decode(seed, tokenizer)\n",
        "    cleaned_text = clean_output(output_text, stoi[eos_token])\n",
        "    print(f\"Seed: {seed}\\nOutput: {cleaned_text}\\n\")\n",
        "    print(f\"probs: {probs}\")"
      ]
    },
    {
      "cell_type": "markdown",
      "id": "h99jCVvjUvFT",
      "metadata": {
        "id": "h99jCVvjUvFT"
      },
      "source": [
        "Your output should be:\n",
        "\n",
        "*   to encourage creativity in the new york bill\n",
        "*   america s lethal export\n",
        "*   people to balloon to make a criminal with a dog with a callous rival\n",
        "*   next phenom english clubs 2 call another deal in the same arrivals\n",
        "*   picture perfect chapter a spot of view of banning care  \n",
        "*   on the catwalk in saudi arabia\n",
        "\n",
        "\n",
        "\n",
        "\n",
        "\n"
      ]
    },
    {
      "cell_type": "markdown",
      "id": "7553f608",
      "metadata": {
        "id": "7553f608"
      },
      "source": [
        "## 2. TODO: Beam search decode\n",
        "\n",
        "Another well-known decoding method is beam search decoding that focuses more on the overall sequence score.\n",
        "\n",
        "Instead of greedily choosing the token with the highest score for each step, beam search decoding expands all possible next tokens and keeps the __k__ most likely sequence at each step, where __k__ is a user-specified beam size. A sequence score is also calculated according user-specified cal_score() function.\n",
        "The beam with the highest score after the decoding process is done will be the output."
      ]
    },
    {
      "cell_type": "markdown",
      "id": "8kArvA-6xLmQ",
      "metadata": {
        "id": "8kArvA-6xLmQ"
      },
      "source": [
        "There are a few things that you need to know before implementing a beam search decoder:\n",
        "- When the eos token is produced, you can stop expanding that beam\n",
        "- However, the ended beams must be sorted together with active beams\n",
        "- The decoding ends when every beams are either ended or reached the maximum length, but for this task, you can continue decoding until the max_gen_len is reached\n",
        "- We usually work with probability in log scale to avoid numerical underflow. You should use np.log(score) before any calculation\n",
        "- **As probabilities for some classes will be very small, you must add a very small value to the score before taking log e.g np.log(prob + 0.00000001)**"
      ]
    },
    {
      "cell_type": "markdown",
      "id": "MQRZftUYxcCU",
      "metadata": {
        "id": "MQRZftUYxcCU"
      },
      "source": [
        "#### Sequence Score\n",
        "The naive way to calculate the sequence score is to __multiply every token scores__ together. However, doing so will make the decoder prefer shorter sequence as you multiply the sequence score with a value between \\[0,1\\] for every tokens in the sequence. Thus, we usually normalize the sequence score with its length by calculating its __geometric mean__ instead.\n",
        "\n",
        "**You should do this in log scale**"
      ]
    },
    {
      "cell_type": "code",
      "execution_count": 13,
      "id": "d76c6f52",
      "metadata": {
        "id": "d76c6f52"
      },
      "outputs": [],
      "source": [
        "def cal_score(scores, length, normalized=False): #cal score for each beam from a list of probs\n",
        "    log_scores = [np.log(s + 1e-15) for s in scores]\n",
        "    # formatted_log_scores = [f\"{s:.3f}\" for s in log_scores]\n",
        "    # print(f\"log_scores: {formatted_log_scores}\")\n",
        "    if normalized:\n",
        "        score = sum(log_scores) / length\n",
        "    else:\n",
        "        score = sum(log_scores)\n",
        "\n",
        "    return score"
      ]
    },
    {
      "cell_type": "code",
      "execution_count": 33,
      "id": "906cf59e",
      "metadata": {},
      "outputs": [
        {
          "name": "stdout",
          "output_type": "stream",
          "text": [
            "11 -1.9491536855433231 0.14239453115625528\n"
          ]
        }
      ],
      "source": [
        "# print(cal_score([1, 2, 3, 8], 4, normalized=True))\n",
        "# print(cal_score([0.1, 0.2, 0.3, 0.4], 4, normalized=True))\n",
        "\n",
        "# greedy_probs = [0.04071051627397537, 0.26613038778305054, 0.2581597864627838, 0.2311645746231079, 0.07794328778982162, 0.06978005170822144, 0.22445201873779297, 0.06381556391716003]\n",
        "# score = cal_score(greedy_probs, len(greedy_probs), normalized=True)\n",
        "# print(len(greedy_probs), score, math.exp(score))\n",
        "\n",
        "beam_probs = [0.028798477724194527, 0.22056260704994202, 0.0198432058095932, 0.7207849621772766, 0.032541871070861816, 0.09181717038154602, 0.3693373501300812, 0.1407431811094284, 0.8029244542121887, 0.04307405278086662, 1]\n",
        "# beam_probs = [0.3077567517757416, 0.020585922524333, 0.5763784050941467, 0.7065061926841736, 0.6073137521743774, 0.11878754198551178, 0.3569733500480652, 0.8232592940330505, 0.5624097585678101, 0.05455133691430092, 1] \n",
        "# beam_probs = [0.3077567517757416, 0.020585922524333, 0.5763784050941467, 0.7065061926841736, 0.6073137521743774, 0.11878754198551178, 0.3569733500480652, 0.8232592940330505, 0.2889341711997986, 0.10984371602535248, 1]\n",
        "score = cal_score(beam_probs, len(beam_probs), normalized=True)\n",
        "print(len(beam_probs), score, math.exp(score))"
      ]
    },
    {
      "cell_type": "code",
      "execution_count": 15,
      "id": "bb1dd75a",
      "metadata": {
        "id": "bb1dd75a"
      },
      "outputs": [],
      "source": [
        "import copy\n",
        "\n",
        "def beam_search_decode(seed_text, max_gen_len, tokenizer, beam_size=5, normalized=False):\n",
        "    \"\"\"We will do beam search decoing using seed text in this function.\n",
        "\n",
        "    Output:\n",
        "    beams: A list of top k beams after the decoding ended, each beam is a list of\n",
        "      [seed_text, list of scores, length]\n",
        "\n",
        "    Your code should do the followings:\n",
        "    1.Loop until max_gen_len is reached.\n",
        "    2.During each step, loop thorugh each beam and use it to predict the next word.\n",
        "      If a beam is already ended, continues without expanding.\n",
        "    3.Sort all hypotheses according to cal_score().\n",
        "    4.Keep top k hypotheses to be used at the next step.\n",
        "    \"\"\"\n",
        "    # For each beam we will store (generated text, list of scores, and current length, is_finished)\n",
        "    # Add initial beam\n",
        "    seed_ids = torch.Tensor(tokenizer.encode(seed_text).ids).unsqueeze(0).long()\n",
        "    # beams = [[[seed_text], [], 0, False]]\n",
        "    beams = [(seed_ids, [], 0, False)]\n",
        "    \n",
        "    for i in range(max_gen_len):\n",
        "      new_beams = []\n",
        "      # print(f\"---------- Step {i} ----------\")\n",
        "      for beam in beams:\n",
        "        if beam[-1] == True: # is_finished\n",
        "          new_beams.append(beam)\n",
        "          continue\n",
        "        token_ids, score_list, length, _ = beam\n",
        "        # text = tokenizer.decode(token_ids[0].tolist())\n",
        "        # print(f\"tokens: {token_ids[0]}\\ntext: {text} \\nscore: {score_list}, length: {length}\")\n",
        "        prediction = model(token_ids)\n",
        "        pred_probs = nn.functional.softmax(prediction[0], dim=-1)\n",
        "        next_token_pred_probs = pred_probs[-1]\n",
        "        for next_token_id, next_token_prob in enumerate(next_token_pred_probs):\n",
        "          new_text = torch.cat((token_ids, torch.tensor([[next_token_id]])), dim=1)\n",
        "          new_length = length + 1\n",
        "\n",
        "          new_finished = False\n",
        "          if next_token_id == stoi[eos_token]:\n",
        "            new_finished = True\n",
        "          \n",
        "          new_score = score_list + [next_token_prob.item()]\n",
        "          new_beams.append((new_text, new_score, new_length, new_finished))\n",
        "\n",
        "      new_beams.sort(key=lambda x: cal_score(x[1], x[2], normalized), reverse=True)\n",
        "      # for i in range(5):\n",
        "      #   text = tokenizer.decode(new_beams[i][0][0].tolist())\n",
        "      #   print(f\"tokens: {new_beams[i][0][0]}\\ntext: {text} \\nscore: {new_beams[i][1]}, length: {new_beams[i][2]}\")\n",
        "      #   print(f\"score: {cal_score(new_beams[i][1], new_beams[i][2], normalized)}\")\n",
        "      # print(f\"new_beams len: {len(new_beams)}\")\n",
        "      beams = new_beams[:beam_size]\n",
        "\n",
        "    return beams"
      ]
    },
    {
      "cell_type": "markdown",
      "id": "i_eqGDA09zqk",
      "metadata": {
        "id": "i_eqGDA09zqk"
      },
      "source": [
        "## 3. Generate!\n",
        "Generate 6 sentences based on the given seed texts.\n",
        "\n",
        "Decode with the provided seed texts with beam_size 5. Compare the results between greedy, normalized, and unnormalized decoding.\n",
        "\n",
        "Print the result using greedy decoding and top 2 results each using unnormalized and normalized decoing for each seed text.\n",
        "\n",
        "Also, print scores of each candidate according to cal_score(). Use normalization for greedy decoding."
      ]
    },
    {
      "cell_type": "code",
      "execution_count": null,
      "id": "d40a3cb0",
      "metadata": {
        "id": "d40a3cb0"
      },
      "outputs": [
        {
          "name": "stdout",
          "output_type": "stream",
          "text": [
            "-Greedy-\n",
            "to encourage creativity in the new york bill  0.12\n",
            "-Unnormalized-\n",
            "To Consult Exploring Recipes For New Jersey  0.0\n",
            "7 7 [0.03152303770184517, 0.30828332901000977, 0.8540560007095337, 0.06086023151874542, 0.1622042953968048, 0.12873302400112152, 0.7070869207382202]\n",
            "To Consult Exploring Recipes Up The Pacific Northwest  0.0\n",
            "8 8 [0.03152303770184517, 0.30828332901000977, 0.8540560007095337, 0.06756700575351715, 0.6541436910629272, 0.05161101743578911, 0.24377505481243134, 0.9981531500816345]\n",
            "-Normalized-\n",
            "To Consult Exploring Recipes Up The Pacific Northwest  0.22\n",
            "8 8 [0.03152303770184517, 0.30828332901000977, 0.8540560007095337, 0.06756700575351715, 0.6541436910629272, 0.05161101743578911, 0.24377505481243134, 0.9981531500816345]\n",
            "To Consult Exploring Recipes Up The Least Of The Week  0.19\n",
            "10 10 [0.03152303770184517, 0.30828332901000977, 0.8540560007095337, 0.06756700575351715, 0.6541436910629272, 0.029132956638932228, 0.3098841607570648, 0.5536085963249207, 0.041552890092134476, 0.9539512991905212]\n",
            "\n",
            "-Greedy-\n",
            "america s lethal export  0.35\n",
            "-Unnormalized-\n",
            "America S Lethal Export  0.01\n",
            "4 4 [0.44965478777885437, 0.046399738639593124, 0.7206958532333374, 0.9869425296783447]\n",
            "America S Desert Aisles  0.01\n",
            "4 4 [0.44965478777885437, 0.027665888890624046, 0.6357926726341248, 0.9972711205482483]\n",
            "-Normalized-\n",
            "America S Lethal Export  0.35\n",
            "4 4 [0.44965478777885437, 0.046399738639593124, 0.7206958532333374, 0.9869425296783447]\n",
            "America S Desert Aisles  0.3\n",
            "4 4 [0.44965478777885437, 0.027665888890624046, 0.6357926726341248, 0.9972711205482483]\n",
            "\n",
            "-Greedy-\n",
            "people to balloon to make a criminal with a dog with a callous rival  0.16\n",
            "-Unnormalized-\n",
            "People To Balloon For A Criminal  0.0\n",
            "6 6 [0.35848456621170044, 0.039465807378292084, 0.19652846455574036, 0.20345547795295715, 0.05752107873558998, 0.20406575500965118]\n",
            "People To Balloon For A Criminal With Trump  0.0\n",
            "8 8 [0.35848456621170044, 0.039465807378292084, 0.19652846455574036, 0.20345547795295715, 0.05752107873558998, 0.19483104348182678, 0.11087946593761444, 0.6425989866256714]\n",
            "-Normalized-\n",
            "People To Balloon For A Criminal With A Second Fiddle  0.16\n",
            "10 10 [0.35848456621170044, 0.039465807378292084, 0.19652846455574036, 0.20345547795295715, 0.05752107873558998, 0.19483104348182678, 0.47484150528907776, 0.015460051596164703, 0.26029717922210693, 0.9964048862457275]\n",
            "People To Balloon For A Criminal With Trump  0.16\n",
            "8 8 [0.35848456621170044, 0.039465807378292084, 0.19652846455574036, 0.20345547795295715, 0.05752107873558998, 0.19483104348182678, 0.11087946593761444, 0.6425989866256714]\n",
            "\n",
            "-Greedy-\n",
            "next phenom english clubs 2 call another deal in the same arrivals  0.15\n",
            "-Unnormalized-\n",
            "Next S Blist Revue  0.0\n",
            "4 4 [0.08798578381538391, 0.05059519410133362, 0.5983407497406006, 0.9964154958724976]\n",
            "Next Phenom English Clubs 1 A Chance To Be Back  0.0\n",
            "10 10 [0.17242354154586792, 0.23235617578029633, 0.7396268844604492, 0.05833984911441803, 0.22269946336746216, 0.03150535374879837, 0.5554922819137573, 0.06774566322565079, 0.04770715534687042, 0.6234809160232544]\n",
            "-Normalized-\n",
            "Next S Blist Revue  0.23\n",
            "4 4 [0.08798578381538391, 0.05059519410133362, 0.5983407497406006, 0.9964154958724976]\n",
            "Next Phenom English Clubs 1 A Chance To Be Back  0.16\n",
            "10 10 [0.17242354154586792, 0.23235617578029633, 0.7396268844604492, 0.05833984911441803, 0.22269946336746216, 0.03150535374879837, 0.5554922819137573, 0.06774566322565079, 0.04770715534687042, 0.6234809160232544]\n",
            "\n",
            "-Greedy-\n",
            "picture perfect chapter a spot of view of banning care  0.09\n",
            "-Unnormalized-\n",
            "Picture Perfect Use Coffee  0.0\n",
            "4 4 [0.2500000298023224, 0.011372703127563, 0.04557585343718529, 0.14252059161663055]\n",
            "Picture Korean A Bonanza Of Pancakes  0.0\n",
            "6 6 [0.028798477724194527, 0.22056260704994202, 0.0198432058095932, 0.7207849621772766, 0.025420987978577614, 0.9888356328010559]\n",
            "-Normalized-\n",
            "Picture Korean A Bonanza Of Contemplation Times Of Trump S Son  0.12\n",
            "11 10 [0.028798477724194527, 0.22056260704994202, 0.0198432058095932, 0.7207849621772766, 0.032541871070861816, 0.09181717038154602, 0.3693373501300812, 0.1407431811094284, 0.8029244542121887, 0.04307405278086662]\n",
            "Picture Korean A Bonanza Of Pancakes  0.11\n",
            "6 6 [0.028798477724194527, 0.22056260704994202, 0.0198432058095932, 0.7207849621772766, 0.025420987978577614, 0.9888356328010559]\n",
            "\n",
            "-Greedy-\n",
            "on the catwalk in saudi arabia  0.25\n",
            "-Unnormalized-\n",
            "On The Billboard Chart  0.0\n",
            "4 4 [0.3077567517757416, 0.01892847567796707, 0.7282034158706665, 0.9732507467269897]\n",
            "On The Catwalk In Saudi Arabia  0.0\n",
            "6 6 [0.3077567517757416, 0.022049693390727043, 0.24775096774101257, 0.18319866061210632, 0.7695567607879639, 0.9782568216323853]\n",
            "-Normalized-\n",
            "On The Whole30 Diet Vowing To Eat Smarter Carbs To Be  0.27\n",
            "11 10 [0.3077567517757416, 0.020585922524333, 0.5763784050941467, 0.7065061926841736, 0.6073137521743774, 0.11878754198551178, 0.3569733500480652, 0.8232592940330505, 0.2889341711997986, 0.10984371602535248]\n",
            "On The Whole30 Diet Vowing To Eat Smarter Carbs For Because  0.26\n",
            "11 10 [0.3077567517757416, 0.020585922524333, 0.5763784050941467, 0.7065061926841736, 0.6073137521743774, 0.11878754198551178, 0.3569733500480652, 0.8232592940330505, 0.5624097585678101, 0.05455133691430092]\n",
            "\n"
          ]
        }
      ],
      "source": [
        "sample_seeds = [\"to\", \"america\", \"people\", \"next\", \"picture\", \"on\"]\n",
        "max_gen_length = 10\n",
        "# sample_seeds = [\"to\"]\n",
        "for seed in sample_seeds:\n",
        "    print(\"-Greedy-\")\n",
        "    output_text, probs = greedy_decode(seed, tokenizer)\n",
        "    cleaned_text = clean_output(output_text, stoi[eos_token])\n",
        "    score = cal_score(probs, len(probs), normalized=True)\n",
        "    print(f\"{cleaned_text}  {round(np.exp(score), 2)}\")\n",
        "    # print(f\"probs {probs}\")\n",
        "    print(\"-Unnormalized-\")\n",
        "    beams = beam_search_decode(seed, max_gen_length, tokenizer, beam_size=5, normalized=False)\n",
        "    for beam in beams[:2]:\n",
        "        output_text = clean_output(beam[0][0].tolist(), stoi[eos_token])\n",
        "        score = cal_score(beam[1], beam[2], normalized=False)\n",
        "        print(f\"{output_text.title()}  {round(np.exp(score), 2)}\")\n",
        "        print(len(output_text.split(\" \")), len(beam[1]), beam[1])\n",
        "    print(\"-Normalized-\")\n",
        "    beams = beam_search_decode(seed, max_gen_length, tokenizer, beam_size=5, normalized=True)\n",
        "    for beam in beams[:2]:\n",
        "        output_text = clean_output(beam[0][0].tolist(), stoi[eos_token])\n",
        "        score = cal_score(beam[1], beam[2], normalized=True)\n",
        "        print(f\"{output_text.title()}  {round(np.exp(score), 2)}\")\n",
        "        print(len(output_text.split(\" \")), len(beam[1]), beam[1])\n",
        "    print(\"\")"
      ]
    },
    {
      "cell_type": "code",
      "execution_count": null,
      "id": "0cb0e8df",
      "metadata": {},
      "outputs": [
        {
          "name": "stdout",
          "output_type": "stream",
          "text": [
            "0.12 0.14\n",
            "0.27 0.3\n",
            "0.26 0.3\n"
          ]
        }
      ],
      "source": [
        "# Picture Korean A Bonanza Of Contemplation Times Of Trump S Son  0.12\n",
        "prob_1 = [0.028798477724194527, 0.22056260704994202, 0.0198432058095932, 0.7207849621772766, 0.032541871070861816, 0.09181717038154602, 0.3693373501300812, 0.1407431811094284, 0.8029244542121887, 0.04307405278086662]\n",
        "score = cal_score(prob_1, len(prob_1), normalized=True)\n",
        "score_with_eos = cal_score(prob_1 + [1], len(prob_1 + [1]), normalized=True)\n",
        "print(round(np.exp(score), 2), round(np.exp(score_with_eos), 2))\n",
        "\n",
        "# On The Whole30 Diet Vowing To Eat Smarter Carbs To Be\n",
        "prob_2 = [0.3077567517757416, 0.020585922524333, 0.5763784050941467, 0.7065061926841736, 0.6073137521743774, 0.11878754198551178, 0.3569733500480652, 0.8232592940330505, 0.2889341711997986, 0.10984371602535248]\n",
        "score = cal_score(prob_2, len(prob_2), normalized=True)\n",
        "score_with_eos = cal_score(prob_2 + [1], len(prob_2 + [1]), normalized=True)\n",
        "print(round(np.exp(score), 2), round(np.exp(score_with_eos), 2))\n",
        "\n",
        "# On The Whole30 Diet Vowing To Eat Smarter Carbs For Because\n",
        "prob_3 = [0.3077567517757416, 0.020585922524333, 0.5763784050941467, 0.7065061926841736, 0.6073137521743774, 0.11878754198551178, 0.3569733500480652, 0.8232592940330505, 0.5624097585678101, 0.05455133691430092]\n",
        "score = cal_score(prob_3, len(prob_3), normalized=True)\n",
        "score_with_eos = cal_score(prob_3 + [1], len(prob_3 + [1]), normalized=True)\n",
        "print(round(np.exp(score), 2), round(np.exp(score_with_eos), 2))\n",
        "\n",
        "# To make the beam search (normalized) score match the answer, we need to add the eos token to the end of the beam search score list."
      ]
    },
    {
      "cell_type": "markdown",
      "id": "icfu6pOzWUSt",
      "metadata": {
        "id": "icfu6pOzWUSt"
      },
      "source": [
        "Your output should be:\n",
        "\n",
        "\n",
        "```\n",
        "-Greedy-\n",
        "to encourage creativity in the new york bill  0.12\n",
        "-Unnormalized-\n",
        "To Consult Exploring Recipes For New Jersey 0.00\n",
        "To Consult Exploring Recipes Up The Pacific Northwest 0.00\n",
        "-Normalized-\n",
        "To Consult Exploring Recipes Up The Pacific Northwest 0.22\n",
        "To Consult Exploring Recipes Up The Least Of The Week 0.19\n",
        "\n",
        "-Greedy-\n",
        "america s lethal export  0.35\n",
        "-Unnormalized-\n",
        "America S Lethal Export 0.01\n",
        "America S Desert Aisles 0.01\n",
        "-Normalized-\n",
        "America S Lethal Export 0.35\n",
        "America S Desert Aisles 0.30\n",
        "\n",
        "-Greedy-\n",
        "people to balloon to make a criminal with a dog with a callous rival  0.16\n",
        "-Unnormalized-\n",
        "People To Balloon For A Criminal 0.00\n",
        "People To Balloon For A Criminal With Trump 0.00\n",
        "-Normalized-\n",
        "People To Balloon For A Criminal With A Second Fiddle 0.16\n",
        "People To Balloon For A Criminal With Trump 0.16\n",
        "\n",
        "-Greedy-\n",
        "next phenom english clubs 2 call another deal in the same arrivals  0.15\n",
        "-Unnormalized-\n",
        "Next S Blist Revue 0.00\n",
        "Next Phenom English Clubs 1 A Chance To Be Back 0.00\n",
        "-Normalized-\n",
        "Next S Blist Revue 0.23\n",
        "Next Phenom English Clubs 1 A Chance To Be Back 0.16\n",
        "\n",
        "-Greedy-\n",
        "picture perfect chapter a spot of view of banning care  0.09\n",
        "-Unnormalized-\n",
        "Picture Perfect Use Coffee 0.00\n",
        "Picture Korean A Bonanza Of Pancakes 0.00\n",
        "-Normalized-\n",
        "Picture Korean A Bonanza Of Contemplation Times Of Trump S Son 0.14\n",
        "Picture Korean A Bonanza Of Pancakes 0.11\n",
        "\n",
        "-Greedy-\n",
        "on the catwalk in saudi arabia  0.25\n",
        "-Unnormalized-\n",
        "On The Billboard Chart 0.00\n",
        "On The Catwalk In Saudi Arabia 0.00\n",
        "-Normalized-\n",
        "On The Whole30 Diet Vowing To Eat Smarter Carbs To Be 0.30\n",
        "On The Whole30 Diet Vowing To Eat Smarter Carbs For Because 0.30\n",
        "\n",
        "```\n",
        "\n"
      ]
    },
    {
      "cell_type": "markdown",
      "id": "tquJVskBeM9m",
      "metadata": {
        "id": "tquJVskBeM9m"
      },
      "source": [
        "# Answer Questions in MyCourseVille!\n",
        "\n",
        "Use the seed word \"usa\" to answer questions in MCV."
      ]
    },
    {
      "cell_type": "code",
      "execution_count": 34,
      "id": "c2d215d1",
      "metadata": {},
      "outputs": [
        {
          "name": "stdout",
          "output_type": "stream",
          "text": [
            "-Greedy-\n",
            "usa s duty to investigate  0.15\n",
            "-Unnormalized-\n",
            "Usa S Duty To Investigate  0.0\n",
            "5 5 [0.15032975375652313, 0.01845468021929264, 0.47833025455474854, 0.05866711959242821, 0.8444095253944397]\n",
            "Usa S Bleak Season 3 Episode 4 Recap Chicken  0.0\n",
            "9 9 [0.15032975375652313, 0.01804458536207676, 0.38699889183044434, 0.18051539361476898, 0.8674392104148865, 0.2880602478981018, 0.48781028389930725, 0.08663538098335266, 0.09267482906579971]\n",
            "-Normalized-\n",
            "Usa S Bleak Season 1 Episode 2 Darkness Descends  0.23\n",
            "9 9 [0.15032975375652313, 0.01804458536207676, 0.38699889183044434, 0.2305964231491089, 0.8998907804489136, 0.21810458600521088, 0.07934974879026413, 0.47243404388427734, 0.9940153956413269]\n",
            "Usa S Bleak Season 3 Episode 4 Recap A Seduction  0.21\n",
            "10 10 [0.15032975375652313, 0.01804458536207676, 0.38699889183044434, 0.18051539361476898, 0.8674392104148865, 0.2880602478981018, 0.48781028389930725, 0.17257606983184814, 0.04379192739725113, 0.9871757626533508]\n",
            "\n"
          ]
        }
      ],
      "source": [
        "sample_seeds = [\"usa\"]\n",
        "max_gen_length = 10\n",
        "# sample_seeds = [\"to\"]\n",
        "for seed in sample_seeds:\n",
        "    print(\"-Greedy-\")\n",
        "    output_text, probs = greedy_decode(seed, tokenizer)\n",
        "    cleaned_text = clean_output(output_text, stoi[eos_token])\n",
        "    score = cal_score(probs, len(probs), normalized=True)\n",
        "    print(f\"{cleaned_text}  {round(np.exp(score), 2)}\")\n",
        "    # print(f\"probs {probs}\")\n",
        "    print(\"-Unnormalized-\")\n",
        "    beams = beam_search_decode(seed, max_gen_length, tokenizer, beam_size=5, normalized=False)\n",
        "    for beam in beams[:2]:\n",
        "        output_text = clean_output(beam[0][0].tolist(), stoi[eos_token])\n",
        "        # remove last prob (eos prob), also minus it from length\n",
        "        score = cal_score(beam[1], beam[2], normalized=False)\n",
        "        print(f\"{output_text.title()}  {round(np.exp(score), 2)}\")\n",
        "        print(len(output_text.split(\" \")), len(beam[1]), beam[1])\n",
        "    print(\"-Normalized-\")\n",
        "    beams = beam_search_decode(seed, max_gen_length, tokenizer, beam_size=5, normalized=True)\n",
        "    for beam in beams[:2]:\n",
        "        output_text = clean_output(beam[0][0].tolist(), stoi[eos_token])\n",
        "        score = cal_score(beam[1], beam[2], normalized=True)\n",
        "        print(f\"{output_text.title()}  {round(np.exp(score), 2)}\")\n",
        "        print(len(output_text.split(\" \")), len(beam[1]), beam[1])\n",
        "    print(\"\")"
      ]
    },
    {
      "cell_type": "code",
      "execution_count": null,
      "id": "d795e8ea",
      "metadata": {},
      "outputs": [],
      "source": []
    }
  ],
  "metadata": {
    "colab": {
      "provenance": [],
      "toc_visible": true
    },
    "kernelspec": {
      "display_name": ".venv",
      "language": "python",
      "name": "python3"
    },
    "language_info": {
      "codemirror_mode": {
        "name": "ipython",
        "version": 3
      },
      "file_extension": ".py",
      "mimetype": "text/x-python",
      "name": "python",
      "nbconvert_exporter": "python",
      "pygments_lexer": "ipython3",
      "version": "3.12.5"
    }
  },
  "nbformat": 4,
  "nbformat_minor": 5
}

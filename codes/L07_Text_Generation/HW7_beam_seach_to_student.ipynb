{
  "cells": [
    {
      "cell_type": "markdown",
      "id": "pDRbfJqgPfdr",
      "metadata": {
        "id": "pDRbfJqgPfdr"
      },
      "source": [
        "# HW7: Beam Search Decoding - News Headline Generation"
      ]
    },
    {
      "cell_type": "markdown",
      "id": "fSDxXAqSPeBB",
      "metadata": {
        "id": "fSDxXAqSPeBB"
      },
      "source": [
        "In this exercise, you are going to learn and implement decoding techniques for sequence generation. Usually, the sequence is generated word-by-word from a model. In each step, the model predicted the most likely word based on the predicted words in previous steps (this is called auto-regressive decoding).\n",
        "\n",
        "As such, it is very important how you decide on what to predicted at each step, as it will be conditioned on to predicted all of the following steps. We will implement two of main decoding techniques introduced in the lecture: **Greedy Decoding** and **Beam Search Decoding**. Greedy Decoding immediately chooses the word with best score at each step, while Beam Search Decoding focuses on the sequence that give the best score overall.\n",
        "\n",
        "To complete this exercise, you will need to complete the methods for decoding for a text generation model trained on [New York Times Comments and Headlines dataset](https://www.kaggle.com/aashita/nyt-comments). The model is trained to predict a headline for the news given seed text. You do not need to train any model model in this exercise as we provide both the pretrained model and dictionary.\n"
      ]
    },
    {
      "cell_type": "markdown",
      "id": "YFlSAvCfiZXf",
      "metadata": {
        "id": "YFlSAvCfiZXf"
      },
      "source": [
        "## Download model and vocab and setup"
      ]
    },
    {
      "cell_type": "code",
      "execution_count": 7,
      "id": "q5gRmwtdiYjp",
      "metadata": {
        "id": "q5gRmwtdiYjp"
      },
      "outputs": [
        {
          "name": "stdout",
          "output_type": "stream",
          "text": [
            "zsh:1: command not found: wget\n",
            "zsh:1: command not found: wget\n"
          ]
        }
      ],
      "source": [
        "!wget -O vocab.txt \"https://www.dropbox.com/scl/fi/ht12ua9vpkep6l8/hw9_vocab.txt?dl=0\"\n",
        "!wget -O model.bin \"https://www.dropbox.com/s/okmri7cnd729rr5/hw9_model.bin?dl=0\""
      ]
    },
    {
      "cell_type": "code",
      "execution_count": 157,
      "id": "i9ITxmo5i-s6",
      "metadata": {
        "id": "i9ITxmo5i-s6"
      },
      "outputs": [],
      "source": [
        "import torch\n",
        "import torch.nn as nn\n",
        "from tokenizers import Tokenizer\n",
        "from tokenizers.models import WordLevel\n",
        "from tokenizers.pre_tokenizers import Whitespace\n",
        "from tqdm import tqdm"
      ]
    },
    {
      "cell_type": "code",
      "execution_count": 9,
      "id": "VcDZCYkEi0b4",
      "metadata": {
        "id": "VcDZCYkEi0b4"
      },
      "outputs": [],
      "source": [
        "class RNNmodel(nn.Module):\n",
        "    def __init__(self, vocab_size, embedding_dim, dropout_rate):\n",
        "\n",
        "        super().__init__()\n",
        "        self.embedding_dim = embedding_dim\n",
        "\n",
        "        self.embedding = nn.Embedding(vocab_size, embedding_dim)\n",
        "        self.rnn = nn.LSTM(embedding_dim, 128, num_layers=2,\n",
        "                     batch_first=True)\n",
        "        self.dropout = nn.Dropout(dropout_rate)\n",
        "        self.fc2 = nn.Linear(128, vocab_size)\n",
        "\n",
        "    def forward(self, src):\n",
        "        embedding = self.embedding(src)\n",
        "        output,_ = self.rnn(embedding)\n",
        "        output = self.dropout(output)\n",
        "        prediction = self.fc2(output)\n",
        "        return prediction"
      ]
    },
    {
      "cell_type": "code",
      "execution_count": 10,
      "id": "6bZt9R0JjL8l",
      "metadata": {
        "id": "6bZt9R0JjL8l"
      },
      "outputs": [
        {
          "name": "stderr",
          "output_type": "stream",
          "text": [
            "/var/folders/27/0_8pjdb52g91gmnzbtgblvgc0000gn/T/ipykernel_71206/3839689483.py:7: FutureWarning: You are using `torch.load` with `weights_only=False` (the current default value), which uses the default pickle module implicitly. It is possible to construct malicious pickle data which will execute arbitrary code during unpickling (See https://github.com/pytorch/pytorch/blob/main/SECURITY.md#untrusted-models for more details). In a future release, the default value for `weights_only` will be flipped to `True`. This limits the functions that could be executed during unpickling. Arbitrary objects will no longer be allowed to be loaded via this mode unless they are explicitly allowlisted by the user via `torch.serialization.add_safe_globals`. We recommend you start setting `weights_only=True` for any use case where you don't have full control of the loaded file. Please open an issue on GitHub for any issues related to this experimental feature.\n",
            "  model.load_state_dict(torch.load(\"model.bin\",map_location='cpu'))\n"
          ]
        },
        {
          "data": {
            "text/plain": [
              "RNNmodel(\n",
              "  (embedding): Embedding(10054, 64)\n",
              "  (rnn): LSTM(64, 128, num_layers=2, batch_first=True)\n",
              "  (dropout): Dropout(p=0.2, inplace=False)\n",
              "  (fc2): Linear(in_features=128, out_features=10054, bias=True)\n",
              ")"
            ]
          },
          "execution_count": 10,
          "metadata": {},
          "output_type": "execute_result"
        }
      ],
      "source": [
        "with open(\"vocab.txt\") as f:\n",
        "  vocab_file = f.readlines()\n",
        "embedding_dim = 64\n",
        "dropout_rate = 0.2\n",
        "\n",
        "model = RNNmodel(len(vocab_file), embedding_dim, dropout_rate)\n",
        "model.load_state_dict(torch.load(\"model.bin\",map_location='cpu'))\n",
        "model.eval()"
      ]
    },
    {
      "cell_type": "code",
      "execution_count": 11,
      "id": "mOEWXsXzjpn6",
      "metadata": {
        "id": "mOEWXsXzjpn6"
      },
      "outputs": [
        {
          "name": "stdout",
          "output_type": "stream",
          "text": [
            "Vocab Size: 10054\n"
          ]
        },
        {
          "data": {
            "text/plain": [
              "['<unk>', '<pad>', '<eos>', 'the', 'a', 'to', 'of', 's', 'in', 'for']"
            ]
          },
          "execution_count": 11,
          "metadata": {},
          "output_type": "execute_result"
        }
      ],
      "source": [
        "vocab = [v.strip() for v in vocab_file]\n",
        "vocab_size = len(vocab)\n",
        "print(f\"Vocab Size: {vocab_size}\")\n",
        "vocab[:10]"
      ]
    },
    {
      "cell_type": "code",
      "execution_count": 12,
      "id": "sem3jbjoF_d8",
      "metadata": {
        "id": "sem3jbjoF_d8"
      },
      "outputs": [
        {
          "name": "stdout",
          "output_type": "stream",
          "text": [
            "Encoding(num_tokens=5, attributes=[ids, type_ids, tokens, offsets, attention_mask, special_tokens_mask, overflowing])\n",
            "[3, 4, 6, 5, 0]\n",
            "['the', 'a', 'of', 'to', '<unk>']\n",
            "the a of to <unk>\n"
          ]
        }
      ],
      "source": [
        "stoi = { ch:i for i,ch in enumerate(vocab) }\n",
        "tokenizer = Tokenizer(WordLevel(stoi, unk_token=\"<unk>\"))\n",
        "tokenizer.pre_tokenizer = Whitespace()\n",
        "tokenized_text = tokenizer.encode(\"the a of to unknowns\")\n",
        "print(tokenized_text)\n",
        "print(tokenized_text.ids)\n",
        "print(tokenized_text.tokens)\n",
        "print(tokenizer.decode(tokenized_text.ids))"
      ]
    },
    {
      "cell_type": "code",
      "execution_count": 25,
      "id": "89caf5c8",
      "metadata": {},
      "outputs": [
        {
          "data": {
            "text/plain": [
              "[3, 4, 6, 5, 0]"
            ]
          },
          "execution_count": 25,
          "metadata": {},
          "output_type": "execute_result"
        }
      ],
      "source": [
        "tokenized_text.ids\n",
        "# tokenizer.decode(tokenized_text.ids)"
      ]
    },
    {
      "cell_type": "code",
      "execution_count": 36,
      "id": "3f3cf492",
      "metadata": {},
      "outputs": [
        {
          "name": "stdout",
          "output_type": "stream",
          "text": [
            "tensor([[3, 4, 6, 5, 0]])\n",
            "torch.Size([1, 5, 10054])\n",
            "torch.Size([5, 10054])\n",
            "torch.Size([5, 5]) torch.Size([5, 5])\n",
            "of and for on in\n"
          ]
        }
      ],
      "source": [
        "ids = torch.tensor(tokenized_text.ids).unsqueeze(0)\n",
        "print(ids)\n",
        "result = model(ids)\n",
        "print(result.shape)\n",
        "\n",
        "# pass the result tensor to softmax to get the probabilities\n",
        "probs = nn.functional.softmax(result[0], dim=-1)\n",
        "print(probs.shape)\n",
        "\n",
        "# get the top 5 probabilities\n",
        "top5_probs, top5_token_ids = torch.topk(probs, 5)\n",
        "print(top5_probs.shape, top5_token_ids.shape)\n",
        "\n",
        "# convert the top 5 token ids to tokens\n",
        "# top5_tokens = [vocab[i] for i in top5_token_ids[-1]]\n",
        "top5_tokens = tokenizer.decode(top5_token_ids[-1].tolist())\n",
        "print(top5_tokens)"
      ]
    },
    {
      "cell_type": "markdown",
      "id": "rSt1yuR19co-",
      "metadata": {
        "id": "rSt1yuR19co-"
      },
      "source": [
        "## 1. TODO: Greedy decode\n",
        "Normally, in sequence generation task, the model will continue generating tokens until an end-of-sequence symbol appear or the maximum length is reached. For this task:\n",
        "- The end-of-sequence symbol is \"< eos >\" and its index is 2\n",
        "- Use the maximum generation length of 15"
      ]
    },
    {
      "cell_type": "code",
      "execution_count": 13,
      "id": "oUCajb2BvKnN",
      "metadata": {
        "id": "oUCajb2BvKnN"
      },
      "outputs": [],
      "source": [
        "eos_token = '<eos>'\n",
        "max_gen_length = 15"
      ]
    },
    {
      "cell_type": "code",
      "execution_count": 101,
      "id": "e6638613",
      "metadata": {
        "id": "e6638613"
      },
      "outputs": [],
      "source": [
        "def greedy_decode(seed_text: str, tokenizer: Tokenizer):\n",
        "    \"\"\"Greedy decodes with seed text.\n",
        "\n",
        "        Args:\n",
        "        seed_text: The seed string to be used as initial input to the model.\n",
        "        tokenizer: The tokenizer for converting word to index and back.\n",
        "\n",
        "        Your code should do the followings:\n",
        "          1. Convert current_text to sequences of indices\n",
        "          2. Predict the next token using the model and choose the token with the highest score as output\n",
        "          3. Append the predicted index to current_text\n",
        "          4. Loop until completion\n",
        "          5. Return text prediction and a list of probabilities of each step\n",
        "\n",
        "        You do not need to stop early when end-of-sequence token is generated and can continue decoding\n",
        "        until max_gen_length is reached. We can filter the eos token out later.\n",
        "    \"\"\"\n",
        "    probs = []\n",
        "    current_text = torch.Tensor(tokenizer.encode(seed_text).ids).unsqueeze(0).long()\n",
        "\n",
        "    while len(current_text[0]) < max_gen_length:\n",
        "        prediction = model(current_text)\n",
        "        pred_probs = nn.functional.softmax(prediction[0], dim=-1)\n",
        "\n",
        "        top_probs, top_token_ids = torch.topk(pred_probs, 1)\n",
        "        top_probs.squeeze_(1)\n",
        "        top_token_ids.squeeze_(1)\n",
        "        # print(top_token_ids, top_token_ids.shape)\n",
        "        # original_text = tokenizer.decode(current_text[0].tolist())\n",
        "        # top_tokens = tokenizer.decode(top_token_ids.tolist())\n",
        "        # print(f\"text: {original_text}, top_tokens: {top_tokens}, top_token_ids: {top_token_ids}\")\n",
        "        probs.append(top_probs[-1].item())\n",
        "        current_text = torch.cat((current_text, torch.tensor([[top_token_ids[-1]]])), dim=1)\n",
        "\n",
        "    # output = tokenizer.decode(current_text[0].tolist())\n",
        "    output = current_text[0].tolist()\n",
        "\n",
        "    return output,probs"
      ]
    },
    {
      "cell_type": "code",
      "execution_count": 162,
      "id": "9f78f6c8",
      "metadata": {
        "id": "9f78f6c8"
      },
      "outputs": [],
      "source": [
        "def clean_output(token_ids, eos_token_id) -> str:\n",
        "    \"\"\"Drop eos_token and every words that follow\"\"\"\n",
        "    # token_ids = tokenizer.encode(text).ids\n",
        "    # print(token_ids)\n",
        "    if eos_token_id in token_ids:\n",
        "        eos_index = token_ids.index(eos_token_id)\n",
        "        token_ids = token_ids[:eos_index]\n",
        "    \n",
        "    # print(token_ids)\n",
        "    return tokenizer.decode(token_ids)"
      ]
    },
    {
      "cell_type": "code",
      "execution_count": 110,
      "id": "bdd42c8a",
      "metadata": {
        "id": "bdd42c8a"
      },
      "outputs": [
        {
          "name": "stdout",
          "output_type": "stream",
          "text": [
            "Seed: to\n",
            "Output: to encourage creativity in the new york bill\n",
            "\n",
            "Seed: america\n",
            "Output: america s lethal export\n",
            "\n",
            "Seed: people\n",
            "Output: people to balloon to make a criminal with a dog with a callous rival\n",
            "\n",
            "Seed: next\n",
            "Output: next phenom english clubs 2 call another deal in the same arrivals\n",
            "\n",
            "Seed: picture\n",
            "Output: picture perfect chapter a spot of view of banning care\n",
            "\n",
            "Seed: on\n",
            "Output: on the catwalk in saudi arabia\n",
            "\n"
          ]
        }
      ],
      "source": [
        "sample_seeds = [\"to\", \"america\", \"people\", \"next\", \"picture\", \"on\"]\n",
        "for seed in sample_seeds:\n",
        "    output_text, probs = greedy_decode(seed, tokenizer)\n",
        "    cleaned_text = clean_output(output_text, stoi[eos_token])\n",
        "    print(f\"Seed: {seed}\\nOutput: {cleaned_text}\\n\")\n",
        "    # print(f\"probs: {probs}\")"
      ]
    },
    {
      "cell_type": "markdown",
      "id": "h99jCVvjUvFT",
      "metadata": {
        "id": "h99jCVvjUvFT"
      },
      "source": [
        "Your output should be:\n",
        "\n",
        "*   to encourage creativity in the new york bill\n",
        "*   america s lethal export\n",
        "*   people to balloon to make a criminal with a dog with a callous rival\n",
        "*   next phenom english clubs 2 call another deal in the same arrivals\n",
        "*   picture perfect chapter a spot of view of banning care  \n",
        "*   on the catwalk in saudi arabia\n",
        "\n",
        "\n",
        "\n",
        "\n",
        "\n"
      ]
    },
    {
      "cell_type": "markdown",
      "id": "7553f608",
      "metadata": {
        "id": "7553f608"
      },
      "source": [
        "## 2. TODO: Beam search decode\n",
        "\n",
        "Another well-known decoding method is beam search decoding that focuses more on the overall sequence score.\n",
        "\n",
        "Instead of greedily choosing the token with the highest score for each step, beam search decoding expands all possible next tokens and keeps the __k__ most likely sequence at each step, where __k__ is a user-specified beam size. A sequence score is also calculated according user-specified cal_score() function.\n",
        "The beam with the highest score after the decoding process is done will be the output."
      ]
    },
    {
      "cell_type": "markdown",
      "id": "8kArvA-6xLmQ",
      "metadata": {
        "id": "8kArvA-6xLmQ"
      },
      "source": [
        "There are a few things that you need to know before implementing a beam search decoder:\n",
        "- When the eos token is produced, you can stop expanding that beam\n",
        "- However, the ended beams must be sorted together with active beams\n",
        "- The decoding ends when every beams are either ended or reached the maximum length, but for this task, you can continue decoding until the max_gen_len is reached\n",
        "- We usually work with probability in log scale to avoid numerical underflow. You should use np.log(score) before any calculation\n",
        "- **As probabilities for some classes will be very small, you must add a very small value to the score before taking log e.g np.log(prob + 0.00000001)**"
      ]
    },
    {
      "cell_type": "markdown",
      "id": "MQRZftUYxcCU",
      "metadata": {
        "id": "MQRZftUYxcCU"
      },
      "source": [
        "#### Sequence Score\n",
        "The naive way to calculate the sequence score is to __multiply every token scores__ together. However, doing so will make the decoder prefer shorter sequence as you multiply the sequence score with a value between \\[0,1\\] for every tokens in the sequence. Thus, we usually normalize the sequence score with its length by calculating its __geometric mean__ instead.\n",
        "\n",
        "**You should do this in log scale**"
      ]
    },
    {
      "cell_type": "code",
      "execution_count": null,
      "id": "d76c6f52",
      "metadata": {
        "id": "d76c6f52"
      },
      "outputs": [],
      "source": [
        "import math\n",
        "def cal_score(score_list, length, normalized=False): #cal score for each beam from a list of probs\n",
        "    if normalized:\n",
        "        sum_score = sum(score_list)\n",
        "        normalized_score_list = [score_list[i]/sum_score for i in range(len(score_list))]\n",
        "        print(f\"normalized_score_list: {normalized_score_list}\")\n",
        "        log_score_list = [math.log(s + 1e-15) for s in normalized_score_list]\n",
        "        print(f\"log_score_list: {log_score_list}\")\n",
        "        score = sum(log_score_list) / length\n",
        "\n",
        "        return score\n",
        "    else:\n",
        "        log_score_list = [math.log(s + 1e-15) for s in score_list]\n",
        "        score = sum(log_score_list)\n",
        "\n",
        "        return score\n",
        "        "
      ]
    },
    {
      "cell_type": "code",
      "execution_count": 181,
      "id": "906cf59e",
      "metadata": {},
      "outputs": [
        {
          "name": "stdout",
          "output_type": "stream",
          "text": [
            "normalized_score_list: [0.005634491322836361, 0.036833464616739614, 0.035730302876549644, 0.031994062199935634, 0.010787649455721391, 0.009657826327011914, 0.031065018764688434, 0.008832318380177487, 0.13756159492268333, 0.1383546781663421, 0.13838081261734336, 0.13838803918902176, 0.13838972208927564, 0.13839001907167336]\n",
            "log_score_list: [-5.178848406579026, -3.301348482443417, -3.3317561301691545, -3.442204949652113, -4.529353368140509, -4.639986673985708, -3.4716728914206803, -4.729337741616887, -1.983683499106954, -1.977934759324915, -1.9777458825675107, -1.9776936615778085, -1.9776815009168787, -1.977679354933242]\n",
            "14 -3.178351950173915 0.04165424685863877\n"
          ]
        }
      ],
      "source": [
        "# print(cal_score([1, 2, 3, 8], 4, normalized=True))\n",
        "# print(cal_score([0.1, 0.2, 0.3, 0.4], 4, normalized=True))\n",
        "\n",
        "greedy_probs = [0.04071051627397537, 0.26613038778305054, 0.2581597864627838, 0.2311645746231079, 0.07794328778982162, 0.06978005170822144, 0.22445201873779297, 0.06381556391716003, 0.9939146637916565, 0.9996448755264282, 0.9998337030410767, 0.9998859167098999, 0.9998980760574341, 0.999900221824646]\n",
        "score = cal_score(greedy_probs, 14, normalized=True)\n",
        "print(len(greedy_probs), score, math.exp(score))"
      ]
    },
    {
      "cell_type": "code",
      "execution_count": 161,
      "id": "bb1dd75a",
      "metadata": {
        "id": "bb1dd75a"
      },
      "outputs": [],
      "source": [
        "def beam_search_decode(seed_text, max_gen_len, tokenizer, beam_size=5, normalized=False):\n",
        "    \"\"\"We will do beam search decoing using seed text in this function.\n",
        "\n",
        "    Output:\n",
        "    beams: A list of top k beams after the decoding ended, each beam is a list of\n",
        "      [seed_text, list of scores, length]\n",
        "\n",
        "    Your code should do the followings:\n",
        "    1.Loop until max_gen_len is reached.\n",
        "    2.During each step, loop thorugh each beam and use it to predict the next word.\n",
        "      If a beam is already ended, continues without expanding.\n",
        "    3.Sort all hypotheses according to cal_score().\n",
        "    4.Keep top k hypotheses to be used at the next step.\n",
        "    \"\"\"\n",
        "    # For each beam we will store (generated text, list of scores, and current length, is_finished)\n",
        "    # Add initial beam\n",
        "    seed_ids = torch.Tensor(tokenizer.encode(seed_text).ids).unsqueeze(0).long()\n",
        "    # beams = [[[seed_text], [], 0, False]]\n",
        "    beams = [(seed_ids, [], 0, False)]\n",
        "    \n",
        "    for i in range(max_gen_len):\n",
        "      new_beams = []\n",
        "      # print(f\"---------- Step {i} ----------\")\n",
        "      for beam in beams:\n",
        "        if beam[-1] == True: # is_finished\n",
        "          new_beams.append(beam)\n",
        "          continue\n",
        "        token_ids, score_list, length, _ = beam\n",
        "        # text = tokenizer.decode(token_ids[0].tolist())\n",
        "        # print(f\"tokens: {token_ids[0]}\\ntext: {text} \\nscore: {score_list}, length: {length}\")\n",
        "        prediction = model(token_ids)\n",
        "        pred_probs = nn.functional.softmax(prediction[0], dim=-1)\n",
        "        next_token_pred_probs = pred_probs[-1]\n",
        "        for next_token_id, next_token_prob in enumerate(next_token_pred_probs):\n",
        "          new_text = torch.cat((token_ids, torch.tensor([[next_token_id]])), dim=1)\n",
        "          new_score = score_list + [next_token_prob.item()]\n",
        "          new_length = length + 1\n",
        "          new_finished = False\n",
        "          if next_token_id == stoi[eos_token]:\n",
        "            new_finished = True\n",
        "          new_beams.append((new_text, new_score, new_length, new_finished))\n",
        "\n",
        "        # top_probs, top_token_ids = torch.topk(pred_probs, beam_size)\n",
        "        # top_probs.squeeze_(1)\n",
        "        # top_token_ids.squeeze_(1)\n",
        "\n",
        "        # print(top_probs)\n",
        "        # top_tokens = tokenizer.decode(top_token_ids[-1].tolist())\n",
        "        # print(top_tokens)\n",
        "        \n",
        "        # for i in range(beam_size):\n",
        "        #   new_text = torch.cat((token_ids, torch.tensor([[top_token_ids[-1][i]]])), dim=1)\n",
        "        #   new_score = score_list + [top_probs[-1][i].item()]\n",
        "        #   new_length = length + 1\n",
        "        #   new_finished = False\n",
        "        #   if top_token_ids[-1][i] == stoi[eos_token]:\n",
        "        #     new_finished = True\n",
        "        #   new_beams.append((new_text, new_score, new_length, new_finished))\n",
        "\n",
        "      new_beams.sort(key=lambda x: cal_score(x[1], x[2], normalized), reverse=True)\n",
        "      # for i in range(5):\n",
        "      #   text = tokenizer.decode(new_beams[i][0][0].tolist())\n",
        "      #   print(f\"tokens: {new_beams[i][0][0]}\\ntext: {text} \\nscore: {new_beams[i][1]}, length: {new_beams[i][2]}\")\n",
        "      #   print(f\"score: {cal_score(new_beams[i][1], new_beams[i][2], normalized)}\")\n",
        "      # print(f\"new_beams len: {len(new_beams)}\")\n",
        "      beams = new_beams[:beam_size]\n",
        "\n",
        "    return beams"
      ]
    },
    {
      "cell_type": "markdown",
      "id": "i_eqGDA09zqk",
      "metadata": {
        "id": "i_eqGDA09zqk"
      },
      "source": [
        "## 3. Generate!\n",
        "Generate 6 sentences based on the given seed texts.\n",
        "\n",
        "Decode with the provided seed texts with beam_size 5. Compare the results between greedy, normalized, and unnormalized decoding.\n",
        "\n",
        "Print the result using greedy decoding and top 2 results each using unnormalized and normalized decoing for each seed text.\n",
        "\n",
        "Also, print scores of each candidate according to cal_score(). Use normalization for greedy decoding."
      ]
    },
    {
      "cell_type": "code",
      "execution_count": null,
      "id": "d40a3cb0",
      "metadata": {
        "id": "d40a3cb0"
      },
      "outputs": [
        {
          "name": "stdout",
          "output_type": "stream",
          "text": [
            "-Greedy-\n",
            "to encourage creativity in the new york bill  -16.810813297518706\n",
            "probs [0.04071051627397537, 0.26613038778305054, 0.2581597864627838, 0.2311645746231079, 0.07794328778982162, 0.06978005170822144, 0.22445201873779297, 0.06381556391716003, 0.9939146637916565, 0.9996448755264282, 0.9998337030410767, 0.9998859167098999, 0.9998980760574341, 0.999900221824646]\n",
            "-Unnormalized-\n",
            "To Consult Exploring Recipes For New Jersey  -11.806221441152951\n",
            "To Consult Exploring Recipes Up The Pacific Northwest  -12.287972969216716\n",
            "-Normalized-\n",
            "To Consult Exploring Recipes Up The Pacific Northwest  -1.5359966211520895\n",
            "To Consult Exploring Recipes Up The Least Of The Week  -1.6437265062455464\n"
          ]
        }
      ],
      "source": [
        "\n",
        "# sample_seeds = [\"to\", \"america\", \"people\", \"next\", \"picture\", \"on\"]\n",
        "sample_seeds = [\"to\"]\n",
        "for seed in sample_seeds:\n",
        "    print(\"-Greedy-\")\n",
        "    output_text, probs = greedy_decode(seed, tokenizer)\n",
        "    cleaned_text = clean_output(output_text, stoi[eos_token])\n",
        "    print(f\"{cleaned_text}  {cal_score(probs, len(probs), normalized=True)}\")\n",
        "    print(f\"probs {probs}\")\n",
        "    print(\"-Unnormalized-\")\n",
        "    beams = beam_search_decode(seed, max_gen_length, tokenizer, beam_size=5, normalized=False)\n",
        "    for beam in beams[:2]:\n",
        "        output_text = clean_output(beam[0][0].tolist(), stoi[eos_token])\n",
        "        print(f\"{output_text.title()}  {cal_score(beam[1], beam[2], normalized=False)}\")\n",
        "    print(\"-Normalized-\")\n",
        "    beams = beam_search_decode(seed, max_gen_length, tokenizer, beam_size=5, normalized=True)\n",
        "    for beam in beams[:2]:\n",
        "        output_text = clean_output(beam[0][0].tolist(), stoi[eos_token])\n",
        "        print(f\"{output_text.title()}  {cal_score(beam[1], beam[2], normalized=True)}\")"
      ]
    },
    {
      "cell_type": "markdown",
      "id": "icfu6pOzWUSt",
      "metadata": {
        "id": "icfu6pOzWUSt"
      },
      "source": [
        "Your output should be:\n",
        "\n",
        "\n",
        "```\n",
        "-Greedy-\n",
        "to encourage creativity in the new york bill  0.12\n",
        "-Unnormalized-\n",
        "To Consult Exploring Recipes For New Jersey 0.00\n",
        "To Consult Exploring Recipes Up The Pacific Northwest 0.00\n",
        "-Normalized-\n",
        "To Consult Exploring Recipes Up The Pacific Northwest 0.17\n",
        "To Consult Exploring Recipes Up The Least Of The Week 0.16\n",
        "\n",
        "-Greedy-\n",
        "america s lethal export  0.35\n",
        "-Unnormalized-\n",
        "America S Lethal Export 0.02\n",
        "America S Desert Aisles 0.01\n",
        "-Normalized-\n",
        "America S Lethal Export 0.25\n",
        "America S Desert Aisles 0.20\n",
        "\n",
        "-Greedy-\n",
        "people to balloon to make a criminal with a dog with a callous rival  0.16\n",
        "-Unnormalized-\n",
        "People To Balloon For A Criminal 0.00\n",
        "People To Balloon For A Criminal With Trump 0.00\n",
        "-Normalized-\n",
        "People To Balloon For A Criminal With A Second Fiddle 0.13\n",
        "People To Balloon For A Criminal With Trump 0.13\n",
        "\n",
        "-Greedy-\n",
        "next phenom english clubs 2 call another deal in the same arrivals  0.15\n",
        "-Unnormalized-\n",
        "Next S Blist Revue 0.00\n",
        "Next Phenom English Clubs 1 A Chance To Be Back 0.00\n",
        "-Normalized-\n",
        "Next S Blist Revue 0.14\n",
        "Next Phenom English Clubs 1 A Chance To Be Back 0.14\n",
        "\n",
        "-Greedy-\n",
        "picture perfect chapter a spot of view of banning care  0.09\n",
        "-Unnormalized-\n",
        "Picture Perfect Use Coffee 0.00\n",
        "Picture Korean A Bonanza Of Pancakes 0.00\n",
        "-Normalized-\n",
        "Picture Korean A Bonanza Of Contemplation Times Of Trump S Son 0.12\n",
        "Picture Korean A Bonanza Of Pancakes 0.07\n",
        "\n",
        "-Greedy-\n",
        "on the catwalk in saudi arabia  0.25\n",
        "-Unnormalized-\n",
        "On The Billboard Chart 0.00\n",
        "On The Catwalk In Saudi Arabia 0.00\n",
        "-Normalized-\n",
        "On The Whole30 Diet Vowing To Eat Smarter Carbs To Be 0.27\n",
        "On The Whole30 Diet Vowing To Eat Smarter Carbs For Because 0.26\n",
        "\n",
        "```\n",
        "\n"
      ]
    },
    {
      "cell_type": "markdown",
      "id": "tquJVskBeM9m",
      "metadata": {
        "id": "tquJVskBeM9m"
      },
      "source": [
        "# Answer Questions in MyCourseVille!\n",
        "\n",
        "Use the seed word \"usa\" to answer questions in MCV."
      ]
    }
  ],
  "metadata": {
    "colab": {
      "provenance": [],
      "toc_visible": true
    },
    "kernelspec": {
      "display_name": ".venv",
      "language": "python",
      "name": "python3"
    },
    "language_info": {
      "codemirror_mode": {
        "name": "ipython",
        "version": 3
      },
      "file_extension": ".py",
      "mimetype": "text/x-python",
      "name": "python",
      "nbconvert_exporter": "python",
      "pygments_lexer": "ipython3",
      "version": "3.12.5"
    }
  },
  "nbformat": 4,
  "nbformat_minor": 5
}

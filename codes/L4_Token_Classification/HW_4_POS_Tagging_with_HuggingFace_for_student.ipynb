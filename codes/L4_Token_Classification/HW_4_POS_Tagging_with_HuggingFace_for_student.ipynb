{
 "cells": [
  {
   "cell_type": "markdown",
   "metadata": {
    "id": "UxOTS6n1ikVL"
   },
   "source": [
    "# HW 4 - POS Tagging with Hugging Face\n",
    "\n",
    "In this exercise, you will create a part-of-speech (POS) tagging system for Thai text using NECTEC’s ORCHID corpus. Instead of building your own deep learning architecture from scratch, you will leverage a pretrained tokenizer and a pretrained token classification model from Hugging Face.\n",
    "\n",
    "We have provided some starter code for data cleaning and preprocessing in this notebook, but feel free to modify those parts to suit your needs. You are welcome to use additional libraries (e.g., scikit-learn) as long as you incorporate the pretrained Hugging Face model. Specifically, you will need to:\n",
    "\n",
    "1. Load a pretrained tokenizer and token classification model.\n",
    "2. Fine-tune it on the ORCHID corpus for POS tagging.\n",
    "3. Evaluate and report the performance of your model on the test data.\n",
    "\n",
    "### Don't forget to change hardware accelrator to GPU in runtime on Google Colab ###"
   ]
  },
  {
   "cell_type": "markdown",
   "metadata": {
    "id": "bQ1Uqldlj81G"
   },
   "source": [
    "## 1. Setup and Preprocessing"
   ]
  },
  {
   "cell_type": "code",
   "execution_count": 1,
   "metadata": {
    "execution": {
     "iopub.execute_input": "2025-01-28T08:54:57.336200Z",
     "iopub.status.busy": "2025-01-28T08:54:57.335927Z",
     "iopub.status.idle": "2025-01-28T08:55:28.055159Z",
     "shell.execute_reply": "2025-01-28T08:55:28.054318Z",
     "shell.execute_reply.started": "2025-01-28T08:54:57.336178Z"
    },
    "id": "kyb4FhsEEeH8",
    "trusted": true
   },
   "outputs": [
    {
     "name": "stdout",
     "output_type": "stream",
     "text": [
      "Requirement already satisfied: wandb in /usr/local/lib/python3.10/dist-packages (0.19.1)\n",
      "Requirement already satisfied: click!=8.0.0,>=7.1 in /usr/local/lib/python3.10/dist-packages (from wandb) (8.1.7)\n",
      "Requirement already satisfied: docker-pycreds>=0.4.0 in /usr/local/lib/python3.10/dist-packages (from wandb) (0.4.0)\n",
      "Requirement already satisfied: gitpython!=3.1.29,>=1.0.0 in /usr/local/lib/python3.10/dist-packages (from wandb) (3.1.43)\n",
      "Requirement already satisfied: platformdirs in /usr/local/lib/python3.10/dist-packages (from wandb) (4.3.6)\n",
      "Requirement already satisfied: protobuf!=4.21.0,!=5.28.0,<6,>=3.19.0 in /usr/local/lib/python3.10/dist-packages (from wandb) (3.20.3)\n",
      "Requirement already satisfied: psutil>=5.0.0 in /usr/local/lib/python3.10/dist-packages (from wandb) (5.9.5)\n",
      "Requirement already satisfied: pydantic<3,>=2.6 in /usr/local/lib/python3.10/dist-packages (from wandb) (2.10.3)\n",
      "Requirement already satisfied: pyyaml in /usr/local/lib/python3.10/dist-packages (from wandb) (6.0.2)\n",
      "Requirement already satisfied: requests<3,>=2.0.0 in /usr/local/lib/python3.10/dist-packages (from wandb) (2.32.3)\n",
      "Requirement already satisfied: sentry-sdk>=2.0.0 in /usr/local/lib/python3.10/dist-packages (from wandb) (2.19.2)\n",
      "Requirement already satisfied: setproctitle in /usr/local/lib/python3.10/dist-packages (from wandb) (1.3.4)\n",
      "Requirement already satisfied: setuptools in /usr/local/lib/python3.10/dist-packages (from wandb) (75.1.0)\n",
      "Requirement already satisfied: typing-extensions<5,>=4.4 in /usr/local/lib/python3.10/dist-packages (from wandb) (4.12.2)\n",
      "Requirement already satisfied: six>=1.4.0 in /usr/local/lib/python3.10/dist-packages (from docker-pycreds>=0.4.0->wandb) (1.17.0)\n",
      "Requirement already satisfied: gitdb<5,>=4.0.1 in /usr/local/lib/python3.10/dist-packages (from gitpython!=3.1.29,>=1.0.0->wandb) (4.0.11)\n",
      "Requirement already satisfied: annotated-types>=0.6.0 in /usr/local/lib/python3.10/dist-packages (from pydantic<3,>=2.6->wandb) (0.7.0)\n",
      "Requirement already satisfied: pydantic-core==2.27.1 in /usr/local/lib/python3.10/dist-packages (from pydantic<3,>=2.6->wandb) (2.27.1)\n",
      "Requirement already satisfied: charset-normalizer<4,>=2 in /usr/local/lib/python3.10/dist-packages (from requests<3,>=2.0.0->wandb) (3.4.0)\n",
      "Requirement already satisfied: idna<4,>=2.5 in /usr/local/lib/python3.10/dist-packages (from requests<3,>=2.0.0->wandb) (3.10)\n",
      "Requirement already satisfied: urllib3<3,>=1.21.1 in /usr/local/lib/python3.10/dist-packages (from requests<3,>=2.0.0->wandb) (2.2.3)\n",
      "Requirement already satisfied: certifi>=2017.4.17 in /usr/local/lib/python3.10/dist-packages (from requests<3,>=2.0.0->wandb) (2024.12.14)\n",
      "Requirement already satisfied: smmap<6,>=3.0.1 in /usr/local/lib/python3.10/dist-packages (from gitdb<5,>=4.0.1->gitpython!=3.1.29,>=1.0.0->wandb) (5.0.1)\n",
      "\u001b[2K     \u001b[90m━━━━━━━━━━━━━━━━━━━━━━━━━━━━━━━━━━━━━━━━\u001b[0m \u001b[32m113.6/113.6 kB\u001b[0m \u001b[31m3.5 MB/s\u001b[0m eta \u001b[36m0:00:00\u001b[0m\n",
      "\u001b[2K   \u001b[90m━━━━━━━━━━━━━━━━━━━━━━━━━━━━━━━━━━━━━━━━\u001b[0m \u001b[32m7.2/7.2 MB\u001b[0m \u001b[31m60.0 MB/s\u001b[0m eta \u001b[36m0:00:00\u001b[0m00:01\u001b[0m00:01\u001b[0m\n",
      "\u001b[2K   \u001b[90m━━━━━━━━━━━━━━━━━━━━━━━━━━━━━━━━━━━━━━━━\u001b[0m \u001b[32m84.0/84.0 kB\u001b[0m \u001b[31m3.1 MB/s\u001b[0m eta \u001b[36m0:00:00\u001b[0m\n",
      "\u001b[2K   \u001b[90m━━━━━━━━━━━━━━━━━━━━━━━━━━━━━━━━━━━━━━━━\u001b[0m \u001b[32m17.9/17.9 MB\u001b[0m \u001b[31m86.5 MB/s\u001b[0m eta \u001b[36m0:00:00\u001b[0m:00:01\u001b[0m00:01\u001b[0m\n",
      "\u001b[2K   \u001b[90m━━━━━━━━━━━━━━━━━━━━━━━━━━━━━━━━━━━━━━━━\u001b[0m \u001b[32m7.8/7.8 MB\u001b[0m \u001b[31m102.2 MB/s\u001b[0m eta \u001b[36m0:00:00\u001b[0m00:01\u001b[0m00:01\u001b[0m\n",
      "\u001b[?25h\u001b[31mERROR: pip's dependency resolver does not currently take into account all the packages that are installed. This behaviour is the source of the following dependency conflicts.\n",
      "kaggle-environments 1.16.10 requires transformers>=4.33.1, but you have transformers 4.30.1 which is incompatible.\n",
      "sentence-transformers 3.3.1 requires transformers<5.0.0,>=4.41.0, but you have transformers 4.30.1 which is incompatible.\u001b[0m\u001b[31m\n",
      "\u001b[2K     \u001b[90m━━━━━━━━━━━━━━━━━━━━━━━━━━━━━━━━━━━━━━━━\u001b[0m \u001b[32m43.6/43.6 kB\u001b[0m \u001b[31m1.2 MB/s\u001b[0m eta \u001b[36m0:00:00\u001b[0m\n",
      "\u001b[?25h  Preparing metadata (setup.py) ... \u001b[?25l\u001b[?25hdone\n",
      "\u001b[2K   \u001b[90m━━━━━━━━━━━━━━━━━━━━━━━━━━━━━━━━━━━━━━━━\u001b[0m \u001b[32m8.7/8.7 MB\u001b[0m \u001b[31m66.7 MB/s\u001b[0m eta \u001b[36m0:00:00\u001b[0m00:01\u001b[0m00:01\u001b[0m\n",
      "\u001b[2K   \u001b[90m━━━━━━━━━━━━━━━━━━━━━━━━━━━━━━━━━━━━━━━━\u001b[0m \u001b[32m110.7/110.7 kB\u001b[0m \u001b[31m6.3 MB/s\u001b[0m eta \u001b[36m0:00:00\u001b[0m\n",
      "\u001b[2K   \u001b[90m━━━━━━━━━━━━━━━━━━━━━━━━━━━━━━━━━━━━━━━━\u001b[0m \u001b[32m1.2/1.2 MB\u001b[0m \u001b[31m40.9 MB/s\u001b[0m eta \u001b[36m0:00:00\u001b[0m\n",
      "\u001b[?25h  Building wheel for seqeval (setup.py) ... \u001b[?25l\u001b[?25hdone\n",
      "Collecting peft==0.10.0\n",
      "  Downloading peft-0.10.0-py3-none-any.whl.metadata (13 kB)\n",
      "Requirement already satisfied: numpy>=1.17 in /usr/local/lib/python3.10/dist-packages (from peft==0.10.0) (1.26.4)\n",
      "Requirement already satisfied: packaging>=20.0 in /usr/local/lib/python3.10/dist-packages (from peft==0.10.0) (24.2)\n",
      "Requirement already satisfied: psutil in /usr/local/lib/python3.10/dist-packages (from peft==0.10.0) (5.9.5)\n",
      "Requirement already satisfied: pyyaml in /usr/local/lib/python3.10/dist-packages (from peft==0.10.0) (6.0.2)\n",
      "Requirement already satisfied: torch>=1.13.0 in /usr/local/lib/python3.10/dist-packages (from peft==0.10.0) (2.5.1+cu121)\n",
      "Requirement already satisfied: transformers in /usr/local/lib/python3.10/dist-packages (from peft==0.10.0) (4.30.1)\n",
      "Requirement already satisfied: tqdm in /usr/local/lib/python3.10/dist-packages (from peft==0.10.0) (4.67.1)\n",
      "Requirement already satisfied: accelerate>=0.21.0 in /usr/local/lib/python3.10/dist-packages (from peft==0.10.0) (1.2.1)\n",
      "Requirement already satisfied: safetensors in /usr/local/lib/python3.10/dist-packages (from peft==0.10.0) (0.4.5)\n",
      "Requirement already satisfied: huggingface-hub>=0.17.0 in /usr/local/lib/python3.10/dist-packages (from peft==0.10.0) (0.27.0)\n",
      "Requirement already satisfied: filelock in /usr/local/lib/python3.10/dist-packages (from huggingface-hub>=0.17.0->peft==0.10.0) (3.16.1)\n",
      "Requirement already satisfied: fsspec>=2023.5.0 in /usr/local/lib/python3.10/dist-packages (from huggingface-hub>=0.17.0->peft==0.10.0) (2024.9.0)\n",
      "Requirement already satisfied: requests in /usr/local/lib/python3.10/dist-packages (from huggingface-hub>=0.17.0->peft==0.10.0) (2.32.3)\n",
      "Requirement already satisfied: typing-extensions>=3.7.4.3 in /usr/local/lib/python3.10/dist-packages (from huggingface-hub>=0.17.0->peft==0.10.0) (4.12.2)\n",
      "Requirement already satisfied: mkl_fft in /usr/local/lib/python3.10/dist-packages (from numpy>=1.17->peft==0.10.0) (1.3.8)\n",
      "Requirement already satisfied: mkl_random in /usr/local/lib/python3.10/dist-packages (from numpy>=1.17->peft==0.10.0) (1.2.4)\n",
      "Requirement already satisfied: mkl_umath in /usr/local/lib/python3.10/dist-packages (from numpy>=1.17->peft==0.10.0) (0.1.1)\n",
      "Requirement already satisfied: mkl in /usr/local/lib/python3.10/dist-packages (from numpy>=1.17->peft==0.10.0) (2025.0.1)\n",
      "Requirement already satisfied: tbb4py in /usr/local/lib/python3.10/dist-packages (from numpy>=1.17->peft==0.10.0) (2022.0.0)\n",
      "Requirement already satisfied: mkl-service in /usr/local/lib/python3.10/dist-packages (from numpy>=1.17->peft==0.10.0) (2.4.1)\n",
      "Requirement already satisfied: networkx in /usr/local/lib/python3.10/dist-packages (from torch>=1.13.0->peft==0.10.0) (3.4.2)\n",
      "Requirement already satisfied: jinja2 in /usr/local/lib/python3.10/dist-packages (from torch>=1.13.0->peft==0.10.0) (3.1.4)\n",
      "Requirement already satisfied: sympy==1.13.1 in /usr/local/lib/python3.10/dist-packages (from torch>=1.13.0->peft==0.10.0) (1.13.1)\n",
      "Requirement already satisfied: mpmath<1.4,>=1.1.0 in /usr/local/lib/python3.10/dist-packages (from sympy==1.13.1->torch>=1.13.0->peft==0.10.0) (1.3.0)\n",
      "Requirement already satisfied: regex!=2019.12.17 in /usr/local/lib/python3.10/dist-packages (from transformers->peft==0.10.0) (2024.11.6)\n",
      "Requirement already satisfied: tokenizers!=0.11.3,<0.14,>=0.11.1 in /usr/local/lib/python3.10/dist-packages (from transformers->peft==0.10.0) (0.13.3)\n",
      "Requirement already satisfied: MarkupSafe>=2.0 in /usr/local/lib/python3.10/dist-packages (from jinja2->torch>=1.13.0->peft==0.10.0) (3.0.2)\n",
      "Requirement already satisfied: intel-openmp>=2024 in /usr/local/lib/python3.10/dist-packages (from mkl->numpy>=1.17->peft==0.10.0) (2024.2.0)\n",
      "Requirement already satisfied: tbb==2022.* in /usr/local/lib/python3.10/dist-packages (from mkl->numpy>=1.17->peft==0.10.0) (2022.0.0)\n",
      "Requirement already satisfied: tcmlib==1.* in /usr/local/lib/python3.10/dist-packages (from tbb==2022.*->mkl->numpy>=1.17->peft==0.10.0) (1.2.0)\n",
      "Requirement already satisfied: intel-cmplr-lib-rt in /usr/local/lib/python3.10/dist-packages (from mkl_umath->numpy>=1.17->peft==0.10.0) (2024.2.0)\n",
      "Requirement already satisfied: charset-normalizer<4,>=2 in /usr/local/lib/python3.10/dist-packages (from requests->huggingface-hub>=0.17.0->peft==0.10.0) (3.4.0)\n",
      "Requirement already satisfied: idna<4,>=2.5 in /usr/local/lib/python3.10/dist-packages (from requests->huggingface-hub>=0.17.0->peft==0.10.0) (3.10)\n",
      "Requirement already satisfied: urllib3<3,>=1.21.1 in /usr/local/lib/python3.10/dist-packages (from requests->huggingface-hub>=0.17.0->peft==0.10.0) (2.2.3)\n",
      "Requirement already satisfied: certifi>=2017.4.17 in /usr/local/lib/python3.10/dist-packages (from requests->huggingface-hub>=0.17.0->peft==0.10.0) (2024.12.14)\n",
      "Requirement already satisfied: intel-cmplr-lib-ur==2024.2.0 in /usr/local/lib/python3.10/dist-packages (from intel-openmp>=2024->mkl->numpy>=1.17->peft==0.10.0) (2024.2.0)\n",
      "Downloading peft-0.10.0-py3-none-any.whl (199 kB)\n",
      "\u001b[2K   \u001b[90m━━━━━━━━━━━━━━━━━━━━━━━━━━━━━━━━━━━━━━━━\u001b[0m \u001b[32m199.1/199.1 kB\u001b[0m \u001b[31m4.5 MB/s\u001b[0m eta \u001b[36m0:00:00\u001b[0m00:01\u001b[0m\n",
      "\u001b[?25hInstalling collected packages: peft\n",
      "  Attempting uninstall: peft\n",
      "    Found existing installation: peft 0.14.0\n",
      "    Uninstalling peft-0.14.0:\n",
      "      Successfully uninstalled peft-0.14.0\n",
      "Successfully installed peft-0.10.0\n"
     ]
    }
   ],
   "source": [
    "# Install transformers and thai2transformers\n",
    "!pip install wandb\n",
    "!pip install -q transformers==4.30.1 datasets evaluate thaixtransformers\n",
    "!pip install -q emoji pythainlp sefr_cut tinydb seqeval sentencepiece pydantic jsonlines\n",
    "!pip install peft==0.10.0"
   ]
  },
  {
   "cell_type": "markdown",
   "metadata": {
    "id": "fTgw8WW3BxWZ"
   },
   "source": [
    "## Setup\n",
    "\n",
    "1. Register [Wandb account](https://wandb.ai/login?signup=true) (and confirm your email)\n",
    "\n",
    "2. `wandb login` and copy paste the API key when prompt"
   ]
  },
  {
   "cell_type": "code",
   "execution_count": 2,
   "metadata": {
    "execution": {
     "iopub.execute_input": "2025-01-28T08:55:28.056481Z",
     "iopub.status.busy": "2025-01-28T08:55:28.056212Z",
     "iopub.status.idle": "2025-01-28T08:55:30.522320Z",
     "shell.execute_reply": "2025-01-28T08:55:30.521737Z",
     "shell.execute_reply.started": "2025-01-28T08:55:28.056432Z"
    },
    "id": "4qSh7MXZB74z",
    "trusted": true
   },
   "outputs": [],
   "source": [
    "import wandb"
   ]
  },
  {
   "cell_type": "code",
   "execution_count": 3,
   "metadata": {
    "execution": {
     "iopub.execute_input": "2025-01-28T08:55:30.523874Z",
     "iopub.status.busy": "2025-01-28T08:55:30.523678Z",
     "iopub.status.idle": "2025-01-28T08:55:36.803109Z",
     "shell.execute_reply": "2025-01-28T08:55:36.802484Z",
     "shell.execute_reply.started": "2025-01-28T08:55:30.523856Z"
    },
    "id": "4FjMIqhTBfOX",
    "trusted": true
   },
   "outputs": [
    {
     "name": "stderr",
     "output_type": "stream",
     "text": [
      "\u001b[34m\u001b[1mwandb\u001b[0m: Using wandb-core as the SDK backend.  Please refer to https://wandb.me/wandb-core for more information.\n",
      "\u001b[34m\u001b[1mwandb\u001b[0m: Currently logged in as: \u001b[33mbookpanda\u001b[0m. Use \u001b[1m`wandb login --relogin`\u001b[0m to force relogin\n",
      "\u001b[34m\u001b[1mwandb\u001b[0m: \u001b[33mWARNING\u001b[0m If you're specifying your api key in code, ensure this code is not shared publicly.\n",
      "\u001b[34m\u001b[1mwandb\u001b[0m: \u001b[33mWARNING\u001b[0m Consider setting the WANDB_API_KEY environment variable, or running `wandb login` from the command line.\n",
      "\u001b[34m\u001b[1mwandb\u001b[0m: Appending key for api.wandb.ai to your netrc file: /root/.netrc\n"
     ]
    },
    {
     "data": {
      "text/plain": [
       "True"
      ]
     },
     "execution_count": 3,
     "metadata": {},
     "output_type": "execute_result"
    }
   ],
   "source": [
    "# !wandb login\n",
    "wandb.login(key=\"a3351209a195aad6d47b0e40f71c6ae35cfe93a9\")"
   ]
  },
  {
   "cell_type": "markdown",
   "metadata": {
    "id": "i-BR7danGv6W"
   },
   "source": [
    "We encourage you to login to your `Hugging Face` account so you can upload and share your model with the community. When prompted, enter your token to login"
   ]
  },
  {
   "cell_type": "code",
   "execution_count": 4,
   "metadata": {
    "execution": {
     "iopub.execute_input": "2025-01-28T08:55:36.804640Z",
     "iopub.status.busy": "2025-01-28T08:55:36.804161Z",
     "iopub.status.idle": "2025-01-28T08:55:37.109003Z",
     "shell.execute_reply": "2025-01-28T08:55:37.108130Z",
     "shell.execute_reply.started": "2025-01-28T08:55:36.804615Z"
    },
    "id": "n7h8NENllZK2",
    "trusted": true
   },
   "outputs": [
    {
     "data": {
      "application/vnd.jupyter.widget-view+json": {
       "model_id": "ef4e440c7ff241ba87337c81c362caba",
       "version_major": 2,
       "version_minor": 0
      },
      "text/plain": [
       "VBox(children=(HTML(value='<center> <img\\nsrc=https://huggingface.co/front/assets/huggingface_logo-noborder.sv…"
      ]
     },
     "metadata": {},
     "output_type": "display_data"
    }
   ],
   "source": [
    "from huggingface_hub import notebook_login\n",
    "\n",
    "notebook_login()"
   ]
  },
  {
   "cell_type": "markdown",
   "metadata": {
    "id": "XqkDkseilv19"
   },
   "source": [
    "Download the dataset from Hugging Face"
   ]
  },
  {
   "cell_type": "code",
   "execution_count": 5,
   "metadata": {
    "execution": {
     "iopub.execute_input": "2025-01-28T08:55:45.703655Z",
     "iopub.status.busy": "2025-01-28T08:55:45.703322Z",
     "iopub.status.idle": "2025-01-28T08:56:31.875823Z",
     "shell.execute_reply": "2025-01-28T08:56:31.875169Z",
     "shell.execute_reply.started": "2025-01-28T08:55:45.703628Z"
    },
    "id": "kRksERXFEngl",
    "trusted": true
   },
   "outputs": [
    {
     "data": {
      "application/vnd.jupyter.widget-view+json": {
       "model_id": "b113c6f426c14eaa9fa314eadc02dd0b",
       "version_major": 2,
       "version_minor": 0
      },
      "text/plain": [
       "README.md:   0%|          | 0.00/79.0 [00:00<?, ?B/s]"
      ]
     },
     "metadata": {},
     "output_type": "display_data"
    },
    {
     "data": {
      "application/vnd.jupyter.widget-view+json": {
       "model_id": "386af303b4c741fabecdccfc3bb34e12",
       "version_major": 2,
       "version_minor": 0
      },
      "text/plain": [
       "orchid_corpus.py:   0%|          | 0.00/7.91k [00:00<?, ?B/s]"
      ]
     },
     "metadata": {},
     "output_type": "display_data"
    },
    {
     "name": "stdout",
     "output_type": "stream",
     "text": [
      "The repository for Thichow/orchid_corpus contains custom code which must be executed to correctly load the dataset. You can inspect the repository content at https://hf.co/datasets/Thichow/orchid_corpus.\n",
      "You can avoid this prompt in future by passing the argument `trust_remote_code=True`.\n",
      "\n",
      "Do you wish to run the custom code? [y/N]  y\n"
     ]
    },
    {
     "data": {
      "application/vnd.jupyter.widget-view+json": {
       "model_id": "9fc70f3ebb98411591ab9973743391b1",
       "version_major": 2,
       "version_minor": 0
      },
      "text/plain": [
       "Downloading data:   0%|          | 0.00/5.24M [00:00<?, ?B/s]"
      ]
     },
     "metadata": {},
     "output_type": "display_data"
    },
    {
     "data": {
      "application/vnd.jupyter.widget-view+json": {
       "model_id": "759a2086d4e44fb4b6438a5248146974",
       "version_major": 2,
       "version_minor": 0
      },
      "text/plain": [
       "Downloading data:   0%|          | 0.00/1.36M [00:00<?, ?B/s]"
      ]
     },
     "metadata": {},
     "output_type": "display_data"
    },
    {
     "data": {
      "application/vnd.jupyter.widget-view+json": {
       "model_id": "9d5e66728b424c05bf3f773a1bcc5a2b",
       "version_major": 2,
       "version_minor": 0
      },
      "text/plain": [
       "Generating train split: 0 examples [00:00, ? examples/s]"
      ]
     },
     "metadata": {},
     "output_type": "display_data"
    },
    {
     "data": {
      "application/vnd.jupyter.widget-view+json": {
       "model_id": "0cf05f22b96d4d4da9ceb48c8e37b209",
       "version_major": 2,
       "version_minor": 0
      },
      "text/plain": [
       "Generating test split: 0 examples [00:00, ? examples/s]"
      ]
     },
     "metadata": {},
     "output_type": "display_data"
    }
   ],
   "source": [
    "from datasets import load_dataset\n",
    "\n",
    "orchid = load_dataset(\"Thichow/orchid_corpus\")"
   ]
  },
  {
   "cell_type": "code",
   "execution_count": 6,
   "metadata": {
    "execution": {
     "iopub.execute_input": "2025-01-28T08:56:31.877015Z",
     "iopub.status.busy": "2025-01-28T08:56:31.876807Z",
     "iopub.status.idle": "2025-01-28T08:56:31.881848Z",
     "shell.execute_reply": "2025-01-28T08:56:31.881044Z",
     "shell.execute_reply.started": "2025-01-28T08:56:31.876997Z"
    },
    "id": "T_AWd4d5lCYd",
    "trusted": true
   },
   "outputs": [
    {
     "data": {
      "text/plain": [
       "DatasetDict({\n",
       "    train: Dataset({\n",
       "        features: ['id', 'label_tokens', 'pos_tags', 'sentence'],\n",
       "        num_rows: 18500\n",
       "    })\n",
       "    test: Dataset({\n",
       "        features: ['id', 'label_tokens', 'pos_tags', 'sentence'],\n",
       "        num_rows: 4625\n",
       "    })\n",
       "})"
      ]
     },
     "execution_count": 6,
     "metadata": {},
     "output_type": "execute_result"
    }
   ],
   "source": [
    "orchid"
   ]
  },
  {
   "cell_type": "code",
   "execution_count": 7,
   "metadata": {
    "execution": {
     "iopub.execute_input": "2025-01-28T08:56:31.883580Z",
     "iopub.status.busy": "2025-01-28T08:56:31.883335Z",
     "iopub.status.idle": "2025-01-28T08:56:31.902891Z",
     "shell.execute_reply": "2025-01-28T08:56:31.902127Z",
     "shell.execute_reply.started": "2025-01-28T08:56:31.883561Z"
    },
    "id": "QNmIqSo0FkAx",
    "trusted": true
   },
   "outputs": [
    {
     "data": {
      "text/plain": [
       "{'id': '0',\n",
       " 'label_tokens': ['การ', 'ประชุม', 'ทาง', 'วิชาการ', ' ', 'ครั้ง', 'ที่ 1'],\n",
       " 'pos_tags': [21, 39, 26, 26, 37, 4, 18],\n",
       " 'sentence': 'การประชุมทางวิชาการ ครั้งที่ 1'}"
      ]
     },
     "execution_count": 7,
     "metadata": {},
     "output_type": "execute_result"
    }
   ],
   "source": [
    "orchid['train'][0]"
   ]
  },
  {
   "cell_type": "code",
   "execution_count": 8,
   "metadata": {
    "execution": {
     "iopub.execute_input": "2025-01-28T08:56:31.904259Z",
     "iopub.status.busy": "2025-01-28T08:56:31.904015Z",
     "iopub.status.idle": "2025-01-28T08:56:31.922926Z",
     "shell.execute_reply": "2025-01-28T08:56:31.922326Z",
     "shell.execute_reply.started": "2025-01-28T08:56:31.904241Z"
    },
    "id": "hUuz3dLGlI_S",
    "trusted": true
   },
   "outputs": [
    {
     "data": {
      "text/plain": [
       "'การประชุมทางวิชาการ ครั้งที่ 1'"
      ]
     },
     "execution_count": 8,
     "metadata": {},
     "output_type": "execute_result"
    }
   ],
   "source": [
    "orchid['train'][0][\"sentence\"]"
   ]
  },
  {
   "cell_type": "code",
   "execution_count": 9,
   "metadata": {
    "execution": {
     "iopub.execute_input": "2025-01-28T08:56:31.923831Z",
     "iopub.status.busy": "2025-01-28T08:56:31.923646Z",
     "iopub.status.idle": "2025-01-28T08:56:31.940727Z",
     "shell.execute_reply": "2025-01-28T08:56:31.940012Z",
     "shell.execute_reply.started": "2025-01-28T08:56:31.923815Z"
    },
    "id": "bh7fX19zI85W",
    "trusted": true
   },
   "outputs": [
    {
     "data": {
      "text/plain": [
       "'การประชุมทางวิชาการ ครั้งที่ 1'"
      ]
     },
     "execution_count": 9,
     "metadata": {},
     "output_type": "execute_result"
    }
   ],
   "source": [
    "''.join(orchid['train'][0]['label_tokens'])"
   ]
  },
  {
   "cell_type": "code",
   "execution_count": 10,
   "metadata": {
    "execution": {
     "iopub.execute_input": "2025-01-28T08:56:31.941677Z",
     "iopub.status.busy": "2025-01-28T08:56:31.941380Z",
     "iopub.status.idle": "2025-01-28T08:56:31.959836Z",
     "shell.execute_reply": "2025-01-28T08:56:31.959153Z",
     "shell.execute_reply.started": "2025-01-28T08:56:31.941650Z"
    },
    "id": "38jM9YcSFmjV",
    "trusted": true
   },
   "outputs": [
    {
     "name": "stdout",
     "output_type": "stream",
     "text": [
      "total type of pos_tags : 47\n",
      "['ADVI', 'ADVN', 'ADVP', 'ADVS', 'CFQC', 'CLTV', 'CMTR', 'CMTR@PUNC', 'CNIT', 'CVBL', 'DCNM', 'DDAC', 'DDAN', 'DDAQ', 'DDBQ', 'DIAC', 'DIAQ', 'DIBQ', 'DONM', 'EAFF', 'EITT', 'FIXN', 'FIXV', 'JCMP', 'JCRG', 'JSBR', 'NCMN', 'NCNM', 'NEG', 'NLBL', 'NONM', 'NPRP', 'NTTL', 'PDMN', 'PNTR', 'PPRS', 'PREL', 'PUNC', 'RPRE', 'VACT', 'VATT', 'VSTA', 'XVAE', 'XVAM', 'XVBB', 'XVBM', 'XVMM']\n"
     ]
    }
   ],
   "source": [
    "label_list = orchid[\"train\"].features[f\"pos_tags\"].feature.names\n",
    "print('total type of pos_tags :', len(label_list))\n",
    "print(label_list)"
   ]
  },
  {
   "cell_type": "code",
   "execution_count": 11,
   "metadata": {
    "execution": {
     "iopub.execute_input": "2025-01-28T08:56:31.960675Z",
     "iopub.status.busy": "2025-01-28T08:56:31.960465Z",
     "iopub.status.idle": "2025-01-28T08:57:03.334996Z",
     "shell.execute_reply": "2025-01-28T08:57:03.333874Z",
     "shell.execute_reply.started": "2025-01-28T08:56:31.960657Z"
    },
    "id": "Uf_NDWg7F6z_",
    "trusted": true
   },
   "outputs": [
    {
     "name": "stderr",
     "output_type": "stream",
     "text": [
      "The cache for model files in Transformers v4.22.0 has been updated. Migrating your old cache. This is a one-time only operation. You can interrupt this and resume the migration later on by calling `transformers.utils.move_cache()`.\n"
     ]
    },
    {
     "data": {
      "application/vnd.jupyter.widget-view+json": {
       "model_id": "0276d2ae625143c98804c40f922dbe26",
       "version_major": 2,
       "version_minor": 0
      },
      "text/plain": [
       "0it [00:00, ?it/s]"
      ]
     },
     "metadata": {},
     "output_type": "display_data"
    }
   ],
   "source": [
    "import numpy as np\n",
    "import numpy.random\n",
    "import torch\n",
    "\n",
    "from tqdm.auto import tqdm\n",
    "from functools import partial\n",
    "\n",
    "#transformers\n",
    "from transformers import (\n",
    "    CamembertTokenizer,\n",
    "    AutoTokenizer,\n",
    "    AutoModel,\n",
    "    AutoModelForMaskedLM,\n",
    "    AutoModelForSequenceClassification,\n",
    "    AutoModelForTokenClassification,\n",
    "    TrainingArguments,\n",
    "    Trainer,\n",
    "    pipeline,\n",
    ")\n",
    "\n",
    "#thaixtransformers\n",
    "from thaixtransformers import Tokenizer\n",
    "from thaixtransformers.preprocess import process_transformers"
   ]
  },
  {
   "cell_type": "markdown",
   "metadata": {
    "id": "T1suScqmntBW"
   },
   "source": [
    "Next, we load a pretrained tokenizer from Hugging Face. In this work, we utilize WangchanBERTa, a Thai-specific pretrained model, as the tokenizer."
   ]
  },
  {
   "cell_type": "markdown",
   "metadata": {
    "id": "jt3ASYUVm54n"
   },
   "source": [
    "# Choose Pretrained Model"
   ]
  },
  {
   "cell_type": "markdown",
   "metadata": {
    "id": "sFBKLqbIm23-"
   },
   "source": [
    "In this notebook, you can choose from 5 versions of WangchanBERTa, XLMR and mBERT to perform downstream tasks on Thai datasets. The datasets are:\n",
    "\n",
    "* `wangchanberta-base-att-spm-uncased` (recommended) - Largest WangchanBERTa trained on 78.5GB of Assorted Thai Texts with subword tokenizer SentencePiece\n",
    "* `xlm-roberta-base` - Facebook's [XLMR](https://arxiv.org/abs/1911.02116) trained on 100 languages\n",
    "* `bert-base-multilingual-cased` - Google's [mBERT](https://arxiv.org/abs/1911.03310) trained on 104 languages\n",
    "* `wangchanberta-base-wiki-newmm` - WangchanBERTa trained on Thai Wikipedia Dump with PyThaiNLP's word-level tokenizer  `newmm`\n",
    "* `wangchanberta-base-wiki-syllable` - WangchanBERTa trained on Thai Wikipedia Dump with PyThaiNLP's syllabel-level tokenizer `syllable`\n",
    "* `wangchanberta-base-wiki-sefr` - WangchanBERTa trained on Thai Wikipedia Dump with word-level tokenizer  `SEFR`\n",
    "* `wangchanberta-base-wiki-spm` - WangchanBERTa trained on Thai Wikipedia Dump with subword-level tokenizer SentencePiece\n",
    "\n",
    "In the first part, we require you to select the wangchanberta-base-att-spm-uncased."
   ]
  },
  {
   "cell_type": "markdown",
   "metadata": {
    "id": "6HbZo_TZDn17"
   },
   "source": [
    "<b> Learn more about using wangchanberta at [wangchanberta_getting_started_ai_reseach](https://colab.research.google.com/github/PyThaiNLP/thaixtransformers/blob/main/notebooks/wangchanberta_getting_started_aireseach.ipynb?fbclid=IwY2xjawH61XZleHRuA2FlbQIxMAABHZUaAmHobzmCMHpX0EgdLdjDAEwSX0bjqpo5xPUSIx9b4O_dsIvvG8KVNA_aem_IyKkvzy-VPf9k2pYAFf6Nw#scrollTo=n5IaCot9b3cF) <b>\n",
    "\n",
    "\n",
    "\n",
    "*   You need to set the transformers version to transformers==4.30.1.\n",
    "\n"
   ]
  },
  {
   "cell_type": "markdown",
   "metadata": {
    "id": "kl2NposVIh9-"
   },
   "source": [
    "`In the first part, we require you to select the wangchanberta-base-att-spm-uncased.`"
   ]
  },
  {
   "cell_type": "code",
   "execution_count": 12,
   "metadata": {
    "execution": {
     "iopub.execute_input": "2025-01-28T08:57:03.338680Z",
     "iopub.status.busy": "2025-01-28T08:57:03.338045Z",
     "iopub.status.idle": "2025-01-28T08:57:04.334397Z",
     "shell.execute_reply": "2025-01-28T08:57:04.333435Z",
     "shell.execute_reply.started": "2025-01-28T08:57:03.338652Z"
    },
    "id": "n5IaCot9b3cF",
    "trusted": true
   },
   "outputs": [
    {
     "name": "stderr",
     "output_type": "stream",
     "text": [
      "/usr/local/lib/python3.10/dist-packages/huggingface_hub/file_download.py:795: FutureWarning: `resume_download` is deprecated and will be removed in version 1.0.0. Downloads always resume when possible. If you want to force a new download, use `force_download=True`.\n",
      "  warnings.warn(\n"
     ]
    },
    {
     "data": {
      "application/vnd.jupyter.widget-view+json": {
       "model_id": "8a37776b30344f229de733ba9da2447d",
       "version_major": 2,
       "version_minor": 0
      },
      "text/plain": [
       "sentencepiece.bpe.model:   0%|          | 0.00/905k [00:00<?, ?B/s]"
      ]
     },
     "metadata": {},
     "output_type": "display_data"
    },
    {
     "data": {
      "application/vnd.jupyter.widget-view+json": {
       "model_id": "2beda2600aba4f6bbfc926d508795e06",
       "version_major": 2,
       "version_minor": 0
      },
      "text/plain": [
       "tokenizer_config.json:   0%|          | 0.00/282 [00:00<?, ?B/s]"
      ]
     },
     "metadata": {},
     "output_type": "display_data"
    },
    {
     "data": {
      "application/vnd.jupyter.widget-view+json": {
       "model_id": "d030d359369446588121b5238d8080e7",
       "version_major": 2,
       "version_minor": 0
      },
      "text/plain": [
       "config.json:   0%|          | 0.00/546 [00:00<?, ?B/s]"
      ]
     },
     "metadata": {},
     "output_type": "display_data"
    },
    {
     "name": "stderr",
     "output_type": "stream",
     "text": [
      "The tokenizer class you load from this checkpoint is not the same type as the class this function is called from. It may result in unexpected tokenization. \n",
      "The tokenizer class you load from this checkpoint is 'CamembertTokenizer'. \n",
      "The class this function is called from is 'WangchanbertaTokenizer'.\n",
      "The tokenizer class you load from this checkpoint is not the same type as the class this function is called from. It may result in unexpected tokenization. \n",
      "The tokenizer class you load from this checkpoint is 'CamembertTokenizer'. \n",
      "The class this function is called from is 'WangchanbertaTokenizer'.\n"
     ]
    }
   ],
   "source": [
    "model_names = [\n",
    "    'airesearch/wangchanberta-base-att-spm-uncased',\n",
    "    'airesearch/wangchanberta-base-wiki-newmm',\n",
    "    'airesearch/wangchanberta-base-wiki-ssg',\n",
    "    'airesearch/wangchanberta-base-wiki-sefr',\n",
    "    'airesearch/wangchanberta-base-wiki-spm',\n",
    "]\n",
    "\n",
    "#@title Choose Pretrained Model\n",
    "model_name = \"airesearch/wangchanberta-base-att-spm-uncased\"\n",
    "\n",
    "#create tokenizer\n",
    "tokenizer = Tokenizer(model_name).from_pretrained(\n",
    "                f'{model_name}',\n",
    "                revision='main',\n",
    "                model_max_length=416,)\n"
   ]
  },
  {
   "cell_type": "markdown",
   "metadata": {
    "id": "LzdbERHLwd0X"
   },
   "source": [
    "Let's try using a pretrained tokenizer."
   ]
  },
  {
   "cell_type": "code",
   "execution_count": 13,
   "metadata": {
    "execution": {
     "iopub.execute_input": "2025-01-28T08:57:04.336271Z",
     "iopub.status.busy": "2025-01-28T08:57:04.336044Z",
     "iopub.status.idle": "2025-01-28T08:57:04.340727Z",
     "shell.execute_reply": "2025-01-28T08:57:04.339930Z",
     "shell.execute_reply.started": "2025-01-28T08:57:04.336252Z"
    },
    "id": "qwrwXsHFwl-G",
    "trusted": true
   },
   "outputs": [
    {
     "name": "stdout",
     "output_type": "stream",
     "text": [
      "text : ศิลปะไม่เป็นเจ้านายใคร และไม่เป็นขี้ข้าใคร\n"
     ]
    }
   ],
   "source": [
    "text = 'ศิลปะไม่เป็นเจ้านายใคร และไม่เป็นขี้ข้าใคร'\n",
    "print('text :', text)\n",
    "tokens = []"
   ]
  },
  {
   "cell_type": "code",
   "execution_count": 14,
   "metadata": {
    "execution": {
     "iopub.execute_input": "2025-01-28T08:57:04.341866Z",
     "iopub.status.busy": "2025-01-28T08:57:04.341613Z",
     "iopub.status.idle": "2025-01-28T08:57:04.362407Z",
     "shell.execute_reply": "2025-01-28T08:57:04.361595Z",
     "shell.execute_reply.started": "2025-01-28T08:57:04.341847Z"
    },
    "trusted": true
   },
   "outputs": [
    {
     "name": "stdout",
     "output_type": "stream",
     "text": [
      "[5, 10, 2391, 1501, 5365, 197, 8, 222, 1501, 21325, 197, 6]\n",
      "ศิลปะ\n"
     ]
    }
   ],
   "source": [
    "print(tokenizer([text], is_split_into_words=True)['input_ids'])\n",
    "print(tokenizer.decode(2391))"
   ]
  },
  {
   "cell_type": "code",
   "execution_count": 15,
   "metadata": {
    "execution": {
     "iopub.execute_input": "2025-01-28T08:57:04.363598Z",
     "iopub.status.busy": "2025-01-28T08:57:04.363260Z",
     "iopub.status.idle": "2025-01-28T08:57:04.388562Z",
     "shell.execute_reply": "2025-01-28T08:57:04.387805Z",
     "shell.execute_reply.started": "2025-01-28T08:57:04.363568Z"
    },
    "trusted": true
   },
   "outputs": [
    {
     "name": "stdout",
     "output_type": "stream",
     "text": [
      "tokens : ['<s>', '', 'ศิลปะ', 'ไม่เป็น', 'เจ้านาย', 'ใคร', '<_>', 'และ', 'ไม่เป็น', 'ขี้ข้า', 'ใคร', '</s>']\n"
     ]
    }
   ],
   "source": [
    "for i in tokenizer([text], is_split_into_words=True)['input_ids']:\n",
    "  tokens.append(tokenizer.decode(i))\n",
    "print('tokens :', tokens)"
   ]
  },
  {
   "cell_type": "markdown",
   "metadata": {
    "id": "dEQAVqO8pDhK"
   },
   "source": [
    "model : * `wangchanberta-base-att-spm-uncased`\n",
    "\n",
    "First, we print examples of label tokens from our dataset for inspection."
   ]
  },
  {
   "cell_type": "code",
   "execution_count": 16,
   "metadata": {
    "execution": {
     "iopub.execute_input": "2025-01-28T08:57:04.389794Z",
     "iopub.status.busy": "2025-01-28T08:57:04.389511Z",
     "iopub.status.idle": "2025-01-28T08:57:04.409589Z",
     "shell.execute_reply": "2025-01-28T08:57:04.408930Z",
     "shell.execute_reply.started": "2025-01-28T08:57:04.389765Z"
    },
    "id": "Vw_GdRdlpAhu",
    "trusted": true
   },
   "outputs": [
    {
     "name": "stdout",
     "output_type": "stream",
     "text": [
      "id : 0\n",
      "label_tokens : ['การ', 'ประชุม', 'ทาง', 'วิชาการ', ' ', 'ครั้ง', 'ที่ 1']\n",
      "pos_tags : [21, 39, 26, 26, 37, 4, 18]\n",
      "sentence : การประชุมทางวิชาการ ครั้งที่ 1\n"
     ]
    }
   ],
   "source": [
    "example = orchid[\"train\"][0]\n",
    "for i in example :\n",
    "    print(i, ':', example[i])"
   ]
  },
  {
   "cell_type": "markdown",
   "metadata": {
    "id": "yTuiwEWkppdA"
   },
   "source": [
    "Then, we use the sentence 'การประชุมทางวิชาการ<space>ครั้งที่ 1' to be tokenized by the pretrained tokenizer model."
   ]
  },
  {
   "cell_type": "code",
   "execution_count": 17,
   "metadata": {
    "execution": {
     "iopub.execute_input": "2025-01-28T08:57:04.410584Z",
     "iopub.status.busy": "2025-01-28T08:57:04.410308Z",
     "iopub.status.idle": "2025-01-28T08:57:04.426001Z",
     "shell.execute_reply": "2025-01-28T08:57:04.425229Z",
     "shell.execute_reply.started": "2025-01-28T08:57:04.410564Z"
    },
    "id": "BRCxMtHToN16",
    "trusted": true
   },
   "outputs": [
    {
     "data": {
      "text/plain": [
       "{'input_ids': [5, 10, 882, 8222, 8, 10, 1014, 8, 10, 59, 6], 'attention_mask': [1, 1, 1, 1, 1, 1, 1, 1, 1, 1, 1]}"
      ]
     },
     "execution_count": 17,
     "metadata": {},
     "output_type": "execute_result"
    }
   ],
   "source": [
    "text = 'การประชุมทางวิชาการ ครั้งที่ 1'\n",
    "tokenizer(text)"
   ]
  },
  {
   "cell_type": "markdown",
   "metadata": {
    "id": "kxi8WqZnGa5F"
   },
   "source": [
    "These are already mapped into discrete values. We can uncover the original token text from the tokens by."
   ]
  },
  {
   "cell_type": "code",
   "execution_count": 18,
   "metadata": {
    "execution": {
     "iopub.execute_input": "2025-01-28T08:57:04.426864Z",
     "iopub.status.busy": "2025-01-28T08:57:04.426678Z",
     "iopub.status.idle": "2025-01-28T08:57:04.447854Z",
     "shell.execute_reply": "2025-01-28T08:57:04.447238Z",
     "shell.execute_reply.started": "2025-01-28T08:57:04.426848Z"
    },
    "id": "optGK_eco3K6",
    "trusted": true
   },
   "outputs": [
    {
     "name": "stdout",
     "output_type": "stream",
     "text": [
      "<s>\n",
      "▁\n",
      "การประชุม\n",
      "ทางวิชาการ\n",
      "<_>\n",
      "▁\n",
      "ครั้งที่\n",
      "<_>\n",
      "▁\n",
      "1\n",
      "</s>\n"
     ]
    }
   ],
   "source": [
    "for i in tokenizer(text)['input_ids']:\n",
    "  print(tokenizer.convert_ids_to_tokens(i))"
   ]
  },
  {
   "cell_type": "markdown",
   "metadata": {
    "id": "T3l13UKnwK-d"
   },
   "source": [
    "Now let's look at another example."
   ]
  },
  {
   "cell_type": "code",
   "execution_count": 19,
   "metadata": {
    "execution": {
     "iopub.execute_input": "2025-01-28T08:57:04.448897Z",
     "iopub.status.busy": "2025-01-28T08:57:04.448652Z",
     "iopub.status.idle": "2025-01-28T08:57:04.469331Z",
     "shell.execute_reply": "2025-01-28T08:57:04.468784Z",
     "shell.execute_reply.started": "2025-01-28T08:57:04.448871Z"
    },
    "id": "UyfIR3BowU84",
    "trusted": true
   },
   "outputs": [
    {
     "name": "stdout",
     "output_type": "stream",
     "text": [
      "sentence : โดยพิจารณาจากพจนานุกรมภาษาคู่ (Bilingual transfer dictionary)\n",
      "tokens : ['<s>', '▁โดย', 'พิจารณาจาก', 'พจนานุกรม', 'ภาษา', 'คู่', '<_>', '▁(', '<unk>', 'i', 'ling', 'ual', '<_>', '▁', 'trans', 'fer', '<_>', '▁', 'di', 'ction', 'ary', ')', '</s>']\n",
      "label tokens : ['โดย', 'พิจารณา', 'จาก', 'พจนานุกรม', 'ภาษา', 'คู่', ' ', '(', 'Bilingual transfer dictionary', ')']\n",
      "label pos : [25, 39, 38, 26, 26, 5, 37, 37, 26, 37]\n"
     ]
    }
   ],
   "source": [
    "example = orchid[\"train\"][1899]\n",
    "print('sentence :', example[\"sentence\"])\n",
    "tokenized_input = tokenizer([example[\"sentence\"]], is_split_into_words=True)\n",
    "tokens = tokenizer.convert_ids_to_tokens(tokenized_input[\"input_ids\"])\n",
    "print('tokens :',tokens)\n",
    "print('label tokens :', example[\"label_tokens\"])\n",
    "print('label pos :', example[\"pos_tags\"])"
   ]
  },
  {
   "cell_type": "markdown",
   "metadata": {
    "id": "cmV6M-vAwew5"
   },
   "source": [
    "Notice how `B` becomes an ``<unk>`` token. This is because this is an uncased model, meaning it only handles small English characters."
   ]
  },
  {
   "cell_type": "markdown",
   "metadata": {
    "id": "WniJR47ww7a0"
   },
   "source": [
    "# #TODO 0\n",
    "\n",
    "Convert the dataset to lowercase."
   ]
  },
  {
   "cell_type": "code",
   "execution_count": 20,
   "metadata": {
    "execution": {
     "iopub.execute_input": "2025-01-28T08:57:04.470213Z",
     "iopub.status.busy": "2025-01-28T08:57:04.470033Z",
     "iopub.status.idle": "2025-01-28T08:57:04.488471Z",
     "shell.execute_reply": "2025-01-28T08:57:04.487690Z",
     "shell.execute_reply.started": "2025-01-28T08:57:04.470197Z"
    },
    "id": "RQWm_iWBxFQ8",
    "trusted": true
   },
   "outputs": [],
   "source": [
    "# Create a lowercase dataset for uncased BERT\n",
    "def lower_case_sentences(examples):\n",
    "  lower_cased_examples = examples\n",
    "  lower_cased_examples['sentence'] = lower_cased_examples['sentence'].lower()\n",
    "  lower_cased_examples['label_tokens'] = [t.lower() for t in lower_cased_examples['label_tokens']]\n",
    "\n",
    "  # fill code here to lower case the \"sentence\" and \"label_tokens\"\n",
    "\n",
    "  return lower_cased_examples"
   ]
  },
  {
   "cell_type": "code",
   "execution_count": 21,
   "metadata": {
    "execution": {
     "iopub.execute_input": "2025-01-28T08:57:04.489569Z",
     "iopub.status.busy": "2025-01-28T08:57:04.489299Z",
     "iopub.status.idle": "2025-01-28T08:57:06.469731Z",
     "shell.execute_reply": "2025-01-28T08:57:06.468867Z",
     "shell.execute_reply.started": "2025-01-28T08:57:04.489540Z"
    },
    "id": "ndBIqEpWuqBP",
    "trusted": true
   },
   "outputs": [
    {
     "data": {
      "application/vnd.jupyter.widget-view+json": {
       "model_id": "39ce47b968804e62bec6584bbf7c3a6f",
       "version_major": 2,
       "version_minor": 0
      },
      "text/plain": [
       "Map:   0%|          | 0/18500 [00:00<?, ? examples/s]"
      ]
     },
     "metadata": {},
     "output_type": "display_data"
    },
    {
     "data": {
      "application/vnd.jupyter.widget-view+json": {
       "model_id": "5335b88d022b493080d60c3fe0f5d22e",
       "version_major": 2,
       "version_minor": 0
      },
      "text/plain": [
       "Map:   0%|          | 0/4625 [00:00<?, ? examples/s]"
      ]
     },
     "metadata": {},
     "output_type": "display_data"
    }
   ],
   "source": [
    "orchidl = orchid.map(lower_case_sentences)"
   ]
  },
  {
   "cell_type": "code",
   "execution_count": 22,
   "metadata": {
    "execution": {
     "iopub.execute_input": "2025-01-28T08:57:06.470936Z",
     "iopub.status.busy": "2025-01-28T08:57:06.470620Z",
     "iopub.status.idle": "2025-01-28T08:57:06.475918Z",
     "shell.execute_reply": "2025-01-28T08:57:06.474983Z",
     "shell.execute_reply.started": "2025-01-28T08:57:06.470903Z"
    },
    "id": "z8xpcCqTrqbc",
    "trusted": true
   },
   "outputs": [
    {
     "data": {
      "text/plain": [
       "DatasetDict({\n",
       "    train: Dataset({\n",
       "        features: ['id', 'label_tokens', 'pos_tags', 'sentence'],\n",
       "        num_rows: 18500\n",
       "    })\n",
       "    test: Dataset({\n",
       "        features: ['id', 'label_tokens', 'pos_tags', 'sentence'],\n",
       "        num_rows: 4625\n",
       "    })\n",
       "})"
      ]
     },
     "execution_count": 22,
     "metadata": {},
     "output_type": "execute_result"
    }
   ],
   "source": [
    "orchidl"
   ]
  },
  {
   "cell_type": "code",
   "execution_count": 23,
   "metadata": {
    "execution": {
     "iopub.execute_input": "2025-01-28T08:57:06.478779Z",
     "iopub.status.busy": "2025-01-28T08:57:06.478579Z",
     "iopub.status.idle": "2025-01-28T08:57:06.505503Z",
     "shell.execute_reply": "2025-01-28T08:57:06.504720Z",
     "shell.execute_reply.started": "2025-01-28T08:57:06.478762Z"
    },
    "id": "ecpDHyTPv2py",
    "trusted": true
   },
   "outputs": [
    {
     "data": {
      "text/plain": [
       "{'id': '1899',\n",
       " 'label_tokens': ['โดย',\n",
       "  'พิจารณา',\n",
       "  'จาก',\n",
       "  'พจนานุกรม',\n",
       "  'ภาษา',\n",
       "  'คู่',\n",
       "  ' ',\n",
       "  '(',\n",
       "  'bilingual transfer dictionary',\n",
       "  ')'],\n",
       " 'pos_tags': [25, 39, 38, 26, 26, 5, 37, 37, 26, 37],\n",
       " 'sentence': 'โดยพิจารณาจากพจนานุกรมภาษาคู่ (bilingual transfer dictionary)'}"
      ]
     },
     "execution_count": 23,
     "metadata": {},
     "output_type": "execute_result"
    }
   ],
   "source": [
    "orchidl[\"train\"][1899]"
   ]
  },
  {
   "cell_type": "markdown",
   "metadata": {
    "id": "rgV4ohz2xTY9"
   },
   "source": [
    "Now let's examine the labels again."
   ]
  },
  {
   "cell_type": "code",
   "execution_count": 24,
   "metadata": {
    "execution": {
     "iopub.execute_input": "2025-01-28T08:57:06.506740Z",
     "iopub.status.busy": "2025-01-28T08:57:06.506549Z",
     "iopub.status.idle": "2025-01-28T08:57:06.525454Z",
     "shell.execute_reply": "2025-01-28T08:57:06.524844Z",
     "shell.execute_reply.started": "2025-01-28T08:57:06.506723Z"
    },
    "id": "DoUDQzM7q265",
    "trusted": true
   },
   "outputs": [
    {
     "name": "stdout",
     "output_type": "stream",
     "text": [
      "sentence : โดยพิจารณาจากพจนานุกรมภาษาคู่ (bilingual transfer dictionary)\n",
      "tokens : ['<s>', '▁โดย', 'พิจารณาจาก', 'พจนานุกรม', 'ภาษา', 'คู่', '<_>', '▁(', 'bi', 'ling', 'ual', '<_>', '▁', 'trans', 'fer', '<_>', '▁', 'di', 'ction', 'ary', ')', '</s>']\n",
      "label tokens : ['โดย', 'พิจารณา', 'จาก', 'พจนานุกรม', 'ภาษา', 'คู่', ' ', '(', 'bilingual transfer dictionary', ')']\n",
      "label pos : [25, 39, 38, 26, 26, 5, 37, 37, 26, 37]\n"
     ]
    }
   ],
   "source": [
    "example = orchidl[\"train\"][1899]\n",
    "print('sentence :', example[\"sentence\"])\n",
    "tokenized_input = tokenizer([example[\"sentence\"]], is_split_into_words=True)\n",
    "tokens = tokenizer.convert_ids_to_tokens(tokenized_input[\"input_ids\"])\n",
    "print('tokens :',tokens)\n",
    "print('label tokens :', example[\"label_tokens\"])\n",
    "print('label pos :', example[\"pos_tags\"])"
   ]
  },
  {
   "cell_type": "code",
   "execution_count": 25,
   "metadata": {
    "execution": {
     "iopub.execute_input": "2025-01-28T08:57:06.526294Z",
     "iopub.status.busy": "2025-01-28T08:57:06.526107Z",
     "iopub.status.idle": "2025-01-28T08:57:06.546245Z",
     "shell.execute_reply": "2025-01-28T08:57:06.545404Z",
     "shell.execute_reply.started": "2025-01-28T08:57:06.526277Z"
    },
    "id": "aEHgBeX7fQFt",
    "trusted": true
   },
   "outputs": [
    {
     "name": "stdout",
     "output_type": "stream",
     "text": [
      "sentence : การประชุมทางวิชาการ ครั้งที่ 1\n",
      "tokens : ['<s>', '▁', 'การประชุม', 'ทางวิชาการ', '<_>', '▁', 'ครั้งที่', '<_>', '▁', '1', '</s>']\n",
      "label tokens : ['การ', 'ประชุม', 'ทาง', 'วิชาการ', ' ', 'ครั้ง', 'ที่ 1']\n",
      "label pos : [21, 39, 26, 26, 37, 4, 18]\n"
     ]
    }
   ],
   "source": [
    "example = orchidl[\"train\"][0]\n",
    "print('sentence :', example[\"sentence\"])\n",
    "tokenized_input = tokenizer([example[\"sentence\"]], is_split_into_words=True)\n",
    "tokens = tokenizer.convert_ids_to_tokens(tokenized_input[\"input_ids\"])\n",
    "print('tokens :',tokens)\n",
    "print('label tokens :', example[\"label_tokens\"])\n",
    "print('label pos :', example[\"pos_tags\"])"
   ]
  },
  {
   "cell_type": "markdown",
   "metadata": {
    "id": "5dVcLxYbrl4E"
   },
   "source": [
    "In the example above, tokens refer to those tokenized using the pretrained tokenizer, while label tokens refer to tokens tokenized from our dataset."
   ]
  },
  {
   "cell_type": "markdown",
   "metadata": {
    "id": "r1inxbOYuBpB"
   },
   "source": [
    "**Do you see something?**\n",
    "\n",
    "Yes, the tokens from the two tokenizers do not match.\n",
    "\n",
    "- sentence : `การประชุมทางวิชาการ ครั้งที่ 1`\n",
    "\n",
    "---\n",
    "\n",
    "- tokens : `['<s>', '▁', 'การประชุม', 'ทางวิชาการ', '<_>', '▁', 'ครั้งที่', '<_>', '▁', '1', '</s>']`\n",
    "\n",
    "\n",
    "---\n",
    "\n",
    "\n",
    "- label tokens : `['การ', 'ประชุม', 'ทาง', 'วิชาการ', ' ', 'ครั้ง', 'ที่ 1']`\n",
    "- label pos : `[21, 39, 26, 26, 37, 4, 18]`\n",
    "\n",
    "You can see that in our label tokens, 'การ' has a POS tag of 21, and 'ประชุม' has a POS tag of 39. However, when we tokenize the sentence using WangchanBERTa, we get the token 'การประชุม'. What POS tag should we assign to this new token?\n",
    "\n",
    "**What should we do ?**\n",
    "\n",
    "Based on this example, we found that the tokens from the WangchanBERTa do not directly align with our label tokens. This means we cannot directly use the label POS tags. Therefore, we need to reassign POS tags to the tokens produced by WangchanBERTa tokenization. The method we will use is majority voting:\n",
    "- If a token from the WangchanBERTa matches a label token exactly, we will directly assign the POS tag from the label POS.\n",
    "- If the token generated overlaps or combines multiple label tokens, we assign the POS tag based on the number of characters in each token: If the token contains the most characters from any label token, we assign the POS tag from that label token.\n",
    "\n",
    "**Example :**\n",
    "\n",
    "    # \"การประชุม\" (9 chars) is formed from \"การ\" (3 chars) + \"ประชุม\" (6 chars).\n",
    "    # \"การ\" has a POS tag of 21,\n",
    "    # and \"ประชุม\" has a POS tag of 39.\n",
    "    # Therefore, the POS tag for \"การประชุม\" is 39,\n",
    "    # as \"การประชุม\" is derived more from the \"ประชุม\" part than from the \"การ\" part.\n",
    "\n",
    "    # 'ทางวิชาการ' (10 chars) is formed from 'ทาง' (3 chars) + 'วิชาการ' (7 chars)\n",
    "    # \"ทาง\" has a POS tag of 26,\n",
    "    # and \"วิชาการ\" has a POS tag of 2.\n",
    "    # Therefore, the POS tag for \"ทางวิชาการ\" is 2,\n",
    "    # as \"ทางวิชาการ\" is derived more from the \"ทาง\" part than from the \"วิชาการ\" part."
   ]
  },
  {
   "cell_type": "markdown",
   "metadata": {
    "id": "jTkgye8K8sd8"
   },
   "source": [
    "# #TODO 1"
   ]
  },
  {
   "cell_type": "markdown",
   "metadata": {
    "id": "lgU8Nudh2rUJ"
   },
   "source": [
    "`**Warning: Please be careful of <unk>, an unknown word token.**`\n",
    "\n",
    "`**Warning: Please be careful of \" ำ \", the 'am' vowel. WangchanBERTa's internal preprocessing replaces all \" ำ \" to 'ํ' and 'า'**`\n",
    "\n",
    "Assigning the label -100 to the special tokens `[<s>]` and `[</s>]` and `[_]`  so they’re ignored by the PyTorch loss function (see [CrossEntropyLoss](https://pytorch.org/docs/stable/generated/torch.nn.CrossEntropyLoss.html): ignore_index)"
   ]
  },
  {
   "cell_type": "code",
   "execution_count": 26,
   "metadata": {
    "execution": {
     "iopub.execute_input": "2025-01-28T08:57:06.547203Z",
     "iopub.status.busy": "2025-01-28T08:57:06.546949Z",
     "iopub.status.idle": "2025-01-28T08:57:06.562485Z",
     "shell.execute_reply": "2025-01-28T08:57:06.561744Z",
     "shell.execute_reply.started": "2025-01-28T08:57:06.547178Z"
    },
    "id": "bdxxiUU69lDx",
    "trusted": true
   },
   "outputs": [],
   "source": [
    "def majority_vote_pos(examples):\n",
    "\n",
    "    ####################################################################################################################\n",
    "    # TO DO: Since the tokens from the output of the pretrained tokenizer\n",
    "    # do not match the tokens in the label tokens of the dataset,\n",
    "    # the task is to create a function to determine the POS tags of the tokens generated by the pretrained tokenizer.\n",
    "    # This should be done by referencing the POS tags in the label tokens. If a token partially overlaps with others,\n",
    "    # the POS tag from the segment with the greater number of characters should be assigned.\n",
    "    #\n",
    "    # Example :\n",
    "    # \"การประชุม\" (9 chars) is formed from \"การ\" (3 chars) + \"ประชุม\" (6 chars).\n",
    "    # \"การ\" has a POS tag of 21,\n",
    "    # and \"ประชุม\" has a POS tag of 39.\n",
    "    # Therefore, the POS tag for \"การประชุม\" is 39,\n",
    "    # as \"การประชุม\" is derived more from the \"ประชุม\" part than from the \"การ\" part.\n",
    "    #\n",
    "    # 'ทางวิชาการ' (10 chars) is formed from 'ทาง' (3 chars) + 'วิชาการ' (7 chars)\n",
    "    # \"ทาง\" has a POS tag of 26,\n",
    "    # and \"วิชาการ\" has a POS tag of 2.\n",
    "    # Therefore, the POS tag for \"ทางวิชาการ\" is 2,\n",
    "    # as \"ทางวิชาการ\" is derived more from the \"ทาง\" part than from the \"วิชาการ\" part.\n",
    "\n",
    "    # tokenize word by pretrained tokenizer\n",
    "    tokenized_inputs = tokenizer([examples[\"sentence\"]], is_split_into_words=True)\n",
    "\n",
    "    # FILL CODE HERE\n",
    "    label_tokens = examples[\"label_tokens\"]\n",
    "    pos_tags = examples[\"pos_tags\"]\n",
    "    new_pos_result = []\n",
    "\n",
    "    new_tokens = tokenizer.convert_ids_to_tokens(tokenized_inputs[\"input_ids\"])\n",
    "    # print(new_tokens, \"\\n\", label_tokens, \"\\n\", pos_tags)\n",
    "\n",
    "    label_idx = 0\n",
    "    i = 0\n",
    "    for t in new_tokens:\n",
    "        if t in [\"<s>\", \"</s>\", \"▁\"]:\n",
    "            new_pos_result.append(-100)\n",
    "            continue\n",
    "        # if t == \"<_>\":\n",
    "        #     new_pos_result.append(37)\n",
    "        #     continue\n",
    "            \n",
    "        buffer = \"\"\n",
    "        weights = {}\n",
    "        t = t.replace('ํา', \"ำ\")\n",
    "        t = t.replace(\"<_>\", \" \")\n",
    "        if t[0] == \"▁\":\n",
    "            t = t[1:]\n",
    "        while label_tokens[label_idx][i] != t[0]:\n",
    "            i += 1\n",
    "            if i == len(label_tokens[label_idx]):\n",
    "                label_idx += 1\n",
    "                i = 0\n",
    "                \n",
    "        while buffer != t:\n",
    "            buffer += label_tokens[label_idx][i]\n",
    "            # print(t, buffer, t==buffer)\n",
    "            if pos_tags[label_idx] not in weights:\n",
    "                weights[pos_tags[label_idx]] = 0\n",
    "            weights[pos_tags[label_idx]] += 1\n",
    "            i += 1\n",
    "            if i == len(label_tokens[label_idx]):\n",
    "                label_idx += 1\n",
    "                i = 0\n",
    "        # print(weights)\n",
    "        max_key = max(weights, key=weights.get)\n",
    "        new_pos_result.append(max_key)\n",
    "\n",
    "    tokenized_inputs['tokens'] = new_tokens\n",
    "    tokenized_inputs['labels'] = new_pos_result\n",
    "\n",
    "    return tokenized_inputs\n",
    "    ####################################################################################################################"
   ]
  },
  {
   "cell_type": "code",
   "execution_count": 27,
   "metadata": {
    "execution": {
     "iopub.execute_input": "2025-01-28T08:57:06.563549Z",
     "iopub.status.busy": "2025-01-28T08:57:06.563247Z",
     "iopub.status.idle": "2025-01-28T08:57:06.589093Z",
     "shell.execute_reply": "2025-01-28T08:57:06.588239Z",
     "shell.execute_reply.started": "2025-01-28T08:57:06.563521Z"
    },
    "trusted": true
   },
   "outputs": [
    {
     "data": {
      "text/plain": [
       "{'input_ids': [5, 10, 882, 8222, 8, 10, 1014, 8, 10, 59, 6], 'attention_mask': [1, 1, 1, 1, 1, 1, 1, 1, 1, 1, 1], 'tokens': ['<s>', '▁', 'การประชุม', 'ทางวิชาการ', '<_>', '▁', 'ครั้งที่', '<_>', '▁', '1', '</s>'], 'labels': [-100, -100, 39, 26, 37, -100, 4, 18, -100, 18, -100]}"
      ]
     },
     "execution_count": 27,
     "metadata": {},
     "output_type": "execute_result"
    }
   ],
   "source": [
    "majority_vote_pos(orchidl[\"train\"][0])"
   ]
  },
  {
   "cell_type": "code",
   "execution_count": 28,
   "metadata": {
    "execution": {
     "iopub.execute_input": "2025-01-28T08:57:06.590081Z",
     "iopub.status.busy": "2025-01-28T08:57:06.589846Z",
     "iopub.status.idle": "2025-01-28T08:57:18.237772Z",
     "shell.execute_reply": "2025-01-28T08:57:18.236933Z",
     "shell.execute_reply.started": "2025-01-28T08:57:06.590051Z"
    },
    "id": "doFKOhpbGf9N",
    "trusted": true
   },
   "outputs": [
    {
     "data": {
      "application/vnd.jupyter.widget-view+json": {
       "model_id": "573ae6deabc74713af20b5cec68b4820",
       "version_major": 2,
       "version_minor": 0
      },
      "text/plain": [
       "Map:   0%|          | 0/18500 [00:00<?, ? examples/s]"
      ]
     },
     "metadata": {},
     "output_type": "display_data"
    },
    {
     "data": {
      "application/vnd.jupyter.widget-view+json": {
       "model_id": "14f52f216e994f388da7225e626fe2c6",
       "version_major": 2,
       "version_minor": 0
      },
      "text/plain": [
       "Map:   0%|          | 0/4625 [00:00<?, ? examples/s]"
      ]
     },
     "metadata": {},
     "output_type": "display_data"
    }
   ],
   "source": [
    "tokenized_orchid = orchidl.map(majority_vote_pos)"
   ]
  },
  {
   "cell_type": "code",
   "execution_count": 29,
   "metadata": {
    "execution": {
     "iopub.execute_input": "2025-01-28T08:57:18.238727Z",
     "iopub.status.busy": "2025-01-28T08:57:18.238514Z",
     "iopub.status.idle": "2025-01-28T08:57:18.243479Z",
     "shell.execute_reply": "2025-01-28T08:57:18.242685Z",
     "shell.execute_reply.started": "2025-01-28T08:57:18.238708Z"
    },
    "id": "uvdDnWeOJYpv",
    "trusted": true
   },
   "outputs": [
    {
     "data": {
      "text/plain": [
       "DatasetDict({\n",
       "    train: Dataset({\n",
       "        features: ['id', 'label_tokens', 'pos_tags', 'sentence', 'input_ids', 'attention_mask', 'tokens', 'labels'],\n",
       "        num_rows: 18500\n",
       "    })\n",
       "    test: Dataset({\n",
       "        features: ['id', 'label_tokens', 'pos_tags', 'sentence', 'input_ids', 'attention_mask', 'tokens', 'labels'],\n",
       "        num_rows: 4625\n",
       "    })\n",
       "})"
      ]
     },
     "execution_count": 29,
     "metadata": {},
     "output_type": "execute_result"
    }
   ],
   "source": [
    "tokenized_orchid"
   ]
  },
  {
   "cell_type": "code",
   "execution_count": 30,
   "metadata": {
    "execution": {
     "iopub.execute_input": "2025-01-28T08:57:18.244725Z",
     "iopub.status.busy": "2025-01-28T08:57:18.244393Z",
     "iopub.status.idle": "2025-01-28T08:57:18.272633Z",
     "shell.execute_reply": "2025-01-28T08:57:18.271835Z",
     "shell.execute_reply.started": "2025-01-28T08:57:18.244697Z"
    },
    "id": "ojrRF85dJbwf",
    "trusted": true
   },
   "outputs": [
    {
     "data": {
      "text/plain": [
       "{'id': '0',\n",
       " 'label_tokens': ['การ', 'ประชุม', 'ทาง', 'วิชาการ', ' ', 'ครั้ง', 'ที่ 1'],\n",
       " 'pos_tags': [21, 39, 26, 26, 37, 4, 18],\n",
       " 'sentence': 'การประชุมทางวิชาการ ครั้งที่ 1',\n",
       " 'input_ids': [5, 10, 882, 8222, 8, 10, 1014, 8, 10, 59, 6],\n",
       " 'attention_mask': [1, 1, 1, 1, 1, 1, 1, 1, 1, 1, 1],\n",
       " 'tokens': ['<s>',\n",
       "  '▁',\n",
       "  'การประชุม',\n",
       "  'ทางวิชาการ',\n",
       "  '<_>',\n",
       "  '▁',\n",
       "  'ครั้งที่',\n",
       "  '<_>',\n",
       "  '▁',\n",
       "  '1',\n",
       "  '</s>'],\n",
       " 'labels': [-100, -100, 39, 26, 37, -100, 4, 18, -100, 18, -100]}"
      ]
     },
     "execution_count": 30,
     "metadata": {},
     "output_type": "execute_result"
    }
   ],
   "source": [
    "tokenized_orchid['train'][0]"
   ]
  },
  {
   "cell_type": "code",
   "execution_count": 31,
   "metadata": {
    "execution": {
     "iopub.execute_input": "2025-01-28T08:57:18.273760Z",
     "iopub.status.busy": "2025-01-28T08:57:18.273468Z",
     "iopub.status.idle": "2025-01-28T08:57:18.292581Z",
     "shell.execute_reply": "2025-01-28T08:57:18.291934Z",
     "shell.execute_reply.started": "2025-01-28T08:57:18.273730Z"
    },
    "id": "KMfzFnjSdCGI",
    "trusted": true
   },
   "outputs": [
    {
     "name": "stdout",
     "output_type": "stream",
     "text": [
      "id : 0\n",
      "label_tokens : ['การ', 'ประชุม', 'ทาง', 'วิชาการ', ' ', 'ครั้ง', 'ที่ 1']\n",
      "pos_tags : [21, 39, 26, 26, 37, 4, 18]\n",
      "sentence : การประชุมทางวิชาการ ครั้งที่ 1\n",
      "input_ids : [5, 10, 882, 8222, 8, 10, 1014, 8, 10, 59, 6]\n",
      "attention_mask : [1, 1, 1, 1, 1, 1, 1, 1, 1, 1, 1]\n",
      "tokens : ['<s>', '▁', 'การประชุม', 'ทางวิชาการ', '<_>', '▁', 'ครั้งที่', '<_>', '▁', '1', '</s>']\n",
      "labels : [-100, -100, 39, 26, 37, -100, 4, 18, -100, 18, -100]\n"
     ]
    }
   ],
   "source": [
    "example = tokenized_orchid[\"train\"][0]\n",
    "for i in example :\n",
    "    print(i, \":\", example[i])\n",
    "assert example[\"labels\"] == [-100, -100, 39, 26, 37, -100, 4, 18, -100, 18, -100]"
   ]
  },
  {
   "cell_type": "markdown",
   "metadata": {
    "id": "9lhsQcdL6H3J"
   },
   "source": [
    "This is the result after we realigned the POS based on the majority vote.\n",
    "- label_tokens : `['การ', 'ประชุม', 'ทาง', 'วิชาการ', ' ', 'ครั้ง', 'ที่ 1']`\n",
    "- pos_tags : `[21, 39, 26, 26, 37, 4, 18]`\n",
    "- tokens : `['<s>', '▁', 'การประชุม', 'ทางวิชาการ', '<_>', '▁', 'ครั้งที่', '<_>', '▁', '1', '</s>']`\n",
    "- labels : `[-100, -100, 39, 26, 37, -100, 4, 18, -100, 18, -100]`\n",
    "\n",
    "`['<s>', '▁', '</s>'] : -100`\n",
    "\n",
    "**Check :**\n",
    "\n",
    "> \"การประชุม\" (9 chars) is formed from \"การ\" (3 chars) + \"ประชุม\" (6 chars).\n",
    "\n",
    "\n",
    "> \"การ\" has a POS tag of 21,\n",
    "\n",
    "> and \"ประชุม\" has a POS tag of 39.\n",
    "\n",
    "> Therefore, the POS tag for \"การประชุม\" is 39,\n",
    "\n",
    "> as \"การประชุม\" is derived more from the \"ประชุม\" part than from the \"การ\" part.\n",
    "\n",
    "\n",
    "\n"
   ]
  },
  {
   "cell_type": "code",
   "execution_count": 32,
   "metadata": {
    "execution": {
     "iopub.execute_input": "2025-01-28T08:57:18.293650Z",
     "iopub.status.busy": "2025-01-28T08:57:18.293345Z",
     "iopub.status.idle": "2025-01-28T08:57:18.308822Z",
     "shell.execute_reply": "2025-01-28T08:57:18.308191Z",
     "shell.execute_reply.started": "2025-01-28T08:57:18.293621Z"
    },
    "id": "iOE5CEgZdO9c",
    "trusted": true
   },
   "outputs": [
    {
     "name": "stdout",
     "output_type": "stream",
     "text": [
      "id : 1899\n",
      "label_tokens : ['โดย', 'พิจารณา', 'จาก', 'พจนานุกรม', 'ภาษา', 'คู่', ' ', '(', 'bilingual transfer dictionary', ')']\n",
      "pos_tags : [25, 39, 38, 26, 26, 5, 37, 37, 26, 37]\n",
      "sentence : โดยพิจารณาจากพจนานุกรมภาษาคู่ (bilingual transfer dictionary)\n",
      "input_ids : [5, 489, 15617, 19737, 958, 493, 8, 1241, 4906, 11608, 12177, 8, 10, 11392, 9806, 8, 10, 2951, 15779, 8001, 29, 6]\n",
      "attention_mask : [1, 1, 1, 1, 1, 1, 1, 1, 1, 1, 1, 1, 1, 1, 1, 1, 1, 1, 1, 1, 1, 1]\n",
      "tokens : ['<s>', '▁โดย', 'พิจารณาจาก', 'พจนานุกรม', 'ภาษา', 'คู่', '<_>', '▁(', 'bi', 'ling', 'ual', '<_>', '▁', 'trans', 'fer', '<_>', '▁', 'di', 'ction', 'ary', ')', '</s>']\n",
      "labels : [-100, 25, 39, 26, 26, 5, 37, 37, 26, 26, 26, 26, -100, 26, 26, 26, -100, 26, 26, 26, 37, -100]\n"
     ]
    }
   ],
   "source": [
    "# hard test case\n",
    "example = tokenized_orchid[\"train\"][1899]\n",
    "for i in example :\n",
    "    print(i, \":\", example[i])\n",
    "    \n",
    "assert example['labels'] == [-100, 25, 39, 26, 26, 5, 37, 37, 26, 26, 26, 26, -100, 26, 26, 26, -100, 26, 26, 26, 37, -100]"
   ]
  },
  {
   "cell_type": "markdown",
   "metadata": {
    "id": "Fv_NkVQ6qsJe"
   },
   "source": [
    "Expected output\n",
    "\n",
    "\n",
    "```\n",
    "id : 1899\n",
    "label_tokens : ['โดย', 'พิจารณา', 'จาก', 'พจนานุกรม', 'ภาษา', 'คู่', ' ', '(', 'bilingual transfer dictionary', ')']\n",
    "pos_tags : [25, 39, 38, 26, 26, 5, 37, 37, 26, 37]\n",
    "sentence : โดยพิจารณาจากพจนานุกรมภาษาคู่ (bilingual transfer dictionary)\n",
    "input_ids : [5, 489, 15617, 19737, 958, 493, 8, 1241, 4906, 11608, 12177, 8, 10, 11392, 9806, 8, 10, 2951, 15779, 8001, 29, 6]\n",
    "attention_mask : [1, 1, 1, 1, 1, 1, 1, 1, 1, 1, 1, 1, 1, 1, 1, 1, 1, 1, 1, 1, 1, 1]\n",
    "tokens : ['<s>', '▁โดย', 'พิจารณาจาก', 'พจนานุกรม', 'ภาษา', 'คู่', '<_>', '▁(', 'bi', 'ling', 'ual', '<_>', '▁', 'trans', 'fer', '<_>', '▁', 'di', 'ction', 'ary', ')', '</s>']\n",
    "labels : [-100, 25, 39, 26, 26, 5, 37, 37, 26, 26, 26, 26, -100, 26, 26, 26, -100, 26, 26, 26, 37, -100]\n",
    "```"
   ]
  },
  {
   "cell_type": "markdown",
   "metadata": {
    "id": "0pwADd1a85bn"
   },
   "source": [
    "# Train and Evaluate model"
   ]
  },
  {
   "cell_type": "markdown",
   "metadata": {
    "id": "TsnlIUJvYEy2"
   },
   "source": [
    "We will create a batch of examples using [DataCollatorWithPadding.](https://huggingface.co/docs/transformers/v4.48.0/en/main_classes/data_collator#transformers.DataCollatorWithPadding)  \n",
    "\n",
    "Data collators are objects that will form a batch by using a list of dataset elements as input. These elements are of the same type as the elements of train_dataset or eval_dataset.\n",
    "\n",
    "DataCollatorWithPadding will help us pad the sentences to the longest length in a batch during collation, instead of padding the whole dataset to the maximum length. This allows for efficient computation during each batch.\n",
    "\n",
    "*   DataCollatorForTokenClassification : `padding (bool, str or PaddingStrategy, optional, defaults to True)`\n",
    "*   `True` or `'longest'` (default): Pad to the longest sequence in the batch (or no padding if only a single sequence is provided).\n",
    "\n"
   ]
  },
  {
   "cell_type": "code",
   "execution_count": 33,
   "metadata": {
    "execution": {
     "iopub.execute_input": "2025-01-28T08:57:18.309799Z",
     "iopub.status.busy": "2025-01-28T08:57:18.309597Z",
     "iopub.status.idle": "2025-01-28T08:57:18.323634Z",
     "shell.execute_reply": "2025-01-28T08:57:18.323039Z",
     "shell.execute_reply.started": "2025-01-28T08:57:18.309781Z"
    },
    "id": "CcAY4-E2J6e5",
    "trusted": true
   },
   "outputs": [],
   "source": [
    "from transformers import DataCollatorForTokenClassification\n",
    "\n",
    "data_collator = DataCollatorForTokenClassification(tokenizer=tokenizer)"
   ]
  },
  {
   "cell_type": "markdown",
   "metadata": {
    "id": "jg4v14KcElbY"
   },
   "source": [
    "For evaluating your model’s performance. You can quickly load a evaluation method with the [Evaluate](https://huggingface.co/docs/evaluate/index) library. For this task, load the [seqeval](https://huggingface.co/spaces/evaluate-metric/seqeval) framework (see the Evaluate [quick tour](https://huggingface.co/docs/evaluate/a_quick_tour) to learn more about how to load and compute a metric). Seqeval actually produces several scores: precision, recall, F1, and accuracy."
   ]
  },
  {
   "cell_type": "code",
   "execution_count": 34,
   "metadata": {
    "execution": {
     "iopub.execute_input": "2025-01-28T08:57:18.324588Z",
     "iopub.status.busy": "2025-01-28T08:57:18.324296Z",
     "iopub.status.idle": "2025-01-28T08:57:19.029437Z",
     "shell.execute_reply": "2025-01-28T08:57:19.028770Z",
     "shell.execute_reply.started": "2025-01-28T08:57:18.324560Z"
    },
    "id": "cZk3PjndK-Q8",
    "trusted": true
   },
   "outputs": [
    {
     "data": {
      "application/vnd.jupyter.widget-view+json": {
       "model_id": "0035d4786b4146feae065bce694226cf",
       "version_major": 2,
       "version_minor": 0
      },
      "text/plain": [
       "Downloading builder script:   0%|          | 0.00/6.34k [00:00<?, ?B/s]"
      ]
     },
     "metadata": {},
     "output_type": "display_data"
    }
   ],
   "source": [
    "import evaluate\n",
    "\n",
    "seqeval = evaluate.load(\"seqeval\")"
   ]
  },
  {
   "cell_type": "markdown",
   "metadata": {
    "id": "FllGDNO5RUIA"
   },
   "source": [
    "Huggingface requires us to write a ``compute_metrics()`` function. This will be invoked when huggingface evalutes a model.\n",
    "\n",
    "Note that we ignore to evaluate on -100 labels."
   ]
  },
  {
   "cell_type": "code",
   "execution_count": 35,
   "metadata": {
    "execution": {
     "iopub.execute_input": "2025-01-28T08:57:19.030375Z",
     "iopub.status.busy": "2025-01-28T08:57:19.030147Z",
     "iopub.status.idle": "2025-01-28T08:57:19.035950Z",
     "shell.execute_reply": "2025-01-28T08:57:19.035246Z",
     "shell.execute_reply.started": "2025-01-28T08:57:19.030355Z"
    },
    "id": "vDwNPItNLTM1",
    "trusted": true
   },
   "outputs": [],
   "source": [
    "import numpy as np\n",
    "import warnings\n",
    "\n",
    "\n",
    "def compute_metrics(p):\n",
    "    predictions, labels = p\n",
    "    predictions = np.argmax(predictions, axis=2)\n",
    "\n",
    "    true_predictions = [\n",
    "        [label_list[p] for (p, l) in zip(prediction, label) if l != -100]\n",
    "        for prediction, label in zip(predictions, labels)\n",
    "    ]\n",
    "    true_labels = [\n",
    "        [label_list[l] for (p, l) in zip(prediction, label) if l != -100]\n",
    "        for prediction, label in zip(predictions, labels)\n",
    "    ]\n",
    "\n",
    "    with warnings.catch_warnings():\n",
    "        warnings.filterwarnings(\"ignore\")\n",
    "        results = seqeval.compute(predictions=true_predictions, references=true_labels)\n",
    "    return {\n",
    "        \"precision\": results[\"overall_precision\"],\n",
    "        \"recall\": results[\"overall_recall\"],\n",
    "        \"f1\": results[\"overall_f1\"],\n",
    "        \"accuracy\": results[\"overall_accuracy\"],\n",
    "    }"
   ]
  },
  {
   "cell_type": "markdown",
   "metadata": {
    "id": "kt13vTldvTw4"
   },
   "source": [
    "The total number of labels in our POS tag set."
   ]
  },
  {
   "cell_type": "code",
   "execution_count": 36,
   "metadata": {
    "execution": {
     "iopub.execute_input": "2025-01-28T08:57:19.036873Z",
     "iopub.status.busy": "2025-01-28T08:57:19.036647Z",
     "iopub.status.idle": "2025-01-28T08:57:19.060805Z",
     "shell.execute_reply": "2025-01-28T08:57:19.059966Z",
     "shell.execute_reply.started": "2025-01-28T08:57:19.036855Z"
    },
    "id": "JD84B79-Lxwf",
    "trusted": true
   },
   "outputs": [
    {
     "data": {
      "text/plain": [
       "{'ADVI': 0,\n",
       " 'ADVN': 1,\n",
       " 'ADVP': 2,\n",
       " 'ADVS': 3,\n",
       " 'CFQC': 4,\n",
       " 'CLTV': 5,\n",
       " 'CMTR': 6,\n",
       " 'CMTR@PUNC': 7,\n",
       " 'CNIT': 8,\n",
       " 'CVBL': 9,\n",
       " 'DCNM': 10,\n",
       " 'DDAC': 11,\n",
       " 'DDAN': 12,\n",
       " 'DDAQ': 13,\n",
       " 'DDBQ': 14,\n",
       " 'DIAC': 15,\n",
       " 'DIAQ': 16,\n",
       " 'DIBQ': 17,\n",
       " 'DONM': 18,\n",
       " 'EAFF': 19,\n",
       " 'EITT': 20,\n",
       " 'FIXN': 21,\n",
       " 'FIXV': 22,\n",
       " 'JCMP': 23,\n",
       " 'JCRG': 24,\n",
       " 'JSBR': 25,\n",
       " 'NCMN': 26,\n",
       " 'NCNM': 27,\n",
       " 'NEG': 28,\n",
       " 'NLBL': 29,\n",
       " 'NONM': 30,\n",
       " 'NPRP': 31,\n",
       " 'NTTL': 32,\n",
       " 'PDMN': 33,\n",
       " 'PNTR': 34,\n",
       " 'PPRS': 35,\n",
       " 'PREL': 36,\n",
       " 'PUNC': 37,\n",
       " 'RPRE': 38,\n",
       " 'VACT': 39,\n",
       " 'VATT': 40,\n",
       " 'VSTA': 41,\n",
       " 'XVAE': 42,\n",
       " 'XVAM': 43,\n",
       " 'XVBB': 44,\n",
       " 'XVBM': 45,\n",
       " 'XVMM': 46}"
      ]
     },
     "execution_count": 36,
     "metadata": {},
     "output_type": "execute_result"
    }
   ],
   "source": [
    "id2label = {\n",
    "    0: 'ADVI',\n",
    "    1: 'ADVN',\n",
    "    2: 'ADVP',\n",
    "    3: 'ADVS',\n",
    "    4: 'CFQC',\n",
    "    5: 'CLTV',\n",
    "    6: 'CMTR',\n",
    "    7: 'CMTR@PUNC',\n",
    "    8: 'CNIT',\n",
    "    9: 'CVBL',\n",
    "    10: 'DCNM',\n",
    "    11: 'DDAC',\n",
    "    12: 'DDAN',\n",
    "    13: 'DDAQ',\n",
    "    14: 'DDBQ',\n",
    "    15: 'DIAC',\n",
    "    16: 'DIAQ',\n",
    "    17: 'DIBQ',\n",
    "    18: 'DONM',\n",
    "    19: 'EAFF',\n",
    "    20: 'EITT',\n",
    "    21: 'FIXN',\n",
    "    22: 'FIXV',\n",
    "    23: 'JCMP',\n",
    "    24: 'JCRG',\n",
    "    25: 'JSBR',\n",
    "    26: 'NCMN',\n",
    "    27: 'NCNM',\n",
    "    28: 'NEG',\n",
    "    29: 'NLBL',\n",
    "    30: 'NONM',\n",
    "    31: 'NPRP',\n",
    "    32: 'NTTL',\n",
    "    33: 'PDMN',\n",
    "    34: 'PNTR',\n",
    "    35: 'PPRS',\n",
    "    36: 'PREL',\n",
    "    37: 'PUNC',\n",
    "    38: 'RPRE',\n",
    "    39: 'VACT',\n",
    "    40: 'VATT',\n",
    "    41: 'VSTA',\n",
    "    42: 'XVAE',\n",
    "    43: 'XVAM',\n",
    "    44: 'XVBB',\n",
    "    45: 'XVBM',\n",
    "    46: 'XVMM',\n",
    "    # 47: 'O'\n",
    "}\n",
    "label2id = {}\n",
    "for k, v in id2label.items() :\n",
    "    label2id[v] = k\n",
    "\n",
    "label2id"
   ]
  },
  {
   "cell_type": "code",
   "execution_count": 37,
   "metadata": {
    "execution": {
     "iopub.execute_input": "2025-01-28T08:57:19.061599Z",
     "iopub.status.busy": "2025-01-28T08:57:19.061383Z",
     "iopub.status.idle": "2025-01-28T08:57:19.080755Z",
     "shell.execute_reply": "2025-01-28T08:57:19.079960Z",
     "shell.execute_reply.started": "2025-01-28T08:57:19.061581Z"
    },
    "id": "mQtGN8QQQLME",
    "trusted": true
   },
   "outputs": [
    {
     "data": {
      "text/plain": [
       "['ADVI',\n",
       " 'ADVN',\n",
       " 'ADVP',\n",
       " 'ADVS',\n",
       " 'CFQC',\n",
       " 'CLTV',\n",
       " 'CMTR',\n",
       " 'CMTR@PUNC',\n",
       " 'CNIT',\n",
       " 'CVBL',\n",
       " 'DCNM',\n",
       " 'DDAC',\n",
       " 'DDAN',\n",
       " 'DDAQ',\n",
       " 'DDBQ',\n",
       " 'DIAC',\n",
       " 'DIAQ',\n",
       " 'DIBQ',\n",
       " 'DONM',\n",
       " 'EAFF',\n",
       " 'EITT',\n",
       " 'FIXN',\n",
       " 'FIXV',\n",
       " 'JCMP',\n",
       " 'JCRG',\n",
       " 'JSBR',\n",
       " 'NCMN',\n",
       " 'NCNM',\n",
       " 'NEG',\n",
       " 'NLBL',\n",
       " 'NONM',\n",
       " 'NPRP',\n",
       " 'NTTL',\n",
       " 'PDMN',\n",
       " 'PNTR',\n",
       " 'PPRS',\n",
       " 'PREL',\n",
       " 'PUNC',\n",
       " 'RPRE',\n",
       " 'VACT',\n",
       " 'VATT',\n",
       " 'VSTA',\n",
       " 'XVAE',\n",
       " 'XVAM',\n",
       " 'XVBB',\n",
       " 'XVBM',\n",
       " 'XVMM']"
      ]
     },
     "execution_count": 37,
     "metadata": {},
     "output_type": "execute_result"
    }
   ],
   "source": [
    "labels = [i for i in id2label.values()]\n",
    "labels"
   ]
  },
  {
   "cell_type": "markdown",
   "metadata": {
    "id": "Nu7Z3QH_BJe4"
   },
   "source": [
    "## Load pretrained model"
   ]
  },
  {
   "cell_type": "markdown",
   "metadata": {
    "id": "cBYlcF-gDZcF"
   },
   "source": [
    "Select a pretrained model for fine-tuning to develop a POS Tagger model using the Orchid corpus dataset.\n",
    "\n",
    "\n",
    "\n",
    "*   model : `wangchanberta-base-att-spm-uncased`\n",
    "*   Don't forget to update the num_labels.\n",
    "\n",
    "You’re ready to start training your model now! Load pretrained model with AutoModelForTokenClassification along with the number of expected labels, and the label mappings:\n",
    "\n",
    "\n"
   ]
  },
  {
   "cell_type": "markdown",
   "metadata": {
    "id": "6OOu8s-mO_Fw"
   },
   "source": [
    "`In the first part, we require you to select the wangchanberta-base-att-spm-uncased.`"
   ]
  },
  {
   "cell_type": "code",
   "execution_count": 176,
   "metadata": {
    "execution": {
     "iopub.execute_input": "2025-01-28T04:26:52.153612Z",
     "iopub.status.busy": "2025-01-28T04:26:52.153244Z",
     "iopub.status.idle": "2025-01-28T04:26:55.831661Z",
     "shell.execute_reply": "2025-01-28T04:26:55.831034Z",
     "shell.execute_reply.started": "2025-01-28T04:26:52.153585Z"
    },
    "id": "OOsnubHyDMmA",
    "trusted": true
   },
   "outputs": [
    {
     "name": "stderr",
     "output_type": "stream",
     "text": [
      "/usr/local/lib/python3.10/dist-packages/huggingface_hub/file_download.py:795: FutureWarning: `resume_download` is deprecated and will be removed in version 1.0.0. Downloads always resume when possible. If you want to force a new download, use `force_download=True`.\n",
      "  warnings.warn(\n"
     ]
    },
    {
     "data": {
      "application/vnd.jupyter.widget-view+json": {
       "model_id": "7850f43bfacf49d58f7c5e1fe2762343",
       "version_major": 2,
       "version_minor": 0
      },
      "text/plain": [
       "model.safetensors:   0%|          | 0.00/423M [00:00<?, ?B/s]"
      ]
     },
     "metadata": {},
     "output_type": "display_data"
    },
    {
     "name": "stderr",
     "output_type": "stream",
     "text": [
      "Some weights of the model checkpoint at airesearch/wangchanberta-base-att-spm-uncased were not used when initializing CamembertForTokenClassification: ['lm_head.layer_norm.bias', 'lm_head.dense.bias', 'lm_head.layer_norm.weight', 'lm_head.dense.weight', 'lm_head.bias']\n",
      "- This IS expected if you are initializing CamembertForTokenClassification from the checkpoint of a model trained on another task or with another architecture (e.g. initializing a BertForSequenceClassification model from a BertForPreTraining model).\n",
      "- This IS NOT expected if you are initializing CamembertForTokenClassification from the checkpoint of a model that you expect to be exactly identical (initializing a BertForSequenceClassification model from a BertForSequenceClassification model).\n",
      "Some weights of CamembertForTokenClassification were not initialized from the model checkpoint at airesearch/wangchanberta-base-att-spm-uncased and are newly initialized: ['classifier.weight', 'classifier.bias']\n",
      "You should probably TRAIN this model on a down-stream task to be able to use it for predictions and inference.\n"
     ]
    }
   ],
   "source": [
    "model_names = [\n",
    "    'wangchanberta-base-att-spm-uncased',\n",
    "    'wangchanberta-base-wiki-newmm',\n",
    "    'wangchanberta-base-wiki-ssg',\n",
    "    'wangchanberta-base-wiki-sefr',\n",
    "    'wangchanberta-base-wiki-spm',\n",
    "]\n",
    "\n",
    "#@title Choose Pretrained Model\n",
    "model_name = \"wangchanberta-base-att-spm-uncased\"\n",
    "\n",
    "#create model\n",
    "model = AutoModelForTokenClassification.from_pretrained(\n",
    "    f\"airesearch/{model_name}\",\n",
    "    revision='main',\n",
    "    num_labels=47, id2label=id2label, label2id=label2id\n",
    ")\n"
   ]
  },
  {
   "cell_type": "markdown",
   "metadata": {
    "id": "-H2OExQrCAfX"
   },
   "source": [
    "### #TODO 2"
   ]
  },
  {
   "cell_type": "markdown",
   "metadata": {
    "id": "FBZKrz8nFXyT"
   },
   "source": [
    "* Configure your training hyperparameters using `**TrainingArguments**`. The only required parameter is is `output_dir`, which determines the directory where your model will be saved. To upload the model to the Hugging Face Hub, set push_to_hub=True (note: you must be logged into Hugging Face for this). During training, the Trainer will compute seqeval metrics at the end of each epoch and store the training checkpoint.\n",
    "* Provide the `**Trainer**` with the training arguments, as well as the model, dataset, tokenizer, data collator, and compute_metrics function.\n",
    "* Use `**train()**` to fine-tune the model.\n",
    "\n",
    "\n",
    "Read [huggingface's tutorial](https://huggingface.co/docs/transformers/en/tasks/token_classification) for more details."
   ]
  },
  {
   "cell_type": "code",
   "execution_count": 183,
   "metadata": {
    "execution": {
     "iopub.execute_input": "2025-01-28T04:39:00.243264Z",
     "iopub.status.busy": "2025-01-28T04:39:00.242948Z",
     "iopub.status.idle": "2025-01-28T04:44:03.426700Z",
     "shell.execute_reply": "2025-01-28T04:44:03.426006Z",
     "shell.execute_reply.started": "2025-01-28T04:39:00.243236Z"
    },
    "id": "gMUkNHNrCwsl",
    "trusted": true
   },
   "outputs": [
    {
     "name": "stderr",
     "output_type": "stream",
     "text": [
      "/usr/local/lib/python3.10/dist-packages/huggingface_hub/utils/_deprecation.py:131: FutureWarning: 'Repository' (from 'huggingface_hub.repository') is deprecated and will be removed from version '1.0'. Please prefer the http-based alternatives instead. Given its large adoption in legacy code, the complete removal is only planned on next major release.\n",
      "For more details, please read https://huggingface.co/docs/huggingface_hub/concepts/git_vs_http.\n",
      "  warnings.warn(warning_message, FutureWarning)\n",
      "/kaggle/working/pos-spm-uncased is already a clone of https://huggingface.co/bookpanda/pos-spm-uncased. Make sure you pull the latest changes with `repo.git_pull()`.\n",
      "/usr/local/lib/python3.10/dist-packages/transformers/optimization.py:411: FutureWarning: This implementation of AdamW is deprecated and will be removed in a future version. Use the PyTorch implementation torch.optim.AdamW instead, or set `no_deprecation_warning=True` to disable this warning\n",
      "  warnings.warn(\n",
      "/usr/local/lib/python3.10/dist-packages/torch/nn/parallel/_functions.py:71: UserWarning: Was asked to gather along dimension 0, but all input tensors were scalars; will instead unsqueeze and return a vector.\n",
      "  warnings.warn(\n"
     ]
    },
    {
     "data": {
      "text/html": [
       "\n",
       "    <div>\n",
       "      \n",
       "      <progress value='580' max='580' style='width:300px; height:20px; vertical-align: middle;'></progress>\n",
       "      [580/580 04:59, Epoch 2/2]\n",
       "    </div>\n",
       "    <table border=\"1\" class=\"dataframe\">\n",
       "  <thead>\n",
       " <tr style=\"text-align: left;\">\n",
       "      <th>Step</th>\n",
       "      <th>Training Loss</th>\n",
       "    </tr>\n",
       "  </thead>\n",
       "  <tbody>\n",
       "    <tr>\n",
       "      <td>500</td>\n",
       "      <td>0.627100</td>\n",
       "    </tr>\n",
       "  </tbody>\n",
       "</table><p>"
      ],
      "text/plain": [
       "<IPython.core.display.HTML object>"
      ]
     },
     "metadata": {},
     "output_type": "display_data"
    },
    {
     "name": "stderr",
     "output_type": "stream",
     "text": [
      "/usr/local/lib/python3.10/dist-packages/torch/nn/parallel/_functions.py:71: UserWarning: Was asked to gather along dimension 0, but all input tensors were scalars; will instead unsqueeze and return a vector.\n",
      "  warnings.warn(\n"
     ]
    },
    {
     "data": {
      "text/plain": [
       "TrainOutput(global_step=580, training_loss=0.5893406999522242, metrics={'train_runtime': 299.7834, 'train_samples_per_second': 123.422, 'train_steps_per_second': 1.935, 'total_flos': 1416038773777320.0, 'train_loss': 0.5893406999522242, 'epoch': 2.0})"
      ]
     },
     "execution_count": 183,
     "metadata": {},
     "output_type": "execute_result"
    }
   ],
   "source": [
    "training_args = TrainingArguments(\n",
    "    #########################\n",
    "    output_dir=\"pos-spm-uncased\",\n",
    "    learning_rate=2e-5,\n",
    "    per_device_train_batch_size=32,\n",
    "    per_device_eval_batch_size=32,\n",
    "    num_train_epochs=2,\n",
    "    weight_decay=0.01,\n",
    "    push_to_hub=True\n",
    "    #########################\n",
    ")\n",
    "\n",
    "trainer = Trainer(\n",
    "    #########################\n",
    "    model=model,\n",
    "    args=training_args,\n",
    "    train_dataset=tokenized_orchid[\"train\"],\n",
    "    eval_dataset=tokenized_orchid[\"test\"],\n",
    "    data_collator=data_collator,\n",
    "    compute_metrics=compute_metrics,\n",
    "    ########################\n",
    ")\n",
    "\n",
    "trainer.train()"
   ]
  },
  {
   "cell_type": "markdown",
   "metadata": {
    "id": "XiXUG6aakihd"
   },
   "source": [
    "# Inference"
   ]
  },
  {
   "cell_type": "markdown",
   "metadata": {
    "id": "2OPVknoQk4wL"
   },
   "source": [
    "With your model fine-tuned, you can now perform inference."
   ]
  },
  {
   "cell_type": "code",
   "execution_count": 184,
   "metadata": {
    "execution": {
     "iopub.execute_input": "2025-01-28T04:50:35.451642Z",
     "iopub.status.busy": "2025-01-28T04:50:35.451262Z",
     "iopub.status.idle": "2025-01-28T04:50:35.456371Z",
     "shell.execute_reply": "2025-01-28T04:50:35.455406Z",
     "shell.execute_reply.started": "2025-01-28T04:50:35.451613Z"
    },
    "id": "mMyq6I9CkZ1R",
    "trusted": true
   },
   "outputs": [],
   "source": [
    "text = \"การประชุมทางวิชาการ ครั้งที่ 1\""
   ]
  },
  {
   "cell_type": "markdown",
   "metadata": {
    "id": "FL5qxD3EPLFt"
   },
   "source": [
    "`In the first part, we require you to select the wangchanberta-base-att-spm-uncased.`"
   ]
  },
  {
   "cell_type": "code",
   "execution_count": 185,
   "metadata": {
    "execution": {
     "iopub.execute_input": "2025-01-28T04:50:43.194729Z",
     "iopub.status.busy": "2025-01-28T04:50:43.194370Z",
     "iopub.status.idle": "2025-01-28T04:50:43.590154Z",
     "shell.execute_reply": "2025-01-28T04:50:43.589507Z",
     "shell.execute_reply.started": "2025-01-28T04:50:43.194700Z"
    },
    "id": "sKgM-EaGfxA4",
    "trusted": true
   },
   "outputs": [
    {
     "name": "stderr",
     "output_type": "stream",
     "text": [
      "/usr/local/lib/python3.10/dist-packages/huggingface_hub/file_download.py:795: FutureWarning: `resume_download` is deprecated and will be removed in version 1.0.0. Downloads always resume when possible. If you want to force a new download, use `force_download=True`.\n",
      "  warnings.warn(\n",
      "The tokenizer class you load from this checkpoint is not the same type as the class this function is called from. It may result in unexpected tokenization. \n",
      "The tokenizer class you load from this checkpoint is 'CamembertTokenizer'. \n",
      "The class this function is called from is 'WangchanbertaTokenizer'.\n",
      "The tokenizer class you load from this checkpoint is not the same type as the class this function is called from. It may result in unexpected tokenization. \n",
      "The tokenizer class you load from this checkpoint is 'CamembertTokenizer'. \n",
      "The class this function is called from is 'WangchanbertaTokenizer'.\n"
     ]
    }
   ],
   "source": [
    "from transformers import AutoTokenizer\n",
    "\n",
    "# Load pretrained tokenizer from Hugging Face\n",
    "#@title Choose Pretrained Model\n",
    "model_name = \"airesearch/wangchanberta-base-att-spm-uncased\"\n",
    "\n",
    "tokenizer = Tokenizer(model_name).from_pretrained(model_name)\n",
    "inputs = tokenizer(text, return_tensors=\"pt\")"
   ]
  },
  {
   "cell_type": "code",
   "execution_count": 186,
   "metadata": {
    "execution": {
     "iopub.execute_input": "2025-01-28T04:50:46.789189Z",
     "iopub.status.busy": "2025-01-28T04:50:46.788911Z",
     "iopub.status.idle": "2025-01-28T04:50:46.799312Z",
     "shell.execute_reply": "2025-01-28T04:50:46.798476Z",
     "shell.execute_reply.started": "2025-01-28T04:50:46.789167Z"
    },
    "id": "PcRf-Q9nf4-t",
    "trusted": true
   },
   "outputs": [
    {
     "data": {
      "text/plain": [
       "{'input_ids': tensor([[   5,   10,  882, 8222,    8,   10, 1014,    8,   10,   59,    6]]), 'attention_mask': tensor([[1, 1, 1, 1, 1, 1, 1, 1, 1, 1, 1]])}"
      ]
     },
     "execution_count": 186,
     "metadata": {},
     "output_type": "execute_result"
    }
   ],
   "source": [
    "inputs"
   ]
  },
  {
   "cell_type": "code",
   "execution_count": 188,
   "metadata": {
    "execution": {
     "iopub.execute_input": "2025-01-28T04:51:26.694756Z",
     "iopub.status.busy": "2025-01-28T04:51:26.694419Z",
     "iopub.status.idle": "2025-01-28T04:51:38.721334Z",
     "shell.execute_reply": "2025-01-28T04:51:38.720659Z",
     "shell.execute_reply.started": "2025-01-28T04:51:26.694727Z"
    },
    "id": "6ADY5OuqkkHb",
    "trusted": true
   },
   "outputs": [
    {
     "data": {
      "application/vnd.jupyter.widget-view+json": {
       "model_id": "482d4d626dfe462391daeb11e13e36c0",
       "version_major": 2,
       "version_minor": 0
      },
      "text/plain": [
       "config.json:   0%|          | 0.00/2.41k [00:00<?, ?B/s]"
      ]
     },
     "metadata": {},
     "output_type": "display_data"
    },
    {
     "data": {
      "application/vnd.jupyter.widget-view+json": {
       "model_id": "3ba12500fd50487fa8ce88cf16f291c8",
       "version_major": 2,
       "version_minor": 0
      },
      "text/plain": [
       "pytorch_model.bin:   0%|          | 0.00/419M [00:00<?, ?B/s]"
      ]
     },
     "metadata": {},
     "output_type": "display_data"
    },
    {
     "name": "stderr",
     "output_type": "stream",
     "text": [
      "/usr/local/lib/python3.10/dist-packages/transformers/modeling_utils.py:463: FutureWarning: You are using `torch.load` with `weights_only=False` (the current default value), which uses the default pickle module implicitly. It is possible to construct malicious pickle data which will execute arbitrary code during unpickling (See https://github.com/pytorch/pytorch/blob/main/SECURITY.md#untrusted-models for more details). In a future release, the default value for `weights_only` will be flipped to `True`. This limits the functions that could be executed during unpickling. Arbitrary objects will no longer be allowed to be loaded via this mode unless they are explicitly allowlisted by the user via `torch.serialization.add_safe_globals`. We recommend you start setting `weights_only=True` for any use case where you don't have full control of the loaded file. Please open an issue on GitHub for any issues related to this experimental feature.\n",
      "  return torch.load(checkpoint_file, map_location=\"cpu\")\n"
     ]
    }
   ],
   "source": [
    "from transformers import AutoModelForTokenClassification\n",
    "\n",
    "## Load your fine-tuned model from Hugging Face\n",
    "model = AutoModelForTokenClassification.from_pretrained(\"bookpanda/pos-spm-uncased\") ## your model path from Hugging Face\n",
    "with torch.no_grad():\n",
    "    logits = model(**inputs).logits"
   ]
  },
  {
   "cell_type": "code",
   "execution_count": 189,
   "metadata": {
    "execution": {
     "iopub.execute_input": "2025-01-28T04:51:39.318952Z",
     "iopub.status.busy": "2025-01-28T04:51:39.318662Z",
     "iopub.status.idle": "2025-01-28T04:51:39.326457Z",
     "shell.execute_reply": "2025-01-28T04:51:39.325605Z",
     "shell.execute_reply.started": "2025-01-28T04:51:39.318932Z"
    },
    "id": "AACsd7VZgT1E",
    "trusted": true
   },
   "outputs": [
    {
     "data": {
      "text/plain": [
       "['PUNC',\n",
       " 'PUNC',\n",
       " 'VACT',\n",
       " 'NCMN',\n",
       " 'PUNC',\n",
       " 'PUNC',\n",
       " 'DONM',\n",
       " 'DONM',\n",
       " 'DONM',\n",
       " 'DONM',\n",
       " 'PUNC']"
      ]
     },
     "execution_count": 189,
     "metadata": {},
     "output_type": "execute_result"
    }
   ],
   "source": [
    "predictions = torch.argmax(logits, dim=2)\n",
    "predicted_token_class = [model.config.id2label[t.item()] for t in predictions[0]]\n",
    "predicted_token_class"
   ]
  },
  {
   "cell_type": "code",
   "execution_count": 190,
   "metadata": {
    "execution": {
     "iopub.execute_input": "2025-01-28T04:51:41.003046Z",
     "iopub.status.busy": "2025-01-28T04:51:41.002749Z",
     "iopub.status.idle": "2025-01-28T04:51:41.009542Z",
     "shell.execute_reply": "2025-01-28T04:51:41.008793Z",
     "shell.execute_reply.started": "2025-01-28T04:51:41.003022Z"
    },
    "id": "kJKGbf4Rk0c9",
    "trusted": true
   },
   "outputs": [
    {
     "data": {
      "text/plain": [
       "{0: 'ADVI',\n",
       " 1: 'ADVN',\n",
       " 2: 'ADVP',\n",
       " 3: 'ADVS',\n",
       " 4: 'CFQC',\n",
       " 5: 'CLTV',\n",
       " 6: 'CMTR',\n",
       " 7: 'CMTR@PUNC',\n",
       " 8: 'CNIT',\n",
       " 9: 'CVBL',\n",
       " 10: 'DCNM',\n",
       " 11: 'DDAC',\n",
       " 12: 'DDAN',\n",
       " 13: 'DDAQ',\n",
       " 14: 'DDBQ',\n",
       " 15: 'DIAC',\n",
       " 16: 'DIAQ',\n",
       " 17: 'DIBQ',\n",
       " 18: 'DONM',\n",
       " 19: 'EAFF',\n",
       " 20: 'EITT',\n",
       " 21: 'FIXN',\n",
       " 22: 'FIXV',\n",
       " 23: 'JCMP',\n",
       " 24: 'JCRG',\n",
       " 25: 'JSBR',\n",
       " 26: 'NCMN',\n",
       " 27: 'NCNM',\n",
       " 28: 'NEG',\n",
       " 29: 'NLBL',\n",
       " 30: 'NONM',\n",
       " 31: 'NPRP',\n",
       " 32: 'NTTL',\n",
       " 33: 'PDMN',\n",
       " 34: 'PNTR',\n",
       " 35: 'PPRS',\n",
       " 36: 'PREL',\n",
       " 37: 'PUNC',\n",
       " 38: 'RPRE',\n",
       " 39: 'VACT',\n",
       " 40: 'VATT',\n",
       " 41: 'VSTA',\n",
       " 42: 'XVAE',\n",
       " 43: 'XVAM',\n",
       " 44: 'XVBB',\n",
       " 45: 'XVBM',\n",
       " 46: 'XVMM'}"
      ]
     },
     "execution_count": 190,
     "metadata": {},
     "output_type": "execute_result"
    }
   ],
   "source": [
    "id2label"
   ]
  },
  {
   "cell_type": "code",
   "execution_count": 191,
   "metadata": {
    "execution": {
     "iopub.execute_input": "2025-01-28T04:52:00.370456Z",
     "iopub.status.busy": "2025-01-28T04:52:00.370170Z",
     "iopub.status.idle": "2025-01-28T04:52:00.439209Z",
     "shell.execute_reply": "2025-01-28T04:52:00.438396Z",
     "shell.execute_reply.started": "2025-01-28T04:52:00.370436Z"
    },
    "id": "6OikBqcKTcUY",
    "trusted": true
   },
   "outputs": [
    {
     "name": "stdout",
     "output_type": "stream",
     "text": [
      "tokens : ['<s>', '▁', 'จะว่าไป', 'แล้ว', 'เชิง', 'เทียน', 'ของ', 'ผมก็', 'สวยดี', 'เหมือนกัน', '</s>']\n",
      "predict pos : ['PUNC', 'PUNC', 'JSBR', 'XVAE', 'NCMN', 'NCMN', 'RPRE', 'XVBM', 'VATT', 'ADVN', 'NCMN']\n"
     ]
    }
   ],
   "source": [
    "# Inference\n",
    "# ignore special tokens\n",
    "text = 'จะว่าไปแล้วเชิงเทียนของผมก็สวยดีเหมือนกัน'\n",
    "inputs = tokenizer(text, return_tensors=\"pt\")\n",
    "tokenized_input = tokenizer([text], is_split_into_words=True)\n",
    "tokens = tokenizer.convert_ids_to_tokens(tokenized_input[\"input_ids\"])\n",
    "print('tokens :', tokens)\n",
    "with torch.no_grad():\n",
    "    logits = model(**inputs).logits\n",
    "predictions = torch.argmax(logits, dim=2)\n",
    "predicted_token_class = [model.config.id2label[t.item()] for t in predictions[0]]\n",
    "print('predict pos :', predicted_token_class)"
   ]
  },
  {
   "cell_type": "markdown",
   "metadata": {
    "id": "D-TtwYTCXs2O"
   },
   "source": [
    "**Evaluate model :**\n",
    "\n",
    "The output from the model is a softmax over classes. We choose the maximum class as the answer for evaluation. Again, we will ignore the -100 labels."
   ]
  },
  {
   "cell_type": "code",
   "execution_count": 51,
   "metadata": {
    "execution": {
     "iopub.execute_input": "2025-01-28T09:14:04.557308Z",
     "iopub.status.busy": "2025-01-28T09:14:04.556999Z",
     "iopub.status.idle": "2025-01-28T09:14:04.567144Z",
     "shell.execute_reply": "2025-01-28T09:14:04.566149Z",
     "shell.execute_reply.started": "2025-01-28T09:14:04.557284Z"
    },
    "id": "Hm_adLrcXyOe",
    "trusted": true
   },
   "outputs": [],
   "source": [
    "import pandas as pd\n",
    "from IPython.display import display\n",
    "\n",
    "def evaluation_report(y_true, y_pred, get_only_acc=False):\n",
    "    # retrieve all tags in y_true\n",
    "    tag_set = set()\n",
    "    for sent in y_true:\n",
    "        for tag in sent:\n",
    "            tag_set.add(tag)\n",
    "    for sent in y_pred:\n",
    "        for tag in sent:\n",
    "            tag_set.add(tag)\n",
    "    tag_list = sorted(list(tag_set))\n",
    "\n",
    "    # count correct points\n",
    "    tag_info = dict()\n",
    "    for tag in tag_list:\n",
    "        tag_info[tag] = {'correct_tagged': 0, 'y_true': 0, 'y_pred': 0}\n",
    "\n",
    "    all_correct = 0\n",
    "    all_count = sum([len(sent) for sent in y_true])\n",
    "    speacial_tag = 0\n",
    "    for sent_true, sent_pred in zip(y_true, y_pred):\n",
    "        for tag_true, tag_pred in zip(sent_true, sent_pred):\n",
    "            # pass special token\n",
    "            if tag_true == -100 :\n",
    "                speacial_tag += 1\n",
    "                pass\n",
    "            if tag_true == tag_pred:\n",
    "                tag_info[tag_true]['correct_tagged'] += 1\n",
    "                all_correct += 1\n",
    "            tag_info[tag_true]['y_true'] += 1\n",
    "            tag_info[tag_pred]['y_pred'] += 1\n",
    "    print('speacial_tag :',speacial_tag) # delete number of special token from all_count\n",
    "    accuracy = (all_correct / (all_count-speacial_tag))\n",
    "\n",
    "    # get only accuracy for testing\n",
    "    if get_only_acc:\n",
    "      return accuracy\n",
    "\n",
    "    accuracy *= 100\n",
    "\n",
    "\n",
    "    # summarize and make evaluation result\n",
    "    eval_list = list()\n",
    "    for tag in tag_list:\n",
    "        eval_result = dict()\n",
    "        eval_result['tag'] = tag\n",
    "        eval_result['correct_count'] = tag_info[tag]['correct_tagged']\n",
    "        precision = (tag_info[tag]['correct_tagged']/tag_info[tag]['y_pred'])*100 if tag_info[tag]['y_pred'] else '-'\n",
    "        recall = (tag_info[tag]['correct_tagged']/tag_info[tag]['y_true'])*100 if (tag_info[tag]['y_true'] > 0) else 0\n",
    "        eval_result['precision'] = precision\n",
    "        eval_result['recall'] = recall\n",
    "        eval_result['f1_score'] = (2*precision*recall)/(precision+recall) if (type(precision) is float and recall > 0) else '-'\n",
    "\n",
    "        eval_list.append(eval_result)\n",
    "\n",
    "    eval_list.append({'tag': 'accuracy=%.2f' % accuracy, 'correct_count': '', 'precision': '', 'recall': '', 'f1_score': ''})\n",
    "\n",
    "    df = pd.DataFrame.from_dict(eval_list)\n",
    "    df = df[['tag', 'precision', 'recall', 'f1_score', 'correct_count']]\n",
    "\n",
    "    display(df)\n"
   ]
  },
  {
   "cell_type": "code",
   "execution_count": 193,
   "metadata": {
    "execution": {
     "iopub.execute_input": "2025-01-28T04:52:05.904191Z",
     "iopub.status.busy": "2025-01-28T04:52:05.903918Z",
     "iopub.status.idle": "2025-01-28T04:52:05.908484Z",
     "shell.execute_reply": "2025-01-28T04:52:05.907724Z",
     "shell.execute_reply.started": "2025-01-28T04:52:05.904170Z"
    },
    "id": "x7Lryj2aYCdn",
    "trusted": true
   },
   "outputs": [],
   "source": [
    "# prepare test set\n",
    "test_data = tokenized_orchid[\"test\"]"
   ]
  },
  {
   "cell_type": "code",
   "execution_count": 194,
   "metadata": {
    "execution": {
     "iopub.execute_input": "2025-01-28T04:52:07.056208Z",
     "iopub.status.busy": "2025-01-28T04:52:07.055954Z",
     "iopub.status.idle": "2025-01-28T04:52:07.722728Z",
     "shell.execute_reply": "2025-01-28T04:52:07.721843Z",
     "shell.execute_reply.started": "2025-01-28T04:52:07.056187Z"
    },
    "id": "FGXWNs9RY2Zv",
    "trusted": true
   },
   "outputs": [],
   "source": [
    "# labels for test set\n",
    "y_test = []\n",
    "for inputs in test_data:\n",
    "  y_test.append(inputs['labels'])"
   ]
  },
  {
   "cell_type": "code",
   "execution_count": 195,
   "metadata": {
    "execution": {
     "iopub.execute_input": "2025-01-28T04:52:07.724298Z",
     "iopub.status.busy": "2025-01-28T04:52:07.723998Z",
     "iopub.status.idle": "2025-01-28T04:56:55.443775Z",
     "shell.execute_reply": "2025-01-28T04:56:55.442808Z",
     "shell.execute_reply.started": "2025-01-28T04:52:07.724268Z"
    },
    "id": "U6__09qnX1DW",
    "trusted": true
   },
   "outputs": [],
   "source": [
    "y_pred = []\n",
    "device = 'cuda' if torch.cuda.is_available() else 'cpu'\n",
    "for inputs in test_data:\n",
    "    text = inputs['sentence']\n",
    "    inputs = tokenizer(text, return_tensors=\"pt\")\n",
    "    with torch.no_grad():\n",
    "        pred = model(**inputs).logits\n",
    "        predictions = torch.argmax(pred, dim=2)\n",
    "        # Append padded predictions to y_pred\n",
    "        y_pred.append(predictions.tolist()[0])"
   ]
  },
  {
   "cell_type": "code",
   "execution_count": 196,
   "metadata": {
    "execution": {
     "iopub.execute_input": "2025-01-28T04:56:55.445335Z",
     "iopub.status.busy": "2025-01-28T04:56:55.445068Z",
     "iopub.status.idle": "2025-01-28T04:56:55.452097Z",
     "shell.execute_reply": "2025-01-28T04:56:55.451336Z",
     "shell.execute_reply.started": "2025-01-28T04:56:55.445304Z"
    },
    "id": "yX0BhOe7g3eh",
    "trusted": true
   },
   "outputs": [
    {
     "name": "stdout",
     "output_type": "stream",
     "text": [
      "[37, 29, 39, 26, 26, 26, 37, 37, 26, 26, 26, 41, 37, 37, 26, 26, 39, 26, 37]\n",
      "[-100, 29, 39, 26, 26, 26, 37, -100, 26, 26, 26, 41, 37, -100, 26, 26, 39, 26, -100]\n"
     ]
    }
   ],
   "source": [
    "# check our prediction with label\n",
    "# -100 is special tokens : [<s>, </s>, _]\n",
    "print(y_pred[0])\n",
    "print(y_test[0])"
   ]
  },
  {
   "cell_type": "code",
   "execution_count": 197,
   "metadata": {
    "execution": {
     "iopub.execute_input": "2025-01-28T04:56:55.453238Z",
     "iopub.status.busy": "2025-01-28T04:56:55.452991Z",
     "iopub.status.idle": "2025-01-28T04:56:55.547992Z",
     "shell.execute_reply": "2025-01-28T04:56:55.547182Z",
     "shell.execute_reply.started": "2025-01-28T04:56:55.453218Z"
    },
    "id": "Na0L6NUdgLaE",
    "trusted": true
   },
   "outputs": [
    {
     "name": "stdout",
     "output_type": "stream",
     "text": [
      "speacial_tag : 21039\n"
     ]
    },
    {
     "data": {
      "text/html": [
       "<div>\n",
       "<style scoped>\n",
       "    .dataframe tbody tr th:only-of-type {\n",
       "        vertical-align: middle;\n",
       "    }\n",
       "\n",
       "    .dataframe tbody tr th {\n",
       "        vertical-align: top;\n",
       "    }\n",
       "\n",
       "    .dataframe thead th {\n",
       "        text-align: right;\n",
       "    }\n",
       "</style>\n",
       "<table border=\"1\" class=\"dataframe\">\n",
       "  <thead>\n",
       "    <tr style=\"text-align: right;\">\n",
       "      <th></th>\n",
       "      <th>tag</th>\n",
       "      <th>precision</th>\n",
       "      <th>recall</th>\n",
       "      <th>f1_score</th>\n",
       "      <th>correct_count</th>\n",
       "    </tr>\n",
       "  </thead>\n",
       "  <tbody>\n",
       "    <tr>\n",
       "      <th>0</th>\n",
       "      <td>-100</td>\n",
       "      <td>-</td>\n",
       "      <td>0.0</td>\n",
       "      <td>-</td>\n",
       "      <td>0</td>\n",
       "    </tr>\n",
       "    <tr>\n",
       "      <th>1</th>\n",
       "      <td>0</td>\n",
       "      <td>-</td>\n",
       "      <td>0.0</td>\n",
       "      <td>-</td>\n",
       "      <td>0</td>\n",
       "    </tr>\n",
       "    <tr>\n",
       "      <th>2</th>\n",
       "      <td>1</td>\n",
       "      <td>66.633065</td>\n",
       "      <td>65.445545</td>\n",
       "      <td>66.033966</td>\n",
       "      <td>661</td>\n",
       "    </tr>\n",
       "    <tr>\n",
       "      <th>3</th>\n",
       "      <td>2</td>\n",
       "      <td>-</td>\n",
       "      <td>0.0</td>\n",
       "      <td>-</td>\n",
       "      <td>0</td>\n",
       "    </tr>\n",
       "    <tr>\n",
       "      <th>4</th>\n",
       "      <td>3</td>\n",
       "      <td>100.0</td>\n",
       "      <td>5.172414</td>\n",
       "      <td>9.836066</td>\n",
       "      <td>3</td>\n",
       "    </tr>\n",
       "    <tr>\n",
       "      <th>5</th>\n",
       "      <td>4</td>\n",
       "      <td>-</td>\n",
       "      <td>0.0</td>\n",
       "      <td>-</td>\n",
       "      <td>0</td>\n",
       "    </tr>\n",
       "    <tr>\n",
       "      <th>6</th>\n",
       "      <td>5</td>\n",
       "      <td>54.83871</td>\n",
       "      <td>9.82659</td>\n",
       "      <td>16.666667</td>\n",
       "      <td>17</td>\n",
       "    </tr>\n",
       "    <tr>\n",
       "      <th>7</th>\n",
       "      <td>6</td>\n",
       "      <td>60.537728</td>\n",
       "      <td>97.35007</td>\n",
       "      <td>74.652406</td>\n",
       "      <td>698</td>\n",
       "    </tr>\n",
       "    <tr>\n",
       "      <th>8</th>\n",
       "      <td>7</td>\n",
       "      <td>-</td>\n",
       "      <td>0.0</td>\n",
       "      <td>-</td>\n",
       "      <td>0</td>\n",
       "    </tr>\n",
       "    <tr>\n",
       "      <th>9</th>\n",
       "      <td>8</td>\n",
       "      <td>55.855856</td>\n",
       "      <td>62.944162</td>\n",
       "      <td>59.188544</td>\n",
       "      <td>248</td>\n",
       "    </tr>\n",
       "    <tr>\n",
       "      <th>10</th>\n",
       "      <td>10</td>\n",
       "      <td>86.279926</td>\n",
       "      <td>90.26975</td>\n",
       "      <td>88.229755</td>\n",
       "      <td>937</td>\n",
       "    </tr>\n",
       "    <tr>\n",
       "      <th>11</th>\n",
       "      <td>11</td>\n",
       "      <td>91.684902</td>\n",
       "      <td>91.885965</td>\n",
       "      <td>91.785323</td>\n",
       "      <td>419</td>\n",
       "    </tr>\n",
       "    <tr>\n",
       "      <th>12</th>\n",
       "      <td>12</td>\n",
       "      <td>77.884615</td>\n",
       "      <td>77.884615</td>\n",
       "      <td>77.884615</td>\n",
       "      <td>81</td>\n",
       "    </tr>\n",
       "    <tr>\n",
       "      <th>13</th>\n",
       "      <td>13</td>\n",
       "      <td>-</td>\n",
       "      <td>0.0</td>\n",
       "      <td>-</td>\n",
       "      <td>0</td>\n",
       "    </tr>\n",
       "    <tr>\n",
       "      <th>14</th>\n",
       "      <td>14</td>\n",
       "      <td>83.098592</td>\n",
       "      <td>57.281553</td>\n",
       "      <td>67.816092</td>\n",
       "      <td>59</td>\n",
       "    </tr>\n",
       "    <tr>\n",
       "      <th>15</th>\n",
       "      <td>15</td>\n",
       "      <td>86.725664</td>\n",
       "      <td>90.184049</td>\n",
       "      <td>88.421053</td>\n",
       "      <td>294</td>\n",
       "    </tr>\n",
       "    <tr>\n",
       "      <th>16</th>\n",
       "      <td>16</td>\n",
       "      <td>-</td>\n",
       "      <td>0.0</td>\n",
       "      <td>-</td>\n",
       "      <td>0</td>\n",
       "    </tr>\n",
       "    <tr>\n",
       "      <th>17</th>\n",
       "      <td>17</td>\n",
       "      <td>75.666667</td>\n",
       "      <td>91.532258</td>\n",
       "      <td>82.846715</td>\n",
       "      <td>227</td>\n",
       "    </tr>\n",
       "    <tr>\n",
       "      <th>18</th>\n",
       "      <td>18</td>\n",
       "      <td>70.0</td>\n",
       "      <td>96.794872</td>\n",
       "      <td>81.245196</td>\n",
       "      <td>1057</td>\n",
       "    </tr>\n",
       "    <tr>\n",
       "      <th>19</th>\n",
       "      <td>19</td>\n",
       "      <td>-</td>\n",
       "      <td>0.0</td>\n",
       "      <td>-</td>\n",
       "      <td>0</td>\n",
       "    </tr>\n",
       "    <tr>\n",
       "      <th>20</th>\n",
       "      <td>20</td>\n",
       "      <td>-</td>\n",
       "      <td>0.0</td>\n",
       "      <td>-</td>\n",
       "      <td>0</td>\n",
       "    </tr>\n",
       "    <tr>\n",
       "      <th>21</th>\n",
       "      <td>21</td>\n",
       "      <td>88.016529</td>\n",
       "      <td>85.02994</td>\n",
       "      <td>86.497462</td>\n",
       "      <td>1278</td>\n",
       "    </tr>\n",
       "    <tr>\n",
       "      <th>22</th>\n",
       "      <td>22</td>\n",
       "      <td>74.731183</td>\n",
       "      <td>82.738095</td>\n",
       "      <td>78.531073</td>\n",
       "      <td>139</td>\n",
       "    </tr>\n",
       "    <tr>\n",
       "      <th>23</th>\n",
       "      <td>23</td>\n",
       "      <td>82.55814</td>\n",
       "      <td>74.736842</td>\n",
       "      <td>78.453039</td>\n",
       "      <td>71</td>\n",
       "    </tr>\n",
       "    <tr>\n",
       "      <th>24</th>\n",
       "      <td>24</td>\n",
       "      <td>96.046771</td>\n",
       "      <td>95.72697</td>\n",
       "      <td>95.886604</td>\n",
       "      <td>1725</td>\n",
       "    </tr>\n",
       "    <tr>\n",
       "      <th>25</th>\n",
       "      <td>25</td>\n",
       "      <td>82.795223</td>\n",
       "      <td>85.714286</td>\n",
       "      <td>84.229471</td>\n",
       "      <td>1872</td>\n",
       "    </tr>\n",
       "    <tr>\n",
       "      <th>26</th>\n",
       "      <td>26</td>\n",
       "      <td>84.825217</td>\n",
       "      <td>93.872987</td>\n",
       "      <td>89.120051</td>\n",
       "      <td>29386</td>\n",
       "    </tr>\n",
       "    <tr>\n",
       "      <th>27</th>\n",
       "      <td>27</td>\n",
       "      <td>72.874494</td>\n",
       "      <td>58.536585</td>\n",
       "      <td>64.923354</td>\n",
       "      <td>360</td>\n",
       "    </tr>\n",
       "    <tr>\n",
       "      <th>28</th>\n",
       "      <td>28</td>\n",
       "      <td>96.078431</td>\n",
       "      <td>42.241379</td>\n",
       "      <td>58.682635</td>\n",
       "      <td>49</td>\n",
       "    </tr>\n",
       "    <tr>\n",
       "      <th>29</th>\n",
       "      <td>29</td>\n",
       "      <td>97.993827</td>\n",
       "      <td>98.755832</td>\n",
       "      <td>98.373354</td>\n",
       "      <td>635</td>\n",
       "    </tr>\n",
       "    <tr>\n",
       "      <th>30</th>\n",
       "      <td>31</td>\n",
       "      <td>78.415203</td>\n",
       "      <td>84.309946</td>\n",
       "      <td>81.255805</td>\n",
       "      <td>2187</td>\n",
       "    </tr>\n",
       "    <tr>\n",
       "      <th>31</th>\n",
       "      <td>32</td>\n",
       "      <td>87.272727</td>\n",
       "      <td>97.959184</td>\n",
       "      <td>92.307692</td>\n",
       "      <td>144</td>\n",
       "    </tr>\n",
       "    <tr>\n",
       "      <th>32</th>\n",
       "      <td>33</td>\n",
       "      <td>90.909091</td>\n",
       "      <td>32.608696</td>\n",
       "      <td>48.0</td>\n",
       "      <td>30</td>\n",
       "    </tr>\n",
       "    <tr>\n",
       "      <th>33</th>\n",
       "      <td>34</td>\n",
       "      <td>-</td>\n",
       "      <td>0.0</td>\n",
       "      <td>-</td>\n",
       "      <td>0</td>\n",
       "    </tr>\n",
       "    <tr>\n",
       "      <th>34</th>\n",
       "      <td>35</td>\n",
       "      <td>100.0</td>\n",
       "      <td>20.0</td>\n",
       "      <td>33.333333</td>\n",
       "      <td>18</td>\n",
       "    </tr>\n",
       "    <tr>\n",
       "      <th>35</th>\n",
       "      <td>36</td>\n",
       "      <td>94.295302</td>\n",
       "      <td>83.630952</td>\n",
       "      <td>88.643533</td>\n",
       "      <td>843</td>\n",
       "    </tr>\n",
       "    <tr>\n",
       "      <th>36</th>\n",
       "      <td>37</td>\n",
       "      <td>42.284851</td>\n",
       "      <td>98.151394</td>\n",
       "      <td>59.106068</td>\n",
       "      <td>12318</td>\n",
       "    </tr>\n",
       "    <tr>\n",
       "      <th>37</th>\n",
       "      <td>38</td>\n",
       "      <td>88.48258</td>\n",
       "      <td>89.932689</td>\n",
       "      <td>89.201742</td>\n",
       "      <td>3073</td>\n",
       "    </tr>\n",
       "    <tr>\n",
       "      <th>38</th>\n",
       "      <td>39</td>\n",
       "      <td>82.161362</td>\n",
       "      <td>89.061246</td>\n",
       "      <td>85.472279</td>\n",
       "      <td>6660</td>\n",
       "    </tr>\n",
       "    <tr>\n",
       "      <th>39</th>\n",
       "      <td>40</td>\n",
       "      <td>60.065735</td>\n",
       "      <td>64.122807</td>\n",
       "      <td>62.028002</td>\n",
       "      <td>731</td>\n",
       "    </tr>\n",
       "    <tr>\n",
       "      <th>40</th>\n",
       "      <td>41</td>\n",
       "      <td>74.775478</td>\n",
       "      <td>70.794824</td>\n",
       "      <td>72.730725</td>\n",
       "      <td>1915</td>\n",
       "    </tr>\n",
       "    <tr>\n",
       "      <th>41</th>\n",
       "      <td>42</td>\n",
       "      <td>79.64775</td>\n",
       "      <td>91.255605</td>\n",
       "      <td>85.057471</td>\n",
       "      <td>814</td>\n",
       "    </tr>\n",
       "    <tr>\n",
       "      <th>42</th>\n",
       "      <td>43</td>\n",
       "      <td>92.887624</td>\n",
       "      <td>96.029412</td>\n",
       "      <td>94.432393</td>\n",
       "      <td>653</td>\n",
       "    </tr>\n",
       "    <tr>\n",
       "      <th>43</th>\n",
       "      <td>45</td>\n",
       "      <td>86.051081</td>\n",
       "      <td>91.823899</td>\n",
       "      <td>88.843813</td>\n",
       "      <td>438</td>\n",
       "    </tr>\n",
       "    <tr>\n",
       "      <th>44</th>\n",
       "      <td>46</td>\n",
       "      <td>89.666667</td>\n",
       "      <td>84.326019</td>\n",
       "      <td>86.914378</td>\n",
       "      <td>269</td>\n",
       "    </tr>\n",
       "    <tr>\n",
       "      <th>45</th>\n",
       "      <td>accuracy=90.15</td>\n",
       "      <td></td>\n",
       "      <td></td>\n",
       "      <td></td>\n",
       "      <td></td>\n",
       "    </tr>\n",
       "  </tbody>\n",
       "</table>\n",
       "</div>"
      ],
      "text/plain": [
       "               tag  precision     recall   f1_score correct_count\n",
       "0             -100          -        0.0          -             0\n",
       "1                0          -        0.0          -             0\n",
       "2                1  66.633065  65.445545  66.033966           661\n",
       "3                2          -        0.0          -             0\n",
       "4                3      100.0   5.172414   9.836066             3\n",
       "5                4          -        0.0          -             0\n",
       "6                5   54.83871    9.82659  16.666667            17\n",
       "7                6  60.537728   97.35007  74.652406           698\n",
       "8                7          -        0.0          -             0\n",
       "9                8  55.855856  62.944162  59.188544           248\n",
       "10              10  86.279926   90.26975  88.229755           937\n",
       "11              11  91.684902  91.885965  91.785323           419\n",
       "12              12  77.884615  77.884615  77.884615            81\n",
       "13              13          -        0.0          -             0\n",
       "14              14  83.098592  57.281553  67.816092            59\n",
       "15              15  86.725664  90.184049  88.421053           294\n",
       "16              16          -        0.0          -             0\n",
       "17              17  75.666667  91.532258  82.846715           227\n",
       "18              18       70.0  96.794872  81.245196          1057\n",
       "19              19          -        0.0          -             0\n",
       "20              20          -        0.0          -             0\n",
       "21              21  88.016529   85.02994  86.497462          1278\n",
       "22              22  74.731183  82.738095  78.531073           139\n",
       "23              23   82.55814  74.736842  78.453039            71\n",
       "24              24  96.046771   95.72697  95.886604          1725\n",
       "25              25  82.795223  85.714286  84.229471          1872\n",
       "26              26  84.825217  93.872987  89.120051         29386\n",
       "27              27  72.874494  58.536585  64.923354           360\n",
       "28              28  96.078431  42.241379  58.682635            49\n",
       "29              29  97.993827  98.755832  98.373354           635\n",
       "30              31  78.415203  84.309946  81.255805          2187\n",
       "31              32  87.272727  97.959184  92.307692           144\n",
       "32              33  90.909091  32.608696       48.0            30\n",
       "33              34          -        0.0          -             0\n",
       "34              35      100.0       20.0  33.333333            18\n",
       "35              36  94.295302  83.630952  88.643533           843\n",
       "36              37  42.284851  98.151394  59.106068         12318\n",
       "37              38   88.48258  89.932689  89.201742          3073\n",
       "38              39  82.161362  89.061246  85.472279          6660\n",
       "39              40  60.065735  64.122807  62.028002           731\n",
       "40              41  74.775478  70.794824  72.730725          1915\n",
       "41              42   79.64775  91.255605  85.057471           814\n",
       "42              43  92.887624  96.029412  94.432393           653\n",
       "43              45  86.051081  91.823899  88.843813           438\n",
       "44              46  89.666667  84.326019  86.914378           269\n",
       "45  accuracy=90.15                                               "
      ]
     },
     "metadata": {},
     "output_type": "display_data"
    }
   ],
   "source": [
    "evaluation_report(y_test, y_pred)"
   ]
  },
  {
   "cell_type": "markdown",
   "metadata": {
    "id": "F0BZzVgjm4l_"
   },
   "source": [
    "# Other Pretrained model"
   ]
  },
  {
   "cell_type": "markdown",
   "metadata": {
    "id": "ssZdIst48AwH"
   },
   "source": [
    "In this section, we will experiment by fine-tuning other pretrained models, such as airesearch/wangchanberta-base-wiki-newmm, to see how about their performance.\n",
    "\n",
    "Since each model uses a different word-tokenization method.\n",
    "for example, **airesearch/wangchanberta-base-wiki-newmm uses newmm**,\n",
    "while **airesearch/wangchanberta-base-att-spm-uncased uses SentencePiece**.\n",
    "please try fine-tuning and compare the performance of these models."
   ]
  },
  {
   "cell_type": "markdown",
   "metadata": {
    "id": "GUCWuhrl91mj"
   },
   "source": [
    "### #TODO 3"
   ]
  },
  {
   "cell_type": "code",
   "execution_count": 38,
   "metadata": {
    "execution": {
     "iopub.execute_input": "2025-01-28T08:57:28.134126Z",
     "iopub.status.busy": "2025-01-28T08:57:28.133838Z",
     "iopub.status.idle": "2025-01-28T08:57:30.074828Z",
     "shell.execute_reply": "2025-01-28T08:57:30.074080Z",
     "shell.execute_reply.started": "2025-01-28T08:57:28.134103Z"
    },
    "id": "9etT-A_anBfi",
    "trusted": true
   },
   "outputs": [
    {
     "data": {
      "application/vnd.jupyter.widget-view+json": {
       "model_id": "5a300e5cf95842a6ae6d3e433e60a5ee",
       "version_major": 2,
       "version_minor": 0
      },
      "text/plain": [
       "newmm.json:   0%|          | 0.00/3.56M [00:00<?, ?B/s]"
      ]
     },
     "metadata": {},
     "output_type": "display_data"
    },
    {
     "data": {
      "application/vnd.jupyter.widget-view+json": {
       "model_id": "5a2492cf773d41a29a5addaf2fcdced6",
       "version_major": 2,
       "version_minor": 0
      },
      "text/plain": [
       "config.json:   0%|          | 0.00/559 [00:00<?, ?B/s]"
      ]
     },
     "metadata": {},
     "output_type": "display_data"
    },
    {
     "name": "stderr",
     "output_type": "stream",
     "text": [
      "The tokenizer class you load from this checkpoint is not the same type as the class this function is called from. It may result in unexpected tokenization. \n",
      "The tokenizer class you load from this checkpoint is 'RobertaTokenizer'. \n",
      "The class this function is called from is 'ThaiWordsNewmmTokenizer'.\n",
      "The tokenizer class you load from this checkpoint is not the same type as the class this function is called from. It may result in unexpected tokenization. \n",
      "The tokenizer class you load from this checkpoint is 'RobertaTokenizer'. \n",
      "The class this function is called from is 'ThaiWordsNewmmTokenizer'.\n"
     ]
    }
   ],
   "source": [
    "model_names = [\n",
    "    'airesearch/wangchanberta-base-att-spm-uncased',\n",
    "    'airesearch/wangchanberta-base-wiki-newmm',\n",
    "    'airesearch/wangchanberta-base-wiki-ssg',\n",
    "    'airesearch/wangchanberta-base-wiki-sefr',\n",
    "    'airesearch/wangchanberta-base-wiki-spm',\n",
    "]\n",
    "\n",
    "#@title Choose Pretrained Model\n",
    "model_name = \"airesearch/wangchanberta-base-wiki-newmm\" #@param [\"airesearch/wangchanberta-base-att-spm-uncased\", \"airesearch/wangchanberta-base-wiki-newmm\", \"airesearch/wangchanberta-base-wiki-syllable\", \"airesearch/wangchanberta-base-wiki-sefr\", \"airesearch/wangchanberta-base-wiki-spm\"]\n",
    "\n",
    "#create tokenizer\n",
    "tokenizer = Tokenizer(model_name).from_pretrained(\n",
    "                f'{model_name}',\n",
    "                revision='main',\n",
    "                model_max_length=416,)\n"
   ]
  },
  {
   "cell_type": "code",
   "execution_count": 39,
   "metadata": {
    "execution": {
     "iopub.execute_input": "2025-01-28T08:57:30.075979Z",
     "iopub.status.busy": "2025-01-28T08:57:30.075737Z",
     "iopub.status.idle": "2025-01-28T08:57:30.088172Z",
     "shell.execute_reply": "2025-01-28T08:57:30.087502Z",
     "shell.execute_reply.started": "2025-01-28T08:57:30.075946Z"
    },
    "id": "LFXdV8V5nGk2",
    "trusted": true
   },
   "outputs": [
    {
     "name": "stdout",
     "output_type": "stream",
     "text": [
      "sentence : โดยพิจารณาจากพจนานุกรมภาษาคู่ (bilingual transfer dictionary)\n",
      "tokens : ['<s>', 'โดย', 'พิจารณา', 'จาก', 'พจนานุกรม', 'ภาษา', 'คู่', '<_>', '<unk>', '<_>', 'transfer', '<_>', 'dictionary', ')', '</s>']\n",
      "label tokens : ['โดย', 'พิจารณา', 'จาก', 'พจนานุกรม', 'ภาษา', 'คู่', ' ', '(', 'bilingual transfer dictionary', ')']\n"
     ]
    }
   ],
   "source": [
    "example = orchidl[\"train\"][1899]\n",
    "print('sentence :', example[\"sentence\"])\n",
    "tokenized_input = tokenizer([example[\"sentence\"]], is_split_into_words=True)\n",
    "tokens = tokenizer.convert_ids_to_tokens(tokenized_input[\"input_ids\"])\n",
    "print('tokens :',tokens)\n",
    "print('label tokens :', example[\"label_tokens\"])"
   ]
  },
  {
   "cell_type": "markdown",
   "metadata": {
    "id": "I7QMwcbK5Ibj"
   },
   "source": [
    "It's the same problem as above.\n",
    "\n",
    "`**Warning: Can we use same function as above ?**`\n",
    "\n",
    "`**Warning: Please beware of <unk>, an unknown word token.**`\n",
    "\n",
    "`**Warning: Please be careful of \" ำ \", the 'am' vowel. WangchanBERTa's internal preprocessing replaces all \" ำ \" to 'ํ' and 'า'**`"
   ]
  },
  {
   "cell_type": "code",
   "execution_count": 40,
   "metadata": {
    "execution": {
     "iopub.execute_input": "2025-01-28T08:57:30.089675Z",
     "iopub.status.busy": "2025-01-28T08:57:30.089416Z",
     "iopub.status.idle": "2025-01-28T08:57:30.098669Z",
     "shell.execute_reply": "2025-01-28T08:57:30.098010Z",
     "shell.execute_reply.started": "2025-01-28T08:57:30.089656Z"
    },
    "id": "SI0fUulE5MH3",
    "trusted": true
   },
   "outputs": [],
   "source": [
    "def majority_vote_pos(examples):\n",
    "\n",
    "    ####################################################################################################################\n",
    "    # TO DO: Since the tokens from the output of the pretrained tokenizer\n",
    "    # do not match the tokens in the label tokens of the dataset,\n",
    "    # the task is to create a function to determine the POS tags of the tokens generated by the pretrained tokenizer.\n",
    "    # This should be done by referencing the POS tags in the label tokens. If a token partially overlaps with others,\n",
    "    # the POS tag from the segment with the greater number of characters should be assigned.\n",
    "    #\n",
    "    # Example :\n",
    "    # \"การประชุม\" (9 chars) is formed from \"การ\" (3 chars) + \"ประชุม\" (6 chars).\n",
    "    # \"การ\" has a POS tag of 21,\n",
    "    # and \"ประชุม\" has a POS tag of 39.\n",
    "    # Therefore, the POS tag for \"การประชุม\" is 39,\n",
    "    # as \"การประชุม\" is derived more from the \"ประชุม\" part than from the \"การ\" part.\n",
    "    #\n",
    "    # 'ทางวิชาการ' (10 chars) is formed from 'ทาง' (3 chars) + 'วิชาการ' (7 chars)\n",
    "    # \"ทาง\" has a POS tag of 26,\n",
    "    # and \"วิชาการ\" has a POS tag of 2.\n",
    "    # Therefore, the POS tag for \"ทางวิชาการ\" is 2,\n",
    "    # as \"ทางวิชาการ\" is derived more from the \"ทาง\" part than from the \"วิชาการ\" part.\n",
    "\n",
    "    # FILL CODE HERE\n",
    "    # tokenize word by pretrained tokenizer\n",
    "    tokenized_inputs = tokenizer([examples[\"sentence\"]], is_split_into_words=True)\n",
    "    label_tokens = examples[\"label_tokens\"]\n",
    "    pos_tags = examples[\"pos_tags\"]\n",
    "    new_pos_result = []\n",
    "\n",
    "    new_tokens = tokenizer.convert_ids_to_tokens(tokenized_inputs[\"input_ids\"])\n",
    "\n",
    "    label_idx = 0\n",
    "    i = 0\n",
    "    \n",
    "    # for (token, tag) in zip(label_tokens, pos_tags):\n",
    "    #     print(f\"'{token}': {tag}\")\n",
    "    # print(\"--------\")\n",
    "    \n",
    "    try:\n",
    "        for t in new_tokens:\n",
    "            if t in [\"<s>\", \"</s>\", \"▁\"]:\n",
    "                new_pos_result.append(-100)\n",
    "                continue\n",
    "            if t == \"<unk>\":\n",
    "                new_pos_result.append(-100)\n",
    "                # label_idx += 1\n",
    "                continue\n",
    "                \n",
    "            buffer = \"\"\n",
    "            weights = {}\n",
    "            t = t.replace('ํา', \"ำ\")\n",
    "            t = t.replace(\"<_>\", \" \")\n",
    "            if t[0] == \"▁\":\n",
    "                t = t[1:]\n",
    "            while label_tokens[label_idx][i] != t[0]:\n",
    "                i += 1\n",
    "                if i == len(label_tokens[label_idx]):\n",
    "                    label_idx += 1\n",
    "                    i = 0\n",
    "            j = 1      \n",
    "            # print(f\"BEGIN t: '{t}'\")\n",
    "            for a in range(30):\n",
    "                buffer += label_tokens[label_idx][i]\n",
    "                # print(f\"buffer: {buffer}, t: {t[:j]}\")\n",
    "                \n",
    "                if buffer != t[:j]:\n",
    "                    buffer = \"\"\n",
    "                    j = 1\n",
    "                    continue\n",
    "                \n",
    "                j += 1\n",
    "                if pos_tags[label_idx] not in weights:\n",
    "                    weights[pos_tags[label_idx]] = 0\n",
    "                weights[pos_tags[label_idx]] += 1\n",
    "                i += 1\n",
    "                if i == len(label_tokens[label_idx]):\n",
    "                    label_idx += 1\n",
    "                    i = 0\n",
    "                if buffer == t:\n",
    "                    break\n",
    "                    \n",
    "            # for (token, tag) in zip(new_tokens, new_pos_result):\n",
    "            #     print(f\"'{token}': {tag}\")\n",
    "            # print(weights)\n",
    "            max_key = max(weights, key=weights.get)\n",
    "            new_pos_result.append(max_key)\n",
    "    except IndexError:\n",
    "        print(examples)\n",
    "        for (token, tag) in zip(label_tokens, pos_tags):\n",
    "            print(f\"'{token}': {tag}\")\n",
    "        print(\"--------\")\n",
    "        for (token, tag) in zip(new_tokens, new_pos_result):\n",
    "            print(f\"'{token}': {tag}\")\n",
    "        # print(new_tokens, \"\\n\", label_tokens, \"\\n\", pos_tags)\n",
    "        # print(new_pos_result)\n",
    "        raise ValueError(\"Age cannot be negative!\")\n",
    "\n",
    "    tokenized_inputs['tokens'] = new_tokens\n",
    "    tokenized_inputs['labels'] = new_pos_result\n",
    "\n",
    "    return tokenized_inputs\n",
    "\n",
    "    ####################################################################################################################"
   ]
  },
  {
   "cell_type": "code",
   "execution_count": 41,
   "metadata": {
    "execution": {
     "iopub.execute_input": "2025-01-28T08:57:30.099909Z",
     "iopub.status.busy": "2025-01-28T08:57:30.099627Z",
     "iopub.status.idle": "2025-01-28T08:57:48.720973Z",
     "shell.execute_reply": "2025-01-28T08:57:48.720108Z",
     "shell.execute_reply.started": "2025-01-28T08:57:30.099881Z"
    },
    "id": "O5n4veYxo3rR",
    "trusted": true
   },
   "outputs": [
    {
     "name": "stderr",
     "output_type": "stream",
     "text": [
      "Parameter 'function'=<function majority_vote_pos at 0x794c7452feb0> of the transform datasets.arrow_dataset.Dataset._map_single couldn't be hashed properly, a random hash was used instead. Make sure your transforms and parameters are serializable with pickle or dill for the dataset fingerprinting and caching to work. If you reuse this transform, the caching mechanism will consider it to be different from the previous calls and recompute everything. This warning is only showed once. Subsequent hashing failures won't be showed.\n"
     ]
    },
    {
     "data": {
      "application/vnd.jupyter.widget-view+json": {
       "model_id": "79efc218399d414190338e13d22a6118",
       "version_major": 2,
       "version_minor": 0
      },
      "text/plain": [
       "Map:   0%|          | 0/18500 [00:00<?, ? examples/s]"
      ]
     },
     "metadata": {},
     "output_type": "display_data"
    },
    {
     "data": {
      "application/vnd.jupyter.widget-view+json": {
       "model_id": "ff60279d2b5149f887477ad5266bc5a4",
       "version_major": 2,
       "version_minor": 0
      },
      "text/plain": [
       "Map:   0%|          | 0/4625 [00:00<?, ? examples/s]"
      ]
     },
     "metadata": {},
     "output_type": "display_data"
    }
   ],
   "source": [
    "tokenized_orchid = orchidl.map(majority_vote_pos)"
   ]
  },
  {
   "cell_type": "code",
   "execution_count": 42,
   "metadata": {
    "execution": {
     "iopub.execute_input": "2025-01-28T08:57:48.722366Z",
     "iopub.status.busy": "2025-01-28T08:57:48.722147Z",
     "iopub.status.idle": "2025-01-28T08:57:48.731223Z",
     "shell.execute_reply": "2025-01-28T08:57:48.730427Z",
     "shell.execute_reply.started": "2025-01-28T08:57:48.722346Z"
    },
    "id": "ashRh72szWiM",
    "trusted": true
   },
   "outputs": [
    {
     "name": "stdout",
     "output_type": "stream",
     "text": [
      "id : 1899\n",
      "label_tokens : ['โดย', 'พิจารณา', 'จาก', 'พจนานุกรม', 'ภาษา', 'คู่', ' ', '(', 'bilingual transfer dictionary', ')']\n",
      "pos_tags : [25, 39, 38, 26, 26, 5, 37, 37, 26, 37]\n",
      "sentence : โดยพิจารณาจากพจนานุกรมภาษาคู่ (bilingual transfer dictionary)\n",
      "input_ids : [0, 80, 3973, 45, 12252, 3496, 592, 5, 3, 5, 30055, 5, 63190, 178, 2]\n",
      "token_type_ids : [0, 0, 0, 0, 0, 0, 0, 0, 0, 0, 0, 0, 0, 0, 0]\n",
      "attention_mask : [1, 1, 1, 1, 1, 1, 1, 1, 1, 1, 1, 1, 1, 1, 1]\n",
      "tokens : ['<s>', 'โดย', 'พิจารณา', 'จาก', 'พจนานุกรม', 'ภาษา', 'คู่', '<_>', '<unk>', '<_>', 'transfer', '<_>', 'dictionary', ')', '</s>']\n",
      "labels : [-100, 25, 39, 38, 26, 26, 5, 37, -100, 26, 26, 26, 26, 37, -100]\n"
     ]
    }
   ],
   "source": [
    "# hard test case\n",
    "example = tokenized_orchid[\"train\"][1899]\n",
    "for i in example :\n",
    "    print(i, \":\", example[i])"
   ]
  },
  {
   "cell_type": "code",
   "execution_count": 43,
   "metadata": {
    "execution": {
     "iopub.execute_input": "2025-01-28T08:57:48.732574Z",
     "iopub.status.busy": "2025-01-28T08:57:48.732286Z",
     "iopub.status.idle": "2025-01-28T08:58:00.113634Z",
     "shell.execute_reply": "2025-01-28T08:58:00.112949Z",
     "shell.execute_reply.started": "2025-01-28T08:57:48.732552Z"
    },
    "id": "7AL0Vqbv7cfb",
    "trusted": true
   },
   "outputs": [
    {
     "name": "stderr",
     "output_type": "stream",
     "text": [
      "/usr/local/lib/python3.10/dist-packages/huggingface_hub/file_download.py:795: FutureWarning: `resume_download` is deprecated and will be removed in version 1.0.0. Downloads always resume when possible. If you want to force a new download, use `force_download=True`.\n",
      "  warnings.warn(\n"
     ]
    },
    {
     "data": {
      "application/vnd.jupyter.widget-view+json": {
       "model_id": "49858b699a48476abdc47a96f3b012be",
       "version_major": 2,
       "version_minor": 0
      },
      "text/plain": [
       "pytorch_model.bin:   0%|          | 0.00/646M [00:00<?, ?B/s]"
      ]
     },
     "metadata": {},
     "output_type": "display_data"
    },
    {
     "name": "stderr",
     "output_type": "stream",
     "text": [
      "/usr/local/lib/python3.10/dist-packages/transformers/modeling_utils.py:463: FutureWarning: You are using `torch.load` with `weights_only=False` (the current default value), which uses the default pickle module implicitly. It is possible to construct malicious pickle data which will execute arbitrary code during unpickling (See https://github.com/pytorch/pytorch/blob/main/SECURITY.md#untrusted-models for more details). In a future release, the default value for `weights_only` will be flipped to `True`. This limits the functions that could be executed during unpickling. Arbitrary objects will no longer be allowed to be loaded via this mode unless they are explicitly allowlisted by the user via `torch.serialization.add_safe_globals`. We recommend you start setting `weights_only=True` for any use case where you don't have full control of the loaded file. Please open an issue on GitHub for any issues related to this experimental feature.\n",
      "  return torch.load(checkpoint_file, map_location=\"cpu\")\n",
      "Some weights of the model checkpoint at airesearch/wangchanberta-base-wiki-newmm were not used when initializing RobertaForTokenClassification: ['lm_head.decoder.weight', 'lm_head.bias', 'lm_head.layer_norm.weight', 'lm_head.layer_norm.bias', 'lm_head.dense.weight', 'lm_head.dense.bias', 'lm_head.decoder.bias']\n",
      "- This IS expected if you are initializing RobertaForTokenClassification from the checkpoint of a model trained on another task or with another architecture (e.g. initializing a BertForSequenceClassification model from a BertForPreTraining model).\n",
      "- This IS NOT expected if you are initializing RobertaForTokenClassification from the checkpoint of a model that you expect to be exactly identical (initializing a BertForSequenceClassification model from a BertForSequenceClassification model).\n",
      "Some weights of RobertaForTokenClassification were not initialized from the model checkpoint at airesearch/wangchanberta-base-wiki-newmm and are newly initialized: ['classifier.bias', 'classifier.weight']\n",
      "You should probably TRAIN this model on a down-stream task to be able to use it for predictions and inference.\n"
     ]
    }
   ],
   "source": [
    "model_names = [\n",
    "    'wangchanberta-base-att-spm-uncased',\n",
    "    'wangchanberta-base-wiki-newmm',\n",
    "    'wangchanberta-base-wiki-ssg',\n",
    "    'wangchanberta-base-wiki-sefr',\n",
    "    'wangchanberta-base-wiki-spm',\n",
    "]\n",
    "\n",
    "#@title Choose Pretrained Model\n",
    "model_name = \"wangchanberta-base-wiki-newmm\" #@param [\"wangchanberta-base-att-spm-uncased\", \"wangchanberta-base-wiki-newmm\", \"wangchanberta-base-wiki-syllable\", \"wangchanberta-base-wiki-sefr\", \"wangchanberta-base-wiki-spm\"]\n",
    "\n",
    "#create model\n",
    "model = AutoModelForTokenClassification.from_pretrained(\n",
    "    f\"airesearch/{model_name}\",\n",
    "    revision='main',\n",
    "    num_labels=47, id2label=id2label, label2id=label2id\n",
    ")\n"
   ]
  },
  {
   "cell_type": "code",
   "execution_count": 44,
   "metadata": {
    "execution": {
     "iopub.execute_input": "2025-01-28T08:58:00.115095Z",
     "iopub.status.busy": "2025-01-28T08:58:00.114494Z",
     "iopub.status.idle": "2025-01-28T08:58:00.124218Z",
     "shell.execute_reply": "2025-01-28T08:58:00.123612Z",
     "shell.execute_reply.started": "2025-01-28T08:58:00.115069Z"
    },
    "id": "pWTh0bMfP70g",
    "trusted": true
   },
   "outputs": [],
   "source": [
    "data_collator = DataCollatorForTokenClassification(tokenizer=tokenizer)"
   ]
  },
  {
   "cell_type": "markdown",
   "metadata": {
    "id": "QkhYDS4q7oxK"
   },
   "source": [
    "### #TODO 4"
   ]
  },
  {
   "cell_type": "markdown",
   "metadata": {
    "id": "XVdITM5E7tQ5"
   },
   "source": [
    "Fine-tuning other pretrained model with our orchid corpus."
   ]
  },
  {
   "cell_type": "code",
   "execution_count": 45,
   "metadata": {
    "execution": {
     "iopub.execute_input": "2025-01-28T08:58:00.125741Z",
     "iopub.status.busy": "2025-01-28T08:58:00.125537Z",
     "iopub.status.idle": "2025-01-28T09:07:18.190621Z",
     "shell.execute_reply": "2025-01-28T09:07:18.189752Z",
     "shell.execute_reply.started": "2025-01-28T08:58:00.125723Z"
    },
    "id": "hBHlUamr7syk",
    "trusted": true
   },
   "outputs": [
    {
     "name": "stderr",
     "output_type": "stream",
     "text": [
      "/usr/local/lib/python3.10/dist-packages/huggingface_hub/utils/_deprecation.py:131: FutureWarning: 'Repository' (from 'huggingface_hub.repository') is deprecated and will be removed from version '1.0'. Please prefer the http-based alternatives instead. Given its large adoption in legacy code, the complete removal is only planned on next major release.\n",
      "For more details, please read https://huggingface.co/docs/huggingface_hub/concepts/git_vs_http.\n",
      "  warnings.warn(warning_message, FutureWarning)\n",
      "Cloning https://huggingface.co/bookpanda/pos-base-wiki-newmm into local empty directory.\n"
     ]
    },
    {
     "data": {
      "application/vnd.jupyter.widget-view+json": {
       "model_id": "a991447d72af49e5bb0a3ac9dbbf6560",
       "version_major": 2,
       "version_minor": 0
      },
      "text/plain": [
       "Download file pytorch_model.bin:   0%|          | 8.00k/613M [00:00<?, ?B/s]"
      ]
     },
     "metadata": {},
     "output_type": "display_data"
    },
    {
     "data": {
      "application/vnd.jupyter.widget-view+json": {
       "model_id": "d7dd80db560b4d98a004446b9ed2f390",
       "version_major": 2,
       "version_minor": 0
      },
      "text/plain": [
       "Download file training_args.bin: 100%|##########| 4.30k/4.30k [00:00<?, ?B/s]"
      ]
     },
     "metadata": {},
     "output_type": "display_data"
    },
    {
     "data": {
      "application/vnd.jupyter.widget-view+json": {
       "model_id": "8c30e20ab7f34e07b887b62538017db0",
       "version_major": 2,
       "version_minor": 0
      },
      "text/plain": [
       "Download file runs/Jan28_07-50-06_530b5c6e22dc/events.out.tfevents.1738050613.530b5c6e22dc.31.0: 100%|########…"
      ]
     },
     "metadata": {},
     "output_type": "display_data"
    },
    {
     "data": {
      "application/vnd.jupyter.widget-view+json": {
       "model_id": "efbadab1eed94deb87f089650ac8d340",
       "version_major": 2,
       "version_minor": 0
      },
      "text/plain": [
       "Clean file training_args.bin:  23%|##3       | 1.00k/4.30k [00:00<?, ?B/s]"
      ]
     },
     "metadata": {},
     "output_type": "display_data"
    },
    {
     "data": {
      "application/vnd.jupyter.widget-view+json": {
       "model_id": "9d1250a1ea43450781b9cff11ba6d188",
       "version_major": 2,
       "version_minor": 0
      },
      "text/plain": [
       "Clean file runs/Jan28_07-50-06_530b5c6e22dc/events.out.tfevents.1738050613.530b5c6e22dc.31.0:  17%|#7        |…"
      ]
     },
     "metadata": {},
     "output_type": "display_data"
    },
    {
     "data": {
      "application/vnd.jupyter.widget-view+json": {
       "model_id": "197bd8318f2e42409d280e66952fd5ad",
       "version_major": 2,
       "version_minor": 0
      },
      "text/plain": [
       "Clean file pytorch_model.bin:   0%|          | 1.00k/613M [00:00<?, ?B/s]"
      ]
     },
     "metadata": {},
     "output_type": "display_data"
    },
    {
     "name": "stderr",
     "output_type": "stream",
     "text": [
      "/usr/local/lib/python3.10/dist-packages/transformers/optimization.py:411: FutureWarning: This implementation of AdamW is deprecated and will be removed in a future version. Use the PyTorch implementation torch.optim.AdamW instead, or set `no_deprecation_warning=True` to disable this warning\n",
      "  warnings.warn(\n"
     ]
    },
    {
     "data": {
      "text/html": [
       "Tracking run with wandb version 0.19.1"
      ],
      "text/plain": [
       "<IPython.core.display.HTML object>"
      ]
     },
     "metadata": {},
     "output_type": "display_data"
    },
    {
     "data": {
      "text/html": [
       "Run data is saved locally in <code>/kaggle/working/wandb/run-20250128_090201-w5kczu12</code>"
      ],
      "text/plain": [
       "<IPython.core.display.HTML object>"
      ]
     },
     "metadata": {},
     "output_type": "display_data"
    },
    {
     "data": {
      "text/html": [
       "Syncing run <strong><a href='https://wandb.ai/bookpanda/huggingface/runs/w5kczu12' target=\"_blank\">rich-universe-3</a></strong> to <a href='https://wandb.ai/bookpanda/huggingface' target=\"_blank\">Weights & Biases</a> (<a href='https://wandb.me/developer-guide' target=\"_blank\">docs</a>)<br>"
      ],
      "text/plain": [
       "<IPython.core.display.HTML object>"
      ]
     },
     "metadata": {},
     "output_type": "display_data"
    },
    {
     "data": {
      "text/html": [
       " View project at <a href='https://wandb.ai/bookpanda/huggingface' target=\"_blank\">https://wandb.ai/bookpanda/huggingface</a>"
      ],
      "text/plain": [
       "<IPython.core.display.HTML object>"
      ]
     },
     "metadata": {},
     "output_type": "display_data"
    },
    {
     "data": {
      "text/html": [
       " View run at <a href='https://wandb.ai/bookpanda/huggingface/runs/w5kczu12' target=\"_blank\">https://wandb.ai/bookpanda/huggingface/runs/w5kczu12</a>"
      ],
      "text/plain": [
       "<IPython.core.display.HTML object>"
      ]
     },
     "metadata": {},
     "output_type": "display_data"
    },
    {
     "name": "stderr",
     "output_type": "stream",
     "text": [
      "/usr/local/lib/python3.10/dist-packages/torch/nn/parallel/_functions.py:71: UserWarning: Was asked to gather along dimension 0, but all input tensors were scalars; will instead unsqueeze and return a vector.\n",
      "  warnings.warn(\n"
     ]
    },
    {
     "data": {
      "text/html": [
       "\n",
       "    <div>\n",
       "      \n",
       "      <progress value='580' max='580' style='width:300px; height:20px; vertical-align: middle;'></progress>\n",
       "      [580/580 05:07, Epoch 2/2]\n",
       "    </div>\n",
       "    <table border=\"1\" class=\"dataframe\">\n",
       "  <thead>\n",
       " <tr style=\"text-align: left;\">\n",
       "      <th>Step</th>\n",
       "      <th>Training Loss</th>\n",
       "    </tr>\n",
       "  </thead>\n",
       "  <tbody>\n",
       "    <tr>\n",
       "      <td>500</td>\n",
       "      <td>0.548700</td>\n",
       "    </tr>\n",
       "  </tbody>\n",
       "</table><p>"
      ],
      "text/plain": [
       "<IPython.core.display.HTML object>"
      ]
     },
     "metadata": {},
     "output_type": "display_data"
    },
    {
     "name": "stderr",
     "output_type": "stream",
     "text": [
      "/usr/local/lib/python3.10/dist-packages/torch/nn/parallel/_functions.py:71: UserWarning: Was asked to gather along dimension 0, but all input tensors were scalars; will instead unsqueeze and return a vector.\n",
      "  warnings.warn(\n"
     ]
    },
    {
     "data": {
      "text/plain": [
       "TrainOutput(global_step=580, training_loss=0.5160990747912176, metrics={'train_runtime': 316.3718, 'train_samples_per_second': 116.951, 'train_steps_per_second': 1.833, 'total_flos': 1051238545679160.0, 'train_loss': 0.5160990747912176, 'epoch': 2.0})"
      ]
     },
     "execution_count": 45,
     "metadata": {},
     "output_type": "execute_result"
    }
   ],
   "source": [
    "training_args = TrainingArguments(\n",
    "    #########################\n",
    "    output_dir=\"pos-base-wiki-newmm\",\n",
    "    learning_rate=2e-5,\n",
    "    per_device_train_batch_size=32,\n",
    "    per_device_eval_batch_size=32,\n",
    "    num_train_epochs=2,\n",
    "    weight_decay=0.01,\n",
    "    push_to_hub=True\n",
    "    #########################\n",
    ")\n",
    "\n",
    "trainer = Trainer(\n",
    "    #########################\n",
    "    model=model,\n",
    "    args=training_args,\n",
    "    train_dataset=tokenized_orchid[\"train\"],\n",
    "    eval_dataset=tokenized_orchid[\"test\"],\n",
    "    data_collator=data_collator,\n",
    "    compute_metrics=compute_metrics,\n",
    "    ########################\n",
    ")\n",
    "\n",
    "trainer.train()"
   ]
  },
  {
   "cell_type": "code",
   "execution_count": 53,
   "metadata": {
    "execution": {
     "iopub.execute_input": "2025-01-28T09:16:21.362920Z",
     "iopub.status.busy": "2025-01-28T09:16:21.362488Z",
     "iopub.status.idle": "2025-01-28T09:16:23.385729Z",
     "shell.execute_reply": "2025-01-28T09:16:23.385034Z",
     "shell.execute_reply.started": "2025-01-28T09:16:21.362889Z"
    },
    "trusted": true
   },
   "outputs": [
    {
     "name": "stderr",
     "output_type": "stream",
     "text": [
      "/usr/local/lib/python3.10/dist-packages/huggingface_hub/file_download.py:795: FutureWarning: `resume_download` is deprecated and will be removed in version 1.0.0. Downloads always resume when possible. If you want to force a new download, use `force_download=True`.\n",
      "  warnings.warn(\n",
      "/usr/local/lib/python3.10/dist-packages/transformers/modeling_utils.py:463: FutureWarning: You are using `torch.load` with `weights_only=False` (the current default value), which uses the default pickle module implicitly. It is possible to construct malicious pickle data which will execute arbitrary code during unpickling (See https://github.com/pytorch/pytorch/blob/main/SECURITY.md#untrusted-models for more details). In a future release, the default value for `weights_only` will be flipped to `True`. This limits the functions that could be executed during unpickling. Arbitrary objects will no longer be allowed to be loaded via this mode unless they are explicitly allowlisted by the user via `torch.serialization.add_safe_globals`. We recommend you start setting `weights_only=True` for any use case where you don't have full control of the loaded file. Please open an issue on GitHub for any issues related to this experimental feature.\n",
      "  return torch.load(checkpoint_file, map_location=\"cpu\")\n"
     ]
    }
   ],
   "source": [
    "from transformers import AutoModelForTokenClassification\n",
    "\n",
    "## Load your fine-tuned model from Hugging Face\n",
    "model = AutoModelForTokenClassification.from_pretrained(\"bookpanda/pos-base-wiki-newmm\") ## your model path from Hugging Face"
   ]
  },
  {
   "cell_type": "code",
   "execution_count": 47,
   "metadata": {
    "execution": {
     "iopub.execute_input": "2025-01-28T09:08:47.689045Z",
     "iopub.status.busy": "2025-01-28T09:08:47.688741Z",
     "iopub.status.idle": "2025-01-28T09:08:48.402349Z",
     "shell.execute_reply": "2025-01-28T09:08:48.401526Z",
     "shell.execute_reply.started": "2025-01-28T09:08:47.689018Z"
    },
    "trusted": true
   },
   "outputs": [],
   "source": [
    "# prepare test set\n",
    "test_data = tokenized_orchid[\"test\"]\n",
    "\n",
    "# labels for test set\n",
    "y_test = []\n",
    "for inputs in test_data:\n",
    "  y_test.append(inputs['labels'])"
   ]
  },
  {
   "cell_type": "code",
   "execution_count": 48,
   "metadata": {
    "execution": {
     "iopub.execute_input": "2025-01-28T09:08:49.332876Z",
     "iopub.status.busy": "2025-01-28T09:08:49.332545Z",
     "iopub.status.idle": "2025-01-28T09:13:23.451231Z",
     "shell.execute_reply": "2025-01-28T09:13:23.450406Z",
     "shell.execute_reply.started": "2025-01-28T09:08:49.332850Z"
    },
    "trusted": true
   },
   "outputs": [],
   "source": [
    "y_pred = []\n",
    "device = 'cuda' if torch.cuda.is_available() else 'cpu'\n",
    "for inputs in test_data:\n",
    "    text = inputs['sentence']\n",
    "    inputs = tokenizer(text, return_tensors=\"pt\")\n",
    "    with torch.no_grad():\n",
    "        pred = model(**inputs).logits\n",
    "        predictions = torch.argmax(pred, dim=2)\n",
    "        # Append padded predictions to y_pred\n",
    "        y_pred.append(predictions.tolist()[0])"
   ]
  },
  {
   "cell_type": "code",
   "execution_count": 49,
   "metadata": {
    "execution": {
     "iopub.execute_input": "2025-01-28T09:13:23.452432Z",
     "iopub.status.busy": "2025-01-28T09:13:23.452213Z",
     "iopub.status.idle": "2025-01-28T09:13:23.458770Z",
     "shell.execute_reply": "2025-01-28T09:13:23.458075Z",
     "shell.execute_reply.started": "2025-01-28T09:13:23.452411Z"
    },
    "trusted": true
   },
   "outputs": [
    {
     "name": "stdout",
     "output_type": "stream",
     "text": [
      "[26, 29, 37, 21, 39, 26, 26, 37, 26, 26, 41, 37, 26, 36, 39, 26, 37]\n",
      "[-100, 29, 37, 21, 39, 26, 26, 37, 26, 26, 41, 37, 26, 39, 39, 26, -100]\n"
     ]
    }
   ],
   "source": [
    "print(y_pred[0])\n",
    "print(y_test[0])"
   ]
  },
  {
   "cell_type": "code",
   "execution_count": 52,
   "metadata": {
    "execution": {
     "iopub.execute_input": "2025-01-28T09:14:59.304494Z",
     "iopub.status.busy": "2025-01-28T09:14:59.304149Z",
     "iopub.status.idle": "2025-01-28T09:14:59.426916Z",
     "shell.execute_reply": "2025-01-28T09:14:59.425958Z",
     "shell.execute_reply.started": "2025-01-28T09:14:59.304436Z"
    },
    "id": "KIdxvgUGCVsm",
    "trusted": true
   },
   "outputs": [
    {
     "name": "stdout",
     "output_type": "stream",
     "text": [
      "speacial_tag : 11485\n"
     ]
    },
    {
     "data": {
      "text/html": [
       "<div>\n",
       "<style scoped>\n",
       "    .dataframe tbody tr th:only-of-type {\n",
       "        vertical-align: middle;\n",
       "    }\n",
       "\n",
       "    .dataframe tbody tr th {\n",
       "        vertical-align: top;\n",
       "    }\n",
       "\n",
       "    .dataframe thead th {\n",
       "        text-align: right;\n",
       "    }\n",
       "</style>\n",
       "<table border=\"1\" class=\"dataframe\">\n",
       "  <thead>\n",
       "    <tr style=\"text-align: right;\">\n",
       "      <th></th>\n",
       "      <th>tag</th>\n",
       "      <th>precision</th>\n",
       "      <th>recall</th>\n",
       "      <th>f1_score</th>\n",
       "      <th>correct_count</th>\n",
       "    </tr>\n",
       "  </thead>\n",
       "  <tbody>\n",
       "    <tr>\n",
       "      <th>0</th>\n",
       "      <td>-100</td>\n",
       "      <td>-</td>\n",
       "      <td>0.0</td>\n",
       "      <td>-</td>\n",
       "      <td>0</td>\n",
       "    </tr>\n",
       "    <tr>\n",
       "      <th>1</th>\n",
       "      <td>0</td>\n",
       "      <td>0.0</td>\n",
       "      <td>0.0</td>\n",
       "      <td>-</td>\n",
       "      <td>0</td>\n",
       "    </tr>\n",
       "    <tr>\n",
       "      <th>2</th>\n",
       "      <td>1</td>\n",
       "      <td>66.550523</td>\n",
       "      <td>69.391462</td>\n",
       "      <td>67.941307</td>\n",
       "      <td>764</td>\n",
       "    </tr>\n",
       "    <tr>\n",
       "      <th>3</th>\n",
       "      <td>2</td>\n",
       "      <td>0.0</td>\n",
       "      <td>0.0</td>\n",
       "      <td>-</td>\n",
       "      <td>0</td>\n",
       "    </tr>\n",
       "    <tr>\n",
       "      <th>4</th>\n",
       "      <td>3</td>\n",
       "      <td>50.0</td>\n",
       "      <td>19.642857</td>\n",
       "      <td>28.205128</td>\n",
       "      <td>11</td>\n",
       "    </tr>\n",
       "    <tr>\n",
       "      <th>5</th>\n",
       "      <td>4</td>\n",
       "      <td>86.206897</td>\n",
       "      <td>80.645161</td>\n",
       "      <td>83.333333</td>\n",
       "      <td>50</td>\n",
       "    </tr>\n",
       "    <tr>\n",
       "      <th>6</th>\n",
       "      <td>5</td>\n",
       "      <td>79.207921</td>\n",
       "      <td>46.242775</td>\n",
       "      <td>58.394161</td>\n",
       "      <td>80</td>\n",
       "    </tr>\n",
       "    <tr>\n",
       "      <th>7</th>\n",
       "      <td>6</td>\n",
       "      <td>79.596413</td>\n",
       "      <td>90.330789</td>\n",
       "      <td>84.624553</td>\n",
       "      <td>355</td>\n",
       "    </tr>\n",
       "    <tr>\n",
       "      <th>8</th>\n",
       "      <td>7</td>\n",
       "      <td>-</td>\n",
       "      <td>0.0</td>\n",
       "      <td>-</td>\n",
       "      <td>0</td>\n",
       "    </tr>\n",
       "    <tr>\n",
       "      <th>9</th>\n",
       "      <td>8</td>\n",
       "      <td>14.585576</td>\n",
       "      <td>73.841962</td>\n",
       "      <td>24.359551</td>\n",
       "      <td>271</td>\n",
       "    </tr>\n",
       "    <tr>\n",
       "      <th>10</th>\n",
       "      <td>10</td>\n",
       "      <td>91.745283</td>\n",
       "      <td>88.30874</td>\n",
       "      <td>89.994216</td>\n",
       "      <td>778</td>\n",
       "    </tr>\n",
       "    <tr>\n",
       "      <th>11</th>\n",
       "      <td>11</td>\n",
       "      <td>93.736952</td>\n",
       "      <td>85.361217</td>\n",
       "      <td>89.353234</td>\n",
       "      <td>449</td>\n",
       "    </tr>\n",
       "    <tr>\n",
       "      <th>12</th>\n",
       "      <td>12</td>\n",
       "      <td>50.0</td>\n",
       "      <td>82.178218</td>\n",
       "      <td>62.172285</td>\n",
       "      <td>83</td>\n",
       "    </tr>\n",
       "    <tr>\n",
       "      <th>13</th>\n",
       "      <td>13</td>\n",
       "      <td>-</td>\n",
       "      <td>0.0</td>\n",
       "      <td>-</td>\n",
       "      <td>0</td>\n",
       "    </tr>\n",
       "    <tr>\n",
       "      <th>14</th>\n",
       "      <td>14</td>\n",
       "      <td>82.857143</td>\n",
       "      <td>84.057971</td>\n",
       "      <td>83.453237</td>\n",
       "      <td>116</td>\n",
       "    </tr>\n",
       "    <tr>\n",
       "      <th>15</th>\n",
       "      <td>15</td>\n",
       "      <td>90.060241</td>\n",
       "      <td>91.158537</td>\n",
       "      <td>90.606061</td>\n",
       "      <td>299</td>\n",
       "    </tr>\n",
       "    <tr>\n",
       "      <th>16</th>\n",
       "      <td>16</td>\n",
       "      <td>-</td>\n",
       "      <td>0.0</td>\n",
       "      <td>-</td>\n",
       "      <td>0</td>\n",
       "    </tr>\n",
       "    <tr>\n",
       "      <th>17</th>\n",
       "      <td>17</td>\n",
       "      <td>95.985401</td>\n",
       "      <td>94.945848</td>\n",
       "      <td>95.462795</td>\n",
       "      <td>263</td>\n",
       "    </tr>\n",
       "    <tr>\n",
       "      <th>18</th>\n",
       "      <td>18</td>\n",
       "      <td>88.327526</td>\n",
       "      <td>73.852877</td>\n",
       "      <td>80.444268</td>\n",
       "      <td>1014</td>\n",
       "    </tr>\n",
       "    <tr>\n",
       "      <th>19</th>\n",
       "      <td>19</td>\n",
       "      <td>-</td>\n",
       "      <td>0.0</td>\n",
       "      <td>-</td>\n",
       "      <td>0</td>\n",
       "    </tr>\n",
       "    <tr>\n",
       "      <th>20</th>\n",
       "      <td>20</td>\n",
       "      <td>100.0</td>\n",
       "      <td>52.941176</td>\n",
       "      <td>69.230769</td>\n",
       "      <td>9</td>\n",
       "    </tr>\n",
       "    <tr>\n",
       "      <th>21</th>\n",
       "      <td>21</td>\n",
       "      <td>74.687065</td>\n",
       "      <td>94.750772</td>\n",
       "      <td>83.531013</td>\n",
       "      <td>2148</td>\n",
       "    </tr>\n",
       "    <tr>\n",
       "      <th>22</th>\n",
       "      <td>22</td>\n",
       "      <td>74.193548</td>\n",
       "      <td>79.310345</td>\n",
       "      <td>76.666667</td>\n",
       "      <td>115</td>\n",
       "    </tr>\n",
       "    <tr>\n",
       "      <th>23</th>\n",
       "      <td>23</td>\n",
       "      <td>81.578947</td>\n",
       "      <td>94.897959</td>\n",
       "      <td>87.735849</td>\n",
       "      <td>93</td>\n",
       "    </tr>\n",
       "    <tr>\n",
       "      <th>24</th>\n",
       "      <td>24</td>\n",
       "      <td>94.641193</td>\n",
       "      <td>97.926712</td>\n",
       "      <td>96.255924</td>\n",
       "      <td>2031</td>\n",
       "    </tr>\n",
       "    <tr>\n",
       "      <th>25</th>\n",
       "      <td>25</td>\n",
       "      <td>79.482371</td>\n",
       "      <td>87.345425</td>\n",
       "      <td>83.228594</td>\n",
       "      <td>2119</td>\n",
       "    </tr>\n",
       "    <tr>\n",
       "      <th>26</th>\n",
       "      <td>26</td>\n",
       "      <td>78.639815</td>\n",
       "      <td>86.46098</td>\n",
       "      <td>82.365145</td>\n",
       "      <td>19056</td>\n",
       "    </tr>\n",
       "    <tr>\n",
       "      <th>27</th>\n",
       "      <td>27</td>\n",
       "      <td>67.514124</td>\n",
       "      <td>54.816514</td>\n",
       "      <td>60.506329</td>\n",
       "      <td>239</td>\n",
       "    </tr>\n",
       "    <tr>\n",
       "      <th>28</th>\n",
       "      <td>28</td>\n",
       "      <td>95.804196</td>\n",
       "      <td>97.508897</td>\n",
       "      <td>96.64903</td>\n",
       "      <td>274</td>\n",
       "    </tr>\n",
       "    <tr>\n",
       "      <th>29</th>\n",
       "      <td>29</td>\n",
       "      <td>87.81362</td>\n",
       "      <td>98.393574</td>\n",
       "      <td>92.80303</td>\n",
       "      <td>490</td>\n",
       "    </tr>\n",
       "    <tr>\n",
       "      <th>30</th>\n",
       "      <td>31</td>\n",
       "      <td>65.244724</td>\n",
       "      <td>83.649971</td>\n",
       "      <td>73.309788</td>\n",
       "      <td>1453</td>\n",
       "    </tr>\n",
       "    <tr>\n",
       "      <th>31</th>\n",
       "      <td>32</td>\n",
       "      <td>70.642202</td>\n",
       "      <td>100.0</td>\n",
       "      <td>82.795699</td>\n",
       "      <td>77</td>\n",
       "    </tr>\n",
       "    <tr>\n",
       "      <th>32</th>\n",
       "      <td>33</td>\n",
       "      <td>72.368421</td>\n",
       "      <td>57.894737</td>\n",
       "      <td>64.327485</td>\n",
       "      <td>55</td>\n",
       "    </tr>\n",
       "    <tr>\n",
       "      <th>33</th>\n",
       "      <td>34</td>\n",
       "      <td>25.806452</td>\n",
       "      <td>72.727273</td>\n",
       "      <td>38.095238</td>\n",
       "      <td>16</td>\n",
       "    </tr>\n",
       "    <tr>\n",
       "      <th>34</th>\n",
       "      <td>35</td>\n",
       "      <td>90.721649</td>\n",
       "      <td>67.692308</td>\n",
       "      <td>77.53304</td>\n",
       "      <td>88</td>\n",
       "    </tr>\n",
       "    <tr>\n",
       "      <th>35</th>\n",
       "      <td>36</td>\n",
       "      <td>94.846901</td>\n",
       "      <td>90.844063</td>\n",
       "      <td>92.802338</td>\n",
       "      <td>1270</td>\n",
       "    </tr>\n",
       "    <tr>\n",
       "      <th>36</th>\n",
       "      <td>37</td>\n",
       "      <td>66.260438</td>\n",
       "      <td>97.752622</td>\n",
       "      <td>78.983119</td>\n",
       "      <td>11744</td>\n",
       "    </tr>\n",
       "    <tr>\n",
       "      <th>37</th>\n",
       "      <td>38</td>\n",
       "      <td>93.293142</td>\n",
       "      <td>94.84773</td>\n",
       "      <td>94.064014</td>\n",
       "      <td>4952</td>\n",
       "    </tr>\n",
       "    <tr>\n",
       "      <th>38</th>\n",
       "      <td>39</td>\n",
       "      <td>85.505396</td>\n",
       "      <td>91.52795</td>\n",
       "      <td>88.414232</td>\n",
       "      <td>7368</td>\n",
       "    </tr>\n",
       "    <tr>\n",
       "      <th>39</th>\n",
       "      <td>40</td>\n",
       "      <td>69.237148</td>\n",
       "      <td>66.960706</td>\n",
       "      <td>68.079902</td>\n",
       "      <td>835</td>\n",
       "    </tr>\n",
       "    <tr>\n",
       "      <th>40</th>\n",
       "      <td>41</td>\n",
       "      <td>75.392238</td>\n",
       "      <td>81.324228</td>\n",
       "      <td>78.245965</td>\n",
       "      <td>2739</td>\n",
       "    </tr>\n",
       "    <tr>\n",
       "      <th>41</th>\n",
       "      <td>42</td>\n",
       "      <td>85.905567</td>\n",
       "      <td>94.276875</td>\n",
       "      <td>89.896755</td>\n",
       "      <td>1219</td>\n",
       "    </tr>\n",
       "    <tr>\n",
       "      <th>42</th>\n",
       "      <td>43</td>\n",
       "      <td>91.958042</td>\n",
       "      <td>98.748436</td>\n",
       "      <td>95.232348</td>\n",
       "      <td>789</td>\n",
       "    </tr>\n",
       "    <tr>\n",
       "      <th>43</th>\n",
       "      <td>45</td>\n",
       "      <td>96.050269</td>\n",
       "      <td>99.074074</td>\n",
       "      <td>97.538742</td>\n",
       "      <td>1070</td>\n",
       "    </tr>\n",
       "    <tr>\n",
       "      <th>44</th>\n",
       "      <td>46</td>\n",
       "      <td>91.208791</td>\n",
       "      <td>92.997199</td>\n",
       "      <td>92.094313</td>\n",
       "      <td>332</td>\n",
       "    </tr>\n",
       "    <tr>\n",
       "      <th>45</th>\n",
       "      <td>accuracy=89.07</td>\n",
       "      <td></td>\n",
       "      <td></td>\n",
       "      <td></td>\n",
       "      <td></td>\n",
       "    </tr>\n",
       "  </tbody>\n",
       "</table>\n",
       "</div>"
      ],
      "text/plain": [
       "               tag  precision     recall   f1_score correct_count\n",
       "0             -100          -        0.0          -             0\n",
       "1                0        0.0        0.0          -             0\n",
       "2                1  66.550523  69.391462  67.941307           764\n",
       "3                2        0.0        0.0          -             0\n",
       "4                3       50.0  19.642857  28.205128            11\n",
       "5                4  86.206897  80.645161  83.333333            50\n",
       "6                5  79.207921  46.242775  58.394161            80\n",
       "7                6  79.596413  90.330789  84.624553           355\n",
       "8                7          -        0.0          -             0\n",
       "9                8  14.585576  73.841962  24.359551           271\n",
       "10              10  91.745283   88.30874  89.994216           778\n",
       "11              11  93.736952  85.361217  89.353234           449\n",
       "12              12       50.0  82.178218  62.172285            83\n",
       "13              13          -        0.0          -             0\n",
       "14              14  82.857143  84.057971  83.453237           116\n",
       "15              15  90.060241  91.158537  90.606061           299\n",
       "16              16          -        0.0          -             0\n",
       "17              17  95.985401  94.945848  95.462795           263\n",
       "18              18  88.327526  73.852877  80.444268          1014\n",
       "19              19          -        0.0          -             0\n",
       "20              20      100.0  52.941176  69.230769             9\n",
       "21              21  74.687065  94.750772  83.531013          2148\n",
       "22              22  74.193548  79.310345  76.666667           115\n",
       "23              23  81.578947  94.897959  87.735849            93\n",
       "24              24  94.641193  97.926712  96.255924          2031\n",
       "25              25  79.482371  87.345425  83.228594          2119\n",
       "26              26  78.639815   86.46098  82.365145         19056\n",
       "27              27  67.514124  54.816514  60.506329           239\n",
       "28              28  95.804196  97.508897   96.64903           274\n",
       "29              29   87.81362  98.393574   92.80303           490\n",
       "30              31  65.244724  83.649971  73.309788          1453\n",
       "31              32  70.642202      100.0  82.795699            77\n",
       "32              33  72.368421  57.894737  64.327485            55\n",
       "33              34  25.806452  72.727273  38.095238            16\n",
       "34              35  90.721649  67.692308   77.53304            88\n",
       "35              36  94.846901  90.844063  92.802338          1270\n",
       "36              37  66.260438  97.752622  78.983119         11744\n",
       "37              38  93.293142   94.84773  94.064014          4952\n",
       "38              39  85.505396   91.52795  88.414232          7368\n",
       "39              40  69.237148  66.960706  68.079902           835\n",
       "40              41  75.392238  81.324228  78.245965          2739\n",
       "41              42  85.905567  94.276875  89.896755          1219\n",
       "42              43  91.958042  98.748436  95.232348           789\n",
       "43              45  96.050269  99.074074  97.538742          1070\n",
       "44              46  91.208791  92.997199  92.094313           332\n",
       "45  accuracy=89.07                                               "
      ]
     },
     "metadata": {},
     "output_type": "display_data"
    }
   ],
   "source": [
    "######## EVALUATE YOUR MODEL ########\n",
    "evaluation_report(y_test, y_pred)"
   ]
  },
  {
   "cell_type": "markdown",
   "metadata": {
    "id": "AMpXErqPBv2I"
   },
   "source": [
    "### #TODO 5\n",
    "\n",
    "Compare the results between both models. Are they comparable? (Think about the ground truths of both models).\n",
    "\n",
    "Propose a way to fairly evaluate the models."
   ]
  },
  {
   "cell_type": "markdown",
   "metadata": {
    "id": "UigMzZVNCDuS"
   },
   "source": [
    "## Model Comparison: Wangchanberta Variants\n",
    "\n",
    "No, they're not directly comparable.\n",
    "\n",
    "### Wangchanberta-base-att-spm-uncased\n",
    "\n",
    "Dataset: Assorted Thai Texts (66% Wisesight, 28% Chaos Theory, 6% BEST 2009)\n",
    "\n",
    "Size: 381M training sentences (5-300 tokens)\n",
    "\n",
    "\n",
    "### Wangchanberta-base-wiki-newmm\n",
    "\n",
    "Dataset: Thai Wikipedia Dump (encyclopedia, novels, news, articles)\n",
    "\n",
    "Size: 944,782 training sentences (≤512 tokens)\n",
    "\n",
    "## Improving Model Comparisons\n",
    "\n",
    "### Use a Different Test Dataset\n",
    "\n",
    "The Orchid dataset favors base-wiki-newmm due to its similarity to Wikipedia.\n",
    "\n",
    "Testing on a social media dataset would provide a fairer comparison.\n",
    "\n",
    "A mixed-domain dataset (social media + encyclopedia) could also be a solution.\n",
    "\n",
    "### Ablation Study: Reduce Assorted Thai Texts Size\n",
    "\n",
    "Train att-spm-uncased on a dataset matching Thai Wikipedia Dump in size.\n",
    "\n",
    "This would control for dataset size differences, but requires expensive re-training.\n",
    "\n",
    "### Standardize Tokenization\n",
    "\n",
    "Current models use different tokenization methods (word vs. subword).\n",
    "\n",
    "Re-training base-wiki-newmm with SentencePiece could help, but is costly.\n"
   ]
  },
  {
   "cell_type": "markdown",
   "metadata": {
    "id": "bYN0X9HWVuUe"
   },
   "source": [
    "A note on preprocessing data.\n",
    "\n",
    "``process_transformers`` in ``thaixtransformers.preprocess`` also provides a preprocess code that deals with many issues such as casing, text cleaning, and white space replacement with <_>. You can also use this to preprocess your text. Note that space replacement is done automatically without preprocessing in thaixtransformers.\n"
   ]
  }
 ],
 "metadata": {
  "accelerator": "GPU",
  "colab": {
   "gpuType": "A100",
   "machine_shape": "hm",
   "provenance": [],
   "toc_visible": true
  },
  "kaggle": {
   "accelerator": "nvidiaTeslaT4",
   "dataSources": [],
   "dockerImageVersionId": 30840,
   "isGpuEnabled": true,
   "isInternetEnabled": true,
   "language": "python",
   "sourceType": "notebook"
  },
  "kernelspec": {
   "display_name": "Python 3",
   "language": "python",
   "name": "python3"
  },
  "language_info": {
   "codemirror_mode": {
    "name": "ipython",
    "version": 3
   },
   "file_extension": ".py",
   "mimetype": "text/x-python",
   "name": "python",
   "nbconvert_exporter": "python",
   "pygments_lexer": "ipython3",
   "version": "3.10.12"
  }
 },
 "nbformat": 4,
 "nbformat_minor": 4
}
